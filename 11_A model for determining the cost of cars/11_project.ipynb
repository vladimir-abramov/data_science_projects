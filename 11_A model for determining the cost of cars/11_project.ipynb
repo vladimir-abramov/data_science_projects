{
  "cells": [
    {
      "cell_type": "markdown",
      "metadata": {
        "id": "B2cgp8f2Y9XR"
      },
      "source": [
        "# A model for determining the cost of cars."
      ]
    },
    {
      "cell_type": "markdown",
      "metadata": {
        "id": "z11BeSubY_5w"
      },
      "source": [
        "### Description of the project\n",
        "The \"Not Beaten, Not Crashed\" used car sales service is developing an application to attract new customers. It will be possible to find out the market value of one's car. We will build a model that can determine it. We have data on the technical characteristics, equipment and prices of other cars. \n",
        "\n",
        "Criteria that are important to the customer: \n",
        "* quality of prediction; \n",
        "* training time of the model; \n",
        "* prediction time of the model."
      ]
    },
    {
      "cell_type": "markdown",
      "metadata": {
        "id": "Z2bKi1fdZQiX"
      },
      "source": [
        "### Main steps:\n",
        "1. Load the data.\n",
        "2. Explore the data. Fill in missing values and process anomalies in columns. If there are uninformative features among them, remove them.\n",
        "3. Prepare samples for model training.\n",
        "4. Train different models, one of which is LightGBM, at least one is not boosting. Try different hyperparameters for each model.\n",
        "5. Analyze the training time, prediction time and model quality.\n",
        "6. Based on the customer's criteria, select the best model and check its quality on the test sample."
      ]
    },
    {
      "cell_type": "markdown",
      "metadata": {
        "id": "O6NrKd1O7OyG"
      },
      "source": [
        "## Contents:\n",
        "1. Reviewing of the data, preprocessing and EDA.\n",
        "2. Encoding data.\n",
        "3. Training models.\n",
        "4. Model analysis.\n",
        "5. Testing models.\n",
        "6. Overall conclusion."
      ]
    },
    {
      "cell_type": "markdown",
      "metadata": {
        "id": "UcfjFjZlaCRC"
      },
      "source": [
        "### Description of data:\n",
        "#### Features:\n",
        "* DateCrawled - date of downloading the profile from the database\n",
        "* VehicleType - type of car body\n",
        "* RegistrationYear - year of car registration\n",
        "* Gearbox - type of transmission\n",
        "* Power - power (hp)\n",
        "* Model - car model\n",
        "* Kilometer - mileage (km)\n",
        "* RegistrationMonth - month of car registration\n",
        "* FuelType - type of fuel\n",
        "* Brand - car brand\n",
        "* NotRepaired - was the car in repair or not\n",
        "* DateCreated - date of profile creation\n",
        "* NumberOfPictures - number of car photos\n",
        "* PostalCode - postal code of the profile owner (user)\n",
        "* LastSeen - date of last user activity\n",
        "\n",
        "#### Target feature: \n",
        "* Price - Euros"
      ]
    },
    {
      "cell_type": "markdown",
      "metadata": {
        "id": "8dVqemRosMtI"
      },
      "source": [
        "## 1. Reviewing of the data, preprocessing and EDA."
      ]
    },
    {
      "cell_type": "code",
      "execution_count": 1,
      "metadata": {
        "colab": {
          "base_uri": "https://localhost:8080/"
        },
        "id": "U4-wwkSn2fJp",
        "outputId": "47fb7ff1-0db1-4b14-cabf-08073f8b7ca1"
      },
      "outputs": [
        {
          "output_type": "stream",
          "name": "stdout",
          "text": [
            "Looking in indexes: https://pypi.org/simple, https://us-python.pkg.dev/colab-wheels/public/simple/\n",
            "Requirement already satisfied: catboost in /usr/local/lib/python3.9/dist-packages (1.1.1)\n",
            "Requirement already satisfied: plotly in /usr/local/lib/python3.9/dist-packages (from catboost) (5.5.0)\n",
            "Requirement already satisfied: six in /usr/local/lib/python3.9/dist-packages (from catboost) (1.15.0)\n",
            "Requirement already satisfied: graphviz in /usr/local/lib/python3.9/dist-packages (from catboost) (0.10.1)\n",
            "Requirement already satisfied: scipy in /usr/local/lib/python3.9/dist-packages (from catboost) (1.10.1)\n",
            "Requirement already satisfied: pandas>=0.24.0 in /usr/local/lib/python3.9/dist-packages (from catboost) (1.3.5)\n",
            "Requirement already satisfied: numpy>=1.16.0 in /usr/local/lib/python3.9/dist-packages (from catboost) (1.22.4)\n",
            "Requirement already satisfied: matplotlib in /usr/local/lib/python3.9/dist-packages (from catboost) (3.5.3)\n",
            "Requirement already satisfied: pytz>=2017.3 in /usr/local/lib/python3.9/dist-packages (from pandas>=0.24.0->catboost) (2022.7.1)\n",
            "Requirement already satisfied: python-dateutil>=2.7.3 in /usr/local/lib/python3.9/dist-packages (from pandas>=0.24.0->catboost) (2.8.2)\n",
            "Requirement already satisfied: packaging>=20.0 in /usr/local/lib/python3.9/dist-packages (from matplotlib->catboost) (23.0)\n",
            "Requirement already satisfied: pyparsing>=2.2.1 in /usr/local/lib/python3.9/dist-packages (from matplotlib->catboost) (3.0.9)\n",
            "Requirement already satisfied: kiwisolver>=1.0.1 in /usr/local/lib/python3.9/dist-packages (from matplotlib->catboost) (1.4.4)\n",
            "Requirement already satisfied: cycler>=0.10 in /usr/local/lib/python3.9/dist-packages (from matplotlib->catboost) (0.11.0)\n",
            "Requirement already satisfied: fonttools>=4.22.0 in /usr/local/lib/python3.9/dist-packages (from matplotlib->catboost) (4.39.0)\n",
            "Requirement already satisfied: pillow>=6.2.0 in /usr/local/lib/python3.9/dist-packages (from matplotlib->catboost) (8.4.0)\n",
            "Requirement already satisfied: tenacity>=6.2.0 in /usr/local/lib/python3.9/dist-packages (from plotly->catboost) (8.2.2)\n",
            "Looking in indexes: https://pypi.org/simple, https://us-python.pkg.dev/colab-wheels/public/simple/\n",
            "Requirement already satisfied: lightgbm in /usr/local/lib/python3.9/dist-packages (2.2.3)\n",
            "Requirement already satisfied: numpy in /usr/local/lib/python3.9/dist-packages (from lightgbm) (1.22.4)\n",
            "Requirement already satisfied: scikit-learn in /usr/local/lib/python3.9/dist-packages (from lightgbm) (1.2.1)\n",
            "Requirement already satisfied: scipy in /usr/local/lib/python3.9/dist-packages (from lightgbm) (1.10.1)\n",
            "Requirement already satisfied: threadpoolctl>=2.0.0 in /usr/local/lib/python3.9/dist-packages (from scikit-learn->lightgbm) (3.1.0)\n",
            "Requirement already satisfied: joblib>=1.1.1 in /usr/local/lib/python3.9/dist-packages (from scikit-learn->lightgbm) (1.2.0)\n"
          ]
        }
      ],
      "source": [
        "! pip install catboost\n",
        "! pip install lightgbm"
      ]
    },
    {
      "cell_type": "code",
      "execution_count": 2,
      "metadata": {
        "id": "7raBooxnYvD4"
      },
      "outputs": [],
      "source": [
        "import numpy as np\n",
        "import pandas as pd\n",
        "\n",
        "from sklearn.model_selection import train_test_split\n",
        "from sklearn.preprocessing import StandardScaler\n",
        "from sklearn.metrics import mean_squared_error\n",
        "from sklearn.preprocessing import PolynomialFeatures\n",
        "from sklearn.preprocessing import OrdinalEncoder\n",
        "from sklearn.linear_model import LinearRegression\n",
        "from sklearn.linear_model import Ridge\n",
        "from sklearn.tree import DecisionTreeRegressor\n",
        "from sklearn.ensemble import ExtraTreesRegressor\n",
        "\n",
        "from sklearn.model_selection import cross_val_score\n",
        "from sklearn.model_selection import GridSearchCV\n",
        "from sklearn.model_selection import RandomizedSearchCV\n",
        "from sklearn.pipeline import Pipeline\n",
        "\n",
        "from catboost import Pool, CatBoostRegressor, cv\n",
        "from lightgbm import LGBMRegressor\n",
        "\n",
        "import matplotlib.pyplot as plt\n",
        "import seaborn as sns\n",
        "\n",
        "import warnings\n",
        "warnings.filterwarnings('ignore')\n",
        "\n",
        "import time"
      ]
    },
    {
      "cell_type": "code",
      "execution_count": 3,
      "metadata": {
        "id": "Pr7Bxc1msb14"
      },
      "outputs": [],
      "source": [
        "pd.set_option('display.max_columns', 50)\n",
        "pd.options.display.float_format = '{:,.2f}'.format"
      ]
    },
    {
      "cell_type": "markdown",
      "metadata": {
        "id": "UpDJ5IQukN4S"
      },
      "source": [
        "Let's load the dataset."
      ]
    },
    {
      "cell_type": "code",
      "execution_count": 4,
      "metadata": {
        "id": "jbWTfKsBscOj"
      },
      "outputs": [],
      "source": [
        "url = 'https://code.s3.yandex.net/datasets/autos.csv'\n",
        "data = pd.read_csv(url)"
      ]
    },
    {
      "cell_type": "markdown",
      "metadata": {
        "id": "1x0FqvqA26xz"
      },
      "source": [
        "Let's take a look at the data."
      ]
    },
    {
      "cell_type": "code",
      "execution_count": 5,
      "metadata": {
        "colab": {
          "base_uri": "https://localhost:8080/",
          "height": 239
        },
        "id": "kBirB4RgkZAF",
        "outputId": "a6c23cff-990a-43c2-8862-b6efa4f78a61"
      },
      "outputs": [
        {
          "output_type": "execute_result",
          "data": {
            "text/plain": [
              "           DateCrawled  Price VehicleType  RegistrationYear Gearbox  Power  \\\n",
              "0  2016-03-24 11:52:17    480         NaN              1993  manual      0   \n",
              "1  2016-03-24 10:58:45  18300       coupe              2011  manual    190   \n",
              "2  2016-03-14 12:52:21   9800         suv              2004    auto    163   \n",
              "\n",
              "   Model  Kilometer  RegistrationMonth  FuelType       Brand Repaired  \\\n",
              "0   golf     150000                  0    petrol  volkswagen      NaN   \n",
              "1    NaN     125000                  5  gasoline        audi      yes   \n",
              "2  grand     125000                  8  gasoline        jeep      NaN   \n",
              "\n",
              "           DateCreated  NumberOfPictures  PostalCode             LastSeen  \n",
              "0  2016-03-24 00:00:00                 0       70435  2016-04-07 03:16:57  \n",
              "1  2016-03-24 00:00:00                 0       66954  2016-04-07 01:46:50  \n",
              "2  2016-03-14 00:00:00                 0       90480  2016-04-05 12:47:46  "
            ],
            "text/html": [
              "\n",
              "  <div id=\"df-1c9eda7d-9bc8-4396-8b39-cc681e26ab46\">\n",
              "    <div class=\"colab-df-container\">\n",
              "      <div>\n",
              "<style scoped>\n",
              "    .dataframe tbody tr th:only-of-type {\n",
              "        vertical-align: middle;\n",
              "    }\n",
              "\n",
              "    .dataframe tbody tr th {\n",
              "        vertical-align: top;\n",
              "    }\n",
              "\n",
              "    .dataframe thead th {\n",
              "        text-align: right;\n",
              "    }\n",
              "</style>\n",
              "<table border=\"1\" class=\"dataframe\">\n",
              "  <thead>\n",
              "    <tr style=\"text-align: right;\">\n",
              "      <th></th>\n",
              "      <th>DateCrawled</th>\n",
              "      <th>Price</th>\n",
              "      <th>VehicleType</th>\n",
              "      <th>RegistrationYear</th>\n",
              "      <th>Gearbox</th>\n",
              "      <th>Power</th>\n",
              "      <th>Model</th>\n",
              "      <th>Kilometer</th>\n",
              "      <th>RegistrationMonth</th>\n",
              "      <th>FuelType</th>\n",
              "      <th>Brand</th>\n",
              "      <th>Repaired</th>\n",
              "      <th>DateCreated</th>\n",
              "      <th>NumberOfPictures</th>\n",
              "      <th>PostalCode</th>\n",
              "      <th>LastSeen</th>\n",
              "    </tr>\n",
              "  </thead>\n",
              "  <tbody>\n",
              "    <tr>\n",
              "      <th>0</th>\n",
              "      <td>2016-03-24 11:52:17</td>\n",
              "      <td>480</td>\n",
              "      <td>NaN</td>\n",
              "      <td>1993</td>\n",
              "      <td>manual</td>\n",
              "      <td>0</td>\n",
              "      <td>golf</td>\n",
              "      <td>150000</td>\n",
              "      <td>0</td>\n",
              "      <td>petrol</td>\n",
              "      <td>volkswagen</td>\n",
              "      <td>NaN</td>\n",
              "      <td>2016-03-24 00:00:00</td>\n",
              "      <td>0</td>\n",
              "      <td>70435</td>\n",
              "      <td>2016-04-07 03:16:57</td>\n",
              "    </tr>\n",
              "    <tr>\n",
              "      <th>1</th>\n",
              "      <td>2016-03-24 10:58:45</td>\n",
              "      <td>18300</td>\n",
              "      <td>coupe</td>\n",
              "      <td>2011</td>\n",
              "      <td>manual</td>\n",
              "      <td>190</td>\n",
              "      <td>NaN</td>\n",
              "      <td>125000</td>\n",
              "      <td>5</td>\n",
              "      <td>gasoline</td>\n",
              "      <td>audi</td>\n",
              "      <td>yes</td>\n",
              "      <td>2016-03-24 00:00:00</td>\n",
              "      <td>0</td>\n",
              "      <td>66954</td>\n",
              "      <td>2016-04-07 01:46:50</td>\n",
              "    </tr>\n",
              "    <tr>\n",
              "      <th>2</th>\n",
              "      <td>2016-03-14 12:52:21</td>\n",
              "      <td>9800</td>\n",
              "      <td>suv</td>\n",
              "      <td>2004</td>\n",
              "      <td>auto</td>\n",
              "      <td>163</td>\n",
              "      <td>grand</td>\n",
              "      <td>125000</td>\n",
              "      <td>8</td>\n",
              "      <td>gasoline</td>\n",
              "      <td>jeep</td>\n",
              "      <td>NaN</td>\n",
              "      <td>2016-03-14 00:00:00</td>\n",
              "      <td>0</td>\n",
              "      <td>90480</td>\n",
              "      <td>2016-04-05 12:47:46</td>\n",
              "    </tr>\n",
              "  </tbody>\n",
              "</table>\n",
              "</div>\n",
              "      <button class=\"colab-df-convert\" onclick=\"convertToInteractive('df-1c9eda7d-9bc8-4396-8b39-cc681e26ab46')\"\n",
              "              title=\"Convert this dataframe to an interactive table.\"\n",
              "              style=\"display:none;\">\n",
              "        \n",
              "  <svg xmlns=\"http://www.w3.org/2000/svg\" height=\"24px\"viewBox=\"0 0 24 24\"\n",
              "       width=\"24px\">\n",
              "    <path d=\"M0 0h24v24H0V0z\" fill=\"none\"/>\n",
              "    <path d=\"M18.56 5.44l.94 2.06.94-2.06 2.06-.94-2.06-.94-.94-2.06-.94 2.06-2.06.94zm-11 1L8.5 8.5l.94-2.06 2.06-.94-2.06-.94L8.5 2.5l-.94 2.06-2.06.94zm10 10l.94 2.06.94-2.06 2.06-.94-2.06-.94-.94-2.06-.94 2.06-2.06.94z\"/><path d=\"M17.41 7.96l-1.37-1.37c-.4-.4-.92-.59-1.43-.59-.52 0-1.04.2-1.43.59L10.3 9.45l-7.72 7.72c-.78.78-.78 2.05 0 2.83L4 21.41c.39.39.9.59 1.41.59.51 0 1.02-.2 1.41-.59l7.78-7.78 2.81-2.81c.8-.78.8-2.07 0-2.86zM5.41 20L4 18.59l7.72-7.72 1.47 1.35L5.41 20z\"/>\n",
              "  </svg>\n",
              "      </button>\n",
              "      \n",
              "  <style>\n",
              "    .colab-df-container {\n",
              "      display:flex;\n",
              "      flex-wrap:wrap;\n",
              "      gap: 12px;\n",
              "    }\n",
              "\n",
              "    .colab-df-convert {\n",
              "      background-color: #E8F0FE;\n",
              "      border: none;\n",
              "      border-radius: 50%;\n",
              "      cursor: pointer;\n",
              "      display: none;\n",
              "      fill: #1967D2;\n",
              "      height: 32px;\n",
              "      padding: 0 0 0 0;\n",
              "      width: 32px;\n",
              "    }\n",
              "\n",
              "    .colab-df-convert:hover {\n",
              "      background-color: #E2EBFA;\n",
              "      box-shadow: 0px 1px 2px rgba(60, 64, 67, 0.3), 0px 1px 3px 1px rgba(60, 64, 67, 0.15);\n",
              "      fill: #174EA6;\n",
              "    }\n",
              "\n",
              "    [theme=dark] .colab-df-convert {\n",
              "      background-color: #3B4455;\n",
              "      fill: #D2E3FC;\n",
              "    }\n",
              "\n",
              "    [theme=dark] .colab-df-convert:hover {\n",
              "      background-color: #434B5C;\n",
              "      box-shadow: 0px 1px 3px 1px rgba(0, 0, 0, 0.15);\n",
              "      filter: drop-shadow(0px 1px 2px rgba(0, 0, 0, 0.3));\n",
              "      fill: #FFFFFF;\n",
              "    }\n",
              "  </style>\n",
              "\n",
              "      <script>\n",
              "        const buttonEl =\n",
              "          document.querySelector('#df-1c9eda7d-9bc8-4396-8b39-cc681e26ab46 button.colab-df-convert');\n",
              "        buttonEl.style.display =\n",
              "          google.colab.kernel.accessAllowed ? 'block' : 'none';\n",
              "\n",
              "        async function convertToInteractive(key) {\n",
              "          const element = document.querySelector('#df-1c9eda7d-9bc8-4396-8b39-cc681e26ab46');\n",
              "          const dataTable =\n",
              "            await google.colab.kernel.invokeFunction('convertToInteractive',\n",
              "                                                     [key], {});\n",
              "          if (!dataTable) return;\n",
              "\n",
              "          const docLinkHtml = 'Like what you see? Visit the ' +\n",
              "            '<a target=\"_blank\" href=https://colab.research.google.com/notebooks/data_table.ipynb>data table notebook</a>'\n",
              "            + ' to learn more about interactive tables.';\n",
              "          element.innerHTML = '';\n",
              "          dataTable['output_type'] = 'display_data';\n",
              "          await google.colab.output.renderOutput(dataTable, element);\n",
              "          const docLink = document.createElement('div');\n",
              "          docLink.innerHTML = docLinkHtml;\n",
              "          element.appendChild(docLink);\n",
              "        }\n",
              "      </script>\n",
              "    </div>\n",
              "  </div>\n",
              "  "
            ]
          },
          "metadata": {},
          "execution_count": 5
        }
      ],
      "source": [
        "data.head(3)"
      ]
    },
    {
      "cell_type": "markdown",
      "metadata": {
        "id": "DzOnr5LHkn-n"
      },
      "source": [
        "Let's check for duplicates."
      ]
    },
    {
      "cell_type": "code",
      "execution_count": 6,
      "metadata": {
        "colab": {
          "base_uri": "https://localhost:8080/"
        },
        "id": "H8y2sbmDktf8",
        "outputId": "dfdd1cac-a0fc-4e59-e766-ebfb3d2bfc52"
      },
      "outputs": [
        {
          "output_type": "stream",
          "name": "stdout",
          "text": [
            "Number of dublicates: 4\n"
          ]
        }
      ],
      "source": [
        "print('Number of dublicates:', data.duplicated().sum())"
      ]
    },
    {
      "cell_type": "code",
      "execution_count": 7,
      "metadata": {
        "colab": {
          "base_uri": "https://localhost:8080/"
        },
        "id": "H48ehXb2lQ-5",
        "outputId": "3d4e9e6a-f0bd-4516-b0aa-3a88967550b0"
      },
      "outputs": [
        {
          "output_type": "stream",
          "name": "stdout",
          "text": [
            "<class 'pandas.core.frame.DataFrame'>\n",
            "Int64Index: 354365 entries, 0 to 354368\n",
            "Data columns (total 16 columns):\n",
            " #   Column             Non-Null Count   Dtype \n",
            "---  ------             --------------   ----- \n",
            " 0   DateCrawled        354365 non-null  object\n",
            " 1   Price              354365 non-null  int64 \n",
            " 2   VehicleType        316875 non-null  object\n",
            " 3   RegistrationYear   354365 non-null  int64 \n",
            " 4   Gearbox            334532 non-null  object\n",
            " 5   Power              354365 non-null  int64 \n",
            " 6   Model              334660 non-null  object\n",
            " 7   Kilometer          354365 non-null  int64 \n",
            " 8   RegistrationMonth  354365 non-null  int64 \n",
            " 9   FuelType           321470 non-null  object\n",
            " 10  Brand              354365 non-null  object\n",
            " 11  Repaired           283211 non-null  object\n",
            " 12  DateCreated        354365 non-null  object\n",
            " 13  NumberOfPictures   354365 non-null  int64 \n",
            " 14  PostalCode         354365 non-null  int64 \n",
            " 15  LastSeen           354365 non-null  object\n",
            "dtypes: int64(7), object(9)\n",
            "memory usage: 46.0+ MB\n"
          ]
        }
      ],
      "source": [
        "data.drop_duplicates(inplace=True)\n",
        "data.reset_index(drop=True).head()\n",
        "data.info()"
      ]
    },
    {
      "cell_type": "markdown",
      "metadata": {
        "id": "CDm1annJoPNA"
      },
      "source": [
        "Let's transform the column names to lowercase with underscores."
      ]
    },
    {
      "cell_type": "code",
      "execution_count": 8,
      "metadata": {
        "colab": {
          "base_uri": "https://localhost:8080/"
        },
        "id": "SMLhZ4Yv4VEu",
        "outputId": "1f9b09f8-76ea-41b0-afd6-6c271bdf09bd"
      },
      "outputs": [
        {
          "output_type": "execute_result",
          "data": {
            "text/plain": [
              "Index(['date_crawled', 'price', 'vehicle_type', 'registration_year', 'gearbox',\n",
              "       'power', 'model', 'kilometer', 'registration_month', 'fuel_type',\n",
              "       'brand', 'not_repaired', 'date_created', 'number_of_pictures',\n",
              "       'postal_code', 'last_seen'],\n",
              "      dtype='object')"
            ]
          },
          "metadata": {},
          "execution_count": 8
        }
      ],
      "source": [
        "data.set_axis(['date_crawled', 'price', 'vehicle_type', 'registration_year', 'gearbox', \n",
        "             'power', 'model', 'kilometer', 'registration_month', 'fuel_type', 'brand', \n",
        "             'not_repaired', 'date_created', 'number_of_pictures', 'postal_code', 'last_seen'],\n",
        "              axis='columns',\n",
        "              inplace=True)\n",
        "data.columns"
      ]
    },
    {
      "cell_type": "code",
      "execution_count": 9,
      "metadata": {
        "colab": {
          "base_uri": "https://localhost:8080/"
        },
        "id": "AnmbMHtAma2p",
        "outputId": "98ba1279-99c2-4ff7-9c20-8f08e0a2c389"
      },
      "outputs": [
        {
          "output_type": "stream",
          "name": "stdout",
          "text": [
            "<class 'pandas.core.frame.DataFrame'>\n",
            "Int64Index: 354365 entries, 0 to 354368\n",
            "Data columns (total 16 columns):\n",
            " #   Column              Non-Null Count   Dtype \n",
            "---  ------              --------------   ----- \n",
            " 0   date_crawled        354365 non-null  object\n",
            " 1   price               354365 non-null  int64 \n",
            " 2   vehicle_type        316875 non-null  object\n",
            " 3   registration_year   354365 non-null  int64 \n",
            " 4   gearbox             334532 non-null  object\n",
            " 5   power               354365 non-null  int64 \n",
            " 6   model               334660 non-null  object\n",
            " 7   kilometer           354365 non-null  int64 \n",
            " 8   registration_month  354365 non-null  int64 \n",
            " 9   fuel_type           321470 non-null  object\n",
            " 10  brand               354365 non-null  object\n",
            " 11  not_repaired        283211 non-null  object\n",
            " 12  date_created        354365 non-null  object\n",
            " 13  number_of_pictures  354365 non-null  int64 \n",
            " 14  postal_code         354365 non-null  int64 \n",
            " 15  last_seen           354365 non-null  object\n",
            "dtypes: int64(7), object(9)\n",
            "memory usage: 46.0+ MB\n"
          ]
        }
      ],
      "source": [
        "data.info()"
      ]
    },
    {
      "cell_type": "markdown",
      "metadata": {
        "id": "OMgieA3IqBuf"
      },
      "source": [
        "In the dataset, there are uninformative columns such as: \n",
        "* date_crawled - the date the profile was downloaded from the database, \n",
        "* registration_month - the month the car was registered, \n",
        "* date_created - the date the profile was created, \n",
        "* number_of_pictures - the number of photos of the car, \n",
        "* postal_code - the postal code of the profile owner (user)\n",
        "* last_seen - the date of the user's last activity.\n",
        "\n",
        "Delete it."
      ]
    },
    {
      "cell_type": "code",
      "execution_count": 10,
      "metadata": {
        "colab": {
          "base_uri": "https://localhost:8080/"
        },
        "id": "QXAfjcNwqMKW",
        "outputId": "cce099cb-585b-4a70-faa5-6af796f8ab09"
      },
      "outputs": [
        {
          "output_type": "stream",
          "name": "stdout",
          "text": [
            "<class 'pandas.core.frame.DataFrame'>\n",
            "Int64Index: 354365 entries, 0 to 354368\n",
            "Data columns (total 10 columns):\n",
            " #   Column             Non-Null Count   Dtype \n",
            "---  ------             --------------   ----- \n",
            " 0   vehicle_type       316875 non-null  object\n",
            " 1   gearbox            334532 non-null  object\n",
            " 2   power              354365 non-null  int64 \n",
            " 3   kilometer          354365 non-null  int64 \n",
            " 4   fuel_type          321470 non-null  object\n",
            " 5   brand              354365 non-null  object\n",
            " 6   not_repaired       283211 non-null  object\n",
            " 7   registration_year  354365 non-null  int64 \n",
            " 8   model              334660 non-null  object\n",
            " 9   price              354365 non-null  int64 \n",
            "dtypes: int64(4), object(6)\n",
            "memory usage: 29.7+ MB\n"
          ]
        }
      ],
      "source": [
        "data = data[['vehicle_type',\n",
        "             'gearbox', \n",
        "             'power',\n",
        "             'kilometer',\n",
        "             'fuel_type',\n",
        "             'brand',\n",
        "             'not_repaired',\n",
        "             'registration_year',\n",
        "             'model',\n",
        "             'price']]\n",
        "data.info()"
      ]
    },
    {
      "cell_type": "code",
      "execution_count": 11,
      "metadata": {
        "colab": {
          "base_uri": "https://localhost:8080/",
          "height": 300
        },
        "id": "l1uko1_1r92E",
        "outputId": "5827a7b6-20ec-40c3-8ffc-e78772eab6d3"
      },
      "outputs": [
        {
          "output_type": "execute_result",
          "data": {
            "text/plain": [
              "           power  kilometer  registration_year      price\n",
              "count 354,365.00 354,365.00         354,365.00 354,365.00\n",
              "mean      110.09 128,211.36           2,004.23   4,416.68\n",
              "std       189.85  37,905.08              90.23   4,514.18\n",
              "min         0.00   5,000.00           1,000.00       0.00\n",
              "25%        69.00 125,000.00           1,999.00   1,050.00\n",
              "50%       105.00 150,000.00           2,003.00   2,700.00\n",
              "75%       143.00 150,000.00           2,008.00   6,400.00\n",
              "max    20,000.00 150,000.00           9,999.00  20,000.00"
            ],
            "text/html": [
              "\n",
              "  <div id=\"df-67acb675-308d-40a7-bc8d-8a4b805742b8\">\n",
              "    <div class=\"colab-df-container\">\n",
              "      <div>\n",
              "<style scoped>\n",
              "    .dataframe tbody tr th:only-of-type {\n",
              "        vertical-align: middle;\n",
              "    }\n",
              "\n",
              "    .dataframe tbody tr th {\n",
              "        vertical-align: top;\n",
              "    }\n",
              "\n",
              "    .dataframe thead th {\n",
              "        text-align: right;\n",
              "    }\n",
              "</style>\n",
              "<table border=\"1\" class=\"dataframe\">\n",
              "  <thead>\n",
              "    <tr style=\"text-align: right;\">\n",
              "      <th></th>\n",
              "      <th>power</th>\n",
              "      <th>kilometer</th>\n",
              "      <th>registration_year</th>\n",
              "      <th>price</th>\n",
              "    </tr>\n",
              "  </thead>\n",
              "  <tbody>\n",
              "    <tr>\n",
              "      <th>count</th>\n",
              "      <td>354,365.00</td>\n",
              "      <td>354,365.00</td>\n",
              "      <td>354,365.00</td>\n",
              "      <td>354,365.00</td>\n",
              "    </tr>\n",
              "    <tr>\n",
              "      <th>mean</th>\n",
              "      <td>110.09</td>\n",
              "      <td>128,211.36</td>\n",
              "      <td>2,004.23</td>\n",
              "      <td>4,416.68</td>\n",
              "    </tr>\n",
              "    <tr>\n",
              "      <th>std</th>\n",
              "      <td>189.85</td>\n",
              "      <td>37,905.08</td>\n",
              "      <td>90.23</td>\n",
              "      <td>4,514.18</td>\n",
              "    </tr>\n",
              "    <tr>\n",
              "      <th>min</th>\n",
              "      <td>0.00</td>\n",
              "      <td>5,000.00</td>\n",
              "      <td>1,000.00</td>\n",
              "      <td>0.00</td>\n",
              "    </tr>\n",
              "    <tr>\n",
              "      <th>25%</th>\n",
              "      <td>69.00</td>\n",
              "      <td>125,000.00</td>\n",
              "      <td>1,999.00</td>\n",
              "      <td>1,050.00</td>\n",
              "    </tr>\n",
              "    <tr>\n",
              "      <th>50%</th>\n",
              "      <td>105.00</td>\n",
              "      <td>150,000.00</td>\n",
              "      <td>2,003.00</td>\n",
              "      <td>2,700.00</td>\n",
              "    </tr>\n",
              "    <tr>\n",
              "      <th>75%</th>\n",
              "      <td>143.00</td>\n",
              "      <td>150,000.00</td>\n",
              "      <td>2,008.00</td>\n",
              "      <td>6,400.00</td>\n",
              "    </tr>\n",
              "    <tr>\n",
              "      <th>max</th>\n",
              "      <td>20,000.00</td>\n",
              "      <td>150,000.00</td>\n",
              "      <td>9,999.00</td>\n",
              "      <td>20,000.00</td>\n",
              "    </tr>\n",
              "  </tbody>\n",
              "</table>\n",
              "</div>\n",
              "      <button class=\"colab-df-convert\" onclick=\"convertToInteractive('df-67acb675-308d-40a7-bc8d-8a4b805742b8')\"\n",
              "              title=\"Convert this dataframe to an interactive table.\"\n",
              "              style=\"display:none;\">\n",
              "        \n",
              "  <svg xmlns=\"http://www.w3.org/2000/svg\" height=\"24px\"viewBox=\"0 0 24 24\"\n",
              "       width=\"24px\">\n",
              "    <path d=\"M0 0h24v24H0V0z\" fill=\"none\"/>\n",
              "    <path d=\"M18.56 5.44l.94 2.06.94-2.06 2.06-.94-2.06-.94-.94-2.06-.94 2.06-2.06.94zm-11 1L8.5 8.5l.94-2.06 2.06-.94-2.06-.94L8.5 2.5l-.94 2.06-2.06.94zm10 10l.94 2.06.94-2.06 2.06-.94-2.06-.94-.94-2.06-.94 2.06-2.06.94z\"/><path d=\"M17.41 7.96l-1.37-1.37c-.4-.4-.92-.59-1.43-.59-.52 0-1.04.2-1.43.59L10.3 9.45l-7.72 7.72c-.78.78-.78 2.05 0 2.83L4 21.41c.39.39.9.59 1.41.59.51 0 1.02-.2 1.41-.59l7.78-7.78 2.81-2.81c.8-.78.8-2.07 0-2.86zM5.41 20L4 18.59l7.72-7.72 1.47 1.35L5.41 20z\"/>\n",
              "  </svg>\n",
              "      </button>\n",
              "      \n",
              "  <style>\n",
              "    .colab-df-container {\n",
              "      display:flex;\n",
              "      flex-wrap:wrap;\n",
              "      gap: 12px;\n",
              "    }\n",
              "\n",
              "    .colab-df-convert {\n",
              "      background-color: #E8F0FE;\n",
              "      border: none;\n",
              "      border-radius: 50%;\n",
              "      cursor: pointer;\n",
              "      display: none;\n",
              "      fill: #1967D2;\n",
              "      height: 32px;\n",
              "      padding: 0 0 0 0;\n",
              "      width: 32px;\n",
              "    }\n",
              "\n",
              "    .colab-df-convert:hover {\n",
              "      background-color: #E2EBFA;\n",
              "      box-shadow: 0px 1px 2px rgba(60, 64, 67, 0.3), 0px 1px 3px 1px rgba(60, 64, 67, 0.15);\n",
              "      fill: #174EA6;\n",
              "    }\n",
              "\n",
              "    [theme=dark] .colab-df-convert {\n",
              "      background-color: #3B4455;\n",
              "      fill: #D2E3FC;\n",
              "    }\n",
              "\n",
              "    [theme=dark] .colab-df-convert:hover {\n",
              "      background-color: #434B5C;\n",
              "      box-shadow: 0px 1px 3px 1px rgba(0, 0, 0, 0.15);\n",
              "      filter: drop-shadow(0px 1px 2px rgba(0, 0, 0, 0.3));\n",
              "      fill: #FFFFFF;\n",
              "    }\n",
              "  </style>\n",
              "\n",
              "      <script>\n",
              "        const buttonEl =\n",
              "          document.querySelector('#df-67acb675-308d-40a7-bc8d-8a4b805742b8 button.colab-df-convert');\n",
              "        buttonEl.style.display =\n",
              "          google.colab.kernel.accessAllowed ? 'block' : 'none';\n",
              "\n",
              "        async function convertToInteractive(key) {\n",
              "          const element = document.querySelector('#df-67acb675-308d-40a7-bc8d-8a4b805742b8');\n",
              "          const dataTable =\n",
              "            await google.colab.kernel.invokeFunction('convertToInteractive',\n",
              "                                                     [key], {});\n",
              "          if (!dataTable) return;\n",
              "\n",
              "          const docLinkHtml = 'Like what you see? Visit the ' +\n",
              "            '<a target=\"_blank\" href=https://colab.research.google.com/notebooks/data_table.ipynb>data table notebook</a>'\n",
              "            + ' to learn more about interactive tables.';\n",
              "          element.innerHTML = '';\n",
              "          dataTable['output_type'] = 'display_data';\n",
              "          await google.colab.output.renderOutput(dataTable, element);\n",
              "          const docLink = document.createElement('div');\n",
              "          docLink.innerHTML = docLinkHtml;\n",
              "          element.appendChild(docLink);\n",
              "        }\n",
              "      </script>\n",
              "    </div>\n",
              "  </div>\n",
              "  "
            ]
          },
          "metadata": {},
          "execution_count": 11
        }
      ],
      "source": [
        "data.describe()"
      ]
    },
    {
      "cell_type": "markdown",
      "metadata": {
        "id": "DS2KZsJcsL3S"
      },
      "source": [
        "We can see both missing data and obvious anomalies. \n",
        "\n",
        "Power: 0 - 20,000 horsepower; \n",
        "\n",
        "Registration year: 1000 - 9999; \n",
        "\n",
        "Price: zero values."
      ]
    },
    {
      "cell_type": "markdown",
      "metadata": {
        "id": "_K0CaCl8tJMs"
      },
      "source": [
        "Let's look at the missing data."
      ]
    },
    {
      "cell_type": "code",
      "execution_count": 12,
      "metadata": {
        "colab": {
          "base_uri": "https://localhost:8080/",
          "height": 381
        },
        "id": "KSlc4fPysZtK",
        "outputId": "3b24a9b6-1cfe-4ed3-fb2a-738d30467db2"
      },
      "outputs": [
        {
          "output_type": "stream",
          "name": "stdout",
          "text": [
            "----- NaN values -----\n"
          ]
        },
        {
          "output_type": "execute_result",
          "data": {
            "text/plain": [
              "                   Number of NaN  % NaN\n",
              "not_repaired               71154  20.08\n",
              "vehicle_type               37490  10.58\n",
              "fuel_type                  32895   9.28\n",
              "gearbox                    19833   5.60\n",
              "model                      19705   5.56\n",
              "power                          0   0.00\n",
              "kilometer                      0   0.00\n",
              "brand                          0   0.00\n",
              "registration_year              0   0.00\n",
              "price                          0   0.00"
            ],
            "text/html": [
              "\n",
              "  <div id=\"df-c2a49ddc-e08f-4904-b8e5-3e7a8e7a6765\">\n",
              "    <div class=\"colab-df-container\">\n",
              "      <div>\n",
              "<style scoped>\n",
              "    .dataframe tbody tr th:only-of-type {\n",
              "        vertical-align: middle;\n",
              "    }\n",
              "\n",
              "    .dataframe tbody tr th {\n",
              "        vertical-align: top;\n",
              "    }\n",
              "\n",
              "    .dataframe thead th {\n",
              "        text-align: right;\n",
              "    }\n",
              "</style>\n",
              "<table border=\"1\" class=\"dataframe\">\n",
              "  <thead>\n",
              "    <tr style=\"text-align: right;\">\n",
              "      <th></th>\n",
              "      <th>Number of NaN</th>\n",
              "      <th>% NaN</th>\n",
              "    </tr>\n",
              "  </thead>\n",
              "  <tbody>\n",
              "    <tr>\n",
              "      <th>not_repaired</th>\n",
              "      <td>71154</td>\n",
              "      <td>20.08</td>\n",
              "    </tr>\n",
              "    <tr>\n",
              "      <th>vehicle_type</th>\n",
              "      <td>37490</td>\n",
              "      <td>10.58</td>\n",
              "    </tr>\n",
              "    <tr>\n",
              "      <th>fuel_type</th>\n",
              "      <td>32895</td>\n",
              "      <td>9.28</td>\n",
              "    </tr>\n",
              "    <tr>\n",
              "      <th>gearbox</th>\n",
              "      <td>19833</td>\n",
              "      <td>5.60</td>\n",
              "    </tr>\n",
              "    <tr>\n",
              "      <th>model</th>\n",
              "      <td>19705</td>\n",
              "      <td>5.56</td>\n",
              "    </tr>\n",
              "    <tr>\n",
              "      <th>power</th>\n",
              "      <td>0</td>\n",
              "      <td>0.00</td>\n",
              "    </tr>\n",
              "    <tr>\n",
              "      <th>kilometer</th>\n",
              "      <td>0</td>\n",
              "      <td>0.00</td>\n",
              "    </tr>\n",
              "    <tr>\n",
              "      <th>brand</th>\n",
              "      <td>0</td>\n",
              "      <td>0.00</td>\n",
              "    </tr>\n",
              "    <tr>\n",
              "      <th>registration_year</th>\n",
              "      <td>0</td>\n",
              "      <td>0.00</td>\n",
              "    </tr>\n",
              "    <tr>\n",
              "      <th>price</th>\n",
              "      <td>0</td>\n",
              "      <td>0.00</td>\n",
              "    </tr>\n",
              "  </tbody>\n",
              "</table>\n",
              "</div>\n",
              "      <button class=\"colab-df-convert\" onclick=\"convertToInteractive('df-c2a49ddc-e08f-4904-b8e5-3e7a8e7a6765')\"\n",
              "              title=\"Convert this dataframe to an interactive table.\"\n",
              "              style=\"display:none;\">\n",
              "        \n",
              "  <svg xmlns=\"http://www.w3.org/2000/svg\" height=\"24px\"viewBox=\"0 0 24 24\"\n",
              "       width=\"24px\">\n",
              "    <path d=\"M0 0h24v24H0V0z\" fill=\"none\"/>\n",
              "    <path d=\"M18.56 5.44l.94 2.06.94-2.06 2.06-.94-2.06-.94-.94-2.06-.94 2.06-2.06.94zm-11 1L8.5 8.5l.94-2.06 2.06-.94-2.06-.94L8.5 2.5l-.94 2.06-2.06.94zm10 10l.94 2.06.94-2.06 2.06-.94-2.06-.94-.94-2.06-.94 2.06-2.06.94z\"/><path d=\"M17.41 7.96l-1.37-1.37c-.4-.4-.92-.59-1.43-.59-.52 0-1.04.2-1.43.59L10.3 9.45l-7.72 7.72c-.78.78-.78 2.05 0 2.83L4 21.41c.39.39.9.59 1.41.59.51 0 1.02-.2 1.41-.59l7.78-7.78 2.81-2.81c.8-.78.8-2.07 0-2.86zM5.41 20L4 18.59l7.72-7.72 1.47 1.35L5.41 20z\"/>\n",
              "  </svg>\n",
              "      </button>\n",
              "      \n",
              "  <style>\n",
              "    .colab-df-container {\n",
              "      display:flex;\n",
              "      flex-wrap:wrap;\n",
              "      gap: 12px;\n",
              "    }\n",
              "\n",
              "    .colab-df-convert {\n",
              "      background-color: #E8F0FE;\n",
              "      border: none;\n",
              "      border-radius: 50%;\n",
              "      cursor: pointer;\n",
              "      display: none;\n",
              "      fill: #1967D2;\n",
              "      height: 32px;\n",
              "      padding: 0 0 0 0;\n",
              "      width: 32px;\n",
              "    }\n",
              "\n",
              "    .colab-df-convert:hover {\n",
              "      background-color: #E2EBFA;\n",
              "      box-shadow: 0px 1px 2px rgba(60, 64, 67, 0.3), 0px 1px 3px 1px rgba(60, 64, 67, 0.15);\n",
              "      fill: #174EA6;\n",
              "    }\n",
              "\n",
              "    [theme=dark] .colab-df-convert {\n",
              "      background-color: #3B4455;\n",
              "      fill: #D2E3FC;\n",
              "    }\n",
              "\n",
              "    [theme=dark] .colab-df-convert:hover {\n",
              "      background-color: #434B5C;\n",
              "      box-shadow: 0px 1px 3px 1px rgba(0, 0, 0, 0.15);\n",
              "      filter: drop-shadow(0px 1px 2px rgba(0, 0, 0, 0.3));\n",
              "      fill: #FFFFFF;\n",
              "    }\n",
              "  </style>\n",
              "\n",
              "      <script>\n",
              "        const buttonEl =\n",
              "          document.querySelector('#df-c2a49ddc-e08f-4904-b8e5-3e7a8e7a6765 button.colab-df-convert');\n",
              "        buttonEl.style.display =\n",
              "          google.colab.kernel.accessAllowed ? 'block' : 'none';\n",
              "\n",
              "        async function convertToInteractive(key) {\n",
              "          const element = document.querySelector('#df-c2a49ddc-e08f-4904-b8e5-3e7a8e7a6765');\n",
              "          const dataTable =\n",
              "            await google.colab.kernel.invokeFunction('convertToInteractive',\n",
              "                                                     [key], {});\n",
              "          if (!dataTable) return;\n",
              "\n",
              "          const docLinkHtml = 'Like what you see? Visit the ' +\n",
              "            '<a target=\"_blank\" href=https://colab.research.google.com/notebooks/data_table.ipynb>data table notebook</a>'\n",
              "            + ' to learn more about interactive tables.';\n",
              "          element.innerHTML = '';\n",
              "          dataTable['output_type'] = 'display_data';\n",
              "          await google.colab.output.renderOutput(dataTable, element);\n",
              "          const docLink = document.createElement('div');\n",
              "          docLink.innerHTML = docLinkHtml;\n",
              "          element.appendChild(docLink);\n",
              "        }\n",
              "      </script>\n",
              "    </div>\n",
              "  </div>\n",
              "  "
            ]
          },
          "metadata": {},
          "execution_count": 12
        }
      ],
      "source": [
        "print('----- NaN values -----')\n",
        "nans_info = pd.DataFrame()\n",
        "nans_info['Number of NaN'] = data.isnull().sum()\n",
        "nans_info['% NaN'] = (nans_info['Number of NaN'] / data.shape[0] * 100).round(2)\n",
        "\n",
        "nans_info = nans_info.sort_values(by='Number of NaN', \n",
        "                                  ascending=False)\n",
        "nans_info"
      ]
    },
    {
      "cell_type": "markdown",
      "metadata": {
        "id": "dtINmxhfu3NS"
      },
      "source": [
        "Let's look at the not_repaired column."
      ]
    },
    {
      "cell_type": "code",
      "execution_count": 13,
      "metadata": {
        "colab": {
          "base_uri": "https://localhost:8080/"
        },
        "id": "5mK79l8RvHlS",
        "outputId": "43985aab-5d6c-4289-f31f-d41c6319b80c"
      },
      "outputs": [
        {
          "output_type": "execute_result",
          "data": {
            "text/plain": [
              "no     247158\n",
              "yes     36053\n",
              "Name: not_repaired, dtype: int64"
            ]
          },
          "metadata": {},
          "execution_count": 13
        }
      ],
      "source": [
        "data['not_repaired'].value_counts()"
      ]
    },
    {
      "cell_type": "markdown",
      "metadata": {
        "id": "vyA_JubzvYhs"
      },
      "source": [
        "As we can see, this column contains categorical values with missing values, replacing it with the mean is not possible, deleting 20% of the data is not possible. Let's replace NaN with unknown."
      ]
    },
    {
      "cell_type": "code",
      "execution_count": 14,
      "metadata": {
        "id": "J5T58iitwEpV"
      },
      "outputs": [],
      "source": [
        "data['not_repaired'] = data['not_repaired'].fillna('unknown')"
      ]
    },
    {
      "cell_type": "markdown",
      "metadata": {
        "id": "SAm0I37mwUbw"
      },
      "source": [
        "Next."
      ]
    },
    {
      "cell_type": "code",
      "execution_count": 15,
      "metadata": {
        "colab": {
          "base_uri": "https://localhost:8080/"
        },
        "id": "V3NQgMV3wcPF",
        "outputId": "ad21d9cf-d527-424b-a48c-d2a210c611f8"
      },
      "outputs": [
        {
          "output_type": "execute_result",
          "data": {
            "text/plain": [
              "sedan          91457\n",
              "small          79830\n",
              "wagon          65165\n",
              "bus            28775\n",
              "convertible    20203\n",
              "coupe          16161\n",
              "suv            11996\n",
              "other           3288\n",
              "Name: vehicle_type, dtype: int64"
            ]
          },
          "metadata": {},
          "execution_count": 15
        }
      ],
      "source": [
        "data['vehicle_type'].value_counts()"
      ]
    },
    {
      "cell_type": "markdown",
      "metadata": {
        "id": "6BP3X0guwkrV"
      },
      "source": [
        "As we can see, this column contains categorical values with missing values, replacing it with the mean is not possible, deleting 10% of the data is not possible. Let's replace NaN with unknown."
      ]
    },
    {
      "cell_type": "code",
      "execution_count": 16,
      "metadata": {
        "id": "DzKNIp1-wouk"
      },
      "outputs": [],
      "source": [
        "data['vehicle_type'] = data['vehicle_type'].fillna('unknown')"
      ]
    },
    {
      "cell_type": "markdown",
      "metadata": {
        "id": "-zcNmBALws2f"
      },
      "source": [
        "Next."
      ]
    },
    {
      "cell_type": "code",
      "execution_count": 17,
      "metadata": {
        "colab": {
          "base_uri": "https://localhost:8080/"
        },
        "id": "C4nu02QIwwOt",
        "outputId": "6658e8fa-22ef-433f-f188-3a48c316a5f3"
      },
      "outputs": [
        {
          "output_type": "execute_result",
          "data": {
            "text/plain": [
              "petrol      216349\n",
              "gasoline     98719\n",
              "lpg           5310\n",
              "cng            565\n",
              "hybrid         233\n",
              "other          204\n",
              "electric        90\n",
              "Name: fuel_type, dtype: int64"
            ]
          },
          "metadata": {},
          "execution_count": 17
        }
      ],
      "source": [
        "data['fuel_type'].value_counts()"
      ]
    },
    {
      "cell_type": "markdown",
      "metadata": {
        "id": "6C8nDmRQxXSy"
      },
      "source": [
        "Besides the missing values, we see the anomaly of petrol and gasoline, which is gasoline, let's combine the data under one category of petrol."
      ]
    },
    {
      "cell_type": "code",
      "execution_count": 18,
      "metadata": {
        "id": "1318jLc0x1_E"
      },
      "outputs": [],
      "source": [
        "data['fuel_type'] = np.where(data['fuel_type'] == 'gasoline', \n",
        "                             'petrol', \n",
        "                             data['fuel_type'])\n",
        "\n",
        "data['fuel_type'].fillna('unknown', \n",
        "                         inplace=True)"
      ]
    },
    {
      "cell_type": "markdown",
      "metadata": {
        "id": "kSvugdfOyAYu"
      },
      "source": [
        "Next."
      ]
    },
    {
      "cell_type": "code",
      "execution_count": 19,
      "metadata": {
        "colab": {
          "base_uri": "https://localhost:8080/"
        },
        "id": "CSLnj0Dazc8-",
        "outputId": "db8047fa-d61a-4471-8448-1d4baf1022f1"
      },
      "outputs": [
        {
          "output_type": "execute_result",
          "data": {
            "text/plain": [
              "manual    268249\n",
              "auto       66283\n",
              "Name: gearbox, dtype: int64"
            ]
          },
          "metadata": {},
          "execution_count": 19
        }
      ],
      "source": [
        "data['gearbox'].value_counts()"
      ]
    },
    {
      "cell_type": "code",
      "execution_count": 20,
      "metadata": {
        "colab": {
          "base_uri": "https://localhost:8080/"
        },
        "id": "b9n9Ry2ozjaa",
        "outputId": "3c981c34-128a-4d8f-eaad-5f5420939ee9"
      },
      "outputs": [
        {
          "output_type": "execute_result",
          "data": {
            "text/plain": [
              "golf                  29232\n",
              "other                 24420\n",
              "3er                   19761\n",
              "polo                  13066\n",
              "corsa                 12570\n",
              "                      ...  \n",
              "i3                        8\n",
              "serie_3                   4\n",
              "rangerover                4\n",
              "range_rover_evoque        2\n",
              "serie_1                   2\n",
              "Name: model, Length: 250, dtype: int64"
            ]
          },
          "metadata": {},
          "execution_count": 20
        }
      ],
      "source": [
        "data['model'].value_counts()"
      ]
    },
    {
      "cell_type": "markdown",
      "metadata": {
        "id": "znF4xXwWztz3"
      },
      "source": [
        "Let's replace the missing values with unknown."
      ]
    },
    {
      "cell_type": "code",
      "execution_count": 21,
      "metadata": {
        "id": "TWXJac-czzlq"
      },
      "outputs": [],
      "source": [
        "data['gearbox'] = data['gearbox'].fillna('unknown')\n",
        "data['model'] = data['model'].fillna('unknown')"
      ]
    },
    {
      "cell_type": "markdown",
      "metadata": {
        "id": "MWPlIa7P0TWm"
      },
      "source": [
        "Посмотрим на результат."
      ]
    },
    {
      "cell_type": "code",
      "execution_count": 22,
      "metadata": {
        "colab": {
          "base_uri": "https://localhost:8080/"
        },
        "id": "KK6PInwO0WN5",
        "outputId": "acd950f0-27b9-4ec2-f9ec-9aa39627a83a"
      },
      "outputs": [
        {
          "output_type": "stream",
          "name": "stdout",
          "text": [
            "<class 'pandas.core.frame.DataFrame'>\n",
            "Int64Index: 354365 entries, 0 to 354368\n",
            "Data columns (total 10 columns):\n",
            " #   Column             Non-Null Count   Dtype \n",
            "---  ------             --------------   ----- \n",
            " 0   vehicle_type       354365 non-null  object\n",
            " 1   gearbox            354365 non-null  object\n",
            " 2   power              354365 non-null  int64 \n",
            " 3   kilometer          354365 non-null  int64 \n",
            " 4   fuel_type          354365 non-null  object\n",
            " 5   brand              354365 non-null  object\n",
            " 6   not_repaired       354365 non-null  object\n",
            " 7   registration_year  354365 non-null  int64 \n",
            " 8   model              354365 non-null  object\n",
            " 9   price              354365 non-null  int64 \n",
            "dtypes: int64(4), object(6)\n",
            "memory usage: 29.7+ MB\n"
          ]
        }
      ],
      "source": [
        "data.info()"
      ]
    },
    {
      "cell_type": "markdown",
      "metadata": {
        "id": "lbarmbnu0ijv"
      },
      "source": [
        "The missing values in the categorical data are filled. Let's look at the remaining data."
      ]
    },
    {
      "cell_type": "markdown",
      "metadata": {
        "id": "27CxNVeQSPPI"
      },
      "source": [
        "### Anomalies and errors in the price column - the price."
      ]
    },
    {
      "cell_type": "code",
      "execution_count": 23,
      "metadata": {
        "id": "HNSM_zma3XNu"
      },
      "outputs": [],
      "source": [
        "sns.set(style=\"darkgrid\")\n",
        "\n",
        "def draw_boxplot(df, column, title, \n",
        "                 figsize=(16,6), color='red', \n",
        "                 xlabel='', xlim=None):\n",
        "  \n",
        "    plt.figure(figsize=figsize)\n",
        "\n",
        "    ax = sns.boxplot(x=df[column], \n",
        "                     color=color)\n",
        "\n",
        "    if (xlim != None):\n",
        "        plt.xlim(xlim)\n",
        "\n",
        "    ax.set(xlabel=xlabel, \n",
        "           title=title)\n",
        "        \n",
        "def draw_histogram(df, column, title, \n",
        "                   figsize=(16,6), color='red',\n",
        "                   xlabel='', ylabel='', kde=False,\n",
        "                   bins=None, xticks=0, xlim=None, ylim=None):\n",
        "  \n",
        "    plt.figure(figsize=figsize)\n",
        "\n",
        "    ax = sns.distplot(df[column], \n",
        "                      color=color, \n",
        "                      kde=kde, \n",
        "                      bins=bins)\n",
        "\n",
        "    if (xlim != None):\n",
        "        plt.xlim(xlim)\n",
        "    if (ylim != None):\n",
        "        plt.ylim(ylim)\n",
        "\n",
        "    ax.set(xlabel=xlabel, \n",
        "           ylabel=ylabel, \n",
        "           title=title)\n",
        "\n",
        "    if xticks != 0:\n",
        "        ax.set(xticks=xticks)"
      ]
    },
    {
      "cell_type": "code",
      "execution_count": 24,
      "metadata": {
        "colab": {
          "base_uri": "https://localhost:8080/",
          "height": 803
        },
        "id": "kQUl7uEb3toI",
        "outputId": "26f598b1-8243-4c18-c14c-7d274bd6cb6c"
      },
      "outputs": [
        {
          "output_type": "display_data",
          "data": {
            "text/plain": [
              "<Figure size 1152x432 with 1 Axes>"
            ],
            "image/png": "[encoded data removed]"
          },
          "metadata": {}
        },
        {
          "output_type": "display_data",
          "data": {
            "text/plain": [
              "<Figure size 1152x432 with 1 Axes>"
            ],
            "image/png": "[encoded data removed]"
          },
          "metadata": {}
        }
      ],
      "source": [
        "draw_histogram(data, \n",
        "               'price', \n",
        "               'Distribution of cars by price', \n",
        "               xlabel='Price', \n",
        "               ylabel='Number of records')\n",
        "\n",
        "draw_boxplot(data, \n",
        "             'price', \n",
        "             'Range diagram of cars by price', \n",
        "             xlabel='Price')"
      ]
    },
    {
      "cell_type": "markdown",
      "metadata": {
        "id": "J16t7Wxm4zws"
      },
      "source": [
        "Let's look on the data closer by price up to 2500 eur."
      ]
    },
    {
      "cell_type": "code",
      "execution_count": 25,
      "metadata": {
        "colab": {
          "base_uri": "https://localhost:8080/",
          "height": 410
        },
        "id": "hXp24kZz4KVD",
        "outputId": "900462f4-6a01-4b7f-b52a-9e9cccee9e6f"
      },
      "outputs": [
        {
          "output_type": "display_data",
          "data": {
            "text/plain": [
              "<Figure size 1152x432 with 1 Axes>"
            ],
            "image/png": "[encoded data removed]"
          },
          "metadata": {}
        }
      ],
      "source": [
        "draw_histogram(data, \n",
        "               'price', \n",
        "               'Distribution of cars by price', \n",
        "               xlabel='Price', \n",
        "               ylabel='Number of records', \n",
        "               xlim=(-10, 2500), \n",
        "               bins=300)"
      ]
    },
    {
      "cell_type": "markdown",
      "metadata": {
        "id": "jgglY0XR5acb"
      },
      "source": [
        "We see an anomalous peak in the vicinity of zero."
      ]
    },
    {
      "cell_type": "code",
      "execution_count": 26,
      "metadata": {
        "colab": {
          "base_uri": "https://localhost:8080/",
          "height": 410
        },
        "id": "CXf6ZQbG5jcV",
        "outputId": "9c7c3841-2a99-45ce-a8a6-b295f50f9efe"
      },
      "outputs": [
        {
          "output_type": "display_data",
          "data": {
            "text/plain": [
              "<Figure size 1152x432 with 1 Axes>"
            ],
            "image/png": "[encoded data removed]"
          },
          "metadata": {}
        }
      ],
      "source": [
        "draw_histogram(data, \n",
        "               'price', \n",
        "               'Distribution of cars by price', \n",
        "               xlabel='Price', \n",
        "               ylabel='Number of records', \n",
        "               xlim=(-10, 200), \n",
        "               bins=1000)"
      ]
    },
    {
      "cell_type": "markdown",
      "metadata": {
        "id": "R6iykau95wuL"
      },
      "source": [
        "We see anomalous data. Let's see how many data with zero price."
      ]
    },
    {
      "cell_type": "code",
      "execution_count": 27,
      "metadata": {
        "colab": {
          "base_uri": "https://localhost:8080/"
        },
        "id": "Ihhs-cYY56MX",
        "outputId": "ec83031f-9519-475a-e9f2-20347f6a9957"
      },
      "outputs": [
        {
          "output_type": "stream",
          "name": "stdout",
          "text": [
            "Number of zero data: 10772\n",
            "% of zero data: 3.04\n"
          ]
        }
      ],
      "source": [
        "print('Number of zero data:', data.query('price == 0').shape[0])\n",
        "print('% of zero data:', round(((data.query('price == 0').shape[0] / len(data) ) *100), 2))"
      ]
    },
    {
      "cell_type": "markdown",
      "metadata": {
        "id": "WLbol0_n74bG"
      },
      "source": [
        "Let's delete the zero values."
      ]
    },
    {
      "cell_type": "code",
      "execution_count": 28,
      "metadata": {
        "colab": {
          "base_uri": "https://localhost:8080/"
        },
        "id": "Z13mYsTY774k",
        "outputId": "c05f06a3-3bb9-46e2-a4e0-8c0cd21dbebd"
      },
      "outputs": [
        {
          "output_type": "stream",
          "name": "stdout",
          "text": [
            "Number of zero data: 0\n",
            "% of zero data: 0.0\n"
          ]
        }
      ],
      "source": [
        "data = data.query('price != 0')\n",
        "data.reset_index(drop=True).head()\n",
        "\n",
        "print('Number of zero data:', data.query('price == 0').shape[0])\n",
        "print('% of zero data:', round(((data.query('price == 0').shape[0] / len(data) ) *100), 2))"
      ]
    },
    {
      "cell_type": "markdown",
      "metadata": {
        "id": "0RO2kxGI8Rhf"
      },
      "source": [
        "### Anomalies and errors in the registration_year column - the year of registration."
      ]
    },
    {
      "cell_type": "code",
      "execution_count": 29,
      "metadata": {
        "colab": {
          "base_uri": "https://localhost:8080/",
          "height": 803
        },
        "id": "pXhoEXIt8eu0",
        "outputId": "aeaedf7b-a3bc-48c9-844e-6a8b570253d0"
      },
      "outputs": [
        {
          "output_type": "display_data",
          "data": {
            "text/plain": [
              "<Figure size 1152x432 with 1 Axes>"
            ],
            "image/png": "[encoded data removed]"
          },
          "metadata": {}
        },
        {
          "output_type": "display_data",
          "data": {
            "text/plain": [
              "<Figure size 1152x432 with 1 Axes>"
            ],
            "image/png": "[encoded data removed]"
          },
          "metadata": {}
        }
      ],
      "source": [
        "draw_histogram(data, \n",
        "               'registration_year', \n",
        "               'Distribution of cars by registration year', \n",
        "               xlabel='Registration year', \n",
        "               ylabel='Number of records')\n",
        "\n",
        "draw_boxplot(data, \n",
        "             'registration_year', \n",
        "             'Range diagram of cars by registration year', \n",
        "             xlabel='Registration year')"
      ]
    },
    {
      "cell_type": "markdown",
      "metadata": {
        "id": "zvXW6ZZ5CsIu"
      },
      "source": [
        "We can see that the main volume of cars was registered at the end of the 1900s - beginning of the 2000s."
      ]
    },
    {
      "cell_type": "markdown",
      "metadata": {
        "id": "cSYDYf2-DHpp"
      },
      "source": [
        "Let's look at the outliers of the range diagram to determine an adequate period of car registration."
      ]
    },
    {
      "cell_type": "code",
      "execution_count": 30,
      "metadata": {
        "id": "5sIOIGxSBQi_"
      },
      "outputs": [],
      "source": [
        "def span_charts(column):\n",
        "    stat = data[column].describe()\n",
        "    quantile = stat[6] - stat[4]     \n",
        "    left_mustache = round(stat[4] - 1.5 * quantile, 2)\n",
        "    right_mustache = round(stat[6] + 1.5 * quantile, 2)\n",
        "    if left_mustache < stat[3]:\n",
        "        left_mustache = stat[3] \n",
        "    if right_mustache > stat[7]:\n",
        "        right_mustache = stat[7]\n",
        "        \n",
        "    return [left_mustache, right_mustache]"
      ]
    },
    {
      "cell_type": "code",
      "execution_count": 31,
      "metadata": {
        "colab": {
          "base_uri": "https://localhost:8080/"
        },
        "id": "SK2srVO1Ba04",
        "outputId": "ecd1a921-06e1-4028-c85f-2ca016b9d78e"
      },
      "outputs": [
        {
          "output_type": "stream",
          "name": "stdout",
          "text": [
            "Outliers [1985.5, 2021.5]\n"
          ]
        }
      ],
      "source": [
        "print('Outliers', span_charts('registration_year'))"
      ]
    },
    {
      "cell_type": "markdown",
      "metadata": {
        "id": "QVqXT4BLE7Cd"
      },
      "source": [
        "We will leave the data for the year of car registration within the range from 1985 to 2021. At the same time, date_crawled is limited to 2016."
      ]
    },
    {
      "cell_type": "code",
      "execution_count": 32,
      "metadata": {
        "colab": {
          "base_uri": "https://localhost:8080/",
          "height": 803
        },
        "id": "3CmMW1PB9oTB",
        "outputId": "09acba02-c51b-4eb5-f324-ed5cfe306f38"
      },
      "outputs": [
        {
          "output_type": "display_data",
          "data": {
            "text/plain": [
              "<Figure size 1152x432 with 1 Axes>"
            ],
            "image/png": "[encoded data removed]"
          },
          "metadata": {}
        },
        {
          "output_type": "display_data",
          "data": {
            "text/plain": [
              "<Figure size 1152x432 with 1 Axes>"
            ],
            "image/png": "[encoded data removed]"
          },
          "metadata": {}
        }
      ],
      "source": [
        "data = data.query('1985 <= registration_year <= 2016')\n",
        "data.reset_index(drop=True).head()\n",
        "\n",
        "draw_histogram(data, \n",
        "               'registration_year', \n",
        "               'Distribution of cars by registration year', \n",
        "               xlabel='Registration year', \n",
        "               ylabel='Number of records')\n",
        "\n",
        "draw_boxplot(data, \n",
        "             'registration_year', \n",
        "             'Range diagram of cars by registration year', \n",
        "             xlabel='Registration year')"
      ]
    },
    {
      "cell_type": "markdown",
      "metadata": {
        "id": "wKz-e7xX_aq_"
      },
      "source": [
        "Finally, we will correct the year of car registration from 1985 to 2016."
      ]
    },
    {
      "cell_type": "markdown",
      "metadata": {
        "id": "EVSyfB7eGQ3R"
      },
      "source": [
        "Next"
      ]
    },
    {
      "cell_type": "markdown",
      "metadata": {
        "id": "cGzlFfqdSrMh"
      },
      "source": [
        "### Anomalies and errors in the power column - power."
      ]
    },
    {
      "cell_type": "code",
      "execution_count": 33,
      "metadata": {
        "colab": {
          "base_uri": "https://localhost:8080/",
          "height": 803
        },
        "id": "m9urGqbbLwr9",
        "outputId": "0d8681f6-5d3a-4ffa-ab6a-0457d0af61f1"
      },
      "outputs": [
        {
          "output_type": "display_data",
          "data": {
            "text/plain": [
              "<Figure size 1152x432 with 1 Axes>"
            ],
            "image/png": "[encoded data removed]"
          },
          "metadata": {}
        },
        {
          "output_type": "display_data",
          "data": {
            "text/plain": [
              "<Figure size 1152x432 with 1 Axes>"
            ],
            "image/png": "[encoded data removed]"
          },
          "metadata": {}
        }
      ],
      "source": [
        "draw_histogram(data, \n",
        "               'power', \n",
        "               'Distribution of cars by power', \n",
        "               xlabel='Power', \n",
        "               ylabel='Number of records', \n",
        "               xlim=(-100,1000), \n",
        "               bins=1000)\n",
        "\n",
        "draw_boxplot(data, \n",
        "             'power', \n",
        "             'Range diagram of cars by power', \n",
        "             xlim=(-100,1000), \n",
        "             xlabel='Power')"
      ]
    },
    {
      "cell_type": "markdown",
      "metadata": {
        "id": "t6pIBkydMAvr"
      },
      "source": [
        "From the data above and the graph, we can see that there are data with power close to zero."
      ]
    },
    {
      "cell_type": "markdown",
      "metadata": {
        "id": "7i1NMHcvMs2X"
      },
      "source": [
        "Let's take a closer look at the data first within the range up to 100 hp."
      ]
    },
    {
      "cell_type": "code",
      "execution_count": 34,
      "metadata": {
        "colab": {
          "base_uri": "https://localhost:8080/",
          "height": 410
        },
        "id": "paF5nKdNGYMC",
        "outputId": "392b7227-f444-4fb9-d7a9-8491a7c36c68"
      },
      "outputs": [
        {
          "output_type": "display_data",
          "data": {
            "text/plain": [
              "<Figure size 1152x432 with 1 Axes>"
            ],
            "image/png": "[encoded data removed]"
          },
          "metadata": {}
        }
      ],
      "source": [
        "draw_histogram(data, \n",
        "               'power', \n",
        "               'Distribution of cars by power',\n",
        "               xlabel='Power', \n",
        "               ylabel='Number of records', \n",
        "               xlim=(0,100), \n",
        "               bins=1500)"
      ]
    },
    {
      "cell_type": "markdown",
      "metadata": {
        "id": "_1X3HER6NDFQ"
      },
      "source": [
        "Let's take a closer look. Let's take a closer look at the data within the range of 300 to 400 hp."
      ]
    },
    {
      "cell_type": "code",
      "execution_count": 35,
      "metadata": {
        "colab": {
          "base_uri": "https://localhost:8080/",
          "height": 410
        },
        "id": "9JqFHQlLNA6-",
        "outputId": "05c809a1-e3f0-45e2-f100-da4da765c6d7"
      },
      "outputs": [
        {
          "output_type": "display_data",
          "data": {
            "text/plain": [
              "<Figure size 1152x432 with 1 Axes>"
            ],
            "image/png": "[encoded data removed]"
          },
          "metadata": {}
        }
      ],
      "source": [
        "draw_histogram(data, \n",
        "               'power', \n",
        "               'Distribution of cars by power', \n",
        "               xlabel='Power', \n",
        "               ylabel='Number of records', \n",
        "               xlim=(300,400), \n",
        "               ylim=(0,1500), \n",
        "               bins=1500)"
      ]
    },
    {
      "cell_type": "markdown",
      "metadata": {
        "id": "2wMuL8xvOpTr"
      },
      "source": [
        "As we can see, the most adequate range of power is from 40 to 400."
      ]
    },
    {
      "cell_type": "code",
      "execution_count": 36,
      "metadata": {
        "colab": {
          "base_uri": "https://localhost:8080/"
        },
        "id": "wHamoWUFKAZu",
        "outputId": "8e861f8b-04e9-4522-b90a-e614fdb3b05c"
      },
      "outputs": [
        {
          "output_type": "stream",
          "name": "stdout",
          "text": [
            "<class 'pandas.core.frame.DataFrame'>\n",
            "Int64Index: 291781 entries, 1 to 354368\n",
            "Data columns (total 10 columns):\n",
            " #   Column             Non-Null Count   Dtype \n",
            "---  ------             --------------   ----- \n",
            " 0   vehicle_type       291781 non-null  object\n",
            " 1   gearbox            291781 non-null  object\n",
            " 2   power              291781 non-null  int64 \n",
            " 3   kilometer          291781 non-null  int64 \n",
            " 4   fuel_type          291781 non-null  object\n",
            " 5   brand              291781 non-null  object\n",
            " 6   not_repaired       291781 non-null  object\n",
            " 7   registration_year  291781 non-null  int64 \n",
            " 8   model              291781 non-null  object\n",
            " 9   price              291781 non-null  int64 \n",
            "dtypes: int64(4), object(6)\n",
            "memory usage: 24.5+ MB\n"
          ]
        }
      ],
      "source": [
        "data = data.query('40 <= power <= 400')\n",
        "data.reset_index(drop=True).head()\n",
        "data.info()"
      ]
    },
    {
      "cell_type": "markdown",
      "metadata": {
        "id": "jtgmhVQ6S44-"
      },
      "source": [
        "### Anomalies and errors in the kilometer column - mileage."
      ]
    },
    {
      "cell_type": "code",
      "execution_count": 37,
      "metadata": {
        "colab": {
          "base_uri": "https://localhost:8080/",
          "height": 803
        },
        "id": "J3J2KneqS5Sg",
        "outputId": "5714743d-d8da-4ca8-a208-16e0bd2f2fff"
      },
      "outputs": [
        {
          "output_type": "display_data",
          "data": {
            "text/plain": [
              "<Figure size 1152x432 with 1 Axes>"
            ],
            "image/png": "[encoded data removed]"
          },
          "metadata": {}
        },
        {
          "output_type": "display_data",
          "data": {
            "text/plain": [
              "<Figure size 1152x432 with 1 Axes>"
            ],
            "image/png": "[encoded data removed]"
          },
          "metadata": {}
        }
      ],
      "source": [
        "draw_histogram(data, \n",
        "               'kilometer', \n",
        "               'Distribution of cars by mileage', \n",
        "               xlabel='Kilometer', \n",
        "               ylabel='Number of records', \n",
        "               bins=50)\n",
        "\n",
        "draw_boxplot(data, \n",
        "             'kilometer', \n",
        "             'Range diagram of cars by mileage', \n",
        "             xlabel='Kilometer')"
      ]
    },
    {
      "cell_type": "markdown",
      "metadata": {
        "id": "PPc6DQdbOKne"
      },
      "source": [
        "We will replace the gearbox and not_repaired columns with a Boolean type."
      ]
    },
    {
      "cell_type": "code",
      "execution_count": 38,
      "metadata": {
        "colab": {
          "base_uri": "https://localhost:8080/",
          "height": 145
        },
        "id": "LKOeRU45OI9t",
        "outputId": "38f7c851-c16b-4f68-8a43-03ae3718bced"
      },
      "outputs": [
        {
          "output_type": "display_data",
          "data": {
            "text/plain": [
              "1    228995\n",
              "0     62786\n",
              "Name: is_manual_gearbox, dtype: int64"
            ]
          },
          "metadata": {}
        },
        {
          "output_type": "execute_result",
          "data": {
            "text/plain": [
              "manual     228995\n",
              "auto        57612\n",
              "unknown      5174\n",
              "Name: gearbox, dtype: int64"
            ]
          },
          "metadata": {},
          "execution_count": 38
        }
      ],
      "source": [
        "data['is_manual_gearbox'] = 0\n",
        "data.loc[data['gearbox'] == 'manual', 'is_manual_gearbox'] = 1\n",
        "display(data['is_manual_gearbox'].value_counts())\n",
        "data['gearbox'].value_counts()"
      ]
    },
    {
      "cell_type": "code",
      "execution_count": 39,
      "metadata": {
        "colab": {
          "base_uri": "https://localhost:8080/",
          "height": 145
        },
        "id": "0xoK9pZbOQmX",
        "outputId": "319dca13-512a-41b3-8dd5-5585d76073b3"
      },
      "outputs": [
        {
          "output_type": "display_data",
          "data": {
            "text/plain": [
              "0    263314\n",
              "1     28467\n",
              "Name: is_not_repaired, dtype: int64"
            ]
          },
          "metadata": {}
        },
        {
          "output_type": "execute_result",
          "data": {
            "text/plain": [
              "no         221345\n",
              "unknown     41969\n",
              "yes         28467\n",
              "Name: not_repaired, dtype: int64"
            ]
          },
          "metadata": {},
          "execution_count": 39
        }
      ],
      "source": [
        "data['is_not_repaired'] = 0\n",
        "data.loc[data['not_repaired'] == 'yes', 'is_not_repaired'] = 1\n",
        "display(data['is_not_repaired'].value_counts())\n",
        "data['not_repaired'].value_counts()"
      ]
    },
    {
      "cell_type": "code",
      "execution_count": 40,
      "metadata": {
        "id": "Aw6DqqaKRPMI"
      },
      "outputs": [],
      "source": [
        "data.drop(['not_repaired','gearbox'], \n",
        "          inplace=True, \n",
        "          axis=1)"
      ]
    },
    {
      "cell_type": "markdown",
      "metadata": {
        "id": "d9pfefs3ZPDL"
      },
      "source": [
        "#### To save memory, we will change the data type and thus speed up the model training."
      ]
    },
    {
      "cell_type": "code",
      "execution_count": 41,
      "metadata": {
        "colab": {
          "base_uri": "https://localhost:8080/"
        },
        "id": "JwWD11GrZZ8I",
        "outputId": "3566d3fe-7a31-4cb3-ef48-efb88caf28b1"
      },
      "outputs": [
        {
          "output_type": "stream",
          "name": "stdout",
          "text": [
            "<class 'pandas.core.frame.DataFrame'>\n",
            "Int64Index: 291781 entries, 1 to 354368\n",
            "Data columns (total 10 columns):\n",
            " #   Column             Non-Null Count   Dtype \n",
            "---  ------             --------------   ----- \n",
            " 0   vehicle_type       291781 non-null  object\n",
            " 1   power              291781 non-null  int64 \n",
            " 2   kilometer          291781 non-null  int64 \n",
            " 3   fuel_type          291781 non-null  object\n",
            " 4   brand              291781 non-null  object\n",
            " 5   registration_year  291781 non-null  int64 \n",
            " 6   model              291781 non-null  object\n",
            " 7   price              291781 non-null  int64 \n",
            " 8   is_manual_gearbox  291781 non-null  int64 \n",
            " 9   is_not_repaired    291781 non-null  int64 \n",
            "dtypes: int64(6), object(4)\n",
            "memory usage: 24.5+ MB\n"
          ]
        }
      ],
      "source": [
        "data.info()"
      ]
    },
    {
      "cell_type": "code",
      "execution_count": 42,
      "metadata": {
        "colab": {
          "base_uri": "https://localhost:8080/"
        },
        "id": "NRsRjoaqZ6ge",
        "outputId": "22232757-de86-4b24-ac7a-23e294129686"
      },
      "outputs": [
        {
          "output_type": "stream",
          "name": "stdout",
          "text": [
            "<class 'pandas.core.frame.DataFrame'>\n",
            "Int64Index: 291781 entries, 1 to 354368\n",
            "Data columns (total 10 columns):\n",
            " #   Column             Non-Null Count   Dtype \n",
            "---  ------             --------------   ----- \n",
            " 0   vehicle_type       291781 non-null  object\n",
            " 1   power              291781 non-null  int16 \n",
            " 2   kilometer          291781 non-null  int32 \n",
            " 3   fuel_type          291781 non-null  object\n",
            " 4   brand              291781 non-null  object\n",
            " 5   registration_year  291781 non-null  int16 \n",
            " 6   model              291781 non-null  object\n",
            " 7   price              291781 non-null  int16 \n",
            " 8   is_manual_gearbox  291781 non-null  int8  \n",
            " 9   is_not_repaired    291781 non-null  int8  \n",
            "dtypes: int16(3), int32(1), int8(2), object(4)\n",
            "memory usage: 14.5+ MB\n"
          ]
        }
      ],
      "source": [
        "data['is_not_repaired'] = pd.to_numeric(data['is_not_repaired'], downcast='integer')\n",
        "data['is_manual_gearbox'] = pd.to_numeric(data['is_manual_gearbox'], downcast='integer')\n",
        "data['registration_year'] = pd.to_numeric(data['registration_year'], downcast='integer')\n",
        "data['power'] = pd.to_numeric(data['power'], downcast='integer')\n",
        "data['kilometer'] = pd.to_numeric(data['kilometer'], downcast='integer')\n",
        "data['price'] = pd.to_numeric(data['price'], downcast='integer')\n",
        "data.info()"
      ]
    },
    {
      "cell_type": "markdown",
      "metadata": {
        "id": "spt4PYhuaW2L"
      },
      "source": [
        "Let's look at the result of the data transformation."
      ]
    },
    {
      "cell_type": "code",
      "execution_count": 43,
      "metadata": {
        "colab": {
          "base_uri": "https://localhost:8080/"
        },
        "id": "GSscrjxWalds",
        "outputId": "1bdd8538-cc10-4739-d5db-99b2430a2532"
      },
      "outputs": [
        {
          "output_type": "stream",
          "name": "stdout",
          "text": [
            "Memory usage reduction by 40.71%\n"
          ]
        }
      ],
      "source": [
        "print('Memory usage reduction by {:.2%}'.format(1 - 15.0/25.3))"
      ]
    },
    {
      "cell_type": "markdown",
      "metadata": {
        "id": "3VA6mFFzTxhr"
      },
      "source": [
        "No anomalies and errors with mileage data."
      ]
    },
    {
      "cell_type": "markdown",
      "metadata": {
        "id": "NJ6FQHf7GX2Z"
      },
      "source": [
        "Conclusion: \n",
        "\n",
        "During the loading and review of the data, a dataset of 354365x16 was provided. \n",
        "* Upon approximate consideration, duplicates were found in the amount of 4 pieces - duplicates were removed; \n",
        "* Non-informative columns were removed from the dataset and the names were brought to lower case; \n",
        "From the detailed review of the data, missing data and anomalous values were identified: \n",
        "  - Missing data in categorical data were filled with unknown as it is not possible to fill in with average or median values; \n",
        "  - Anomalies and errors were identified in the power, registration_year, and price columns, with the power data limited to 40-400 hp, the registration_year data limited to 1985-2021, and the price data with zero values removed; \n",
        "  - No anomalies or errors were identified in the mileage column. \n",
        "* Data transformation was performed, with a 40.71% reduction in memory usage. \n",
        "* Categorical data in the not_repaired and gearbox columns were replaced with Boolean type."
      ]
    },
    {
      "cell_type": "markdown",
      "metadata": {
        "id": "W9mLr1--0Zye"
      },
      "source": [
        "## 2. Encoding data."
      ]
    },
    {
      "cell_type": "markdown",
      "metadata": {
        "id": "4U9VVAbaEkud"
      },
      "source": [
        "\n",
        "Let's choose the following regressors for training the model:\n",
        "* LinearRegression\n",
        "* Ridge\n",
        "* DecisionTreeRegressor\n",
        "* CatBoostRegressor\n",
        "* LGBMRegressor\n",
        "\n",
        "As a metric for all models, we will use MSE and convert it to RMSE in the final table. We will check the quality of the models using cross-validation. \n",
        "\n",
        "We will prepare three types of features for cross-validation: \n",
        "* Unmodified. Name: original_features. \n",
        "* Encoded by OHE method. Name: ohe_features. \n",
        "* Encoded by OE method. Name: ordinal_features."
      ]
    },
    {
      "cell_type": "code",
      "execution_count": 44,
      "metadata": {
        "id": "HdxI_OF9NAdT"
      },
      "outputs": [],
      "source": [
        "original_features = data.drop('price', \n",
        "                              axis=1)\n",
        "\n",
        "encoder = OrdinalEncoder()\n",
        "\n",
        "cat_columns = ['vehicle_type',\n",
        "               'fuel_type',\n",
        "               'brand',\n",
        "               'model']\n",
        "\n",
        "cat_features = original_features[cat_columns]\n",
        "cat_features = pd.DataFrame(encoder.fit_transform(cat_features),\n",
        "                            columns=cat_features.columns,\n",
        "                            index=cat_features.index)\n",
        "\n",
        "ordinal_features = original_features.copy()\n",
        "\n",
        "for column in cat_columns:\n",
        "    ordinal_features[column] = cat_features[column]\n",
        "\n",
        "ohe_features = pd.get_dummies(original_features, \n",
        "                              drop_first=True)\n",
        "\n",
        "target = data['price']"
      ]
    },
    {
      "cell_type": "code",
      "execution_count": 45,
      "metadata": {
        "id": "W7fdHeWHNPda"
      },
      "outputs": [],
      "source": [
        "original_features_train, original_features_test, target_train, target_test = train_test_split(\n",
        "    original_features, \n",
        "    target, \n",
        "    test_size=0.25, \n",
        "    random_state=12345)\n",
        "\n",
        "ordinal_features_train = ordinal_features.loc[original_features_train.index, :]\n",
        "ordinal_features_test = ordinal_features.loc[original_features_test.index, :]\n",
        "\n",
        "ohe_features_train = ohe_features.loc[original_features_train.index, :]\n",
        "ohe_features_test = ohe_features.loc[original_features_test.index, :]"
      ]
    },
    {
      "cell_type": "markdown",
      "metadata": {
        "id": "hkBJxKe4_7S-"
      },
      "source": [
        "## 3. Training models."
      ]
    },
    {
      "cell_type": "markdown",
      "metadata": {
        "id": "gVtgn0Iz1n7O"
      },
      "source": [
        "### LinearRegression."
      ]
    },
    {
      "cell_type": "code",
      "execution_count": 46,
      "metadata": {
        "colab": {
          "base_uri": "https://localhost:8080/"
        },
        "id": "hTbRSgoUE0aH",
        "outputId": "9466284c-329e-442b-ad14-2769ff8f63f4"
      },
      "outputs": [
        {
          "output_type": "stream",
          "name": "stdout",
          "text": [
            "RMSE = 2360.25\n",
            "CPU times: user 57.2 s, sys: 7.5 s, total: 1min 4s\n",
            "Wall time: 44.7 s\n"
          ]
        },
        {
          "output_type": "execute_result",
          "data": {
            "text/plain": [
              "44.72357106208801"
            ]
          },
          "metadata": {},
          "execution_count": 46
        }
      ],
      "source": [
        "%%time\n",
        "\n",
        "start_time = time.time()\n",
        "\n",
        "regressor = LinearRegression()\n",
        "\n",
        "cv_RMSE_LR = (cross_val_score(regressor,\n",
        "                              ohe_features_train, \n",
        "                              target_train, \n",
        "                              cv=5, \n",
        "                              scoring='neg_mean_squared_error'\n",
        "                              ).mean() * -1) ** 0.5\n",
        "                              \n",
        "print('RMSE =', round(cv_RMSE_LR, 2))\n",
        "\n",
        "cv_lt_LR  = time.time() - start_time\n",
        "cv_lt_LR"
      ]
    },
    {
      "cell_type": "markdown",
      "metadata": {
        "id": "oKRMvgTZNv2_"
      },
      "source": [
        "Linear regression with scaled features."
      ]
    },
    {
      "cell_type": "code",
      "execution_count": 47,
      "metadata": {
        "colab": {
          "base_uri": "https://localhost:8080/"
        },
        "id": "Lef77tjtNwbh",
        "outputId": "f4e3e442-51ef-4c98-916c-16e73eca3f5a"
      },
      "outputs": [
        {
          "output_type": "stream",
          "name": "stdout",
          "text": [
            "RMSE = 2360.25\n",
            "CPU times: user 1min, sys: 9.67 s, total: 1min 10s\n",
            "Wall time: 51.7 s\n"
          ]
        }
      ],
      "source": [
        "%%time\n",
        "\n",
        "regressor = LinearRegression()\n",
        "scaller = StandardScaler()\n",
        "pipeline = Pipeline([(\"standard_scaller\", scaller),\n",
        "                     (\"linear_regression\", regressor)])\n",
        "\n",
        "cv_RMSE_LR_S = (cross_val_score(pipeline,\n",
        "                                ohe_features_train, \n",
        "                                target_train, \n",
        "                                cv=5, \n",
        "                                scoring='neg_mean_squared_error'\n",
        "                                ).mean() * -1) ** 0.5\n",
        "\n",
        "print('RMSE =', round(cv_RMSE_LR_S, 2))"
      ]
    },
    {
      "cell_type": "markdown",
      "metadata": {
        "id": "04cDXI4MTIUi"
      },
      "source": [
        "Scaling the features is not significant, but it worsens the model. We will refrain from using scaling."
      ]
    },
    {
      "cell_type": "markdown",
      "metadata": {
        "id": "YPcCcJo9TRwr"
      },
      "source": [
        "### Ridge regression."
      ]
    },
    {
      "cell_type": "code",
      "execution_count": 48,
      "metadata": {
        "colab": {
          "base_uri": "https://localhost:8080/"
        },
        "id": "esqkjyzITmnC",
        "outputId": "d5fe62a0-d749-4594-984d-23c8295229de"
      },
      "outputs": [
        {
          "output_type": "stream",
          "name": "stdout",
          "text": [
            "Best hyperparameters:\n",
            "\n",
            "{'solver': 'auto'}\n",
            "\n",
            "RMSE for hiperparameters:\n",
            "\n",
            "2360.177062 for {'solver': 'auto'}\n",
            "2360.177062 for {'solver': 'svd'}\n",
            "2360.177062 for {'solver': 'cholesky'}\n",
            "3348.398422 for {'solver': 'lsqr'}\n",
            "2869.400590 for {'solver': 'sparse_cg'}\n",
            "\n",
            "RMSE = 2360.18\n",
            "CPU times: user 2min 9s, sys: 20.3 s, total: 2min 29s\n",
            "Wall time: 1min 39s\n"
          ]
        },
        {
          "output_type": "execute_result",
          "data": {
            "text/plain": [
              "99.94395852088928"
            ]
          },
          "metadata": {},
          "execution_count": 48
        }
      ],
      "source": [
        "%%time\n",
        "\n",
        "start_time = time.time()\n",
        "\n",
        "regressor = Ridge()\n",
        "hyperparams = [{'solver':['auto', 'svd', 'cholesky', 'lsqr','sparse_cg']}]\n",
        "\n",
        "clf = GridSearchCV(regressor, \n",
        "                   hyperparams, \n",
        "                   scoring='neg_mean_squared_error')\n",
        "\n",
        "clf.fit(ohe_features_train, target_train)\n",
        "\n",
        "print('Best hyperparameters:')\n",
        "print()\n",
        "print(clf.best_params_)\n",
        "print()\n",
        "print('RMSE for hiperparameters:')\n",
        "print()\n",
        "\n",
        "means = clf.cv_results_['mean_test_score']\n",
        "stds = clf.cv_results_['std_test_score']\n",
        "\n",
        "for mean, std, params in zip(means, stds, clf.cv_results_['params']):\n",
        "    print('%0.6f for %r'% ((mean*-1)** 0.5, params))\n",
        "print()\n",
        "\n",
        "cv_RMSE_R = (max(means)*-1) ** 0.5\n",
        "print('RMSE =', round(cv_RMSE_R, 2))\n",
        "\n",
        "cv_lt_R  = time.time() - start_time\n",
        "cv_lt_R"
      ]
    },
    {
      "cell_type": "markdown",
      "metadata": {
        "id": "m1FMWSBMTUuk"
      },
      "source": [
        "### DecisionTreeRegressor."
      ]
    },
    {
      "cell_type": "markdown",
      "metadata": {
        "id": "fWFAKTP-WIzu"
      },
      "source": [
        "Let's perform two experiments: \n",
        "* We will test the model on features encoded by the OHE method. \n",
        "* On features encoded by the OE method."
      ]
    },
    {
      "cell_type": "code",
      "execution_count": 49,
      "metadata": {
        "id": "28ShtH7qWFnq",
        "outputId": "aeca057b-deaf-4646-812b-c7a9400e52fc",
        "colab": {
          "base_uri": "https://localhost:8080/"
        }
      },
      "outputs": [
        {
          "output_type": "stream",
          "name": "stdout",
          "text": [
            "Best hyperparameters:\n",
            "\n",
            "{'criterion': 'squared_error', 'max_depth': 19, 'random_state': 12345}\n",
            "\n",
            "RMSE for hiperparameters:\n",
            "\n",
            "3119.988825 for {'criterion': 'squared_error', 'max_depth': 2, 'random_state': 12345}\n",
            "2833.998554 for {'criterion': 'squared_error', 'max_depth': 3, 'random_state': 12345}\n",
            "2516.348661 for {'criterion': 'squared_error', 'max_depth': 4, 'random_state': 12345}\n",
            "2338.993330 for {'criterion': 'squared_error', 'max_depth': 5, 'random_state': 12345}\n",
            "2189.578775 for {'criterion': 'squared_error', 'max_depth': 6, 'random_state': 12345}\n",
            "2096.906245 for {'criterion': 'squared_error', 'max_depth': 7, 'random_state': 12345}\n",
            "2012.538201 for {'criterion': 'squared_error', 'max_depth': 8, 'random_state': 12345}\n",
            "1956.829088 for {'criterion': 'squared_error', 'max_depth': 9, 'random_state': 12345}\n",
            "1909.504169 for {'criterion': 'squared_error', 'max_depth': 10, 'random_state': 12345}\n",
            "1864.517987 for {'criterion': 'squared_error', 'max_depth': 11, 'random_state': 12345}\n",
            "1827.905817 for {'criterion': 'squared_error', 'max_depth': 12, 'random_state': 12345}\n",
            "1797.001098 for {'criterion': 'squared_error', 'max_depth': 13, 'random_state': 12345}\n",
            "1776.511060 for {'criterion': 'squared_error', 'max_depth': 14, 'random_state': 12345}\n",
            "1761.957448 for {'criterion': 'squared_error', 'max_depth': 15, 'random_state': 12345}\n",
            "1753.782594 for {'criterion': 'squared_error', 'max_depth': 16, 'random_state': 12345}\n",
            "1747.264151 for {'criterion': 'squared_error', 'max_depth': 17, 'random_state': 12345}\n",
            "1746.573802 for {'criterion': 'squared_error', 'max_depth': 18, 'random_state': 12345}\n",
            "1744.642119 for {'criterion': 'squared_error', 'max_depth': 19, 'random_state': 12345}\n",
            "1746.742996 for {'criterion': 'squared_error', 'max_depth': 20, 'random_state': 12345}\n",
            "1750.667103 for {'criterion': 'squared_error', 'max_depth': 21, 'random_state': 12345}\n",
            "1749.822563 for {'criterion': 'squared_error', 'max_depth': 22, 'random_state': 12345}\n",
            "1752.395452 for {'criterion': 'squared_error', 'max_depth': 23, 'random_state': 12345}\n",
            "1751.343673 for {'criterion': 'squared_error', 'max_depth': 24, 'random_state': 12345}\n",
            "1760.428371 for {'criterion': 'squared_error', 'max_depth': 25, 'random_state': 12345}\n",
            "1757.065306 for {'criterion': 'squared_error', 'max_depth': 26, 'random_state': 12345}\n",
            "1760.664943 for {'criterion': 'squared_error', 'max_depth': 27, 'random_state': 12345}\n",
            "1758.935503 for {'criterion': 'squared_error', 'max_depth': 28, 'random_state': 12345}\n",
            "1763.513950 for {'criterion': 'squared_error', 'max_depth': 29, 'random_state': 12345}\n",
            "1763.543780 for {'criterion': 'squared_error', 'max_depth': 30, 'random_state': 12345}\n",
            "\n",
            "RMSE = 1744.64\n",
            "CPU times: user 11min 31s, sys: 26 s, total: 11min 57s\n",
            "Wall time: 11min 58s\n"
          ]
        },
        {
          "output_type": "execute_result",
          "data": {
            "text/plain": [
              "718.5460839271545"
            ]
          },
          "metadata": {},
          "execution_count": 49
        }
      ],
      "source": [
        "%%time\n",
        "\n",
        "start_time = time.time()\n",
        "\n",
        "regressor = DecisionTreeRegressor()\n",
        "max_depth_list = [x for x in range(2, 31)]\n",
        "\n",
        "hyperparams = [{'criterion':['squared_error'], \n",
        "                'max_depth':max_depth_list, \n",
        "                'random_state':[12345]}]\n",
        "\n",
        "clf = GridSearchCV(regressor, \n",
        "                   hyperparams, \n",
        "                   scoring='neg_mean_squared_error')\n",
        "\n",
        "clf.fit(ohe_features_train, target_train)\n",
        "\n",
        "print('Best hyperparameters:')\n",
        "print()\n",
        "print(clf.best_params_)\n",
        "print()\n",
        "print('RMSE for hiperparameters:')\n",
        "print()\n",
        "\n",
        "means = clf.cv_results_['mean_test_score']\n",
        "stds = clf.cv_results_['std_test_score']\n",
        "\n",
        "for mean, std, params in zip(means, stds, clf.cv_results_['params']):\n",
        "    print('%0.6f for %r'% ((mean*-1)** 0.5, params))\n",
        "print()\n",
        "\n",
        "cv_RMSE_DTR_ohe = (max(means)*-1) ** 0.5\n",
        "print('RMSE =', round(cv_RMSE_DTR_ohe, 2))\n",
        "\n",
        "cv_lt_DTR_ohe  = time.time() - start_time\n",
        "cv_lt_DTR_ohe"
      ]
    },
    {
      "cell_type": "code",
      "execution_count": 50,
      "metadata": {
        "id": "evg8wlQeWty6",
        "outputId": "b1feb50c-01f0-4e37-9a16-794718d8edbb",
        "colab": {
          "base_uri": "https://localhost:8080/"
        }
      },
      "outputs": [
        {
          "output_type": "stream",
          "name": "stdout",
          "text": [
            "Best hyperparameters:\n",
            "\n",
            "{'criterion': 'squared_error', 'max_depth': 15, 'random_state': 12345}\n",
            "\n",
            "RMSE for hiperparameters:\n",
            "\n",
            "3119.988825 for {'criterion': 'squared_error', 'max_depth': 2, 'random_state': 12345}\n",
            "2833.998554 for {'criterion': 'squared_error', 'max_depth': 3, 'random_state': 12345}\n",
            "2514.162567 for {'criterion': 'squared_error', 'max_depth': 4, 'random_state': 12345}\n",
            "2334.808554 for {'criterion': 'squared_error', 'max_depth': 5, 'random_state': 12345}\n",
            "2194.065218 for {'criterion': 'squared_error', 'max_depth': 6, 'random_state': 12345}\n",
            "2096.411179 for {'criterion': 'squared_error', 'max_depth': 7, 'random_state': 12345}\n",
            "2019.089438 for {'criterion': 'squared_error', 'max_depth': 8, 'random_state': 12345}\n",
            "1953.067336 for {'criterion': 'squared_error', 'max_depth': 9, 'random_state': 12345}\n",
            "1902.587855 for {'criterion': 'squared_error', 'max_depth': 10, 'random_state': 12345}\n",
            "1854.344964 for {'criterion': 'squared_error', 'max_depth': 11, 'random_state': 12345}\n",
            "1822.206819 for {'criterion': 'squared_error', 'max_depth': 12, 'random_state': 12345}\n",
            "1801.048122 for {'criterion': 'squared_error', 'max_depth': 13, 'random_state': 12345}\n",
            "1790.568142 for {'criterion': 'squared_error', 'max_depth': 14, 'random_state': 12345}\n",
            "1786.514772 for {'criterion': 'squared_error', 'max_depth': 15, 'random_state': 12345}\n",
            "1790.265025 for {'criterion': 'squared_error', 'max_depth': 16, 'random_state': 12345}\n",
            "1794.593943 for {'criterion': 'squared_error', 'max_depth': 17, 'random_state': 12345}\n",
            "1800.084061 for {'criterion': 'squared_error', 'max_depth': 18, 'random_state': 12345}\n",
            "1812.571715 for {'criterion': 'squared_error', 'max_depth': 19, 'random_state': 12345}\n",
            "1820.970359 for {'criterion': 'squared_error', 'max_depth': 20, 'random_state': 12345}\n",
            "1825.020520 for {'criterion': 'squared_error', 'max_depth': 21, 'random_state': 12345}\n",
            "1832.102488 for {'criterion': 'squared_error', 'max_depth': 22, 'random_state': 12345}\n",
            "1833.550372 for {'criterion': 'squared_error', 'max_depth': 23, 'random_state': 12345}\n",
            "1833.506442 for {'criterion': 'squared_error', 'max_depth': 24, 'random_state': 12345}\n",
            "1838.426256 for {'criterion': 'squared_error', 'max_depth': 25, 'random_state': 12345}\n",
            "1840.481248 for {'criterion': 'squared_error', 'max_depth': 26, 'random_state': 12345}\n",
            "1840.801800 for {'criterion': 'squared_error', 'max_depth': 27, 'random_state': 12345}\n",
            "1844.301057 for {'criterion': 'squared_error', 'max_depth': 28, 'random_state': 12345}\n",
            "1841.655216 for {'criterion': 'squared_error', 'max_depth': 29, 'random_state': 12345}\n",
            "1840.382252 for {'criterion': 'squared_error', 'max_depth': 30, 'random_state': 12345}\n",
            "\n",
            "RMSE = 1786.51\n",
            "CPU times: user 1min 22s, sys: 88.9 ms, total: 1min 22s\n",
            "Wall time: 1min 22s\n"
          ]
        },
        {
          "output_type": "execute_result",
          "data": {
            "text/plain": [
              "82.80600571632385"
            ]
          },
          "metadata": {},
          "execution_count": 50
        }
      ],
      "source": [
        "%%time\n",
        "\n",
        "start_time = time.time()\n",
        "\n",
        "regressor = DecisionTreeRegressor() \n",
        "max_depth_list = [x for x in range(2, 31)]\n",
        "\n",
        "hyperparams = [{'criterion':['squared_error'], \n",
        "                'max_depth':max_depth_list, \n",
        "                'random_state':[12345]}]\n",
        "\n",
        "clf = GridSearchCV(regressor, \n",
        "                   hyperparams, \n",
        "                   scoring='neg_mean_squared_error')\n",
        "\n",
        "clf.fit(ordinal_features_train, target_train)\n",
        "\n",
        "print('Best hyperparameters:')\n",
        "print()\n",
        "print(clf.best_params_)\n",
        "print()\n",
        "print('RMSE for hiperparameters:')\n",
        "print()\n",
        "\n",
        "means = clf.cv_results_['mean_test_score']\n",
        "stds = clf.cv_results_['std_test_score']\n",
        "\n",
        "for mean, std, params in zip(means, stds, clf.cv_results_['params']):\n",
        "    print(\"%0.6f for %r\"% ((mean*-1)** 0.5, params))\n",
        "print()\n",
        "\n",
        "cv_RMSE_DTR_ordinal = (max(means)*-1) ** 0.5\n",
        "print('RMSE =', round(cv_RMSE_DTR_ordinal, 2))\n",
        "\n",
        "cv_lt_DTR_ordinal  = time.time() - start_time\n",
        "cv_lt_DTR_ordinal"
      ]
    },
    {
      "cell_type": "markdown",
      "metadata": {
        "id": "37OpuPrRXCu7"
      },
      "source": [
        "### CatBoostRegressor."
      ]
    },
    {
      "cell_type": "markdown",
      "metadata": {
        "id": "5raCwpoWXFiU"
      },
      "source": [
        "Let's conduct two experiments.\n",
        "* Train a model on data encoded using the OE method.\n",
        "* Train on original data with specified categories."
      ]
    },
    {
      "cell_type": "code",
      "execution_count": 51,
      "metadata": {
        "id": "W1ciObZrXKZs",
        "outputId": "8340a251-7c1f-43c6-ddc3-75986ac15ba6",
        "colab": {
          "base_uri": "https://localhost:8080/"
        }
      },
      "outputs": [
        {
          "output_type": "stream",
          "name": "stdout",
          "text": [
            "Best hyperparameters:\n",
            "\n",
            "{'learning_rate': 0.5, 'random_state': 12345, 'verbose': False}\n",
            "\n",
            "RMSE for hiperparameters:\n",
            "\n",
            "1544.407420 for {'learning_rate': 0.1, 'random_state': 12345, 'verbose': False}\n",
            "1510.557739 for {'learning_rate': 0.5, 'random_state': 12345, 'verbose': False}\n",
            "1527.865072 for {'learning_rate': 0.8, 'random_state': 12345, 'verbose': False}\n",
            "\n",
            "RMSE = 1510.56\n",
            "CPU times: user 12min 16s, sys: 32.8 s, total: 12min 49s\n",
            "Wall time: 7min 24s\n"
          ]
        },
        {
          "output_type": "execute_result",
          "data": {
            "text/plain": [
              "444.62562227249146"
            ]
          },
          "metadata": {},
          "execution_count": 51
        }
      ],
      "source": [
        "%%time\n",
        "\n",
        "start_time = time.time()\n",
        "\n",
        "regressor = CatBoostRegressor() \n",
        "hyperparams = [{'learning_rate':[0.1, 0.5, 0.8],\n",
        "                'random_state':[12345],\n",
        "                'verbose':[False]}]\n",
        "\n",
        "clf = GridSearchCV(regressor, \n",
        "                   hyperparams, \n",
        "                   scoring='neg_mean_squared_error')\n",
        "\n",
        "clf.fit(ordinal_features_train, target_train)\n",
        "\n",
        "print('Best hyperparameters:')\n",
        "print()\n",
        "print(clf.best_params_)\n",
        "print()\n",
        "print('RMSE for hiperparameters:')\n",
        "print()\n",
        "\n",
        "means = clf.cv_results_['mean_test_score']\n",
        "stds = clf.cv_results_['std_test_score']\n",
        "\n",
        "for mean, std, params in zip(means, stds, clf.cv_results_['params']):\n",
        "    print('%0.6f for %r'% ((mean*-1)** 0.5, params))\n",
        "print()\n",
        "\n",
        "cv_RMSE_CBR_ordinal = (max(means)*-1) ** 0.5\n",
        "print('RMSE =', round(cv_RMSE_CBR_ordinal, 2))\n",
        "\n",
        "cv_lt_CBR_ordinal  = time.time() - start_time\n",
        "cv_lt_CBR_ordinal"
      ]
    },
    {
      "cell_type": "code",
      "execution_count": 52,
      "metadata": {
        "id": "Tcu_uKmLYBQn",
        "outputId": "41c638f7-4547-4a9a-e701-d94c05ac7c31",
        "colab": {
          "base_uri": "https://localhost:8080/"
        }
      },
      "outputs": [
        {
          "output_type": "stream",
          "name": "stdout",
          "text": [
            "RMSE = 1560.49\n",
            "CPU times: user 4min 6s, sys: 3.49 s, total: 4min 10s\n",
            "Wall time: 2min 26s\n"
          ]
        },
        {
          "output_type": "execute_result",
          "data": {
            "text/plain": [
              "146.99048328399658"
            ]
          },
          "metadata": {},
          "execution_count": 52
        }
      ],
      "source": [
        "%%time\n",
        "\n",
        "start_time = time.time()\n",
        "\n",
        "regressor = CatBoostRegressor(learning_rate=0.5,\n",
        "                              iterations = 200,\n",
        "                              random_state=12345, \n",
        "                              verbose=False, \n",
        "                              cat_features=['vehicle_type','fuel_type','brand','model']) \n",
        "\n",
        "cv_RMSE_CBR_original = (cross_val_score(regressor,\n",
        "                                        original_features_train, \n",
        "                                        target_train,\n",
        "                                        cv=5, \n",
        "                                        scoring='neg_mean_squared_error'\n",
        "                                        ).mean() * -1) ** 0.5\n",
        "                                        \n",
        "print('RMSE =', round(cv_RMSE_CBR_original, 2))\n",
        "\n",
        "cv_lt_CBR_original  = time.time() - start_time\n",
        "cv_lt_CBR_original"
      ]
    },
    {
      "cell_type": "markdown",
      "metadata": {
        "id": "Qt277K3jYLP9"
      },
      "source": [
        "### LGBMRegressor."
      ]
    },
    {
      "cell_type": "code",
      "execution_count": 53,
      "metadata": {
        "id": "4ZYL0dTn7OyU",
        "outputId": "c90745b8-1b90-4ce3-ee16-9226244b6ade",
        "colab": {
          "base_uri": "https://localhost:8080/"
        }
      },
      "outputs": [
        {
          "output_type": "stream",
          "name": "stdout",
          "text": [
            "Best hyperparameters:\n",
            "\n",
            "{'learning_rate': 0.3, 'num_leaves': 200, 'random_state': 12345}\n",
            "\n",
            "RMSE for hiperparameters:\n",
            "\n",
            "1634.650561 for {'learning_rate': 0.1, 'num_leaves': 31, 'random_state': 12345}\n",
            "1541.890285 for {'learning_rate': 0.1, 'num_leaves': 100, 'random_state': 12345}\n",
            "1505.395749 for {'learning_rate': 0.1, 'num_leaves': 200, 'random_state': 12345}\n",
            "1567.380660 for {'learning_rate': 0.3, 'num_leaves': 31, 'random_state': 12345}\n",
            "1509.870348 for {'learning_rate': 0.3, 'num_leaves': 100, 'random_state': 12345}\n",
            "1493.348753 for {'learning_rate': 0.3, 'num_leaves': 200, 'random_state': 12345}\n",
            "1559.284815 for {'learning_rate': 0.5, 'num_leaves': 31, 'random_state': 12345}\n",
            "1523.611869 for {'learning_rate': 0.5, 'num_leaves': 100, 'random_state': 12345}\n",
            "1516.997240 for {'learning_rate': 0.5, 'num_leaves': 200, 'random_state': 12345}\n",
            "\n",
            "RMSE = 1493.35\n",
            "CPU times: user 3min 5s, sys: 2.9 s, total: 3min 8s\n",
            "Wall time: 1min 53s\n"
          ]
        },
        {
          "output_type": "execute_result",
          "data": {
            "text/plain": [
              "113.79572677612305"
            ]
          },
          "metadata": {},
          "execution_count": 53
        }
      ],
      "source": [
        "%%time\n",
        "\n",
        "start_time = time.time()\n",
        "\n",
        "regressor = LGBMRegressor() \n",
        "hyperparams = [{'num_leaves':[31, 100, 200], \n",
        "                'learning_rate':[0.1, 0.3, 0.5],\n",
        "                'random_state':[12345]}]\n",
        "\n",
        "clf = GridSearchCV(regressor, \n",
        "                   hyperparams, \n",
        "                   scoring='neg_mean_squared_error')\n",
        "\n",
        "clf.fit(ordinal_features_train, target_train)\n",
        "\n",
        "print('Best hyperparameters:')\n",
        "print()\n",
        "print(clf.best_params_)\n",
        "print()\n",
        "print('RMSE for hiperparameters:')\n",
        "print()\n",
        "\n",
        "means = clf.cv_results_['mean_test_score']\n",
        "stds = clf.cv_results_['std_test_score']\n",
        "\n",
        "for mean, std, params in zip(means, stds, clf.cv_results_['params']):\n",
        "    print('%0.6f for %r'% ((mean*-1)** 0.5, params))\n",
        "print()\n",
        "\n",
        "cv_RMSE_LGBMR = (max(means)*-1) ** 0.5\n",
        "print('RMSE =', round(cv_RMSE_LGBMR, 2))\n",
        "\n",
        "cv_lt_LGBMR  = time.time() - start_time\n",
        "cv_lt_LGBMR"
      ]
    },
    {
      "cell_type": "markdown",
      "metadata": {
        "id": "QX1x2dPL7OyV"
      },
      "source": [
        "## 4. Model analysis."
      ]
    },
    {
      "cell_type": "markdown",
      "metadata": {
        "id": "rFtCfxUC7OyV"
      },
      "source": [
        "We will train each model with the best hyperparameters."
      ]
    },
    {
      "cell_type": "markdown",
      "metadata": {
        "id": "xnYxWfa47OyV"
      },
      "source": [
        "### LinearRegression."
      ]
    },
    {
      "cell_type": "code",
      "execution_count": 54,
      "metadata": {
        "id": "2PDfvFIx7OyV",
        "outputId": "fdc9a310-9ea4-42c2-8bd9-1e6b942252b0",
        "colab": {
          "base_uri": "https://localhost:8080/"
        }
      },
      "outputs": [
        {
          "output_type": "stream",
          "name": "stdout",
          "text": [
            "CPU times: user 14.4 s, sys: 2.2 s, total: 16.6 s\n",
            "Wall time: 10.9 s\n"
          ]
        },
        {
          "output_type": "execute_result",
          "data": {
            "text/plain": [
              "10.91646122932434"
            ]
          },
          "metadata": {},
          "execution_count": 54
        }
      ],
      "source": [
        "%%time\n",
        "\n",
        "start_time = time.time()\n",
        "\n",
        "model = LinearRegression()\n",
        "model.fit(ohe_features_train, target_train)\n",
        "\n",
        "lt_LR  = time.time() - start_time\n",
        "lt_LR"
      ]
    },
    {
      "cell_type": "code",
      "execution_count": 55,
      "metadata": {
        "id": "74qK0L9M7OyV",
        "outputId": "64a4d0f7-21d9-4463-dbad-be3ce3604a67",
        "colab": {
          "base_uri": "https://localhost:8080/"
        }
      },
      "outputs": [
        {
          "output_type": "stream",
          "name": "stdout",
          "text": [
            "CPU times: user 314 ms, sys: 220 ms, total: 534 ms\n",
            "Wall time: 450 ms\n"
          ]
        },
        {
          "output_type": "execute_result",
          "data": {
            "text/plain": [
              "0.44963908195495605"
            ]
          },
          "metadata": {},
          "execution_count": 55
        }
      ],
      "source": [
        "%%time\n",
        "\n",
        "start_time = time.time()\n",
        "\n",
        "target_predict = model.predict(ohe_features_train)\n",
        "\n",
        "pt_LR  = time.time() - start_time\n",
        "pt_LR"
      ]
    },
    {
      "cell_type": "code",
      "execution_count": 56,
      "metadata": {
        "id": "rAQwnwXG7OyV"
      },
      "outputs": [],
      "source": [
        "final_RMSE_LR = mean_squared_error(target_train, target_predict) ** 0.5"
      ]
    },
    {
      "cell_type": "markdown",
      "metadata": {
        "id": "aT_b2LMU7OyV"
      },
      "source": [
        "### Ridge."
      ]
    },
    {
      "cell_type": "code",
      "execution_count": 57,
      "metadata": {
        "id": "6XXzeb_X7OyV",
        "outputId": "81cebfca-a52c-4594-fb11-9b61d21f673b",
        "colab": {
          "base_uri": "https://localhost:8080/"
        }
      },
      "outputs": [
        {
          "output_type": "stream",
          "name": "stdout",
          "text": [
            "CPU times: user 22.5 s, sys: 2.45 s, total: 24.9 s\n",
            "Wall time: 15.1 s\n"
          ]
        },
        {
          "output_type": "execute_result",
          "data": {
            "text/plain": [
              "15.074637413024902"
            ]
          },
          "metadata": {},
          "execution_count": 57
        }
      ],
      "source": [
        "%%time\n",
        "\n",
        "start_time = time.time()\n",
        "\n",
        "model = Ridge(solver='svd')\n",
        "model.fit(ohe_features_train, target_train)\n",
        "\n",
        "lt_R  = time.time() - start_time\n",
        "lt_R"
      ]
    },
    {
      "cell_type": "code",
      "execution_count": 58,
      "metadata": {
        "id": "N1uPkH3H7OyW",
        "outputId": "610576c8-37eb-443d-836d-c68d2ec376af",
        "colab": {
          "base_uri": "https://localhost:8080/"
        }
      },
      "outputs": [
        {
          "output_type": "stream",
          "name": "stdout",
          "text": [
            "CPU times: user 344 ms, sys: 246 ms, total: 590 ms\n",
            "Wall time: 471 ms\n"
          ]
        },
        {
          "output_type": "execute_result",
          "data": {
            "text/plain": [
              "0.4710958003997803"
            ]
          },
          "metadata": {},
          "execution_count": 58
        }
      ],
      "source": [
        "%%time\n",
        "\n",
        "start_time = time.time()\n",
        "\n",
        "target_predict = model.predict(ohe_features_train)\n",
        "\n",
        "pt_R  = time.time() - start_time\n",
        "pt_R"
      ]
    },
    {
      "cell_type": "code",
      "execution_count": 59,
      "metadata": {
        "id": "8j8IcF2p7OyW"
      },
      "outputs": [],
      "source": [
        "final_RMSE_R = mean_squared_error(target_train, target_predict) ** 0.5"
      ]
    },
    {
      "cell_type": "markdown",
      "metadata": {
        "id": "k8gooYJ67OyW"
      },
      "source": [
        "### DecisionTreeRegressor."
      ]
    },
    {
      "cell_type": "code",
      "execution_count": 60,
      "metadata": {
        "id": "Xp0smUg37OyW",
        "outputId": "efaa9f31-79b7-45d8-f44b-50cc1f299641",
        "colab": {
          "base_uri": "https://localhost:8080/"
        }
      },
      "outputs": [
        {
          "output_type": "stream",
          "name": "stdout",
          "text": [
            "CPU times: user 6.45 s, sys: 173 ms, total: 6.63 s\n",
            "Wall time: 6.62 s\n"
          ]
        },
        {
          "output_type": "execute_result",
          "data": {
            "text/plain": [
              "6.62150764465332"
            ]
          },
          "metadata": {},
          "execution_count": 60
        }
      ],
      "source": [
        "%%time\n",
        "\n",
        "start_time = time.time()\n",
        "\n",
        "model = DecisionTreeRegressor(criterion='squared_error', \n",
        "                              max_depth=15, \n",
        "                              random_state=12345)\n",
        " \n",
        "model.fit(ohe_features_train, target_train)\n",
        "\n",
        "lt_DTR_ohe  = time.time() - start_time\n",
        "lt_DTR_ohe"
      ]
    },
    {
      "cell_type": "code",
      "execution_count": 61,
      "metadata": {
        "id": "2ZYDsC547OyW",
        "outputId": "492114c2-26d3-4bed-d25c-320dfc28b2fa",
        "colab": {
          "base_uri": "https://localhost:8080/"
        }
      },
      "outputs": [
        {
          "output_type": "stream",
          "name": "stdout",
          "text": [
            "CPU times: user 144 ms, sys: 99.8 ms, total: 244 ms\n",
            "Wall time: 244 ms\n"
          ]
        },
        {
          "output_type": "execute_result",
          "data": {
            "text/plain": [
              "0.2438950538635254"
            ]
          },
          "metadata": {},
          "execution_count": 61
        }
      ],
      "source": [
        "%%time\n",
        "\n",
        "start_time = time.time()\n",
        "\n",
        "target_predict = model.predict(ohe_features_train)\n",
        "\n",
        "pt_DTR_ohe  = time.time() - start_time\n",
        "pt_DTR_ohe"
      ]
    },
    {
      "cell_type": "code",
      "execution_count": 62,
      "metadata": {
        "id": "jWHqP0I-7OyW"
      },
      "outputs": [],
      "source": [
        "final_RMSE_DTR_ohe = mean_squared_error(target_train, target_predict) ** 0.5 "
      ]
    },
    {
      "cell_type": "code",
      "execution_count": 63,
      "metadata": {
        "id": "bN3AYKAn7OyW",
        "outputId": "b0622ed1-4066-42cd-f4b1-ba2b80fa2396",
        "colab": {
          "base_uri": "https://localhost:8080/"
        }
      },
      "outputs": [
        {
          "output_type": "stream",
          "name": "stdout",
          "text": [
            "CPU times: user 681 ms, sys: 1.08 ms, total: 682 ms\n",
            "Wall time: 693 ms\n"
          ]
        },
        {
          "output_type": "execute_result",
          "data": {
            "text/plain": [
              "0.6926167011260986"
            ]
          },
          "metadata": {},
          "execution_count": 63
        }
      ],
      "source": [
        "%%time\n",
        "\n",
        "start_time = time.time()\n",
        "\n",
        "model = DecisionTreeRegressor(criterion='squared_error', \n",
        "                              max_depth=13, \n",
        "                              random_state=12345) \n",
        "\n",
        "model.fit(ordinal_features_train, target_train)\n",
        "\n",
        "lt_DTR_ordinal  = time.time() - start_time\n",
        "lt_DTR_ordinal"
      ]
    },
    {
      "cell_type": "code",
      "execution_count": 64,
      "metadata": {
        "id": "WkqGs2rR7OyW",
        "outputId": "e619b083-a7d4-43ef-cc85-7a2d207a5f0f",
        "colab": {
          "base_uri": "https://localhost:8080/"
        }
      },
      "outputs": [
        {
          "output_type": "stream",
          "name": "stdout",
          "text": [
            "CPU times: user 48.6 ms, sys: 0 ns, total: 48.6 ms\n",
            "Wall time: 54.3 ms\n"
          ]
        },
        {
          "output_type": "execute_result",
          "data": {
            "text/plain": [
              "0.05417799949645996"
            ]
          },
          "metadata": {},
          "execution_count": 64
        }
      ],
      "source": [
        "%%time\n",
        "\n",
        "start_time = time.time()\n",
        "\n",
        "target_predict = model.predict(ordinal_features_train)\n",
        "\n",
        "pt_DTR_ordinal  = time.time() - start_time\n",
        "pt_DTR_ordinal"
      ]
    },
    {
      "cell_type": "code",
      "execution_count": 65,
      "metadata": {
        "id": "dYLMMeAQ7OyX"
      },
      "outputs": [],
      "source": [
        "final_RMSE_DTR_ordinal = mean_squared_error(target_train, target_predict) ** 0.5"
      ]
    },
    {
      "cell_type": "markdown",
      "metadata": {
        "id": "9f5EuEy-7OyX"
      },
      "source": [
        "### CatBoostRegressor."
      ]
    },
    {
      "cell_type": "code",
      "execution_count": 66,
      "metadata": {
        "id": "7uYMLz1M7OyX",
        "outputId": "e77e9564-e370-4c19-ba2d-fc2ebda3a8d4",
        "colab": {
          "base_uri": "https://localhost:8080/"
        }
      },
      "outputs": [
        {
          "output_type": "stream",
          "name": "stdout",
          "text": [
            "CPU times: user 56.4 s, sys: 2.75 s, total: 59.1 s\n",
            "Wall time: 36.4 s\n"
          ]
        },
        {
          "output_type": "execute_result",
          "data": {
            "text/plain": [
              "36.3613817691803"
            ]
          },
          "metadata": {},
          "execution_count": 66
        }
      ],
      "source": [
        "%%time\n",
        "\n",
        "start_time = time.time()\n",
        "\n",
        "model = CatBoostRegressor(learning_rate=0.5, \n",
        "                          random_state=12345, \n",
        "                          verbose=False) \n",
        "\n",
        "model.fit(ordinal_features_train, target_train)\n",
        "\n",
        "lt_CBR_ordinal = time.time() - start_time\n",
        "lt_CBR_ordinal"
      ]
    },
    {
      "cell_type": "code",
      "execution_count": 67,
      "metadata": {
        "id": "iyerQqDI7OyX",
        "outputId": "c2b265f8-66c4-4813-f455-07e75847988f",
        "colab": {
          "base_uri": "https://localhost:8080/"
        }
      },
      "outputs": [
        {
          "output_type": "stream",
          "name": "stdout",
          "text": [
            "CPU times: user 442 ms, sys: 9.74 ms, total: 452 ms\n",
            "Wall time: 254 ms\n"
          ]
        },
        {
          "output_type": "execute_result",
          "data": {
            "text/plain": [
              "0.2536592483520508"
            ]
          },
          "metadata": {},
          "execution_count": 67
        }
      ],
      "source": [
        "%%time\n",
        "\n",
        "start_time = time.time()\n",
        "\n",
        "target_predict = model.predict(ordinal_features_train)\n",
        "\n",
        "pt_CBR_ordinal = time.time() - start_time\n",
        "pt_CBR_ordinal"
      ]
    },
    {
      "cell_type": "code",
      "execution_count": 68,
      "metadata": {
        "id": "1-CKBz2q7OyX"
      },
      "outputs": [],
      "source": [
        "final_RMSE_CBR_ordinal = mean_squared_error(target_train, target_predict) ** 0.5"
      ]
    },
    {
      "cell_type": "code",
      "execution_count": 69,
      "metadata": {
        "id": "7vrH2Xtk7OyY",
        "outputId": "5329fb9e-12b4-4117-f17c-9dcf213b0492",
        "colab": {
          "base_uri": "https://localhost:8080/"
        }
      },
      "outputs": [
        {
          "output_type": "stream",
          "name": "stdout",
          "text": [
            "CPU times: user 1min 2s, sys: 612 ms, total: 1min 3s\n",
            "Wall time: 38.8 s\n"
          ]
        },
        {
          "output_type": "execute_result",
          "data": {
            "text/plain": [
              "38.76976227760315"
            ]
          },
          "metadata": {},
          "execution_count": 69
        }
      ],
      "source": [
        "%%time\n",
        "\n",
        "start_time = time.time()\n",
        "\n",
        "model = CatBoostRegressor(learning_rate=0.5, \n",
        "                          iterations = 200, \n",
        "                          random_state=12345, \n",
        "                          verbose=False,\n",
        "                          cat_features=['vehicle_type','fuel_type','brand','model']) \n",
        "\n",
        "model.fit(original_features_train, target_train)\n",
        "\n",
        "lt_CBR_original = time.time() - start_time\n",
        "lt_CBR_original"
      ]
    },
    {
      "cell_type": "code",
      "execution_count": 70,
      "metadata": {
        "id": "FUXond3j7OyY",
        "outputId": "d31a0286-6a78-4263-d76a-c40eed375068",
        "colab": {
          "base_uri": "https://localhost:8080/"
        }
      },
      "outputs": [
        {
          "output_type": "stream",
          "name": "stdout",
          "text": [
            "CPU times: user 808 ms, sys: 7.05 ms, total: 815 ms\n",
            "Wall time: 512 ms\n"
          ]
        },
        {
          "output_type": "execute_result",
          "data": {
            "text/plain": [
              "0.5123124122619629"
            ]
          },
          "metadata": {},
          "execution_count": 70
        }
      ],
      "source": [
        "%%time\n",
        "\n",
        "start_time = time.time()\n",
        "\n",
        "target_predict = model.predict(original_features_train)\n",
        "\n",
        "pt_CBR_original = time.time() - start_time\n",
        "pt_CBR_original"
      ]
    },
    {
      "cell_type": "code",
      "execution_count": 71,
      "metadata": {
        "id": "wVLp9ckA7OyY"
      },
      "outputs": [],
      "source": [
        "final_RMSE_CBR_original = mean_squared_error(target_train, target_predict) ** 0.5"
      ]
    },
    {
      "cell_type": "markdown",
      "metadata": {
        "id": "SVSMlqqy7OyY"
      },
      "source": [
        "### LGBMRegressor."
      ]
    },
    {
      "cell_type": "code",
      "execution_count": 72,
      "metadata": {
        "id": "AXXQF__M7OyY",
        "outputId": "f7e6be5f-fa62-4e64-d851-fae9bf95d565",
        "colab": {
          "base_uri": "https://localhost:8080/"
        }
      },
      "outputs": [
        {
          "output_type": "stream",
          "name": "stdout",
          "text": [
            "CPU times: user 5.93 s, sys: 113 ms, total: 6.04 s\n",
            "Wall time: 3.23 s\n"
          ]
        },
        {
          "output_type": "execute_result",
          "data": {
            "text/plain": [
              "3.2320868968963623"
            ]
          },
          "metadata": {},
          "execution_count": 72
        }
      ],
      "source": [
        "%%time\n",
        "\n",
        "start_time = time.time()\n",
        "\n",
        "model = LGBMRegressor(learning_rate=0.1, \n",
        "                      num_leaves=200, \n",
        "                      random_state=12345)\n",
        "\n",
        "model.fit(ordinal_features_train, target_train)\n",
        "\n",
        "lt_LGBMR = time.time() - start_time\n",
        "lt_LGBMR"
      ]
    },
    {
      "cell_type": "code",
      "execution_count": 73,
      "metadata": {
        "id": "l4Q2GhY57OyY",
        "outputId": "a289f72b-f377-4a8c-c780-8ff3c66e4da6",
        "colab": {
          "base_uri": "https://localhost:8080/"
        }
      },
      "outputs": [
        {
          "output_type": "stream",
          "name": "stdout",
          "text": [
            "CPU times: user 2.85 s, sys: 3.32 ms, total: 2.85 s\n",
            "Wall time: 1.56 s\n"
          ]
        },
        {
          "output_type": "execute_result",
          "data": {
            "text/plain": [
              "1.5562477111816406"
            ]
          },
          "metadata": {},
          "execution_count": 73
        }
      ],
      "source": [
        "%%time\n",
        "\n",
        "start_time = time.time()\n",
        "\n",
        "target_predict = model.predict(ordinal_features_train)\n",
        "\n",
        "pt_LGBMR = time.time() - start_time\n",
        "pt_LGBMR"
      ]
    },
    {
      "cell_type": "code",
      "execution_count": 74,
      "metadata": {
        "id": "zPKDwbQ_7OyY"
      },
      "outputs": [],
      "source": [
        "final_RMSE_LGBMR = mean_squared_error(target_train, target_predict) ** 0.5"
      ]
    },
    {
      "cell_type": "markdown",
      "metadata": {
        "id": "WlDhPjIb7OyY"
      },
      "source": [
        "### Let's compare the models."
      ]
    },
    {
      "cell_type": "markdown",
      "metadata": {
        "id": "xFmnlaWm7OyY"
      },
      "source": [
        "We will compare the models and summarize the data in a table for comparison of parameters."
      ]
    },
    {
      "cell_type": "code",
      "execution_count": 75,
      "metadata": {
        "id": "k_mrd7RA7OyZ",
        "outputId": "5eb7a8ea-fcbe-4386-d4ec-225ce0f64a1d",
        "colab": {
          "base_uri": "https://localhost:8080/",
          "height": 382
        }
      },
      "outputs": [
        {
          "output_type": "execute_result",
          "data": {
            "text/plain": [
              "                                        CV RMSE, eur  CV learning time, sec  \\\n",
              "LinearRegression                            2,360.25                  44.72   \n",
              "Ridge                                       2,360.18                  99.94   \n",
              "DecisionTreeRegressor on OHE features       1,744.64                 718.55   \n",
              "DecisionTreeRegressor on OE features        1,786.51                  82.81   \n",
              "CatBoostRegressor on OE features            1,510.56                 444.63   \n",
              "CatBoostRegressor on original features      1,560.49                 146.99   \n",
              "LGBMRegressor                               1,493.35                 113.80   \n",
              "\n",
              "                                        RMSE of model, eur  \\\n",
              "LinearRegression                                  2,356.11   \n",
              "Ridge                                             2,356.17   \n",
              "DecisionTreeRegressor on OHE features             1,482.53   \n",
              "DecisionTreeRegressor on OE features              1,553.31   \n",
              "CatBoostRegressor on OE features                  1,325.91   \n",
              "CatBoostRegressor on original features            1,496.62   \n",
              "LGBMRegressor                                     1,394.59   \n",
              "\n",
              "                                        Model learning time, sec  \\\n",
              "LinearRegression                                           10.92   \n",
              "Ridge                                                      15.07   \n",
              "DecisionTreeRegressor on OHE features                       6.62   \n",
              "DecisionTreeRegressor on OE features                        0.69   \n",
              "CatBoostRegressor on OE features                           36.36   \n",
              "CatBoostRegressor on original features                     38.77   \n",
              "LGBMRegressor                                               3.23   \n",
              "\n",
              "                                        Prediction time, sec  Raiting of RMSE  \\\n",
              "LinearRegression                                        0.45             0.63   \n",
              "Ridge                                                   0.47             0.63   \n",
              "DecisionTreeRegressor on OHE features                   0.24             0.86   \n",
              "DecisionTreeRegressor on OE features                    0.05             0.84   \n",
              "CatBoostRegressor on OE features                        0.25             0.99   \n",
              "CatBoostRegressor on original features                  0.51             0.96   \n",
              "LGBMRegressor                                           1.56             1.00   \n",
              "\n",
              "                                        Raiting of learning time  \\\n",
              "LinearRegression                                            0.06   \n",
              "Ridge                                                       0.05   \n",
              "DecisionTreeRegressor on OHE features                       0.10   \n",
              "DecisionTreeRegressor on OE features                        1.00   \n",
              "CatBoostRegressor on OE features                            0.02   \n",
              "CatBoostRegressor on original features                      0.02   \n",
              "LGBMRegressor                                               0.21   \n",
              "\n",
              "                                        Raiting of prediction time  \\\n",
              "LinearRegression                                              0.12   \n",
              "Ridge                                                         0.12   \n",
              "DecisionTreeRegressor on OHE features                         0.22   \n",
              "DecisionTreeRegressor on OE features                          1.00   \n",
              "CatBoostRegressor on OE features                              0.21   \n",
              "CatBoostRegressor on original features                        0.11   \n",
              "LGBMRegressor                                                 0.03   \n",
              "\n",
              "                                        Final raiting  \n",
              "LinearRegression                                 0.82  \n",
              "Ridge                                            0.79  \n",
              "DecisionTreeRegressor on OHE features            1.18  \n",
              "DecisionTreeRegressor on OE features             2.84  \n",
              "CatBoostRegressor on OE features                 1.22  \n",
              "CatBoostRegressor on original features           1.08  \n",
              "LGBMRegressor                                    1.25  "
            ],
            "text/html": [
              "\n",
              "  <div id=\"df-391bc358-dcb0-4abd-a2ef-eec1c0569ce2\">\n",
              "    <div class=\"colab-df-container\">\n",
              "      <div>\n",
              "<style scoped>\n",
              "    .dataframe tbody tr th:only-of-type {\n",
              "        vertical-align: middle;\n",
              "    }\n",
              "\n",
              "    .dataframe tbody tr th {\n",
              "        vertical-align: top;\n",
              "    }\n",
              "\n",
              "    .dataframe thead th {\n",
              "        text-align: right;\n",
              "    }\n",
              "</style>\n",
              "<table border=\"1\" class=\"dataframe\">\n",
              "  <thead>\n",
              "    <tr style=\"text-align: right;\">\n",
              "      <th></th>\n",
              "      <th>CV RMSE, eur</th>\n",
              "      <th>CV learning time, sec</th>\n",
              "      <th>RMSE of model, eur</th>\n",
              "      <th>Model learning time, sec</th>\n",
              "      <th>Prediction time, sec</th>\n",
              "      <th>Raiting of RMSE</th>\n",
              "      <th>Raiting of learning time</th>\n",
              "      <th>Raiting of prediction time</th>\n",
              "      <th>Final raiting</th>\n",
              "    </tr>\n",
              "  </thead>\n",
              "  <tbody>\n",
              "    <tr>\n",
              "      <th>LinearRegression</th>\n",
              "      <td>2,360.25</td>\n",
              "      <td>44.72</td>\n",
              "      <td>2,356.11</td>\n",
              "      <td>10.92</td>\n",
              "      <td>0.45</td>\n",
              "      <td>0.63</td>\n",
              "      <td>0.06</td>\n",
              "      <td>0.12</td>\n",
              "      <td>0.82</td>\n",
              "    </tr>\n",
              "    <tr>\n",
              "      <th>Ridge</th>\n",
              "      <td>2,360.18</td>\n",
              "      <td>99.94</td>\n",
              "      <td>2,356.17</td>\n",
              "      <td>15.07</td>\n",
              "      <td>0.47</td>\n",
              "      <td>0.63</td>\n",
              "      <td>0.05</td>\n",
              "      <td>0.12</td>\n",
              "      <td>0.79</td>\n",
              "    </tr>\n",
              "    <tr>\n",
              "      <th>DecisionTreeRegressor on OHE features</th>\n",
              "      <td>1,744.64</td>\n",
              "      <td>718.55</td>\n",
              "      <td>1,482.53</td>\n",
              "      <td>6.62</td>\n",
              "      <td>0.24</td>\n",
              "      <td>0.86</td>\n",
              "      <td>0.10</td>\n",
              "      <td>0.22</td>\n",
              "      <td>1.18</td>\n",
              "    </tr>\n",
              "    <tr>\n",
              "      <th>DecisionTreeRegressor on OE features</th>\n",
              "      <td>1,786.51</td>\n",
              "      <td>82.81</td>\n",
              "      <td>1,553.31</td>\n",
              "      <td>0.69</td>\n",
              "      <td>0.05</td>\n",
              "      <td>0.84</td>\n",
              "      <td>1.00</td>\n",
              "      <td>1.00</td>\n",
              "      <td>2.84</td>\n",
              "    </tr>\n",
              "    <tr>\n",
              "      <th>CatBoostRegressor on OE features</th>\n",
              "      <td>1,510.56</td>\n",
              "      <td>444.63</td>\n",
              "      <td>1,325.91</td>\n",
              "      <td>36.36</td>\n",
              "      <td>0.25</td>\n",
              "      <td>0.99</td>\n",
              "      <td>0.02</td>\n",
              "      <td>0.21</td>\n",
              "      <td>1.22</td>\n",
              "    </tr>\n",
              "    <tr>\n",
              "      <th>CatBoostRegressor on original features</th>\n",
              "      <td>1,560.49</td>\n",
              "      <td>146.99</td>\n",
              "      <td>1,496.62</td>\n",
              "      <td>38.77</td>\n",
              "      <td>0.51</td>\n",
              "      <td>0.96</td>\n",
              "      <td>0.02</td>\n",
              "      <td>0.11</td>\n",
              "      <td>1.08</td>\n",
              "    </tr>\n",
              "    <tr>\n",
              "      <th>LGBMRegressor</th>\n",
              "      <td>1,493.35</td>\n",
              "      <td>113.80</td>\n",
              "      <td>1,394.59</td>\n",
              "      <td>3.23</td>\n",
              "      <td>1.56</td>\n",
              "      <td>1.00</td>\n",
              "      <td>0.21</td>\n",
              "      <td>0.03</td>\n",
              "      <td>1.25</td>\n",
              "    </tr>\n",
              "  </tbody>\n",
              "</table>\n",
              "</div>\n",
              "      <button class=\"colab-df-convert\" onclick=\"convertToInteractive('df-391bc358-dcb0-4abd-a2ef-eec1c0569ce2')\"\n",
              "              title=\"Convert this dataframe to an interactive table.\"\n",
              "              style=\"display:none;\">\n",
              "        \n",
              "  <svg xmlns=\"http://www.w3.org/2000/svg\" height=\"24px\"viewBox=\"0 0 24 24\"\n",
              "       width=\"24px\">\n",
              "    <path d=\"M0 0h24v24H0V0z\" fill=\"none\"/>\n",
              "    <path d=\"M18.56 5.44l.94 2.06.94-2.06 2.06-.94-2.06-.94-.94-2.06-.94 2.06-2.06.94zm-11 1L8.5 8.5l.94-2.06 2.06-.94-2.06-.94L8.5 2.5l-.94 2.06-2.06.94zm10 10l.94 2.06.94-2.06 2.06-.94-2.06-.94-.94-2.06-.94 2.06-2.06.94z\"/><path d=\"M17.41 7.96l-1.37-1.37c-.4-.4-.92-.59-1.43-.59-.52 0-1.04.2-1.43.59L10.3 9.45l-7.72 7.72c-.78.78-.78 2.05 0 2.83L4 21.41c.39.39.9.59 1.41.59.51 0 1.02-.2 1.41-.59l7.78-7.78 2.81-2.81c.8-.78.8-2.07 0-2.86zM5.41 20L4 18.59l7.72-7.72 1.47 1.35L5.41 20z\"/>\n",
              "  </svg>\n",
              "      </button>\n",
              "      \n",
              "  <style>\n",
              "    .colab-df-container {\n",
              "      display:flex;\n",
              "      flex-wrap:wrap;\n",
              "      gap: 12px;\n",
              "    }\n",
              "\n",
              "    .colab-df-convert {\n",
              "      background-color: #E8F0FE;\n",
              "      border: none;\n",
              "      border-radius: 50%;\n",
              "      cursor: pointer;\n",
              "      display: none;\n",
              "      fill: #1967D2;\n",
              "      height: 32px;\n",
              "      padding: 0 0 0 0;\n",
              "      width: 32px;\n",
              "    }\n",
              "\n",
              "    .colab-df-convert:hover {\n",
              "      background-color: #E2EBFA;\n",
              "      box-shadow: 0px 1px 2px rgba(60, 64, 67, 0.3), 0px 1px 3px 1px rgba(60, 64, 67, 0.15);\n",
              "      fill: #174EA6;\n",
              "    }\n",
              "\n",
              "    [theme=dark] .colab-df-convert {\n",
              "      background-color: #3B4455;\n",
              "      fill: #D2E3FC;\n",
              "    }\n",
              "\n",
              "    [theme=dark] .colab-df-convert:hover {\n",
              "      background-color: #434B5C;\n",
              "      box-shadow: 0px 1px 3px 1px rgba(0, 0, 0, 0.15);\n",
              "      filter: drop-shadow(0px 1px 2px rgba(0, 0, 0, 0.3));\n",
              "      fill: #FFFFFF;\n",
              "    }\n",
              "  </style>\n",
              "\n",
              "      <script>\n",
              "        const buttonEl =\n",
              "          document.querySelector('#df-391bc358-dcb0-4abd-a2ef-eec1c0569ce2 button.colab-df-convert');\n",
              "        buttonEl.style.display =\n",
              "          google.colab.kernel.accessAllowed ? 'block' : 'none';\n",
              "\n",
              "        async function convertToInteractive(key) {\n",
              "          const element = document.querySelector('#df-391bc358-dcb0-4abd-a2ef-eec1c0569ce2');\n",
              "          const dataTable =\n",
              "            await google.colab.kernel.invokeFunction('convertToInteractive',\n",
              "                                                     [key], {});\n",
              "          if (!dataTable) return;\n",
              "\n",
              "          const docLinkHtml = 'Like what you see? Visit the ' +\n",
              "            '<a target=\"_blank\" href=https://colab.research.google.com/notebooks/data_table.ipynb>data table notebook</a>'\n",
              "            + ' to learn more about interactive tables.';\n",
              "          element.innerHTML = '';\n",
              "          dataTable['output_type'] = 'display_data';\n",
              "          await google.colab.output.renderOutput(dataTable, element);\n",
              "          const docLink = document.createElement('div');\n",
              "          docLink.innerHTML = docLinkHtml;\n",
              "          element.appendChild(docLink);\n",
              "        }\n",
              "      </script>\n",
              "    </div>\n",
              "  </div>\n",
              "  "
            ]
          },
          "metadata": {},
          "execution_count": 75
        }
      ],
      "source": [
        "index = ['LinearRegression',\n",
        "         'Ridge',\n",
        "         'DecisionTreeRegressor on OHE features',\n",
        "         'DecisionTreeRegressor on OE features',\n",
        "         'CatBoostRegressor on OE features',\n",
        "         'CatBoostRegressor on original features',\n",
        "         'LGBMRegressor']\n",
        "         \n",
        "data = {'CV RMSE, eur':[cv_RMSE_LR,\n",
        "                        cv_RMSE_R,\n",
        "                        cv_RMSE_DTR_ohe,\n",
        "                        cv_RMSE_DTR_ordinal,\n",
        "                        cv_RMSE_CBR_ordinal,\n",
        "                        cv_RMSE_CBR_original,\n",
        "                        cv_RMSE_LGBMR],\n",
        "        'CV learning time, sec':[cv_lt_LR,\n",
        "                                 cv_lt_R,\n",
        "                                 cv_lt_DTR_ohe,\n",
        "                                 cv_lt_DTR_ordinal,\n",
        "                                 cv_lt_CBR_ordinal,\n",
        "                                 cv_lt_CBR_original,\n",
        "                                 cv_lt_LGBMR],\n",
        "        'RMSE of model, eur':[final_RMSE_LR,\n",
        "                              final_RMSE_R,\n",
        "                              final_RMSE_DTR_ohe,\n",
        "                              final_RMSE_DTR_ordinal,\n",
        "                              final_RMSE_CBR_ordinal,\n",
        "                              final_RMSE_CBR_original,\n",
        "                              final_RMSE_LGBMR],\n",
        "        'Model learning time, sec':[lt_LR,\n",
        "                                    lt_R,\n",
        "                                    lt_DTR_ohe,\n",
        "                                    lt_DTR_ordinal,\n",
        "                                    lt_CBR_ordinal,\n",
        "                                    lt_CBR_original,\n",
        "                                    lt_LGBMR],\n",
        "        'Prediction time, sec':[pt_LR,\n",
        "                                pt_R,\n",
        "                                pt_DTR_ohe,\n",
        "                                pt_DTR_ordinal,\n",
        "                                pt_CBR_ordinal,\n",
        "                                pt_CBR_original,\n",
        "                                pt_LGBMR]}\n",
        "\n",
        "scores_data = pd.DataFrame(data=data, \n",
        "                           index=index)\n",
        "\n",
        "scores_data['Raiting of RMSE'] = (scores_data['CV RMSE, eur'].min() /\n",
        "                              scores_data['CV RMSE, eur'])\n",
        "\n",
        "scores_data['Raiting of learning time'] = (scores_data['Model learning time, sec'].min() / \n",
        "                              scores_data['Model learning time, sec'])\n",
        "\n",
        "scores_data['Raiting of prediction time'] = (scores_data['Prediction time, sec'].min() / \n",
        "                              scores_data['Prediction time, sec'])\n",
        "\n",
        "scores_data['Final raiting'] = (scores_data['Raiting of RMSE'] +\n",
        "                                   scores_data['Raiting of learning time'] +\n",
        "                                   scores_data['Raiting of prediction time'])\n",
        "\n",
        "scores_data"
      ]
    },
    {
      "cell_type": "markdown",
      "metadata": {
        "id": "HEDoGuu27Oya"
      },
      "source": [
        "### 5. Testing model."
      ]
    },
    {
      "cell_type": "code",
      "execution_count": 76,
      "metadata": {
        "id": "ySxX_fAq7Oya",
        "outputId": "4cfa0760-e815-4fa3-8bb5-563bd9a0b5b8",
        "colab": {
          "base_uri": "https://localhost:8080/"
        }
      },
      "outputs": [
        {
          "output_type": "stream",
          "name": "stdout",
          "text": [
            "CPU times: user 942 ms, sys: 1 ms, total: 943 ms\n",
            "Wall time: 498 ms\n"
          ]
        }
      ],
      "source": [
        "%%time\n",
        "\n",
        "target_predict = model.predict(ordinal_features_test)"
      ]
    },
    {
      "cell_type": "code",
      "execution_count": 77,
      "metadata": {
        "id": "6fhDIfLX7Oya",
        "outputId": "161a4a1f-6221-4083-e71e-2d47f34697bf",
        "colab": {
          "base_uri": "https://localhost:8080/"
        }
      },
      "outputs": [
        {
          "output_type": "stream",
          "name": "stdout",
          "text": [
            "1537.501178597746\n"
          ]
        }
      ],
      "source": [
        "final_RMSE_LGBMR = mean_squared_error(target_test, target_predict) ** 0.5\n",
        "print(final_RMSE_LGBMR)"
      ]
    },
    {
      "cell_type": "markdown",
      "metadata": {
        "id": "6vn-Ncjg7OyZ"
      },
      "source": [
        "## 6. Overall conclusion:\n",
        "\n",
        "During the loading and review of the data, we were provided with a dataset of 354365x16. \n",
        "* Upon approximate consideration, duplicates were found in the amount of 4 pieces - duplicates were removed; \n",
        "* Non-informative columns were removed from the dataset, and the names were brought to lower case; \n",
        "* From the detailed review of the data, missing data and anomalous values were identified: \n",
        "  * missing data in categorical data were filled with unknown as it is impossible to fill with average or median values; \n",
        "  * anomalies and errors in the mileage column were not identified; \n",
        "* Data transformation was performed, during which the memory usage was reduced by 40.71%. \n",
        "* Categorical data in the not_repaired and gearbox columns were replaced with Boolean type.\n",
        "\n",
        "As we can see from the results, CatBoostRegressor and LGBMRegressor lead in terms of accuracy. \n",
        "\n",
        "The models studied in terms of accuracy can be grouped into the following categories:\n",
        "* High accuracy models - CatBoostRegressor and LGBMRegressor;\n",
        "* Medium accuracy model - DecisionTreeRegressor;\n",
        "* Low accuracy models - LinearRegression and Ridge.\n",
        "\n",
        "In terms of speed of work: the minimum training time and prediction time for the DecisionTreeRegressor model on OE features, but the accuracy lags behind the leader model LGBMRegressor by 17.85%. \n",
        "\n",
        "The models studied in terms of speed can be grouped into the following categories: \n",
        "* High speed, model - DecisionTreeRegressor;\n",
        "* Medium speed, model - LGBMRegressor;\n",
        "* Low speed, models - LinearRegression, Ridge and CatBoostRegressor.\n",
        "\n",
        "Based on the criteria that are important to the customer and the fact that the quality of prediction is first, the training time of the model is second, and the prediction time is third:\n",
        "* Quality of prediction;\n",
        "* Training time of the model;\n",
        "* Prediction time of the model.\n",
        "\n",
        "\n",
        "It is clear that the customer can be recommended to pay attention to the exact LGBMRegressor model with an average speed category. \n",
        "\n",
        "To confirm the choice of the LGBMR model as the best for solving the task, the metric on the test sample confirms this choice, showing the RMSE metric 1394.59, the learning time 3.23 seconds and the prediction time 1.56 seconds."
      ]
    }
  ],
  "metadata": {
    "colab": {
      "provenance": []
    },
    "kernelspec": {
      "display_name": "Python 3 (ipykernel)",
      "language": "python",
      "name": "python3"
    },
    "language_info": {
      "codemirror_mode": {
        "name": "ipython",
        "version": 3
      },
      "file_extension": ".py",
      "mimetype": "text/x-python",
      "name": "python",
      "nbconvert_exporter": "python",
      "pygments_lexer": "ipython3",
      "version": "3.9.5"
    },
    "toc": {
      "base_numbering": 1,
      "nav_menu": {},
      "number_sections": true,
      "sideBar": true,
      "skip_h1_title": true,
      "title_cell": "Table of Contents",
      "title_sidebar": "Contents",
      "toc_cell": false,
      "toc_position": {},
      "toc_section_display": true,
      "toc_window_display": false
    }
  },
  "nbformat": 4,
  "nbformat_minor": 0
}
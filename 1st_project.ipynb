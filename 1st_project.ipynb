{
 "cells": [
  {
   "cell_type": "markdown",
   "metadata": {
    "id": "E0vqbgi9ay0H"
   },
   "source": [
    "# Yandex. Music"
   ]
  },
  {
   "cell_type": "markdown",
   "metadata": {
    "id": "VUC88oWjTJw2"
   },
   "source": [
    "On a dataset of Yandex Music, you can compare the behavior of users in two capitals.\n",
    "\n",
    "**The purpose of the research is to test three hypotheses**\n",
    "\n",
    "1. User activity depends on the day of the week. Moreover, it manifests differently in Moscow and St. Petersburg.\n",
    "2. On Monday morning in Moscow one genres prevail, and in St. Petersburg - another. Similarly, on Friday evening different genres prevail - depending on the city. \n",
    "3. Moscow and St. Petersburg prefer different genres of music. In Moscow, pop music is more often listened to, in St. Petersburg - Russian rap.\n",
    "\n",
    "**The course of the investigation**\n",
    "\n",
    "You will get data on user behavior from the file `yandex_music_project.csv`. Nothing is known about the quality of the data. Therefore, an overview of the data will be needed before testing hypotheses.\n",
    "\n",
    "You should check the data for errors and assess their impact on the research. Then, at the preprocessing stage, you should look for ways to fix the most critical data errors.\n",
    " \n",
    "Thus, the research will be conducted in three stages:\n",
    "1. Data review.\n",
    "2. Data preprocessing.\n",
    "3. Hypothesis testing.\n",
    "\n"
   ]
  },
  {
   "cell_type": "markdown",
   "metadata": {
    "id": "Ml1hmfXC_Zcs"
   },
   "source": [
    "## Data review\n",
    "\n",
    "\n"
   ]
  },
  {
   "cell_type": "code",
   "execution_count": 1,
   "metadata": {
    "id": "AXN7PHPN_Zcs"
   },
   "outputs": [],
   "source": [
    "import pandas as pd"
   ]
  },
  {
   "cell_type": "code",
   "execution_count": 2,
   "metadata": {
    "id": "fFVu7vqh_Zct"
   },
   "outputs": [],
   "source": [
    "df = pd.read_csv('/datasets/yandex_music_project.csv')"
   ]
  },
  {
   "cell_type": "markdown",
   "metadata": {
    "id": "rDoOMd3uTqnZ"
   },
   "source": [
    "Let's display the first ten rows of the table on the screen:"
   ]
  },
  {
   "cell_type": "code",
   "execution_count": 3,
   "metadata": {
    "id": "oWTVX3gW_Zct",
    "scrolled": true
   },
   "outputs": [
    {
     "data": {
      "text/html": [
       "<div>\n",
       "<style scoped>\n",
       "    .dataframe tbody tr th:only-of-type {\n",
       "        vertical-align: middle;\n",
       "    }\n",
       "\n",
       "    .dataframe tbody tr th {\n",
       "        vertical-align: top;\n",
       "    }\n",
       "\n",
       "    .dataframe thead th {\n",
       "        text-align: right;\n",
       "    }\n",
       "</style>\n",
       "<table border=\"1\" class=\"dataframe\">\n",
       "  <thead>\n",
       "    <tr style=\"text-align: right;\">\n",
       "      <th></th>\n",
       "      <th>userID</th>\n",
       "      <th>Track</th>\n",
       "      <th>artist</th>\n",
       "      <th>genre</th>\n",
       "      <th>City</th>\n",
       "      <th>time</th>\n",
       "      <th>Day</th>\n",
       "    </tr>\n",
       "  </thead>\n",
       "  <tbody>\n",
       "    <tr>\n",
       "      <th>0</th>\n",
       "      <td>FFB692EC</td>\n",
       "      <td>Kamigata To Boots</td>\n",
       "      <td>The Mass Missile</td>\n",
       "      <td>rock</td>\n",
       "      <td>Saint-Petersburg</td>\n",
       "      <td>20:28:33</td>\n",
       "      <td>Wednesday</td>\n",
       "    </tr>\n",
       "    <tr>\n",
       "      <th>1</th>\n",
       "      <td>55204538</td>\n",
       "      <td>Delayed Because of Accident</td>\n",
       "      <td>Andreas Rönnberg</td>\n",
       "      <td>rock</td>\n",
       "      <td>Moscow</td>\n",
       "      <td>14:07:09</td>\n",
       "      <td>Friday</td>\n",
       "    </tr>\n",
       "    <tr>\n",
       "      <th>2</th>\n",
       "      <td>20EC38</td>\n",
       "      <td>Funiculì funiculà</td>\n",
       "      <td>Mario Lanza</td>\n",
       "      <td>pop</td>\n",
       "      <td>Saint-Petersburg</td>\n",
       "      <td>20:58:07</td>\n",
       "      <td>Wednesday</td>\n",
       "    </tr>\n",
       "    <tr>\n",
       "      <th>3</th>\n",
       "      <td>A3DD03C9</td>\n",
       "      <td>Dragons in the Sunset</td>\n",
       "      <td>Fire + Ice</td>\n",
       "      <td>folk</td>\n",
       "      <td>Saint-Petersburg</td>\n",
       "      <td>08:37:09</td>\n",
       "      <td>Monday</td>\n",
       "    </tr>\n",
       "    <tr>\n",
       "      <th>4</th>\n",
       "      <td>E2DC1FAE</td>\n",
       "      <td>Soul People</td>\n",
       "      <td>Space Echo</td>\n",
       "      <td>dance</td>\n",
       "      <td>Moscow</td>\n",
       "      <td>08:34:34</td>\n",
       "      <td>Monday</td>\n",
       "    </tr>\n",
       "    <tr>\n",
       "      <th>5</th>\n",
       "      <td>842029A1</td>\n",
       "      <td>Преданная</td>\n",
       "      <td>IMPERVTOR</td>\n",
       "      <td>rusrap</td>\n",
       "      <td>Saint-Petersburg</td>\n",
       "      <td>13:09:41</td>\n",
       "      <td>Friday</td>\n",
       "    </tr>\n",
       "    <tr>\n",
       "      <th>6</th>\n",
       "      <td>4CB90AA5</td>\n",
       "      <td>True</td>\n",
       "      <td>Roman Messer</td>\n",
       "      <td>dance</td>\n",
       "      <td>Moscow</td>\n",
       "      <td>13:00:07</td>\n",
       "      <td>Wednesday</td>\n",
       "    </tr>\n",
       "    <tr>\n",
       "      <th>7</th>\n",
       "      <td>F03E1C1F</td>\n",
       "      <td>Feeling This Way</td>\n",
       "      <td>Polina Griffith</td>\n",
       "      <td>dance</td>\n",
       "      <td>Moscow</td>\n",
       "      <td>20:47:49</td>\n",
       "      <td>Wednesday</td>\n",
       "    </tr>\n",
       "    <tr>\n",
       "      <th>8</th>\n",
       "      <td>8FA1D3BE</td>\n",
       "      <td>И вновь продолжается бой</td>\n",
       "      <td>NaN</td>\n",
       "      <td>ruspop</td>\n",
       "      <td>Moscow</td>\n",
       "      <td>09:17:40</td>\n",
       "      <td>Friday</td>\n",
       "    </tr>\n",
       "    <tr>\n",
       "      <th>9</th>\n",
       "      <td>E772D5C0</td>\n",
       "      <td>Pessimist</td>\n",
       "      <td>NaN</td>\n",
       "      <td>dance</td>\n",
       "      <td>Saint-Petersburg</td>\n",
       "      <td>21:20:49</td>\n",
       "      <td>Wednesday</td>\n",
       "    </tr>\n",
       "  </tbody>\n",
       "</table>\n",
       "</div>"
      ],
      "text/plain": [
       "     userID                        Track            artist   genre  \\\n",
       "0  FFB692EC            Kamigata To Boots  The Mass Missile    rock   \n",
       "1  55204538  Delayed Because of Accident  Andreas Rönnberg    rock   \n",
       "2    20EC38            Funiculì funiculà       Mario Lanza     pop   \n",
       "3  A3DD03C9        Dragons in the Sunset        Fire + Ice    folk   \n",
       "4  E2DC1FAE                  Soul People        Space Echo   dance   \n",
       "5  842029A1                    Преданная         IMPERVTOR  rusrap   \n",
       "6  4CB90AA5                         True      Roman Messer   dance   \n",
       "7  F03E1C1F             Feeling This Way   Polina Griffith   dance   \n",
       "8  8FA1D3BE     И вновь продолжается бой               NaN  ruspop   \n",
       "9  E772D5C0                    Pessimist               NaN   dance   \n",
       "\n",
       "             City        time        Day  \n",
       "0  Saint-Petersburg  20:28:33  Wednesday  \n",
       "1            Moscow  14:07:09     Friday  \n",
       "2  Saint-Petersburg  20:58:07  Wednesday  \n",
       "3  Saint-Petersburg  08:37:09     Monday  \n",
       "4            Moscow  08:34:34     Monday  \n",
       "5  Saint-Petersburg  13:09:41     Friday  \n",
       "6            Moscow  13:00:07  Wednesday  \n",
       "7            Moscow  20:47:49  Wednesday  \n",
       "8            Moscow  09:17:40     Friday  \n",
       "9  Saint-Petersburg  21:20:49  Wednesday  "
      ]
     },
     "metadata": {},
     "output_type": "display_data"
    }
   ],
   "source": [
    "display(df.head(10))"
   ]
  },
  {
   "cell_type": "markdown",
   "metadata": {
    "id": "EO73Kwic_Zct"
   },
   "source": [
    "Let's display the full information of the table on the screen:"
   ]
  },
  {
   "cell_type": "code",
   "execution_count": 4,
   "metadata": {
    "id": "DSf2kIb-_Zct",
    "scrolled": true
   },
   "outputs": [
    {
     "name": "stdout",
     "output_type": "stream",
     "text": [
      "<class 'pandas.core.frame.DataFrame'>\n",
      "RangeIndex: 65079 entries, 0 to 65078\n",
      "Data columns (total 7 columns):\n",
      " #   Column    Non-Null Count  Dtype \n",
      "---  ------    --------------  ----- \n",
      " 0     userID  65079 non-null  object\n",
      " 1   Track     63848 non-null  object\n",
      " 2   artist    57876 non-null  object\n",
      " 3   genre     63881 non-null  object\n",
      " 4     City    65079 non-null  object\n",
      " 5   time      65079 non-null  object\n",
      " 6   Day       65079 non-null  object\n",
      "dtypes: object(7)\n",
      "memory usage: 3.5+ MB\n"
     ]
    }
   ],
   "source": [
    "df.info()"
   ]
  },
  {
   "cell_type": "markdown",
   "metadata": {
    "id": "TaQ2Iwbr_Zct"
   },
   "source": [
    "Thus, there are seven columns in the table. The data type in all columns is `object`.\n",
    "\n",
    "According to the data documentation:\n",
    "* `UserID` — identifier of the user;\n",
    "* `Track` — name of the track;\n",
    "* `Artist` — name of the artist;\n",
    "* `Genre` — name of the genre;\n",
    "* `City` — city of the user;\n",
    "* `time` — the time of the start of the listening;\n",
    "* `Day` — day of the week.\n",
    "\n",
    "In the column titles there are three style violations:\n",
    "1. Lowercase letters are combined with uppercase letters.\n",
    "2. There are spaces.\n",
    "3. The column titles 'time', 'Day' do not reflect the content of the columns in the title.\n",
    "\n",
    "The number of values in the columns varies. This means that there are missing values in the data.\n"
   ]
  },
  {
   "cell_type": "markdown",
   "metadata": {
    "id": "MCB6-dXG_Zct"
   },
   "source": [
    "**Conclusions:**\n",
    "\n",
    "In each row of the table are data about the listened track. Part of the columns describe the composition itself: title, performer and genre. The other data tell about the user: from which city he listened to the music and when.\n",
    "\n",
    "It can be preliminarily asserted that there is enough data to verify the hypothesis. However, there are gaps in the data and discrepancies in the column titles with good style. \n",
    "\n",
    "To move forward, it is necessary to eliminate the problems in the data."
   ]
  },
  {
   "cell_type": "markdown",
   "metadata": {
    "id": "SjYF6Ub9_Zct"
   },
   "source": [
    "## Data preprocessing\n",
    "\n",
    "Let's fix the style of the column headers, exclude any gaps. Then let's check the data for duplicates."
   ]
  },
  {
   "cell_type": "markdown",
   "metadata": {
    "id": "dIaKXr29_Zct"
   },
   "source": [
    "### The style of the column\n",
    "\n",
    "Let's display the column names on the screen:"
   ]
  },
  {
   "cell_type": "code",
   "execution_count": 7,
   "metadata": {
    "id": "oKOTdF_Q_Zct"
   },
   "outputs": [
    {
     "data": {
      "text/plain": [
       "Index(['  userID', 'Track', 'artist', 'genre', '  City  ', 'time', 'Day'], dtype='object')"
      ]
     },
     "execution_count": 7,
     "metadata": {},
     "output_type": "execute_result"
    }
   ],
   "source": [
    "df.columns"
   ]
  },
  {
   "cell_type": "markdown",
   "metadata": {
    "id": "zj5534cv_Zct"
   },
   "source": [
    "Let's bring the titles in line with good style:\n",
    "* write several words in the title in \"snake_case\",\n",
    "* make all characters lowercase,\n",
    "* remove spaces.\n",
    "\n",
    "Let's rename the columns as follows:\n",
    "* `'  userID'` → `'user_id'`;\n",
    "* `'Track'` → `'track'`;\n",
    "* `'  City  '` → `'city'`;\n",
    "* `'Day'` → `'day'`."
   ]
  },
  {
   "cell_type": "code",
   "execution_count": 8,
   "metadata": {
    "id": "ISlFqs5y_Zct"
   },
   "outputs": [],
   "source": [
    "df = df.rename(columns = {'  userID':'user_id','Track':'track','  City  ':'city','Day':'day'})"
   ]
  },
  {
   "cell_type": "markdown",
   "metadata": {
    "id": "1dqbh00J_Zct"
   },
   "source": [
    "Let's check the result. To do this, let's display the column names again:"
   ]
  },
  {
   "cell_type": "code",
   "execution_count": 9,
   "metadata": {
    "id": "d4NOAmTW_Zct",
    "scrolled": true
   },
   "outputs": [
    {
     "data": {
      "text/plain": [
       "Index(['user_id', 'track', 'artist', 'genre', 'city', 'time', 'day'], dtype='object')"
      ]
     },
     "execution_count": 9,
     "metadata": {},
     "output_type": "execute_result"
    }
   ],
   "source": [
    "df.columns"
   ]
  },
  {
   "cell_type": "markdown",
   "metadata": {
    "id": "5ISfbcfY_Zct"
   },
   "source": [
    "### Missing values\n",
    "\n",
    "Let's count how many missing values there are in the table:"
   ]
  },
  {
   "cell_type": "code",
   "execution_count": 10,
   "metadata": {
    "id": "RskX29qr_Zct"
   },
   "outputs": [
    {
     "data": {
      "text/plain": [
       "user_id       0\n",
       "track      1231\n",
       "artist     7203\n",
       "genre      1198\n",
       "city          0\n",
       "time          0\n",
       "day           0\n",
       "dtype: int64"
      ]
     },
     "execution_count": 10,
     "metadata": {},
     "output_type": "execute_result"
    }
   ],
   "source": [
    "df.isna().sum()"
   ]
  },
  {
   "cell_type": "markdown",
   "metadata": {
    "id": "qubhgnlO_Zct"
   },
   "source": [
    "Not all missing values affect the research. So in `track` and `artist` the missing values are not important for your work. It is enough to replace them with explicit symbols.\n",
    "\n",
    "But gaps in the `genre` can impede comparison of musical tastes in Moscow and St. Petersburg. In practice, it would be correct to establish the cause of the gaps and restore the data. Such an opportunity is not available in the educational project. \n",
    "It will have to be done:\n",
    "* fill in these gaps with explicit symbols, \n",
    "* assess how much they will damage the calculations."
   ]
  },
  {
   "cell_type": "markdown",
   "metadata": {
    "id": "fSv2laPA_Zct"
   },
   "source": [
    "Let's replace the missing values in the `track`, `artist` and `genre` columns with the string `'unknown'`. We will create a list `columns_to_replace`, loop through its elements with a `for` loop, and for each column, we will replace the missing values:"
   ]
  },
  {
   "cell_type": "code",
   "execution_count": 11,
   "metadata": {
    "id": "KplB5qWs_Zct"
   },
   "outputs": [],
   "source": [
    "columns_to_replace = ['track','artist','genre']\n",
    "for column in columns_to_replace:\n",
    "    df[column] = df[column].fillna('unknown')"
   ]
  },
  {
   "cell_type": "markdown",
   "metadata": {
    "id": "Ilsm-MZo_Zct"
   },
   "source": [
    "Let's make sure there are no gaps left in the table. To do this, let's count the missing values again."
   ]
  },
  {
   "cell_type": "code",
   "execution_count": 12,
   "metadata": {
    "id": "Tq4nYRX4_Zct"
   },
   "outputs": [
    {
     "data": {
      "text/plain": [
       "user_id    0\n",
       "track      0\n",
       "artist     0\n",
       "genre      0\n",
       "city       0\n",
       "time       0\n",
       "day        0\n",
       "dtype: int64"
      ]
     },
     "execution_count": 12,
     "metadata": {},
     "output_type": "execute_result"
    }
   ],
   "source": [
    "df.isna().sum()"
   ]
  },
  {
   "cell_type": "markdown",
   "metadata": {
    "id": "BWKRtBJ3_Zct"
   },
   "source": [
    "### Dublicates\n",
    "\n",
    "\n",
    "Count explicit duplicates in the table in one command:"
   ]
  },
  {
   "cell_type": "code",
   "execution_count": 13,
   "metadata": {
    "id": "36eES_S0_Zct"
   },
   "outputs": [
    {
     "data": {
      "text/plain": [
       "3826"
      ]
     },
     "execution_count": 13,
     "metadata": {},
     "output_type": "execute_result"
    }
   ],
   "source": [
    "df.duplicated().sum()"
   ]
  },
  {
   "cell_type": "markdown",
   "metadata": {
    "id": "Ot25h6XR_Zct"
   },
   "source": [
    "Let's remove the obvious duplicates:"
   ]
  },
  {
   "cell_type": "code",
   "execution_count": 14,
   "metadata": {
    "id": "exFHq6tt_Zct"
   },
   "outputs": [],
   "source": [
    "df = df.drop_duplicates().reset_index(drop=True)"
   ]
  },
  {
   "cell_type": "markdown",
   "metadata": {
    "id": "Im2YwBEG_Zct"
   },
   "source": [
    "Let's count the explicit duplicates in the table again - let's make sure we have completely gotten rid of them:"
   ]
  },
  {
   "cell_type": "code",
   "execution_count": 15,
   "metadata": {
    "id": "-8PuNWQ0_Zct"
   },
   "outputs": [
    {
     "data": {
      "text/plain": [
       "0"
      ]
     },
     "execution_count": 15,
     "metadata": {},
     "output_type": "execute_result"
    }
   ],
   "source": [
    "df.duplicated().sum()"
   ]
  },
  {
   "cell_type": "markdown",
   "metadata": {
    "id": "QlFBsxAr_Zct"
   },
   "source": [
    "Now let's get rid of the implicit duplicates in the `genre` column. For example, the same genre can be written down a bit differently. Such errors will also affect the research result."
   ]
  },
  {
   "cell_type": "markdown",
   "metadata": {
    "id": "eSjWwsOh_Zct"
   },
   "source": [
    "Let's display a list of unique genre names sorted in alphabetical order."
   ]
  },
  {
   "cell_type": "code",
   "execution_count": 16,
   "metadata": {
    "id": "JIUcqzZN_Zct"
   },
   "outputs": [
    {
     "data": {
      "text/plain": [
       "array(['acid', 'acoustic', 'action', 'adult', 'africa', 'afrikaans',\n",
       "       'alternative', 'alternativepunk', 'ambient', 'americana',\n",
       "       'animated', 'anime', 'arabesk', 'arabic', 'arena',\n",
       "       'argentinetango', 'art', 'audiobook', 'author', 'avantgarde',\n",
       "       'axé', 'baile', 'balkan', 'beats', 'bigroom', 'black', 'bluegrass',\n",
       "       'blues', 'bollywood', 'bossa', 'brazilian', 'breakbeat', 'breaks',\n",
       "       'broadway', 'cantautori', 'cantopop', 'canzone', 'caribbean',\n",
       "       'caucasian', 'celtic', 'chamber', 'chanson', 'children', 'chill',\n",
       "       'chinese', 'choral', 'christian', 'christmas', 'classical',\n",
       "       'classicmetal', 'club', 'colombian', 'comedy', 'conjazz',\n",
       "       'contemporary', 'country', 'cuban', 'dance', 'dancehall',\n",
       "       'dancepop', 'dark', 'death', 'deep', 'deutschrock', 'deutschspr',\n",
       "       'dirty', 'disco', 'dnb', 'documentary', 'downbeat', 'downtempo',\n",
       "       'drum', 'dub', 'dubstep', 'eastern', 'easy', 'electronic',\n",
       "       'electropop', 'emo', 'entehno', 'epicmetal', 'estrada', 'ethnic',\n",
       "       'eurofolk', 'european', 'experimental', 'extrememetal', 'fado',\n",
       "       'fairytail', 'film', 'fitness', 'flamenco', 'folk', 'folklore',\n",
       "       'folkmetal', 'folkrock', 'folktronica', 'forró', 'frankreich',\n",
       "       'französisch', 'french', 'funk', 'future', 'gangsta', 'garage',\n",
       "       'german', 'ghazal', 'gitarre', 'glitch', 'gospel', 'gothic',\n",
       "       'grime', 'grunge', 'gypsy', 'handsup', \"hard'n'heavy\", 'hardcore',\n",
       "       'hardstyle', 'hardtechno', 'hip', 'hip-hop', 'hiphop',\n",
       "       'historisch', 'holiday', 'hop', 'horror', 'house', 'hymn', 'idm',\n",
       "       'independent', 'indian', 'indie', 'indipop', 'industrial',\n",
       "       'inspirational', 'instrumental', 'international', 'irish', 'jam',\n",
       "       'japanese', 'jazz', 'jewish', 'jpop', 'jungle', 'k-pop',\n",
       "       'karadeniz', 'karaoke', 'kayokyoku', 'korean', 'laiko', 'latin',\n",
       "       'latino', 'leftfield', 'local', 'lounge', 'loungeelectronic',\n",
       "       'lovers', 'malaysian', 'mandopop', 'marschmusik', 'meditative',\n",
       "       'mediterranean', 'melodic', 'metal', 'metalcore', 'mexican',\n",
       "       'middle', 'minimal', 'miscellaneous', 'modern', 'mood', 'mpb',\n",
       "       'muslim', 'native', 'neoklassik', 'neue', 'new', 'newage',\n",
       "       'newwave', 'nu', 'nujazz', 'numetal', 'oceania', 'old', 'opera',\n",
       "       'orchestral', 'other', 'piano', 'podcasts', 'pop', 'popdance',\n",
       "       'popelectronic', 'popeurodance', 'poprussian', 'post',\n",
       "       'posthardcore', 'postrock', 'power', 'progmetal', 'progressive',\n",
       "       'psychedelic', 'punjabi', 'punk', 'quebecois', 'ragga', 'ram',\n",
       "       'rancheras', 'rap', 'rave', 'reggae', 'reggaeton', 'regional',\n",
       "       'relax', 'religious', 'retro', 'rhythm', 'rnb', 'rnr', 'rock',\n",
       "       'rockabilly', 'rockalternative', 'rockindie', 'rockother',\n",
       "       'romance', 'roots', 'ruspop', 'rusrap', 'rusrock', 'russian',\n",
       "       'salsa', 'samba', 'scenic', 'schlager', 'self', 'sertanejo',\n",
       "       'shanson', 'shoegazing', 'showtunes', 'singer', 'ska', 'skarock',\n",
       "       'slow', 'smooth', 'soft', 'soul', 'soulful', 'sound', 'soundtrack',\n",
       "       'southern', 'specialty', 'speech', 'spiritual', 'sport',\n",
       "       'stonerrock', 'surf', 'swing', 'synthpop', 'synthrock',\n",
       "       'sängerportrait', 'tango', 'tanzorchester', 'taraftar', 'tatar',\n",
       "       'tech', 'techno', 'teen', 'thrash', 'top', 'traditional',\n",
       "       'tradjazz', 'trance', 'tribal', 'trip', 'triphop', 'tropical',\n",
       "       'türk', 'türkçe', 'ukrrock', 'unknown', 'urban', 'uzbek',\n",
       "       'variété', 'vi', 'videogame', 'vocal', 'western', 'world',\n",
       "       'worldbeat', 'ïîï', 'электроника'], dtype=object)"
      ]
     },
     "execution_count": 16,
     "metadata": {},
     "output_type": "execute_result"
    }
   ],
   "source": [
    "df['genre'].sort_values().unique()"
   ]
  },
  {
   "cell_type": "markdown",
   "metadata": {
    "id": "qej-Qmuo_Zct"
   },
   "source": [
    "Let's eliminate implicit duplicates using the function."
   ]
  },
  {
   "cell_type": "code",
   "execution_count": 17,
   "metadata": {
    "id": "ErNDkmns_Zct"
   },
   "outputs": [],
   "source": [
    "def replace_wrong_genres(wrong_genres,correct_genre):\n",
    "    for wrong_genres in wrong_genres:\n",
    "         df['genre'] = df['genre'].replace(wrong_genres, correct_genre)"
   ]
  },
  {
   "cell_type": "code",
   "execution_count": 18,
   "metadata": {
    "id": "YN5i2hpmSo09"
   },
   "outputs": [],
   "source": [
    "wrong_genres = ['hip', 'hop', 'hip-hop']\n",
    "correct_genre = 'hiphop'\n",
    "replace_wrong_genres(wrong_genres, correct_genre)"
   ]
  },
  {
   "cell_type": "markdown",
   "metadata": {
    "id": "zQKF16_RG15m"
   },
   "source": [
    "Let's check that we have replaced the incorrect titles."
   ]
  },
  {
   "cell_type": "code",
   "execution_count": 19,
   "metadata": {
    "id": "wvixALnFG15m"
   },
   "outputs": [
    {
     "data": {
      "text/plain": [
       "array(['acid', 'acoustic', 'action', 'adult', 'africa', 'afrikaans',\n",
       "       'alternative', 'alternativepunk', 'ambient', 'americana',\n",
       "       'animated', 'anime', 'arabesk', 'arabic', 'arena',\n",
       "       'argentinetango', 'art', 'audiobook', 'author', 'avantgarde',\n",
       "       'axé', 'baile', 'balkan', 'beats', 'bigroom', 'black', 'bluegrass',\n",
       "       'blues', 'bollywood', 'bossa', 'brazilian', 'breakbeat', 'breaks',\n",
       "       'broadway', 'cantautori', 'cantopop', 'canzone', 'caribbean',\n",
       "       'caucasian', 'celtic', 'chamber', 'chanson', 'children', 'chill',\n",
       "       'chinese', 'choral', 'christian', 'christmas', 'classical',\n",
       "       'classicmetal', 'club', 'colombian', 'comedy', 'conjazz',\n",
       "       'contemporary', 'country', 'cuban', 'dance', 'dancehall',\n",
       "       'dancepop', 'dark', 'death', 'deep', 'deutschrock', 'deutschspr',\n",
       "       'dirty', 'disco', 'dnb', 'documentary', 'downbeat', 'downtempo',\n",
       "       'drum', 'dub', 'dubstep', 'eastern', 'easy', 'electronic',\n",
       "       'electropop', 'emo', 'entehno', 'epicmetal', 'estrada', 'ethnic',\n",
       "       'eurofolk', 'european', 'experimental', 'extrememetal', 'fado',\n",
       "       'fairytail', 'film', 'fitness', 'flamenco', 'folk', 'folklore',\n",
       "       'folkmetal', 'folkrock', 'folktronica', 'forró', 'frankreich',\n",
       "       'französisch', 'french', 'funk', 'future', 'gangsta', 'garage',\n",
       "       'german', 'ghazal', 'gitarre', 'glitch', 'gospel', 'gothic',\n",
       "       'grime', 'grunge', 'gypsy', 'handsup', \"hard'n'heavy\", 'hardcore',\n",
       "       'hardstyle', 'hardtechno', 'hiphop', 'historisch', 'holiday',\n",
       "       'horror', 'house', 'hymn', 'idm', 'independent', 'indian', 'indie',\n",
       "       'indipop', 'industrial', 'inspirational', 'instrumental',\n",
       "       'international', 'irish', 'jam', 'japanese', 'jazz', 'jewish',\n",
       "       'jpop', 'jungle', 'k-pop', 'karadeniz', 'karaoke', 'kayokyoku',\n",
       "       'korean', 'laiko', 'latin', 'latino', 'leftfield', 'local',\n",
       "       'lounge', 'loungeelectronic', 'lovers', 'malaysian', 'mandopop',\n",
       "       'marschmusik', 'meditative', 'mediterranean', 'melodic', 'metal',\n",
       "       'metalcore', 'mexican', 'middle', 'minimal', 'miscellaneous',\n",
       "       'modern', 'mood', 'mpb', 'muslim', 'native', 'neoklassik', 'neue',\n",
       "       'new', 'newage', 'newwave', 'nu', 'nujazz', 'numetal', 'oceania',\n",
       "       'old', 'opera', 'orchestral', 'other', 'piano', 'podcasts', 'pop',\n",
       "       'popdance', 'popelectronic', 'popeurodance', 'poprussian', 'post',\n",
       "       'posthardcore', 'postrock', 'power', 'progmetal', 'progressive',\n",
       "       'psychedelic', 'punjabi', 'punk', 'quebecois', 'ragga', 'ram',\n",
       "       'rancheras', 'rap', 'rave', 'reggae', 'reggaeton', 'regional',\n",
       "       'relax', 'religious', 'retro', 'rhythm', 'rnb', 'rnr', 'rock',\n",
       "       'rockabilly', 'rockalternative', 'rockindie', 'rockother',\n",
       "       'romance', 'roots', 'ruspop', 'rusrap', 'rusrock', 'russian',\n",
       "       'salsa', 'samba', 'scenic', 'schlager', 'self', 'sertanejo',\n",
       "       'shanson', 'shoegazing', 'showtunes', 'singer', 'ska', 'skarock',\n",
       "       'slow', 'smooth', 'soft', 'soul', 'soulful', 'sound', 'soundtrack',\n",
       "       'southern', 'specialty', 'speech', 'spiritual', 'sport',\n",
       "       'stonerrock', 'surf', 'swing', 'synthpop', 'synthrock',\n",
       "       'sängerportrait', 'tango', 'tanzorchester', 'taraftar', 'tatar',\n",
       "       'tech', 'techno', 'teen', 'thrash', 'top', 'traditional',\n",
       "       'tradjazz', 'trance', 'tribal', 'trip', 'triphop', 'tropical',\n",
       "       'türk', 'türkçe', 'ukrrock', 'unknown', 'urban', 'uzbek',\n",
       "       'variété', 'vi', 'videogame', 'vocal', 'western', 'world',\n",
       "       'worldbeat', 'ïîï', 'электроника'], dtype=object)"
      ]
     },
     "execution_count": 19,
     "metadata": {},
     "output_type": "execute_result"
    }
   ],
   "source": [
    "df['genre'].sort_values().unique()"
   ]
  },
  {
   "cell_type": "markdown",
   "metadata": {
    "id": "jz6a9-7HQUDd"
   },
   "source": [
    "**Conclusions**\n",
    "\n",
    "Preprocessing revealed three problems in the data:\n",
    "\n",
    "- violations in the style of headers,\n",
    "- missing values,\n",
    "- duplicates - both explicit and implicit.\n",
    "\n",
    "The identified issues in the data have been resolved and now we can proceed to hypothesis testing. "
   ]
  },
  {
   "cell_type": "markdown",
   "metadata": {
    "id": "WttZHXH0SqKk"
   },
   "source": [
    "## Hypothesis testing"
   ]
  },
  {
   "cell_type": "markdown",
   "metadata": {
    "id": "Im936VVi_Zcu"
   },
   "source": [
    "### Compare the behavior of users in two capitals"
   ]
  },
  {
   "cell_type": "markdown",
   "metadata": {
    "id": "nwt_MuaL_Zcu"
   },
   "source": [
    "The first hypothesis states that users listen to music differently in Moscow and St. Petersburg. Let's check this assumption based on data from three days of the week - Monday, Wednesday, and Friday."
   ]
  },
  {
   "cell_type": "markdown",
   "metadata": {
    "id": "8Dw_YMmT_Zcu"
   },
   "source": [
    "Let's assess the activity of users in each city. We will group the data by city and count the listens in each group."
   ]
  },
  {
   "cell_type": "code",
   "execution_count": 20,
   "metadata": {
    "id": "0_Qs96oh_Zcu"
   },
   "outputs": [
    {
     "data": {
      "text/plain": [
       "city\n",
       "Moscow              42741\n",
       "Saint-Petersburg    18512\n",
       "Name: user_id, dtype: int64"
      ]
     },
     "execution_count": 20,
     "metadata": {},
     "output_type": "execute_result"
    }
   ],
   "source": [
    "df.groupby('city')['user_id'].count()"
   ]
  },
  {
   "cell_type": "markdown",
   "metadata": {
    "id": "dzli3w8o_Zcu"
   },
   "source": [
    "In Moscow, there are more listens than in St. Petersburg. This does not mean that Moscow users listen to music more often. It is simply that there are more users in Moscow.\n",
    "\n",
    "Now let's group the data by day of the week and count the listens on Mondays, Wednesdays, and Fridays. Note that the data only contains information about listens on these days."
   ]
  },
  {
   "cell_type": "code",
   "execution_count": 21,
   "metadata": {
    "id": "uZMKjiJz_Zcu"
   },
   "outputs": [
    {
     "data": {
      "text/plain": [
       "day\n",
       "Friday       21840\n",
       "Monday       21354\n",
       "Wednesday    18059\n",
       "Name: user_id, dtype: int64"
      ]
     },
     "execution_count": 21,
     "metadata": {},
     "output_type": "execute_result"
    }
   ],
   "source": [
    "df.groupby('day')['user_id'].count()"
   ]
  },
  {
   "cell_type": "markdown",
   "metadata": {
    "id": "cC2tNrlL_Zcu"
   },
   "source": [
    "On average, users from two cities are less active on Wednesdays. However, the picture may change if each city is considered separately."
   ]
  },
  {
   "cell_type": "markdown",
   "metadata": {
    "id": "POzs8bGa_Zcu"
   },
   "source": [
    "Let's write a function that will combine these two calculations."
   ]
  },
  {
   "cell_type": "code",
   "execution_count": 22,
   "metadata": {
    "id": "Nz3GdQB1_Zcu"
   },
   "outputs": [],
   "source": [
    "def number_tracks(day,city):\n",
    "    track_list = df[df['day']==day]\n",
    "    track_list = track_list[track_list['city']==city]\n",
    "    track_list_count = track_list['user_id'].count()\n",
    "    return track_list_count"
   ]
  },
  {
   "cell_type": "markdown",
   "metadata": {
    "id": "ytf7xFrFJQ2r"
   },
   "source": [
    "Let's look at the data for each city for each of the three days."
   ]
  },
  {
   "cell_type": "code",
   "execution_count": 23,
   "metadata": {
    "id": "rJcRATNQ_Zcu",
    "scrolled": true
   },
   "outputs": [
    {
     "data": {
      "text/plain": [
       "15740"
      ]
     },
     "execution_count": 23,
     "metadata": {},
     "output_type": "execute_result"
    }
   ],
   "source": [
    "number_tracks('Monday','Moscow')"
   ]
  },
  {
   "cell_type": "code",
   "execution_count": 24,
   "metadata": {
    "id": "hq_ncZ5T_Zcu"
   },
   "outputs": [
    {
     "data": {
      "text/plain": [
       "5614"
      ]
     },
     "execution_count": 24,
     "metadata": {},
     "output_type": "execute_result"
    }
   ],
   "source": [
    "number_tracks('Monday','Saint-Petersburg')"
   ]
  },
  {
   "cell_type": "code",
   "execution_count": 25,
   "metadata": {
    "id": "_NTy2VPU_Zcu"
   },
   "outputs": [
    {
     "data": {
      "text/plain": [
       "11056"
      ]
     },
     "execution_count": 25,
     "metadata": {},
     "output_type": "execute_result"
    }
   ],
   "source": [
    "number_tracks('Wednesday','Moscow')"
   ]
  },
  {
   "cell_type": "code",
   "execution_count": 26,
   "metadata": {
    "id": "j2y3TAwo_Zcu"
   },
   "outputs": [
    {
     "data": {
      "text/plain": [
       "7003"
      ]
     },
     "execution_count": 26,
     "metadata": {},
     "output_type": "execute_result"
    }
   ],
   "source": [
    "number_tracks('Wednesday','Saint-Petersburg')"
   ]
  },
  {
   "cell_type": "code",
   "execution_count": 27,
   "metadata": {
    "id": "vYDw5u_K_Zcu"
   },
   "outputs": [
    {
     "data": {
      "text/plain": [
       "15945"
      ]
     },
     "execution_count": 27,
     "metadata": {},
     "output_type": "execute_result"
    }
   ],
   "source": [
    "number_tracks('Friday','Moscow')"
   ]
  },
  {
   "cell_type": "code",
   "execution_count": 28,
   "metadata": {
    "id": "8_yzFtW3_Zcu"
   },
   "outputs": [
    {
     "data": {
      "text/plain": [
       "5895"
      ]
     },
     "execution_count": 28,
     "metadata": {},
     "output_type": "execute_result"
    }
   ],
   "source": [
    "number_tracks('Friday','Saint-Petersburg')"
   ]
  },
  {
   "cell_type": "markdown",
   "metadata": {
    "id": "7QXffbO-_Zcu"
   },
   "source": [
    "Let's create a summary table."
   ]
  },
  {
   "cell_type": "code",
   "execution_count": 29,
   "metadata": {
    "id": "APAcLpOr_Zcu"
   },
   "outputs": [
    {
     "data": {
      "text/html": [
       "<div>\n",
       "<style scoped>\n",
       "    .dataframe tbody tr th:only-of-type {\n",
       "        vertical-align: middle;\n",
       "    }\n",
       "\n",
       "    .dataframe tbody tr th {\n",
       "        vertical-align: top;\n",
       "    }\n",
       "\n",
       "    .dataframe thead th {\n",
       "        text-align: right;\n",
       "    }\n",
       "</style>\n",
       "<table border=\"1\" class=\"dataframe\">\n",
       "  <thead>\n",
       "    <tr style=\"text-align: right;\">\n",
       "      <th></th>\n",
       "      <th>city</th>\n",
       "      <th>monday</th>\n",
       "      <th>wednesday</th>\n",
       "      <th>friday</th>\n",
       "    </tr>\n",
       "  </thead>\n",
       "  <tbody>\n",
       "    <tr>\n",
       "      <th>0</th>\n",
       "      <td>Moscow</td>\n",
       "      <td>15740</td>\n",
       "      <td>11056</td>\n",
       "      <td>15945</td>\n",
       "    </tr>\n",
       "    <tr>\n",
       "      <th>1</th>\n",
       "      <td>Saint-Petersburg</td>\n",
       "      <td>5614</td>\n",
       "      <td>7003</td>\n",
       "      <td>5895</td>\n",
       "    </tr>\n",
       "  </tbody>\n",
       "</table>\n",
       "</div>"
      ],
      "text/plain": [
       "               city  monday  wednesday  friday\n",
       "0            Moscow   15740      11056   15945\n",
       "1  Saint-Petersburg    5614       7003    5895"
      ]
     },
     "metadata": {},
     "output_type": "display_data"
    }
   ],
   "source": [
    "data = [['Moscow',15740,11056,15945],['Saint-Petersburg',5614,7003,5895]]\n",
    "columns = ['city', 'monday', 'wednesday', 'friday']\n",
    "table = pd.DataFrame(data = data, columns = columns)\n",
    "display(table)"
   ]
  },
  {
   "cell_type": "markdown",
   "metadata": {
    "id": "-EgPIHYu_Zcu"
   },
   "source": [
    "**Conclusions**\n",
    "\n",
    "The data shows the difference in user behavior:\n",
    "\n",
    "- In Moscow, peak listening activity is on Mondays and Fridays, while Wednesdays show a decrease.\n",
    "- In St. Petersburg, on the other hand, music is more actively listened to on Wednesdays. Activity on Mondays and Fridays here is almost equally lower than on Wednesdays.\n",
    "\n",
    "The data suggests that the first hypothesis is correct."
   ]
  },
  {
   "cell_type": "markdown",
   "metadata": {
    "id": "atZAxtq4_Zcu"
   },
   "source": [
    "### Music at the beginning and end of the week"
   ]
  },
  {
   "cell_type": "markdown",
   "metadata": {
    "id": "eXrQqXFH_Zcu"
   },
   "source": [
    "According to the second hypothesis, different genres predominate in the morning on Monday in Moscow and in St. Petersburg. Similarly, different genres predominate in the evening on Friday, depending on the city."
   ]
  },
  {
   "cell_type": "markdown",
   "metadata": {
    "id": "S8UcW6Hw_Zcu"
   },
   "source": [
    "Let's save the data tables in two variables:\n",
    "* in Moscow — `moscow_general`;\n",
    "* in St. Petersburg — `spb_general`."
   ]
  },
  {
   "cell_type": "code",
   "execution_count": 30,
   "metadata": {
    "id": "qeaFfM_P_Zcu"
   },
   "outputs": [
    {
     "data": {
      "text/html": [
       "<div>\n",
       "<style scoped>\n",
       "    .dataframe tbody tr th:only-of-type {\n",
       "        vertical-align: middle;\n",
       "    }\n",
       "\n",
       "    .dataframe tbody tr th {\n",
       "        vertical-align: top;\n",
       "    }\n",
       "\n",
       "    .dataframe thead th {\n",
       "        text-align: right;\n",
       "    }\n",
       "</style>\n",
       "<table border=\"1\" class=\"dataframe\">\n",
       "  <thead>\n",
       "    <tr style=\"text-align: right;\">\n",
       "      <th></th>\n",
       "      <th>user_id</th>\n",
       "      <th>track</th>\n",
       "      <th>artist</th>\n",
       "      <th>genre</th>\n",
       "      <th>city</th>\n",
       "      <th>time</th>\n",
       "      <th>day</th>\n",
       "    </tr>\n",
       "  </thead>\n",
       "  <tbody>\n",
       "    <tr>\n",
       "      <th>1</th>\n",
       "      <td>55204538</td>\n",
       "      <td>Delayed Because of Accident</td>\n",
       "      <td>Andreas Rönnberg</td>\n",
       "      <td>rock</td>\n",
       "      <td>Moscow</td>\n",
       "      <td>14:07:09</td>\n",
       "      <td>Friday</td>\n",
       "    </tr>\n",
       "    <tr>\n",
       "      <th>4</th>\n",
       "      <td>E2DC1FAE</td>\n",
       "      <td>Soul People</td>\n",
       "      <td>Space Echo</td>\n",
       "      <td>dance</td>\n",
       "      <td>Moscow</td>\n",
       "      <td>08:34:34</td>\n",
       "      <td>Monday</td>\n",
       "    </tr>\n",
       "    <tr>\n",
       "      <th>6</th>\n",
       "      <td>4CB90AA5</td>\n",
       "      <td>True</td>\n",
       "      <td>Roman Messer</td>\n",
       "      <td>dance</td>\n",
       "      <td>Moscow</td>\n",
       "      <td>13:00:07</td>\n",
       "      <td>Wednesday</td>\n",
       "    </tr>\n",
       "    <tr>\n",
       "      <th>7</th>\n",
       "      <td>F03E1C1F</td>\n",
       "      <td>Feeling This Way</td>\n",
       "      <td>Polina Griffith</td>\n",
       "      <td>dance</td>\n",
       "      <td>Moscow</td>\n",
       "      <td>20:47:49</td>\n",
       "      <td>Wednesday</td>\n",
       "    </tr>\n",
       "    <tr>\n",
       "      <th>8</th>\n",
       "      <td>8FA1D3BE</td>\n",
       "      <td>И вновь продолжается бой</td>\n",
       "      <td>unknown</td>\n",
       "      <td>ruspop</td>\n",
       "      <td>Moscow</td>\n",
       "      <td>09:17:40</td>\n",
       "      <td>Friday</td>\n",
       "    </tr>\n",
       "    <tr>\n",
       "      <th>...</th>\n",
       "      <td>...</td>\n",
       "      <td>...</td>\n",
       "      <td>...</td>\n",
       "      <td>...</td>\n",
       "      <td>...</td>\n",
       "      <td>...</td>\n",
       "      <td>...</td>\n",
       "    </tr>\n",
       "    <tr>\n",
       "      <th>61247</th>\n",
       "      <td>83A474E7</td>\n",
       "      <td>I Worship Only What You Bleed</td>\n",
       "      <td>The Black Dahlia Murder</td>\n",
       "      <td>extrememetal</td>\n",
       "      <td>Moscow</td>\n",
       "      <td>21:07:12</td>\n",
       "      <td>Monday</td>\n",
       "    </tr>\n",
       "    <tr>\n",
       "      <th>61248</th>\n",
       "      <td>729CBB09</td>\n",
       "      <td>My Name</td>\n",
       "      <td>McLean</td>\n",
       "      <td>rnb</td>\n",
       "      <td>Moscow</td>\n",
       "      <td>13:32:28</td>\n",
       "      <td>Wednesday</td>\n",
       "    </tr>\n",
       "    <tr>\n",
       "      <th>61250</th>\n",
       "      <td>C5E3A0D5</td>\n",
       "      <td>Jalopiina</td>\n",
       "      <td>unknown</td>\n",
       "      <td>industrial</td>\n",
       "      <td>Moscow</td>\n",
       "      <td>20:09:26</td>\n",
       "      <td>Friday</td>\n",
       "    </tr>\n",
       "    <tr>\n",
       "      <th>61251</th>\n",
       "      <td>321D0506</td>\n",
       "      <td>Freight Train</td>\n",
       "      <td>Chas McDevitt</td>\n",
       "      <td>rock</td>\n",
       "      <td>Moscow</td>\n",
       "      <td>21:43:59</td>\n",
       "      <td>Friday</td>\n",
       "    </tr>\n",
       "    <tr>\n",
       "      <th>61252</th>\n",
       "      <td>3A64EF84</td>\n",
       "      <td>Tell Me Sweet Little Lies</td>\n",
       "      <td>Monica Lopez</td>\n",
       "      <td>country</td>\n",
       "      <td>Moscow</td>\n",
       "      <td>21:59:46</td>\n",
       "      <td>Friday</td>\n",
       "    </tr>\n",
       "  </tbody>\n",
       "</table>\n",
       "<p>42741 rows × 7 columns</p>\n",
       "</div>"
      ],
      "text/plain": [
       "        user_id                          track                   artist  \\\n",
       "1      55204538    Delayed Because of Accident         Andreas Rönnberg   \n",
       "4      E2DC1FAE                    Soul People               Space Echo   \n",
       "6      4CB90AA5                           True             Roman Messer   \n",
       "7      F03E1C1F               Feeling This Way          Polina Griffith   \n",
       "8      8FA1D3BE       И вновь продолжается бой                  unknown   \n",
       "...         ...                            ...                      ...   \n",
       "61247  83A474E7  I Worship Only What You Bleed  The Black Dahlia Murder   \n",
       "61248  729CBB09                        My Name                   McLean   \n",
       "61250  C5E3A0D5                      Jalopiina                  unknown   \n",
       "61251  321D0506                  Freight Train            Chas McDevitt   \n",
       "61252  3A64EF84      Tell Me Sweet Little Lies             Monica Lopez   \n",
       "\n",
       "              genre    city      time        day  \n",
       "1              rock  Moscow  14:07:09     Friday  \n",
       "4             dance  Moscow  08:34:34     Monday  \n",
       "6             dance  Moscow  13:00:07  Wednesday  \n",
       "7             dance  Moscow  20:47:49  Wednesday  \n",
       "8            ruspop  Moscow  09:17:40     Friday  \n",
       "...             ...     ...       ...        ...  \n",
       "61247  extrememetal  Moscow  21:07:12     Monday  \n",
       "61248           rnb  Moscow  13:32:28  Wednesday  \n",
       "61250    industrial  Moscow  20:09:26     Friday  \n",
       "61251          rock  Moscow  21:43:59     Friday  \n",
       "61252       country  Moscow  21:59:46     Friday  \n",
       "\n",
       "[42741 rows x 7 columns]"
      ]
     },
     "metadata": {},
     "output_type": "display_data"
    }
   ],
   "source": [
    "moscow_general = df[df['city']=='Moscow'] \n",
    "display(moscow_general)\n"
   ]
  },
  {
   "cell_type": "code",
   "execution_count": 31,
   "metadata": {
    "id": "ORaVRKto_Zcu"
   },
   "outputs": [
    {
     "data": {
      "text/html": [
       "<div>\n",
       "<style scoped>\n",
       "    .dataframe tbody tr th:only-of-type {\n",
       "        vertical-align: middle;\n",
       "    }\n",
       "\n",
       "    .dataframe tbody tr th {\n",
       "        vertical-align: top;\n",
       "    }\n",
       "\n",
       "    .dataframe thead th {\n",
       "        text-align: right;\n",
       "    }\n",
       "</style>\n",
       "<table border=\"1\" class=\"dataframe\">\n",
       "  <thead>\n",
       "    <tr style=\"text-align: right;\">\n",
       "      <th></th>\n",
       "      <th>user_id</th>\n",
       "      <th>track</th>\n",
       "      <th>artist</th>\n",
       "      <th>genre</th>\n",
       "      <th>city</th>\n",
       "      <th>time</th>\n",
       "      <th>day</th>\n",
       "    </tr>\n",
       "  </thead>\n",
       "  <tbody>\n",
       "    <tr>\n",
       "      <th>0</th>\n",
       "      <td>FFB692EC</td>\n",
       "      <td>Kamigata To Boots</td>\n",
       "      <td>The Mass Missile</td>\n",
       "      <td>rock</td>\n",
       "      <td>Saint-Petersburg</td>\n",
       "      <td>20:28:33</td>\n",
       "      <td>Wednesday</td>\n",
       "    </tr>\n",
       "    <tr>\n",
       "      <th>2</th>\n",
       "      <td>20EC38</td>\n",
       "      <td>Funiculì funiculà</td>\n",
       "      <td>Mario Lanza</td>\n",
       "      <td>pop</td>\n",
       "      <td>Saint-Petersburg</td>\n",
       "      <td>20:58:07</td>\n",
       "      <td>Wednesday</td>\n",
       "    </tr>\n",
       "    <tr>\n",
       "      <th>3</th>\n",
       "      <td>A3DD03C9</td>\n",
       "      <td>Dragons in the Sunset</td>\n",
       "      <td>Fire + Ice</td>\n",
       "      <td>folk</td>\n",
       "      <td>Saint-Petersburg</td>\n",
       "      <td>08:37:09</td>\n",
       "      <td>Monday</td>\n",
       "    </tr>\n",
       "    <tr>\n",
       "      <th>5</th>\n",
       "      <td>842029A1</td>\n",
       "      <td>Преданная</td>\n",
       "      <td>IMPERVTOR</td>\n",
       "      <td>rusrap</td>\n",
       "      <td>Saint-Petersburg</td>\n",
       "      <td>13:09:41</td>\n",
       "      <td>Friday</td>\n",
       "    </tr>\n",
       "    <tr>\n",
       "      <th>9</th>\n",
       "      <td>E772D5C0</td>\n",
       "      <td>Pessimist</td>\n",
       "      <td>unknown</td>\n",
       "      <td>dance</td>\n",
       "      <td>Saint-Petersburg</td>\n",
       "      <td>21:20:49</td>\n",
       "      <td>Wednesday</td>\n",
       "    </tr>\n",
       "    <tr>\n",
       "      <th>...</th>\n",
       "      <td>...</td>\n",
       "      <td>...</td>\n",
       "      <td>...</td>\n",
       "      <td>...</td>\n",
       "      <td>...</td>\n",
       "      <td>...</td>\n",
       "      <td>...</td>\n",
       "    </tr>\n",
       "    <tr>\n",
       "      <th>61239</th>\n",
       "      <td>D94F810B</td>\n",
       "      <td>Theme from the Walking Dead</td>\n",
       "      <td>Proyecto Halloween</td>\n",
       "      <td>film</td>\n",
       "      <td>Saint-Petersburg</td>\n",
       "      <td>21:14:40</td>\n",
       "      <td>Monday</td>\n",
       "    </tr>\n",
       "    <tr>\n",
       "      <th>61240</th>\n",
       "      <td>BC8EC5CF</td>\n",
       "      <td>Red Lips: Gta (Rover Rework)</td>\n",
       "      <td>Rover</td>\n",
       "      <td>electronic</td>\n",
       "      <td>Saint-Petersburg</td>\n",
       "      <td>21:06:50</td>\n",
       "      <td>Monday</td>\n",
       "    </tr>\n",
       "    <tr>\n",
       "      <th>61241</th>\n",
       "      <td>29E04611</td>\n",
       "      <td>Bre Petrunko</td>\n",
       "      <td>Perunika Trio</td>\n",
       "      <td>world</td>\n",
       "      <td>Saint-Petersburg</td>\n",
       "      <td>13:56:00</td>\n",
       "      <td>Monday</td>\n",
       "    </tr>\n",
       "    <tr>\n",
       "      <th>61242</th>\n",
       "      <td>1B91C621</td>\n",
       "      <td>(Hello) Cloud Mountain</td>\n",
       "      <td>sleepmakeswaves</td>\n",
       "      <td>postrock</td>\n",
       "      <td>Saint-Petersburg</td>\n",
       "      <td>09:22:13</td>\n",
       "      <td>Monday</td>\n",
       "    </tr>\n",
       "    <tr>\n",
       "      <th>61249</th>\n",
       "      <td>D08D4A55</td>\n",
       "      <td>Maybe One Day (feat. Black Spade)</td>\n",
       "      <td>Blu &amp; Exile</td>\n",
       "      <td>hiphop</td>\n",
       "      <td>Saint-Petersburg</td>\n",
       "      <td>10:00:00</td>\n",
       "      <td>Monday</td>\n",
       "    </tr>\n",
       "  </tbody>\n",
       "</table>\n",
       "<p>18512 rows × 7 columns</p>\n",
       "</div>"
      ],
      "text/plain": [
       "        user_id                              track              artist  \\\n",
       "0      FFB692EC                  Kamigata To Boots    The Mass Missile   \n",
       "2        20EC38                  Funiculì funiculà         Mario Lanza   \n",
       "3      A3DD03C9              Dragons in the Sunset          Fire + Ice   \n",
       "5      842029A1                          Преданная           IMPERVTOR   \n",
       "9      E772D5C0                          Pessimist             unknown   \n",
       "...         ...                                ...                 ...   \n",
       "61239  D94F810B        Theme from the Walking Dead  Proyecto Halloween   \n",
       "61240  BC8EC5CF       Red Lips: Gta (Rover Rework)               Rover   \n",
       "61241  29E04611                       Bre Petrunko       Perunika Trio   \n",
       "61242  1B91C621             (Hello) Cloud Mountain     sleepmakeswaves   \n",
       "61249  D08D4A55  Maybe One Day (feat. Black Spade)         Blu & Exile   \n",
       "\n",
       "            genre              city      time        day  \n",
       "0            rock  Saint-Petersburg  20:28:33  Wednesday  \n",
       "2             pop  Saint-Petersburg  20:58:07  Wednesday  \n",
       "3            folk  Saint-Petersburg  08:37:09     Monday  \n",
       "5          rusrap  Saint-Petersburg  13:09:41     Friday  \n",
       "9           dance  Saint-Petersburg  21:20:49  Wednesday  \n",
       "...           ...               ...       ...        ...  \n",
       "61239        film  Saint-Petersburg  21:14:40     Monday  \n",
       "61240  electronic  Saint-Petersburg  21:06:50     Monday  \n",
       "61241       world  Saint-Petersburg  13:56:00     Monday  \n",
       "61242    postrock  Saint-Petersburg  09:22:13     Monday  \n",
       "61249      hiphop  Saint-Petersburg  10:00:00     Monday  \n",
       "\n",
       "[18512 rows x 7 columns]"
      ]
     },
     "metadata": {},
     "output_type": "display_data"
    }
   ],
   "source": [
    "spb_general = df[df['city']=='Saint-Petersburg']\n",
    "display (spb_general)"
   ]
  },
  {
   "cell_type": "markdown",
   "metadata": {
    "id": "MEJV-CX2_Zcu"
   },
   "source": [
    "Let's create a function `genre_weekday()` with four parameters:\n",
    "* dataframe,\n",
    "* day,\n",
    "* The initial timestamp is in the format 'hh:mm', \n",
    "* The end timestamp is in the format 'hh:mm'.\n",
    "\n",
    "The function should return information about the top 10 genres of the tracks that were listened to on the specified day, in the time period between two time stamps."
   ]
  },
  {
   "cell_type": "code",
   "execution_count": 32,
   "metadata": {
    "id": "laJT9BYl_Zcu"
   },
   "outputs": [],
   "source": [
    "def genre_weekday(table, day, time1, time2):\n",
    "    genre_df = table[table['day']==day]\n",
    "    genre_df = genre_df[genre_df['time']>time1]\n",
    "    genre_df = genre_df[genre_df['time']<time2]\n",
    "    genre_df_count = genre_df.groupby('genre')['city'].count()\n",
    "    genre_df_sorted = genre_df_count.sort_values(ascending=False)\n",
    "    return genre_df_sorted.head(10)"
   ]
  },
  {
   "cell_type": "markdown",
   "metadata": {
    "id": "la2s2_PF_Zcu"
   },
   "source": [
    "Let's compare the results of the genre_weekday() function for Moscow and St. Petersburg on Monday morning (from 7:00 to 11:00) and on Friday evening (from 17:00 to 23:00):"
   ]
  },
  {
   "cell_type": "code",
   "execution_count": 33,
   "metadata": {
    "id": "yz7itPUQ_Zcu",
    "scrolled": true
   },
   "outputs": [
    {
     "data": {
      "text/plain": [
       "genre\n",
       "pop            781\n",
       "dance          549\n",
       "electronic     480\n",
       "rock           474\n",
       "hiphop         286\n",
       "ruspop         186\n",
       "world          181\n",
       "rusrap         175\n",
       "alternative    164\n",
       "unknown        161\n",
       "Name: city, dtype: int64"
      ]
     },
     "execution_count": 33,
     "metadata": {},
     "output_type": "execute_result"
    }
   ],
   "source": [
    "genre_weekday(moscow_general,'Monday','07:00','11:00')"
   ]
  },
  {
   "cell_type": "code",
   "execution_count": 34,
   "metadata": {
    "id": "kwUcHPdy_Zcu"
   },
   "outputs": [
    {
     "data": {
      "text/plain": [
       "genre\n",
       "pop            218\n",
       "dance          182\n",
       "rock           162\n",
       "electronic     147\n",
       "hiphop          80\n",
       "ruspop          64\n",
       "alternative     58\n",
       "rusrap          55\n",
       "jazz            44\n",
       "classical       40\n",
       "Name: city, dtype: int64"
      ]
     },
     "execution_count": 34,
     "metadata": {},
     "output_type": "execute_result"
    }
   ],
   "source": [
    "genre_weekday(spb_general,'Monday','07:00','11:00')"
   ]
  },
  {
   "cell_type": "code",
   "execution_count": 35,
   "metadata": {
    "id": "EzXVRE1o_Zcu"
   },
   "outputs": [
    {
     "data": {
      "text/plain": [
       "genre\n",
       "pop            713\n",
       "rock           517\n",
       "dance          495\n",
       "electronic     482\n",
       "hiphop         273\n",
       "world          208\n",
       "ruspop         170\n",
       "alternative    163\n",
       "classical      163\n",
       "rusrap         142\n",
       "Name: city, dtype: int64"
      ]
     },
     "execution_count": 35,
     "metadata": {},
     "output_type": "execute_result"
    }
   ],
   "source": [
    "genre_weekday(moscow_general,'Friday','17:00','23:00')"
   ]
  },
  {
   "cell_type": "code",
   "execution_count": 36,
   "metadata": {
    "id": "JZaEKu5v_Zcu"
   },
   "outputs": [
    {
     "data": {
      "text/plain": [
       "genre\n",
       "pop            256\n",
       "electronic     216\n",
       "rock           216\n",
       "dance          210\n",
       "hiphop          97\n",
       "alternative     63\n",
       "jazz            61\n",
       "classical       60\n",
       "rusrap          59\n",
       "world           54\n",
       "Name: city, dtype: int64"
      ]
     },
     "execution_count": 36,
     "metadata": {},
     "output_type": "execute_result"
    }
   ],
   "source": [
    "genre_weekday(spb_general,'Friday','17:00','23:00')"
   ]
  },
  {
   "cell_type": "markdown",
   "metadata": {
    "id": "wrCe4MNX_Zcu"
   },
   "source": [
    "**Conclusions**\n",
    "\n",
    "If we compare the top 10 genres on Monday morning, we can make such conclusions:\n",
    "\n",
    "1. In Moscow and St. Petersburg, similar music is listened to. The only difference is that the Moscow rating included the genre \"world\" while the St. Petersburg rating included jazz and classical.\n",
    "\n",
    "2. In Moscow, there were so many missing values that the value 'unknown' took tenth place among the most popular genres. This means that missing values take up a significant share of the data and threaten the accuracy of the research.\n",
    "\n",
    "Friday night doesn't change this picture. Some genres rise a little higher, others drop, but overall the top-10 remains the same.\n",
    "\n",
    "Thus, the second hypothesis was only partially confirmed:\n",
    "* Users listen to similar music at the beginning and end of the week.\n",
    "* The difference between Moscow and St. Petersburg is not too pronounced. In Moscow, Russian popular music is more often listened to, in St. Petersburg - jazz.\n",
    "\n",
    "However, the gaps in the data cast doubt on this result. In Moscow, there are so many of them that the top-10 ranking could have looked different if the data on genres had not been lost."
   ]
  },
  {
   "cell_type": "markdown",
   "metadata": {
    "id": "JolODAqr_Zcu"
   },
   "source": [
    "### Genre preferences in Moscow and St. Petersburg\n",
    "\n",
    "Hypothesis: St. Petersburg is the capital of rap music, and it is listened to more often there than in Moscow. Moscow, on the other hand, is a city of contrasts, where pop music predominates nonetheless."
   ]
  },
  {
   "cell_type": "markdown",
   "metadata": {
    "id": "DlegSvaT_Zcu"
   },
   "source": [
    "Let's group the `moscow_general` table by genre and count the track plays of each genre using the `count()` method. Then we will sort the result in descending order and save it in the `moscow_genres` table."
   ]
  },
  {
   "cell_type": "code",
   "execution_count": 37,
   "metadata": {
    "id": "r19lIPke_Zcu"
   },
   "outputs": [],
   "source": [
    "moscow_general_count = moscow_general.groupby('genre')['user_id'].count()\n",
    "moscow_genres = moscow_general_count.sort_values(ascending=False)"
   ]
  },
  {
   "cell_type": "code",
   "execution_count": 38,
   "metadata": {
    "id": "WhCSooF8_Zcv"
   },
   "outputs": [
    {
     "data": {
      "text/plain": [
       "genre\n",
       "pop            5892\n",
       "dance          4435\n",
       "rock           3965\n",
       "electronic     3786\n",
       "hiphop         2096\n",
       "classical      1616\n",
       "world          1432\n",
       "alternative    1379\n",
       "ruspop         1372\n",
       "rusrap         1161\n",
       "Name: user_id, dtype: int64"
      ]
     },
     "execution_count": 38,
     "metadata": {},
     "output_type": "execute_result"
    }
   ],
   "source": [
    "moscow_genres.head(10)"
   ]
  },
  {
   "cell_type": "code",
   "execution_count": 39,
   "metadata": {
    "id": "gluLIpE7_Zcv"
   },
   "outputs": [],
   "source": [
    "spb_general_count = spb_general.groupby('genre')['user_id'].count()\n",
    "spb_genres = spb_general_count.sort_values(ascending=False)"
   ]
  },
  {
   "cell_type": "code",
   "execution_count": 40,
   "metadata": {
    "id": "uaGJHjVU_Zcv"
   },
   "outputs": [
    {
     "data": {
      "text/plain": [
       "genre\n",
       "pop            2431\n",
       "dance          1932\n",
       "rock           1879\n",
       "electronic     1736\n",
       "hiphop          960\n",
       "alternative     649\n",
       "classical       646\n",
       "rusrap          564\n",
       "ruspop          538\n",
       "world           515\n",
       "Name: user_id, dtype: int64"
      ]
     },
     "execution_count": 40,
     "metadata": {},
     "output_type": "execute_result"
    }
   ],
   "source": [
    "spb_genres.head(10)"
   ]
  },
  {
   "cell_type": "markdown",
   "metadata": {
    "id": "RY51YJYu_Zcv"
   },
   "source": [
    "**Conclusions**"
   ]
  },
  {
   "cell_type": "markdown",
   "metadata": {
    "id": "nVhnJEm__Zcv"
   },
   "source": [
    "The hypothesis was partially confirmed:\n",
    "* Pop music is the most popular genre in Moscow, as the hypothesis predicted. Moreover, a closely related genre, Russian popular music, is in the top 10 genres.\n",
    "* Contrary to expectations, rap is equally popular in Moscow and St. Petersburg. \n"
   ]
  },
  {
   "cell_type": "markdown",
   "metadata": {
    "id": "ykKQ0N65_Zcv"
   },
   "source": [
    "## The results of the research"
   ]
  },
  {
   "cell_type": "markdown",
   "metadata": {
    "id": "tjUwbHb3_Zcv"
   },
   "source": [
    "We tested three hypotheses and found:\n",
    "\n",
    "1. The day of the week has a different effect on user activity in Moscow and St. Petersburg.  \n",
    "\n",
    "The first hypothesis was fully confirmed.\n",
    "\n",
    "2. Musical preferences don't change much throughout the week, whether it be in Moscow or St. Petersburg. Small differences can be noticed at the beginning of the week, on Mondays:\n",
    "* in Moscow they listen to music of the \"world\" genre,\n",
    "* in St. Petersburg they listen jazz and classic.\n",
    "\n",
    "Thus, the second hypothesis was only partially confirmed. This result could have been different if there were not gaps in the data.\n",
    "\n",
    "3. The tastes of Moscow and St. Petersburg users have more in common than differences. Contrary to expectations, the genre preferences in St. Petersburg resemble those in Moscow. \n",
    "\n",
    "The third hypothesis was not confirmed. If there are differences in preferences, they are not noticeable in the majority of users."
   ]
  }
 ],
 "metadata": {
  "ExecuteTimeLog": [
   {
    "duration": 533,
    "start_time": "2022-03-23T08:34:21.664Z"
   },
   {
    "duration": 143,
    "start_time": "2022-03-23T08:35:03.648Z"
   },
   {
    "duration": 156,
    "start_time": "2022-03-23T08:35:19.151Z"
   },
   {
    "duration": 152,
    "start_time": "2022-03-23T08:35:24.481Z"
   },
   {
    "duration": 18,
    "start_time": "2022-03-23T08:36:34.495Z"
   },
   {
    "duration": 33,
    "start_time": "2022-03-23T08:38:01.473Z"
   },
   {
    "duration": 30,
    "start_time": "2022-03-23T08:38:16.159Z"
   },
   {
    "duration": 29,
    "start_time": "2022-03-23T08:38:25.831Z"
   },
   {
    "duration": 4,
    "start_time": "2022-03-23T08:48:03.578Z"
   },
   {
    "duration": 17,
    "start_time": "2022-03-23T08:50:38.392Z"
   },
   {
    "duration": 4,
    "start_time": "2022-03-23T08:50:58.546Z"
   },
   {
    "duration": 3,
    "start_time": "2022-03-23T08:51:32.423Z"
   },
   {
    "duration": 8,
    "start_time": "2022-03-23T08:51:47.423Z"
   },
   {
    "duration": 7,
    "start_time": "2022-03-23T08:52:02.708Z"
   },
   {
    "duration": 7,
    "start_time": "2022-03-23T08:52:13.854Z"
   },
   {
    "duration": 8,
    "start_time": "2022-03-23T08:52:21.612Z"
   },
   {
    "duration": 8,
    "start_time": "2022-03-23T08:52:42.405Z"
   },
   {
    "duration": 6,
    "start_time": "2022-03-23T08:52:50.367Z"
   },
   {
    "duration": 7,
    "start_time": "2022-03-23T08:53:08.397Z"
   },
   {
    "duration": 8,
    "start_time": "2022-03-23T08:53:13.268Z"
   },
   {
    "duration": 8,
    "start_time": "2022-03-23T08:53:27.802Z"
   },
   {
    "duration": 152,
    "start_time": "2022-03-23T08:53:34.466Z"
   },
   {
    "duration": 3,
    "start_time": "2022-03-23T08:53:37.021Z"
   },
   {
    "duration": 12,
    "start_time": "2022-03-23T08:53:44.576Z"
   },
   {
    "duration": 38,
    "start_time": "2022-03-23T08:53:48.819Z"
   },
   {
    "duration": 8,
    "start_time": "2022-03-23T08:53:56.439Z"
   },
   {
    "duration": 7,
    "start_time": "2022-03-23T08:54:03.533Z"
   },
   {
    "duration": 8,
    "start_time": "2022-03-23T08:54:06.898Z"
   },
   {
    "duration": 4,
    "start_time": "2022-03-23T08:54:16.280Z"
   },
   {
    "duration": 17,
    "start_time": "2022-03-23T08:54:31.373Z"
   },
   {
    "duration": 5,
    "start_time": "2022-03-23T08:54:36.424Z"
   },
   {
    "duration": 6,
    "start_time": "2022-03-23T08:54:43.718Z"
   },
   {
    "duration": 6,
    "start_time": "2022-03-23T08:54:47.612Z"
   },
   {
    "duration": 6,
    "start_time": "2022-03-23T08:54:49.974Z"
   },
   {
    "duration": 7,
    "start_time": "2022-03-23T08:55:00.245Z"
   },
   {
    "duration": 4,
    "start_time": "2022-03-23T08:55:40.419Z"
   },
   {
    "duration": 7,
    "start_time": "2022-03-23T08:56:03.595Z"
   },
   {
    "duration": 7,
    "start_time": "2022-03-23T08:56:06.522Z"
   },
   {
    "duration": 7,
    "start_time": "2022-03-23T08:56:13.327Z"
   },
   {
    "duration": 7,
    "start_time": "2022-03-23T08:56:16.169Z"
   },
   {
    "duration": 6,
    "start_time": "2022-03-23T08:56:29.462Z"
   },
   {
    "duration": 7,
    "start_time": "2022-03-23T08:56:53.898Z"
   },
   {
    "duration": 4,
    "start_time": "2022-03-23T08:56:58.011Z"
   },
   {
    "duration": 3,
    "start_time": "2022-03-23T08:58:43.766Z"
   },
   {
    "duration": 7,
    "start_time": "2022-03-23T08:58:53.097Z"
   },
   {
    "duration": 8,
    "start_time": "2022-03-23T09:00:03.268Z"
   },
   {
    "duration": 7,
    "start_time": "2022-03-23T09:07:48.783Z"
   },
   {
    "duration": 146,
    "start_time": "2022-03-23T09:08:35.352Z"
   },
   {
    "duration": 10,
    "start_time": "2022-03-23T09:08:40.402Z"
   },
   {
    "duration": 28,
    "start_time": "2022-03-23T09:08:45.199Z"
   },
   {
    "duration": 5,
    "start_time": "2022-03-23T09:08:51.227Z"
   },
   {
    "duration": 16,
    "start_time": "2022-03-23T09:08:58.774Z"
   },
   {
    "duration": 3,
    "start_time": "2022-03-23T09:09:00.737Z"
   },
   {
    "duration": 226,
    "start_time": "2022-03-23T09:09:11.752Z"
   },
   {
    "duration": 7,
    "start_time": "2022-03-23T09:11:22.213Z"
   },
   {
    "duration": 25,
    "start_time": "2022-03-23T09:11:34.462Z"
   },
   {
    "duration": 4,
    "start_time": "2022-03-23T09:11:52.064Z"
   },
   {
    "duration": 12,
    "start_time": "2022-03-23T09:12:03.801Z"
   },
   {
    "duration": 4,
    "start_time": "2022-03-23T09:12:13.066Z"
   },
   {
    "duration": 4,
    "start_time": "2022-03-23T09:12:25.034Z"
   },
   {
    "duration": 30,
    "start_time": "2022-03-23T09:12:43.227Z"
   },
   {
    "duration": 188,
    "start_time": "2022-03-23T09:22:26.606Z"
   },
   {
    "duration": 18,
    "start_time": "2022-03-23T09:22:46.299Z"
   },
   {
    "duration": 26,
    "start_time": "2022-03-23T09:22:53.251Z"
   },
   {
    "duration": 68,
    "start_time": "2022-03-23T09:24:51.461Z"
   },
   {
    "duration": 69,
    "start_time": "2022-03-23T09:26:01.237Z"
   },
   {
    "duration": 69,
    "start_time": "2022-03-23T09:26:59.792Z"
   },
   {
    "duration": 58,
    "start_time": "2022-03-23T09:27:08.876Z"
   },
   {
    "duration": 7,
    "start_time": "2022-03-23T09:30:56.243Z"
   },
   {
    "duration": 73,
    "start_time": "2022-03-23T13:41:17.554Z"
   },
   {
    "duration": 9,
    "start_time": "2022-03-23T13:41:31.080Z"
   },
   {
    "duration": 8,
    "start_time": "2022-03-23T13:41:58.214Z"
   },
   {
    "duration": 14,
    "start_time": "2022-03-23T13:44:35.202Z"
   },
   {
    "duration": 12,
    "start_time": "2022-03-23T13:46:30.321Z"
   },
   {
    "duration": 14,
    "start_time": "2022-03-23T13:47:51.341Z"
   },
   {
    "duration": 14,
    "start_time": "2022-03-23T13:48:28.870Z"
   },
   {
    "duration": 10,
    "start_time": "2022-03-23T13:50:39.117Z"
   },
   {
    "duration": 9,
    "start_time": "2022-03-23T13:50:52.073Z"
   },
   {
    "duration": 9,
    "start_time": "2022-03-23T13:51:19.925Z"
   },
   {
    "duration": 9,
    "start_time": "2022-03-23T13:51:55.187Z"
   },
   {
    "duration": 73,
    "start_time": "2022-03-23T13:52:17.534Z"
   },
   {
    "duration": 527,
    "start_time": "2022-03-23T13:52:31.461Z"
   },
   {
    "duration": 193,
    "start_time": "2022-03-23T13:52:34.108Z"
   },
   {
    "duration": 25,
    "start_time": "2022-03-23T13:52:36.257Z"
   },
   {
    "duration": 42,
    "start_time": "2022-03-23T13:52:39.070Z"
   },
   {
    "duration": 6,
    "start_time": "2022-03-23T13:52:43.533Z"
   },
   {
    "duration": 17,
    "start_time": "2022-03-23T13:52:45.347Z"
   },
   {
    "duration": 5,
    "start_time": "2022-03-23T13:52:46.799Z"
   },
   {
    "duration": 33,
    "start_time": "2022-03-23T13:52:48.500Z"
   },
   {
    "duration": 23,
    "start_time": "2022-03-23T13:52:51.028Z"
   },
   {
    "duration": 31,
    "start_time": "2022-03-23T13:52:54.737Z"
   },
   {
    "duration": 97,
    "start_time": "2022-03-23T13:52:56.610Z"
   },
   {
    "duration": 148,
    "start_time": "2022-03-23T13:52:59.400Z"
   },
   {
    "duration": 92,
    "start_time": "2022-03-23T13:53:01.035Z"
   },
   {
    "duration": 10,
    "start_time": "2022-03-23T13:53:05.125Z"
   },
   {
    "duration": 29,
    "start_time": "2022-03-23T13:53:08.245Z"
   },
   {
    "duration": 10,
    "start_time": "2022-03-23T13:54:21.607Z"
   },
   {
    "duration": 187,
    "start_time": "2022-03-23T13:57:09.191Z"
   },
   {
    "duration": 16,
    "start_time": "2022-03-23T13:57:18.524Z"
   },
   {
    "duration": 191,
    "start_time": "2022-03-23T13:57:36.268Z"
   },
   {
    "duration": 14,
    "start_time": "2022-03-23T13:57:42.535Z"
   },
   {
    "duration": 4,
    "start_time": "2022-03-23T13:57:53.082Z"
   },
   {
    "duration": 10,
    "start_time": "2022-03-23T13:58:26.704Z"
   },
   {
    "duration": 7943,
    "start_time": "2022-03-23T14:03:13.752Z"
   },
   {
    "duration": 7636,
    "start_time": "2022-03-23T14:03:34.121Z"
   },
   {
    "duration": 7685,
    "start_time": "2022-03-23T14:03:59.697Z"
   },
   {
    "duration": 48,
    "start_time": "2022-03-23T14:05:29.033Z"
   },
   {
    "duration": 17,
    "start_time": "2022-03-23T14:06:08.833Z"
   },
   {
    "duration": 17,
    "start_time": "2022-03-23T14:06:47.920Z"
   },
   {
    "duration": 15,
    "start_time": "2022-03-23T14:07:17.279Z"
   },
   {
    "duration": 5,
    "start_time": "2022-03-23T14:32:55.972Z"
   },
   {
    "duration": 21,
    "start_time": "2022-03-23T14:33:02.879Z"
   },
   {
    "duration": 21,
    "start_time": "2022-03-23T14:33:04.952Z"
   },
   {
    "duration": 21,
    "start_time": "2022-03-23T14:33:05.593Z"
   },
   {
    "duration": 21,
    "start_time": "2022-03-23T14:33:06.204Z"
   },
   {
    "duration": 23,
    "start_time": "2022-03-23T14:33:10.354Z"
   },
   {
    "duration": 20,
    "start_time": "2022-03-23T14:33:11.359Z"
   },
   {
    "duration": 18,
    "start_time": "2022-03-23T14:33:20.486Z"
   },
   {
    "duration": 16,
    "start_time": "2022-03-23T14:33:22.410Z"
   },
   {
    "duration": 5,
    "start_time": "2022-03-23T14:33:24.414Z"
   },
   {
    "duration": 21,
    "start_time": "2022-03-23T14:33:26.236Z"
   },
   {
    "duration": 137,
    "start_time": "2022-03-23T14:33:38.542Z"
   },
   {
    "duration": 5,
    "start_time": "2022-03-23T14:33:51.419Z"
   },
   {
    "duration": 21,
    "start_time": "2022-03-23T14:33:53.191Z"
   },
   {
    "duration": 5,
    "start_time": "2022-03-23T14:35:20.216Z"
   },
   {
    "duration": 22,
    "start_time": "2022-03-23T14:35:21.678Z"
   },
   {
    "duration": 18,
    "start_time": "2022-03-23T14:35:24.539Z"
   },
   {
    "duration": 19,
    "start_time": "2022-03-23T14:35:31.794Z"
   },
   {
    "duration": 18,
    "start_time": "2022-03-23T14:35:33.689Z"
   },
   {
    "duration": 22,
    "start_time": "2022-03-23T14:35:34.499Z"
   },
   {
    "duration": 19,
    "start_time": "2022-03-23T14:35:35.284Z"
   },
   {
    "duration": 45,
    "start_time": "2022-03-23T14:41:11.971Z"
   },
   {
    "duration": 10,
    "start_time": "2022-03-23T14:41:23.951Z"
   },
   {
    "duration": 19,
    "start_time": "2022-03-23T14:41:53.698Z"
   },
   {
    "duration": 10,
    "start_time": "2022-03-23T14:42:17.729Z"
   },
   {
    "duration": 47,
    "start_time": "2022-03-23T14:45:15.756Z"
   },
   {
    "duration": 44,
    "start_time": "2022-03-23T14:45:56.646Z"
   },
   {
    "duration": 20,
    "start_time": "2022-03-23T14:47:07.658Z"
   },
   {
    "duration": 13,
    "start_time": "2022-03-23T14:52:50.403Z"
   },
   {
    "duration": 38,
    "start_time": "2022-03-23T14:54:40.984Z"
   },
   {
    "duration": 26,
    "start_time": "2022-03-23T14:55:44.263Z"
   },
   {
    "duration": 8,
    "start_time": "2022-03-23T15:04:21.234Z"
   },
   {
    "duration": 6,
    "start_time": "2022-03-23T15:05:34.645Z"
   },
   {
    "duration": 4,
    "start_time": "2022-03-23T15:06:05.981Z"
   },
   {
    "duration": 2505,
    "start_time": "2022-03-23T15:06:21.045Z"
   },
   {
    "duration": 2608,
    "start_time": "2022-03-23T15:07:00.161Z"
   },
   {
    "duration": 2529,
    "start_time": "2022-03-23T15:07:30.690Z"
   },
   {
    "duration": 6,
    "start_time": "2022-03-23T15:11:30.504Z"
   },
   {
    "duration": 2444,
    "start_time": "2022-03-23T15:11:34.645Z"
   },
   {
    "duration": 7,
    "start_time": "2022-03-23T15:16:02.908Z"
   },
   {
    "duration": 6,
    "start_time": "2022-03-23T15:19:27.889Z"
   },
   {
    "duration": 2636,
    "start_time": "2022-03-23T15:19:30.992Z"
   },
   {
    "duration": 2561,
    "start_time": "2022-03-23T15:22:07.479Z"
   },
   {
    "duration": 5,
    "start_time": "2022-03-23T15:22:53.430Z"
   },
   {
    "duration": 23,
    "start_time": "2022-03-23T15:22:55.021Z"
   },
   {
    "duration": 25,
    "start_time": "2022-03-23T15:23:58.407Z"
   },
   {
    "duration": 25,
    "start_time": "2022-03-23T15:25:41.459Z"
   },
   {
    "duration": 16,
    "start_time": "2022-03-23T15:25:42.846Z"
   },
   {
    "duration": 22,
    "start_time": "2022-03-23T15:25:48.667Z"
   },
   {
    "duration": 14,
    "start_time": "2022-03-23T15:25:50.796Z"
   },
   {
    "duration": 149,
    "start_time": "2022-03-23T15:28:39.740Z"
   },
   {
    "duration": 11,
    "start_time": "2022-03-23T15:28:49.271Z"
   },
   {
    "duration": 11,
    "start_time": "2022-03-23T15:29:08.300Z"
   },
   {
    "duration": 12,
    "start_time": "2022-03-23T15:30:25.086Z"
   },
   {
    "duration": 13,
    "start_time": "2022-03-23T15:31:47.421Z"
   },
   {
    "duration": 10,
    "start_time": "2022-03-23T15:33:43.119Z"
   },
   {
    "duration": 13,
    "start_time": "2022-03-23T15:35:00.579Z"
   },
   {
    "duration": 10,
    "start_time": "2022-03-23T15:36:27.385Z"
   },
   {
    "duration": 10,
    "start_time": "2022-03-23T15:37:23.122Z"
   },
   {
    "duration": 11,
    "start_time": "2022-03-23T15:38:58.607Z"
   },
   {
    "duration": 10,
    "start_time": "2022-03-23T15:40:58.483Z"
   },
   {
    "duration": 10,
    "start_time": "2022-03-23T15:41:04.074Z"
   },
   {
    "duration": 10,
    "start_time": "2022-03-23T15:41:06.131Z"
   },
   {
    "duration": 10,
    "start_time": "2022-03-23T15:41:08.890Z"
   },
   {
    "duration": 10,
    "start_time": "2022-03-23T15:41:15.352Z"
   },
   {
    "duration": 8,
    "start_time": "2022-03-23T15:41:51.103Z"
   },
   {
    "duration": 10,
    "start_time": "2022-03-23T15:43:37.211Z"
   },
   {
    "duration": 9,
    "start_time": "2022-03-23T15:43:49.818Z"
   },
   {
    "duration": 9,
    "start_time": "2022-03-23T15:44:01.233Z"
   },
   {
    "duration": 10,
    "start_time": "2022-03-23T15:44:14.626Z"
   },
   {
    "duration": 9,
    "start_time": "2022-03-23T15:44:56.239Z"
   },
   {
    "duration": 11,
    "start_time": "2022-03-23T15:45:05.132Z"
   },
   {
    "duration": 12,
    "start_time": "2022-03-23T15:45:12.147Z"
   },
   {
    "duration": 9,
    "start_time": "2022-03-23T15:45:30.836Z"
   },
   {
    "duration": 9,
    "start_time": "2022-03-23T15:45:44.819Z"
   },
   {
    "duration": 11,
    "start_time": "2022-03-23T15:46:01.680Z"
   },
   {
    "duration": 9,
    "start_time": "2022-03-23T15:46:10.297Z"
   },
   {
    "duration": 29,
    "start_time": "2022-03-23T15:47:39.678Z"
   },
   {
    "duration": 41,
    "start_time": "2022-03-23T15:50:30.087Z"
   },
   {
    "duration": 2610,
    "start_time": "2022-03-23T15:51:02.652Z"
   },
   {
    "duration": 2480,
    "start_time": "2022-03-23T15:51:47.988Z"
   },
   {
    "duration": 11,
    "start_time": "2022-03-23T15:52:03.559Z"
   },
   {
    "duration": 13,
    "start_time": "2022-03-23T15:52:23.623Z"
   },
   {
    "duration": 9,
    "start_time": "2022-03-23T15:52:36.462Z"
   },
   {
    "duration": 25,
    "start_time": "2022-03-23T15:53:05.994Z"
   },
   {
    "duration": 10,
    "start_time": "2022-03-23T15:53:09.571Z"
   },
   {
    "duration": 12,
    "start_time": "2022-03-23T15:53:46.475Z"
   },
   {
    "duration": 12,
    "start_time": "2022-03-23T15:53:53.837Z"
   },
   {
    "duration": 13,
    "start_time": "2022-03-23T15:54:09.863Z"
   },
   {
    "duration": 3060,
    "start_time": "2022-03-23T15:54:38.285Z"
   },
   {
    "duration": 48,
    "start_time": "2022-03-23T15:55:37.266Z"
   },
   {
    "duration": 41,
    "start_time": "2022-03-23T15:56:15.026Z"
   },
   {
    "duration": 11,
    "start_time": "2022-03-23T15:56:21.768Z"
   },
   {
    "duration": 8,
    "start_time": "2022-03-23T15:56:48.531Z"
   },
   {
    "duration": 6,
    "start_time": "2022-03-23T15:56:56.930Z"
   },
   {
    "duration": 12,
    "start_time": "2022-03-23T15:56:58.736Z"
   },
   {
    "duration": 31,
    "start_time": "2022-03-23T15:57:54.228Z"
   },
   {
    "duration": 16,
    "start_time": "2022-03-23T15:57:56.178Z"
   },
   {
    "duration": 7,
    "start_time": "2022-03-23T15:58:35.007Z"
   },
   {
    "duration": 12,
    "start_time": "2022-03-23T15:58:36.482Z"
   },
   {
    "duration": 32,
    "start_time": "2022-03-23T15:58:40.757Z"
   },
   {
    "duration": 16,
    "start_time": "2022-03-23T15:58:42.292Z"
   },
   {
    "duration": 8,
    "start_time": "2022-03-23T15:59:19.825Z"
   },
   {
    "duration": 13,
    "start_time": "2022-03-23T15:59:28.283Z"
   },
   {
    "duration": 8,
    "start_time": "2022-03-23T15:59:34.753Z"
   },
   {
    "duration": 14,
    "start_time": "2022-03-23T16:00:23.884Z"
   },
   {
    "duration": 13,
    "start_time": "2022-03-23T16:00:55.674Z"
   },
   {
    "duration": 8,
    "start_time": "2022-03-23T16:01:02.721Z"
   },
   {
    "duration": 12,
    "start_time": "2022-03-23T16:01:15.880Z"
   },
   {
    "duration": 7,
    "start_time": "2022-03-23T16:02:42.576Z"
   },
   {
    "duration": 7,
    "start_time": "2022-03-23T16:03:10.843Z"
   },
   {
    "duration": 12,
    "start_time": "2022-03-23T16:03:13.568Z"
   },
   {
    "duration": 12,
    "start_time": "2022-03-23T16:03:48.158Z"
   },
   {
    "duration": 7,
    "start_time": "2022-03-23T16:04:01.728Z"
   },
   {
    "duration": 11,
    "start_time": "2022-03-23T16:04:03.337Z"
   },
   {
    "duration": 7,
    "start_time": "2022-03-23T16:04:35.482Z"
   },
   {
    "duration": 12,
    "start_time": "2022-03-23T16:04:36.432Z"
   },
   {
    "duration": 7,
    "start_time": "2022-03-23T16:04:56.830Z"
   },
   {
    "duration": 16,
    "start_time": "2022-03-23T16:04:58.146Z"
   },
   {
    "duration": 6,
    "start_time": "2022-03-23T16:05:09.102Z"
   },
   {
    "duration": 16,
    "start_time": "2022-03-23T16:05:10.244Z"
   },
   {
    "duration": 12,
    "start_time": "2022-03-23T16:05:26.325Z"
   },
   {
    "duration": 67,
    "start_time": "2022-03-23T16:05:45.440Z"
   },
   {
    "duration": 9,
    "start_time": "2022-03-23T16:05:48.619Z"
   },
   {
    "duration": 518,
    "start_time": "2022-03-23T16:06:13.564Z"
   },
   {
    "duration": 200,
    "start_time": "2022-03-23T16:06:14.085Z"
   },
   {
    "duration": 26,
    "start_time": "2022-03-23T16:06:14.288Z"
   },
   {
    "duration": 40,
    "start_time": "2022-03-23T16:06:14.318Z"
   },
   {
    "duration": 4,
    "start_time": "2022-03-23T16:06:14.383Z"
   },
   {
    "duration": 22,
    "start_time": "2022-03-23T16:06:14.390Z"
   },
   {
    "duration": 9,
    "start_time": "2022-03-23T16:06:14.414Z"
   },
   {
    "duration": 57,
    "start_time": "2022-03-23T16:06:14.425Z"
   },
   {
    "duration": 23,
    "start_time": "2022-03-23T16:06:14.485Z"
   },
   {
    "duration": 33,
    "start_time": "2022-03-23T16:06:14.513Z"
   },
   {
    "duration": 124,
    "start_time": "2022-03-23T16:06:14.548Z"
   },
   {
    "duration": 119,
    "start_time": "2022-03-23T16:06:14.674Z"
   },
   {
    "duration": 95,
    "start_time": "2022-03-23T16:06:14.795Z"
   },
   {
    "duration": 11,
    "start_time": "2022-03-23T16:06:14.892Z"
   },
   {
    "duration": 7,
    "start_time": "2022-03-23T16:06:14.905Z"
   },
   {
    "duration": 17,
    "start_time": "2022-03-23T16:06:14.914Z"
   },
   {
    "duration": 9,
    "start_time": "2022-03-23T16:06:14.933Z"
   },
   {
    "duration": 51,
    "start_time": "2022-03-23T16:06:14.945Z"
   },
   {
    "duration": 16,
    "start_time": "2022-03-23T16:06:14.998Z"
   },
   {
    "duration": 13,
    "start_time": "2022-03-23T16:06:15.016Z"
   },
   {
    "duration": 52,
    "start_time": "2022-03-23T16:06:15.031Z"
   },
   {
    "duration": 19,
    "start_time": "2022-03-23T16:06:15.086Z"
   },
   {
    "duration": 18,
    "start_time": "2022-03-23T16:06:15.108Z"
   },
   {
    "duration": 18,
    "start_time": "2022-03-23T16:06:15.128Z"
   },
   {
    "duration": 55,
    "start_time": "2022-03-23T16:06:15.149Z"
   },
   {
    "duration": 19,
    "start_time": "2022-03-23T16:06:15.207Z"
   },
   {
    "duration": 12,
    "start_time": "2022-03-23T16:06:15.229Z"
   },
   {
    "duration": 29,
    "start_time": "2022-03-23T16:06:15.283Z"
   },
   {
    "duration": 27,
    "start_time": "2022-03-23T16:06:15.315Z"
   },
   {
    "duration": 9,
    "start_time": "2022-03-23T16:06:15.345Z"
   },
   {
    "duration": 24,
    "start_time": "2022-03-23T16:06:15.383Z"
   },
   {
    "duration": 16,
    "start_time": "2022-03-23T16:06:15.410Z"
   },
   {
    "duration": 19,
    "start_time": "2022-03-23T16:06:15.429Z"
   },
   {
    "duration": 15,
    "start_time": "2022-03-23T16:06:15.482Z"
   },
   {
    "duration": 38,
    "start_time": "2022-03-23T16:06:15.499Z"
   },
   {
    "duration": 11,
    "start_time": "2022-03-23T16:06:15.539Z"
   },
   {
    "duration": 33,
    "start_time": "2022-03-23T16:06:15.552Z"
   },
   {
    "duration": 105,
    "start_time": "2022-03-23T16:06:15.587Z"
   },
   {
    "duration": 7,
    "start_time": "2022-03-23T16:06:51.128Z"
   },
   {
    "duration": 16,
    "start_time": "2022-03-23T16:06:54.176Z"
   },
   {
    "duration": 19,
    "start_time": "2022-03-23T16:07:18.957Z"
   },
   {
    "duration": 13,
    "start_time": "2022-03-23T16:07:20.325Z"
   },
   {
    "duration": 13,
    "start_time": "2022-03-23T16:08:05.050Z"
   },
   {
    "duration": 11,
    "start_time": "2022-03-23T16:08:26.305Z"
   },
   {
    "duration": 497,
    "start_time": "2022-03-23T16:08:39.588Z"
   },
   {
    "duration": 198,
    "start_time": "2022-03-23T16:08:40.087Z"
   },
   {
    "duration": 26,
    "start_time": "2022-03-23T16:08:40.287Z"
   },
   {
    "duration": 43,
    "start_time": "2022-03-23T16:08:40.316Z"
   },
   {
    "duration": 22,
    "start_time": "2022-03-23T16:08:40.362Z"
   },
   {
    "duration": 34,
    "start_time": "2022-03-23T16:08:40.386Z"
   },
   {
    "duration": 19,
    "start_time": "2022-03-23T16:08:40.422Z"
   },
   {
    "duration": 59,
    "start_time": "2022-03-23T16:08:40.443Z"
   },
   {
    "duration": 42,
    "start_time": "2022-03-23T16:08:40.505Z"
   },
   {
    "duration": 34,
    "start_time": "2022-03-23T16:08:40.552Z"
   },
   {
    "duration": 119,
    "start_time": "2022-03-23T16:08:40.589Z"
   },
   {
    "duration": 120,
    "start_time": "2022-03-23T16:08:40.711Z"
   },
   {
    "duration": 95,
    "start_time": "2022-03-23T16:08:40.834Z"
   },
   {
    "duration": 11,
    "start_time": "2022-03-23T16:08:40.931Z"
   },
   {
    "duration": 18,
    "start_time": "2022-03-23T16:08:40.944Z"
   },
   {
    "duration": 59,
    "start_time": "2022-03-23T16:08:40.964Z"
   },
   {
    "duration": 28,
    "start_time": "2022-03-23T16:08:41.025Z"
   },
   {
    "duration": 26,
    "start_time": "2022-03-23T16:08:41.056Z"
   },
   {
    "duration": 34,
    "start_time": "2022-03-23T16:08:41.085Z"
   },
   {
    "duration": 21,
    "start_time": "2022-03-23T16:08:41.122Z"
   },
   {
    "duration": 52,
    "start_time": "2022-03-23T16:08:41.145Z"
   },
   {
    "duration": 35,
    "start_time": "2022-03-23T16:08:41.199Z"
   },
   {
    "duration": 39,
    "start_time": "2022-03-23T16:08:41.237Z"
   },
   {
    "duration": 34,
    "start_time": "2022-03-23T16:08:41.279Z"
   },
   {
    "duration": 33,
    "start_time": "2022-03-23T16:08:41.315Z"
   },
   {
    "duration": 39,
    "start_time": "2022-03-23T16:08:41.350Z"
   },
   {
    "duration": 12,
    "start_time": "2022-03-23T16:08:41.391Z"
   },
   {
    "duration": 46,
    "start_time": "2022-03-23T16:08:41.408Z"
   },
   {
    "duration": 42,
    "start_time": "2022-03-23T16:08:41.456Z"
   },
   {
    "duration": 7,
    "start_time": "2022-03-23T16:08:41.501Z"
   },
   {
    "duration": 58,
    "start_time": "2022-03-23T16:08:41.510Z"
   },
   {
    "duration": 33,
    "start_time": "2022-03-23T16:08:41.571Z"
   },
   {
    "duration": 37,
    "start_time": "2022-03-23T16:08:41.606Z"
   },
   {
    "duration": 19,
    "start_time": "2022-03-23T16:08:41.645Z"
   },
   {
    "duration": 48,
    "start_time": "2022-03-23T16:08:41.667Z"
   },
   {
    "duration": 13,
    "start_time": "2022-03-23T16:08:41.717Z"
   },
   {
    "duration": 134,
    "start_time": "2022-03-23T16:08:41.732Z"
   },
   {
    "duration": 0,
    "start_time": "2022-03-23T16:08:41.869Z"
   },
   {
    "duration": 12,
    "start_time": "2022-03-23T16:10:42.570Z"
   },
   {
    "duration": 166,
    "start_time": "2022-03-23T16:10:57.874Z"
   },
   {
    "duration": 15,
    "start_time": "2022-03-23T16:11:09.169Z"
   },
   {
    "duration": 7,
    "start_time": "2022-03-23T16:11:32.483Z"
   },
   {
    "duration": 13,
    "start_time": "2022-03-23T16:11:35.661Z"
   },
   {
    "duration": 46,
    "start_time": "2022-03-23T16:12:33.110Z"
   },
   {
    "duration": 12,
    "start_time": "2022-03-23T16:12:34.455Z"
   },
   {
    "duration": 12,
    "start_time": "2022-03-23T16:12:41.168Z"
   },
   {
    "duration": 45,
    "start_time": "2022-03-23T16:13:31.987Z"
   },
   {
    "duration": 13,
    "start_time": "2022-03-23T16:13:33.135Z"
   },
   {
    "duration": 41,
    "start_time": "2022-03-23T16:13:59.805Z"
   },
   {
    "duration": 13,
    "start_time": "2022-03-23T16:14:00.885Z"
   },
   {
    "duration": 29,
    "start_time": "2022-03-23T16:15:12.384Z"
   },
   {
    "duration": 494,
    "start_time": "2022-03-23T16:15:46.591Z"
   },
   {
    "duration": 197,
    "start_time": "2022-03-23T16:15:47.088Z"
   },
   {
    "duration": 28,
    "start_time": "2022-03-23T16:15:47.288Z"
   },
   {
    "duration": 78,
    "start_time": "2022-03-23T16:15:47.318Z"
   },
   {
    "duration": 5,
    "start_time": "2022-03-23T16:15:47.400Z"
   },
   {
    "duration": 48,
    "start_time": "2022-03-23T16:15:47.408Z"
   },
   {
    "duration": 28,
    "start_time": "2022-03-23T16:15:47.459Z"
   },
   {
    "duration": 68,
    "start_time": "2022-03-23T16:15:47.490Z"
   },
   {
    "duration": 69,
    "start_time": "2022-03-23T16:15:47.561Z"
   },
   {
    "duration": 39,
    "start_time": "2022-03-23T16:15:47.633Z"
   },
   {
    "duration": 124,
    "start_time": "2022-03-23T16:15:47.675Z"
   },
   {
    "duration": 127,
    "start_time": "2022-03-23T16:15:47.802Z"
   },
   {
    "duration": 101,
    "start_time": "2022-03-23T16:15:47.932Z"
   },
   {
    "duration": 12,
    "start_time": "2022-03-23T16:15:48.037Z"
   },
   {
    "duration": 28,
    "start_time": "2022-03-23T16:15:48.053Z"
   },
   {
    "duration": 33,
    "start_time": "2022-03-23T16:15:48.083Z"
   },
   {
    "duration": 27,
    "start_time": "2022-03-23T16:15:48.119Z"
   },
   {
    "duration": 37,
    "start_time": "2022-03-23T16:15:48.149Z"
   },
   {
    "duration": 26,
    "start_time": "2022-03-23T16:15:48.188Z"
   },
   {
    "duration": 16,
    "start_time": "2022-03-23T16:15:48.216Z"
   },
   {
    "duration": 52,
    "start_time": "2022-03-23T16:15:48.234Z"
   },
   {
    "duration": 20,
    "start_time": "2022-03-23T16:15:48.288Z"
   },
   {
    "duration": 29,
    "start_time": "2022-03-23T16:15:48.310Z"
   },
   {
    "duration": 34,
    "start_time": "2022-03-23T16:15:48.341Z"
   },
   {
    "duration": 29,
    "start_time": "2022-03-23T16:15:48.381Z"
   },
   {
    "duration": 26,
    "start_time": "2022-03-23T16:15:48.412Z"
   },
   {
    "duration": 15,
    "start_time": "2022-03-23T16:15:48.440Z"
   },
   {
    "duration": 47,
    "start_time": "2022-03-23T16:15:48.457Z"
   },
   {
    "duration": 25,
    "start_time": "2022-03-23T16:15:48.506Z"
   },
   {
    "duration": 11,
    "start_time": "2022-03-23T16:15:48.534Z"
   },
   {
    "duration": 48,
    "start_time": "2022-03-23T16:15:48.547Z"
   },
   {
    "duration": 33,
    "start_time": "2022-03-23T16:15:48.597Z"
   },
   {
    "duration": 28,
    "start_time": "2022-03-23T16:15:48.633Z"
   },
   {
    "duration": 18,
    "start_time": "2022-03-23T16:15:48.663Z"
   },
   {
    "duration": 66,
    "start_time": "2022-03-23T16:15:48.683Z"
   },
   {
    "duration": 14,
    "start_time": "2022-03-23T16:15:48.751Z"
   },
   {
    "duration": 116,
    "start_time": "2022-03-23T16:15:48.767Z"
   },
   {
    "duration": 0,
    "start_time": "2022-03-23T16:15:48.885Z"
   },
   {
    "duration": 48,
    "start_time": "2022-03-23T16:16:36.950Z"
   },
   {
    "duration": 47,
    "start_time": "2022-03-23T16:23:02.141Z"
   },
   {
    "duration": 13,
    "start_time": "2022-03-23T16:23:03.812Z"
   },
   {
    "duration": 29,
    "start_time": "2022-03-23T16:23:12.209Z"
   },
   {
    "duration": 10,
    "start_time": "2022-03-23T16:23:13.940Z"
   },
   {
    "duration": 47,
    "start_time": "2022-03-23T16:23:41.761Z"
   },
   {
    "duration": 14,
    "start_time": "2022-03-23T16:23:43.243Z"
   },
   {
    "duration": 29,
    "start_time": "2022-03-23T16:23:54.987Z"
   },
   {
    "duration": 11,
    "start_time": "2022-03-23T16:23:56.103Z"
   },
   {
    "duration": 32,
    "start_time": "2022-03-23T16:24:09.342Z"
   },
   {
    "duration": 12,
    "start_time": "2022-03-23T16:24:10.425Z"
   },
   {
    "duration": 21,
    "start_time": "2022-03-23T16:24:34.070Z"
   },
   {
    "duration": 13,
    "start_time": "2022-03-23T16:24:35.210Z"
   },
   {
    "duration": 18,
    "start_time": "2022-03-23T16:24:55.424Z"
   },
   {
    "duration": 13,
    "start_time": "2022-03-23T16:24:56.500Z"
   },
   {
    "duration": 22,
    "start_time": "2022-03-23T16:25:19.934Z"
   },
   {
    "duration": 12,
    "start_time": "2022-03-23T16:25:21.114Z"
   },
   {
    "duration": 44,
    "start_time": "2022-03-23T16:25:37.842Z"
   },
   {
    "duration": 32,
    "start_time": "2022-03-23T16:25:44.730Z"
   },
   {
    "duration": 18,
    "start_time": "2022-03-23T16:25:45.729Z"
   },
   {
    "duration": 519,
    "start_time": "2022-03-23T16:26:12.772Z"
   },
   {
    "duration": 211,
    "start_time": "2022-03-23T16:26:13.294Z"
   },
   {
    "duration": 26,
    "start_time": "2022-03-23T16:26:13.508Z"
   },
   {
    "duration": 61,
    "start_time": "2022-03-23T16:26:13.537Z"
   },
   {
    "duration": 5,
    "start_time": "2022-03-23T16:26:13.601Z"
   },
   {
    "duration": 18,
    "start_time": "2022-03-23T16:26:13.609Z"
   },
   {
    "duration": 7,
    "start_time": "2022-03-23T16:26:13.629Z"
   },
   {
    "duration": 73,
    "start_time": "2022-03-23T16:26:13.639Z"
   },
   {
    "duration": 23,
    "start_time": "2022-03-23T16:26:13.715Z"
   },
   {
    "duration": 53,
    "start_time": "2022-03-23T16:26:13.742Z"
   },
   {
    "duration": 103,
    "start_time": "2022-03-23T16:26:13.799Z"
   },
   {
    "duration": 122,
    "start_time": "2022-03-23T16:26:13.904Z"
   },
   {
    "duration": 99,
    "start_time": "2022-03-23T16:26:14.028Z"
   },
   {
    "duration": 11,
    "start_time": "2022-03-23T16:26:14.130Z"
   },
   {
    "duration": 5,
    "start_time": "2022-03-23T16:26:14.143Z"
   },
   {
    "duration": 35,
    "start_time": "2022-03-23T16:26:14.151Z"
   },
   {
    "duration": 9,
    "start_time": "2022-03-23T16:26:14.189Z"
   },
   {
    "duration": 18,
    "start_time": "2022-03-23T16:26:14.201Z"
   },
   {
    "duration": 15,
    "start_time": "2022-03-23T16:26:14.221Z"
   },
   {
    "duration": 44,
    "start_time": "2022-03-23T16:26:14.239Z"
   },
   {
    "duration": 25,
    "start_time": "2022-03-23T16:26:14.286Z"
   },
   {
    "duration": 20,
    "start_time": "2022-03-23T16:26:14.313Z"
   },
   {
    "duration": 54,
    "start_time": "2022-03-23T16:26:14.336Z"
   },
   {
    "duration": 19,
    "start_time": "2022-03-23T16:26:14.393Z"
   },
   {
    "duration": 23,
    "start_time": "2022-03-23T16:26:14.415Z"
   },
   {
    "duration": 54,
    "start_time": "2022-03-23T16:26:14.440Z"
   },
   {
    "duration": 14,
    "start_time": "2022-03-23T16:26:14.497Z"
   },
   {
    "duration": 64,
    "start_time": "2022-03-23T16:26:14.518Z"
   },
   {
    "duration": 30,
    "start_time": "2022-03-23T16:26:14.585Z"
   },
   {
    "duration": 8,
    "start_time": "2022-03-23T16:26:14.618Z"
   },
   {
    "duration": 54,
    "start_time": "2022-03-23T16:26:14.628Z"
   },
   {
    "duration": 16,
    "start_time": "2022-03-23T16:26:14.684Z"
   },
   {
    "duration": 19,
    "start_time": "2022-03-23T16:26:14.703Z"
   },
   {
    "duration": 14,
    "start_time": "2022-03-23T16:26:14.724Z"
   },
   {
    "duration": 71,
    "start_time": "2022-03-23T16:26:14.740Z"
   },
   {
    "duration": 13,
    "start_time": "2022-03-23T16:26:14.813Z"
   },
   {
    "duration": 20,
    "start_time": "2022-03-23T16:26:14.828Z"
   },
   {
    "duration": 36,
    "start_time": "2022-03-23T16:26:14.850Z"
   },
   {
    "duration": 526,
    "start_time": "2022-03-23T16:26:41.238Z"
   },
   {
    "duration": 200,
    "start_time": "2022-03-23T16:26:41.767Z"
   },
   {
    "duration": 34,
    "start_time": "2022-03-23T16:26:41.970Z"
   },
   {
    "duration": 44,
    "start_time": "2022-03-23T16:26:42.007Z"
   },
   {
    "duration": 28,
    "start_time": "2022-03-23T16:26:42.054Z"
   },
   {
    "duration": 19,
    "start_time": "2022-03-23T16:26:42.085Z"
   },
   {
    "duration": 7,
    "start_time": "2022-03-23T16:26:42.107Z"
   },
   {
    "duration": 37,
    "start_time": "2022-03-23T16:26:42.116Z"
   },
   {
    "duration": 25,
    "start_time": "2022-03-23T16:26:42.183Z"
   },
   {
    "duration": 31,
    "start_time": "2022-03-23T16:26:42.212Z"
   },
   {
    "duration": 117,
    "start_time": "2022-03-23T16:26:42.245Z"
   },
   {
    "duration": 132,
    "start_time": "2022-03-23T16:26:42.364Z"
   },
   {
    "duration": 103,
    "start_time": "2022-03-23T16:26:42.498Z"
   },
   {
    "duration": 10,
    "start_time": "2022-03-23T16:26:42.604Z"
   },
   {
    "duration": 6,
    "start_time": "2022-03-23T16:26:42.616Z"
   },
   {
    "duration": 14,
    "start_time": "2022-03-23T16:26:42.625Z"
   },
   {
    "duration": 40,
    "start_time": "2022-03-23T16:26:42.642Z"
   },
   {
    "duration": 19,
    "start_time": "2022-03-23T16:26:42.685Z"
   },
   {
    "duration": 15,
    "start_time": "2022-03-23T16:26:42.706Z"
   },
   {
    "duration": 6,
    "start_time": "2022-03-23T16:26:42.724Z"
   },
   {
    "duration": 67,
    "start_time": "2022-03-23T16:26:42.733Z"
   },
   {
    "duration": 19,
    "start_time": "2022-03-23T16:26:42.802Z"
   },
   {
    "duration": 18,
    "start_time": "2022-03-23T16:26:42.823Z"
   },
   {
    "duration": 49,
    "start_time": "2022-03-23T16:26:42.843Z"
   },
   {
    "duration": 24,
    "start_time": "2022-03-23T16:26:42.895Z"
   },
   {
    "duration": 18,
    "start_time": "2022-03-23T16:26:42.922Z"
   },
   {
    "duration": 50,
    "start_time": "2022-03-23T16:26:42.942Z"
   },
   {
    "duration": 32,
    "start_time": "2022-03-23T16:26:42.997Z"
   },
   {
    "duration": 52,
    "start_time": "2022-03-23T16:26:43.031Z"
   },
   {
    "duration": 7,
    "start_time": "2022-03-23T16:26:43.085Z"
   },
   {
    "duration": 30,
    "start_time": "2022-03-23T16:26:43.094Z"
   },
   {
    "duration": 14,
    "start_time": "2022-03-23T16:26:43.127Z"
   },
   {
    "duration": 49,
    "start_time": "2022-03-23T16:26:43.143Z"
   },
   {
    "duration": 15,
    "start_time": "2022-03-23T16:26:43.195Z"
   },
   {
    "duration": 33,
    "start_time": "2022-03-23T16:26:43.213Z"
   },
   {
    "duration": 46,
    "start_time": "2022-03-23T16:26:43.248Z"
   },
   {
    "duration": 19,
    "start_time": "2022-03-23T16:26:43.297Z"
   },
   {
    "duration": 12,
    "start_time": "2022-03-23T16:26:43.319Z"
   },
   {
    "duration": 75,
    "start_time": "2022-03-24T08:14:28.789Z"
   },
   {
    "duration": 5,
    "start_time": "2022-03-24T08:16:53.235Z"
   },
   {
    "duration": 6,
    "start_time": "2022-03-24T08:18:00.448Z"
   },
   {
    "duration": 518,
    "start_time": "2022-03-24T08:19:28.676Z"
   },
   {
    "duration": 250,
    "start_time": "2022-03-24T08:19:29.197Z"
   },
   {
    "duration": 35,
    "start_time": "2022-03-24T08:19:29.449Z"
   },
   {
    "duration": 43,
    "start_time": "2022-03-24T08:19:29.488Z"
   },
   {
    "duration": 6,
    "start_time": "2022-03-24T08:19:29.533Z"
   },
   {
    "duration": 17,
    "start_time": "2022-03-24T08:19:29.573Z"
   },
   {
    "duration": 12,
    "start_time": "2022-03-24T08:19:29.593Z"
   },
   {
    "duration": 43,
    "start_time": "2022-03-24T08:19:29.607Z"
   },
   {
    "duration": 41,
    "start_time": "2022-03-24T08:19:29.653Z"
   },
   {
    "duration": 34,
    "start_time": "2022-03-24T08:19:29.698Z"
   },
   {
    "duration": 120,
    "start_time": "2022-03-24T08:19:29.734Z"
   },
   {
    "duration": 124,
    "start_time": "2022-03-24T08:19:29.856Z"
   },
   {
    "duration": 103,
    "start_time": "2022-03-24T08:19:29.982Z"
   },
   {
    "duration": 54,
    "start_time": "2022-03-24T08:19:30.087Z"
   },
   {
    "duration": 4,
    "start_time": "2022-03-24T08:19:30.144Z"
   },
   {
    "duration": 36,
    "start_time": "2022-03-24T08:19:30.150Z"
   },
   {
    "duration": 55,
    "start_time": "2022-03-24T08:19:30.189Z"
   },
   {
    "duration": 42,
    "start_time": "2022-03-24T08:19:30.246Z"
   },
   {
    "duration": 17,
    "start_time": "2022-03-24T08:19:30.291Z"
   },
   {
    "duration": 6,
    "start_time": "2022-03-24T08:19:30.310Z"
   },
   {
    "duration": 57,
    "start_time": "2022-03-24T08:19:30.318Z"
   },
   {
    "duration": 22,
    "start_time": "2022-03-24T08:19:30.377Z"
   },
   {
    "duration": 25,
    "start_time": "2022-03-24T08:19:30.401Z"
   },
   {
    "duration": 45,
    "start_time": "2022-03-24T08:19:30.428Z"
   },
   {
    "duration": 23,
    "start_time": "2022-03-24T08:19:30.476Z"
   },
   {
    "duration": 34,
    "start_time": "2022-03-24T08:19:30.501Z"
   },
   {
    "duration": 38,
    "start_time": "2022-03-24T08:19:30.537Z"
   },
   {
    "duration": 58,
    "start_time": "2022-03-24T08:19:30.580Z"
   },
   {
    "duration": 27,
    "start_time": "2022-03-24T08:19:30.641Z"
   },
   {
    "duration": 15,
    "start_time": "2022-03-24T08:19:30.675Z"
   },
   {
    "duration": 58,
    "start_time": "2022-03-24T08:19:30.692Z"
   },
   {
    "duration": 18,
    "start_time": "2022-03-24T08:19:30.752Z"
   },
   {
    "duration": 22,
    "start_time": "2022-03-24T08:19:30.772Z"
   },
   {
    "duration": 16,
    "start_time": "2022-03-24T08:19:30.796Z"
   },
   {
    "duration": 60,
    "start_time": "2022-03-24T08:19:30.814Z"
   },
   {
    "duration": 13,
    "start_time": "2022-03-24T08:19:30.876Z"
   },
   {
    "duration": 29,
    "start_time": "2022-03-24T08:19:30.891Z"
   },
   {
    "duration": 13,
    "start_time": "2022-03-24T08:19:30.922Z"
   },
   {
    "duration": 52,
    "start_time": "2022-03-24T08:23:25.219Z"
   },
   {
    "duration": 13,
    "start_time": "2022-03-24T08:23:36.167Z"
   },
   {
    "duration": 7,
    "start_time": "2022-03-24T08:23:43.502Z"
   },
   {
    "duration": 89,
    "start_time": "2022-03-24T08:24:10.692Z"
   },
   {
    "duration": 12,
    "start_time": "2022-03-24T08:24:18.353Z"
   },
   {
    "duration": 7,
    "start_time": "2022-03-24T08:24:22.937Z"
   },
   {
    "duration": 6,
    "start_time": "2022-03-24T08:24:36.336Z"
   },
   {
    "duration": 9,
    "start_time": "2022-03-24T08:24:46.872Z"
   },
   {
    "duration": 9,
    "start_time": "2022-03-24T08:24:49.188Z"
   },
   {
    "duration": 123,
    "start_time": "2022-03-24T18:31:18.361Z"
   },
   {
    "duration": 3,
    "start_time": "2022-03-24T18:31:35.988Z"
   },
   {
    "duration": 124,
    "start_time": "2022-03-24T18:32:28.626Z"
   },
   {
    "duration": 129,
    "start_time": "2022-03-24T18:32:41.703Z"
   },
   {
    "duration": 448,
    "start_time": "2022-03-24T18:32:47.219Z"
   },
   {
    "duration": 158,
    "start_time": "2022-03-24T18:32:47.669Z"
   },
   {
    "duration": 23,
    "start_time": "2022-03-24T18:32:47.829Z"
   },
   {
    "duration": 39,
    "start_time": "2022-03-24T18:32:47.854Z"
   },
   {
    "duration": 112,
    "start_time": "2022-03-24T18:32:47.894Z"
   },
   {
    "duration": 0,
    "start_time": "2022-03-24T18:32:48.008Z"
   },
   {
    "duration": 0,
    "start_time": "2022-03-24T18:32:48.009Z"
   },
   {
    "duration": 0,
    "start_time": "2022-03-24T18:32:48.011Z"
   },
   {
    "duration": 0,
    "start_time": "2022-03-24T18:32:48.012Z"
   },
   {
    "duration": 0,
    "start_time": "2022-03-24T18:32:48.014Z"
   },
   {
    "duration": 0,
    "start_time": "2022-03-24T18:32:48.015Z"
   },
   {
    "duration": 0,
    "start_time": "2022-03-24T18:32:48.016Z"
   },
   {
    "duration": 0,
    "start_time": "2022-03-24T18:32:48.018Z"
   },
   {
    "duration": 0,
    "start_time": "2022-03-24T18:32:48.020Z"
   },
   {
    "duration": 0,
    "start_time": "2022-03-24T18:32:48.021Z"
   },
   {
    "duration": 0,
    "start_time": "2022-03-24T18:32:48.022Z"
   },
   {
    "duration": 0,
    "start_time": "2022-03-24T18:32:48.023Z"
   },
   {
    "duration": 0,
    "start_time": "2022-03-24T18:32:48.024Z"
   },
   {
    "duration": 0,
    "start_time": "2022-03-24T18:32:48.025Z"
   },
   {
    "duration": 0,
    "start_time": "2022-03-24T18:32:48.027Z"
   },
   {
    "duration": 0,
    "start_time": "2022-03-24T18:32:48.027Z"
   },
   {
    "duration": 0,
    "start_time": "2022-03-24T18:32:48.029Z"
   },
   {
    "duration": 0,
    "start_time": "2022-03-24T18:32:48.030Z"
   },
   {
    "duration": 0,
    "start_time": "2022-03-24T18:32:48.031Z"
   },
   {
    "duration": 0,
    "start_time": "2022-03-24T18:32:48.031Z"
   },
   {
    "duration": 0,
    "start_time": "2022-03-24T18:32:48.032Z"
   },
   {
    "duration": 0,
    "start_time": "2022-03-24T18:32:48.033Z"
   },
   {
    "duration": 0,
    "start_time": "2022-03-24T18:32:48.034Z"
   },
   {
    "duration": 0,
    "start_time": "2022-03-24T18:32:48.035Z"
   },
   {
    "duration": 0,
    "start_time": "2022-03-24T18:32:48.036Z"
   },
   {
    "duration": 0,
    "start_time": "2022-03-24T18:32:48.037Z"
   },
   {
    "duration": 0,
    "start_time": "2022-03-24T18:32:48.038Z"
   },
   {
    "duration": 0,
    "start_time": "2022-03-24T18:32:48.039Z"
   },
   {
    "duration": 0,
    "start_time": "2022-03-24T18:32:48.040Z"
   },
   {
    "duration": 0,
    "start_time": "2022-03-24T18:32:48.041Z"
   },
   {
    "duration": 0,
    "start_time": "2022-03-24T18:32:48.042Z"
   },
   {
    "duration": 0,
    "start_time": "2022-03-24T18:32:48.043Z"
   },
   {
    "duration": 0,
    "start_time": "2022-03-24T18:32:48.044Z"
   },
   {
    "duration": 0,
    "start_time": "2022-03-24T18:32:48.045Z"
   },
   {
    "duration": 0,
    "start_time": "2022-03-24T18:32:48.046Z"
   },
   {
    "duration": 108,
    "start_time": "2022-03-24T18:33:05.753Z"
   },
   {
    "duration": 116,
    "start_time": "2022-03-24T18:33:15.961Z"
   },
   {
    "duration": 116,
    "start_time": "2022-03-24T18:33:25.872Z"
   },
   {
    "duration": 118,
    "start_time": "2022-03-24T18:33:33.481Z"
   },
   {
    "duration": 118,
    "start_time": "2022-03-24T18:33:49.892Z"
   },
   {
    "duration": 3,
    "start_time": "2022-03-24T18:33:54.833Z"
   },
   {
    "duration": 520,
    "start_time": "2022-03-25T06:39:15.287Z"
   },
   {
    "duration": 268,
    "start_time": "2022-03-25T06:39:15.810Z"
   },
   {
    "duration": 28,
    "start_time": "2022-03-25T06:39:16.080Z"
   },
   {
    "duration": 49,
    "start_time": "2022-03-25T06:39:16.112Z"
   },
   {
    "duration": 4,
    "start_time": "2022-03-25T06:39:16.182Z"
   },
   {
    "duration": 26,
    "start_time": "2022-03-25T06:39:16.189Z"
   },
   {
    "duration": 19,
    "start_time": "2022-03-25T06:39:16.218Z"
   },
   {
    "duration": 45,
    "start_time": "2022-03-25T06:39:16.240Z"
   },
   {
    "duration": 29,
    "start_time": "2022-03-25T06:39:16.288Z"
   },
   {
    "duration": 46,
    "start_time": "2022-03-25T06:39:16.322Z"
   },
   {
    "duration": 25,
    "start_time": "2022-03-25T06:39:16.370Z"
   },
   {
    "duration": 35,
    "start_time": "2022-03-25T06:39:16.398Z"
   },
   {
    "duration": 128,
    "start_time": "2022-03-25T06:39:16.435Z"
   },
   {
    "duration": 183,
    "start_time": "2022-03-25T06:39:16.566Z"
   },
   {
    "duration": 103,
    "start_time": "2022-03-25T06:39:16.752Z"
   },
   {
    "duration": 96,
    "start_time": "2022-03-25T06:39:16.857Z"
   },
   {
    "duration": 4,
    "start_time": "2022-03-25T06:39:16.956Z"
   },
   {
    "duration": 34,
    "start_time": "2022-03-25T06:39:16.962Z"
   },
   {
    "duration": 55,
    "start_time": "2022-03-25T06:39:16.998Z"
   },
   {
    "duration": 19,
    "start_time": "2022-03-25T06:39:17.082Z"
   },
   {
    "duration": 18,
    "start_time": "2022-03-25T06:39:17.103Z"
   },
   {
    "duration": 6,
    "start_time": "2022-03-25T06:39:17.123Z"
   },
   {
    "duration": 62,
    "start_time": "2022-03-25T06:39:17.132Z"
   },
   {
    "duration": 23,
    "start_time": "2022-03-25T06:39:17.198Z"
   },
   {
    "duration": 25,
    "start_time": "2022-03-25T06:39:17.224Z"
   },
   {
    "duration": 62,
    "start_time": "2022-03-25T06:39:17.252Z"
   },
   {
    "duration": 32,
    "start_time": "2022-03-25T06:39:17.318Z"
   },
   {
    "duration": 40,
    "start_time": "2022-03-25T06:39:17.383Z"
   },
   {
    "duration": 20,
    "start_time": "2022-03-25T06:39:17.427Z"
   },
   {
    "duration": 66,
    "start_time": "2022-03-25T06:39:17.451Z"
   },
   {
    "duration": 42,
    "start_time": "2022-03-25T06:39:17.520Z"
   },
   {
    "duration": 8,
    "start_time": "2022-03-25T06:39:17.591Z"
   },
   {
    "duration": 44,
    "start_time": "2022-03-25T06:39:17.603Z"
   },
   {
    "duration": 48,
    "start_time": "2022-03-25T06:39:17.650Z"
   },
   {
    "duration": 33,
    "start_time": "2022-03-25T06:39:17.702Z"
   },
   {
    "duration": 52,
    "start_time": "2022-03-25T06:39:17.739Z"
   },
   {
    "duration": 21,
    "start_time": "2022-03-25T06:39:17.795Z"
   },
   {
    "duration": 9,
    "start_time": "2022-03-25T06:39:17.819Z"
   },
   {
    "duration": 18,
    "start_time": "2022-03-25T06:39:17.831Z"
   },
   {
    "duration": 9,
    "start_time": "2022-03-25T06:39:17.886Z"
   }
  ],
  "colab": {
   "collapsed_sections": [
    "E0vqbgi9ay0H",
    "VUC88oWjTJw2"
   ],
   "name": "yandex_music_project_2021.2.ipynb",
   "provenance": []
  },
  "kernelspec": {
   "display_name": "Python 3 (ipykernel)",
   "language": "python",
   "name": "python3"
  },
  "language_info": {
   "codemirror_mode": {
    "name": "ipython",
    "version": 3
   },
   "file_extension": ".py",
   "mimetype": "text/x-python",
   "name": "python",
   "nbconvert_exporter": "python",
   "pygments_lexer": "ipython3",
   "version": "3.9.13"
  },
  "toc": {
   "base_numbering": 1,
   "nav_menu": {},
   "number_sections": true,
   "sideBar": true,
   "skip_h1_title": true,
   "title_cell": "Table of Contents",
   "title_sidebar": "Contents",
   "toc_cell": false,
   "toc_position": {},
   "toc_section_display": true,
   "toc_window_display": true
  }
 },
 "nbformat": 4,
 "nbformat_minor": 1
}

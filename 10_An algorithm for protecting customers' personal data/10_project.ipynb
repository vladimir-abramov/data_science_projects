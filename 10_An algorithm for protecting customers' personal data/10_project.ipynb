{
  "cells": [
    {
      "cell_type": "markdown",
      "metadata": {
        "id": "3ZSTMxZn--JA"
      },
      "source": [
        "# An algorithm for protecting customers' personal data."
      ]
    },
    {
      "cell_type": "markdown",
      "metadata": {
        "id": "pudSeCIw--JA"
      },
      "source": [
        "We need to protect the data of the insurance company \"Hot Potop\". We will develop a method of data transformation so that it is difficult to restore personal information from it. We will prove the correctness of its work."
      ]
    },
    {
      "cell_type": "markdown",
      "metadata": {
        "id": "V7z6D-nj--I7",
        "toc": true
      },
      "source": [
        "## Contents: \n",
        "1. Reviewing and preprocessing of the data. \n",
        "2. Matrix multiplication. \n",
        "3. Transformation algorithm. \n",
        "4. Algorithm verification."
      ]
    },
    {
      "cell_type": "markdown",
      "metadata": {
        "id": "Tyf1RI_RhuOb"
      },
      "source": [
        "## Description of data:\n",
        "Features: gender, age, and salary of the insured, number of members in their family.\n",
        "\n",
        "Target feature: number of insurance payments to the customer over the last 5 years."
      ]
    },
    {
      "cell_type": "markdown",
      "metadata": {
        "id": "JU-hj6c7iF94"
      },
      "source": [
        "## Plan of the project:\n",
        "* Download and study the data.\n",
        "* Multiply the features by the inverse matrix.\n",
        "* Propose an algorithm for data transformation to solve the task.\n",
        "* Program this algorithm using matrix operations. Check that the quality of the linear regression from sklearn does not differ before and after the transformation. Apply the R2 metric."
      ]
    },
    {
      "cell_type": "markdown",
      "metadata": {
        "id": "DpSFzgiY--JB"
      },
      "source": [
        "## 1. Reviewing and preprocessing of the data."
      ]
    },
    {
      "cell_type": "code",
      "execution_count": 1,
      "metadata": {
        "id": "qW-FO4cv--JB"
      },
      "outputs": [],
      "source": [
        "import numpy as np\n",
        "import pandas as pd\n",
        "from sklearn.metrics import r2_score\n",
        "from sklearn.model_selection import train_test_split"
      ]
    },
    {
      "cell_type": "code",
      "execution_count": 2,
      "metadata": {
        "id": "DW86Itz0e-I1"
      },
      "outputs": [],
      "source": [
        "pd.set_option('display.max_columns', 50)\n",
        "pd.options.display.float_format = '{:,.2f}'.format"
      ]
    },
    {
      "cell_type": "code",
      "execution_count": 3,
      "metadata": {
        "id": "3b9fL7iEfHvF"
      },
      "outputs": [],
      "source": [
        "url = 'https://code.s3.yandex.net/datasets/insurance.csv'\n",
        "data = pd.read_csv(url)"
      ]
    },
    {
      "cell_type": "markdown",
      "metadata": {
        "id": "hBZW-e5yfbyK"
      },
      "source": [
        "Let's look at the data."
      ]
    },
    {
      "cell_type": "code",
      "execution_count": 4,
      "metadata": {
        "colab": {
          "base_uri": "https://localhost:8080/",
          "height": 206
        },
        "id": "QCg6MixlfbHU",
        "outputId": "8c3227d0-a6c5-40e5-c9fb-df6503d9ac1c"
      },
      "outputs": [
        {
          "output_type": "execute_result",
          "data": {
            "text/plain": [
              "   Пол  Возраст  Зарплата  Члены семьи  Страховые выплаты\n",
              "0    1    41.00 49,600.00            1                  0\n",
              "1    0    46.00 38,000.00            1                  1\n",
              "2    0    29.00 21,000.00            0                  0\n",
              "3    0    21.00 41,700.00            2                  0\n",
              "4    1    28.00 26,100.00            0                  0"
            ],
            "text/html": [
              "\n",
              "  <div id=\"df-09dfeead-67c7-489b-90ae-9d080fc8f082\">\n",
              "    <div class=\"colab-df-container\">\n",
              "      <div>\n",
              "<style scoped>\n",
              "    .dataframe tbody tr th:only-of-type {\n",
              "        vertical-align: middle;\n",
              "    }\n",
              "\n",
              "    .dataframe tbody tr th {\n",
              "        vertical-align: top;\n",
              "    }\n",
              "\n",
              "    .dataframe thead th {\n",
              "        text-align: right;\n",
              "    }\n",
              "</style>\n",
              "<table border=\"1\" class=\"dataframe\">\n",
              "  <thead>\n",
              "    <tr style=\"text-align: right;\">\n",
              "      <th></th>\n",
              "      <th>Пол</th>\n",
              "      <th>Возраст</th>\n",
              "      <th>Зарплата</th>\n",
              "      <th>Члены семьи</th>\n",
              "      <th>Страховые выплаты</th>\n",
              "    </tr>\n",
              "  </thead>\n",
              "  <tbody>\n",
              "    <tr>\n",
              "      <th>0</th>\n",
              "      <td>1</td>\n",
              "      <td>41.00</td>\n",
              "      <td>49,600.00</td>\n",
              "      <td>1</td>\n",
              "      <td>0</td>\n",
              "    </tr>\n",
              "    <tr>\n",
              "      <th>1</th>\n",
              "      <td>0</td>\n",
              "      <td>46.00</td>\n",
              "      <td>38,000.00</td>\n",
              "      <td>1</td>\n",
              "      <td>1</td>\n",
              "    </tr>\n",
              "    <tr>\n",
              "      <th>2</th>\n",
              "      <td>0</td>\n",
              "      <td>29.00</td>\n",
              "      <td>21,000.00</td>\n",
              "      <td>0</td>\n",
              "      <td>0</td>\n",
              "    </tr>\n",
              "    <tr>\n",
              "      <th>3</th>\n",
              "      <td>0</td>\n",
              "      <td>21.00</td>\n",
              "      <td>41,700.00</td>\n",
              "      <td>2</td>\n",
              "      <td>0</td>\n",
              "    </tr>\n",
              "    <tr>\n",
              "      <th>4</th>\n",
              "      <td>1</td>\n",
              "      <td>28.00</td>\n",
              "      <td>26,100.00</td>\n",
              "      <td>0</td>\n",
              "      <td>0</td>\n",
              "    </tr>\n",
              "  </tbody>\n",
              "</table>\n",
              "</div>\n",
              "      <button class=\"colab-df-convert\" onclick=\"convertToInteractive('df-09dfeead-67c7-489b-90ae-9d080fc8f082')\"\n",
              "              title=\"Convert this dataframe to an interactive table.\"\n",
              "              style=\"display:none;\">\n",
              "        \n",
              "  <svg xmlns=\"http://www.w3.org/2000/svg\" height=\"24px\"viewBox=\"0 0 24 24\"\n",
              "       width=\"24px\">\n",
              "    <path d=\"M0 0h24v24H0V0z\" fill=\"none\"/>\n",
              "    <path d=\"M18.56 5.44l.94 2.06.94-2.06 2.06-.94-2.06-.94-.94-2.06-.94 2.06-2.06.94zm-11 1L8.5 8.5l.94-2.06 2.06-.94-2.06-.94L8.5 2.5l-.94 2.06-2.06.94zm10 10l.94 2.06.94-2.06 2.06-.94-2.06-.94-.94-2.06-.94 2.06-2.06.94z\"/><path d=\"M17.41 7.96l-1.37-1.37c-.4-.4-.92-.59-1.43-.59-.52 0-1.04.2-1.43.59L10.3 9.45l-7.72 7.72c-.78.78-.78 2.05 0 2.83L4 21.41c.39.39.9.59 1.41.59.51 0 1.02-.2 1.41-.59l7.78-7.78 2.81-2.81c.8-.78.8-2.07 0-2.86zM5.41 20L4 18.59l7.72-7.72 1.47 1.35L5.41 20z\"/>\n",
              "  </svg>\n",
              "      </button>\n",
              "      \n",
              "  <style>\n",
              "    .colab-df-container {\n",
              "      display:flex;\n",
              "      flex-wrap:wrap;\n",
              "      gap: 12px;\n",
              "    }\n",
              "\n",
              "    .colab-df-convert {\n",
              "      background-color: #E8F0FE;\n",
              "      border: none;\n",
              "      border-radius: 50%;\n",
              "      cursor: pointer;\n",
              "      display: none;\n",
              "      fill: #1967D2;\n",
              "      height: 32px;\n",
              "      padding: 0 0 0 0;\n",
              "      width: 32px;\n",
              "    }\n",
              "\n",
              "    .colab-df-convert:hover {\n",
              "      background-color: #E2EBFA;\n",
              "      box-shadow: 0px 1px 2px rgba(60, 64, 67, 0.3), 0px 1px 3px 1px rgba(60, 64, 67, 0.15);\n",
              "      fill: #174EA6;\n",
              "    }\n",
              "\n",
              "    [theme=dark] .colab-df-convert {\n",
              "      background-color: #3B4455;\n",
              "      fill: #D2E3FC;\n",
              "    }\n",
              "\n",
              "    [theme=dark] .colab-df-convert:hover {\n",
              "      background-color: #434B5C;\n",
              "      box-shadow: 0px 1px 3px 1px rgba(0, 0, 0, 0.15);\n",
              "      filter: drop-shadow(0px 1px 2px rgba(0, 0, 0, 0.3));\n",
              "      fill: #FFFFFF;\n",
              "    }\n",
              "  </style>\n",
              "\n",
              "      <script>\n",
              "        const buttonEl =\n",
              "          document.querySelector('#df-09dfeead-67c7-489b-90ae-9d080fc8f082 button.colab-df-convert');\n",
              "        buttonEl.style.display =\n",
              "          google.colab.kernel.accessAllowed ? 'block' : 'none';\n",
              "\n",
              "        async function convertToInteractive(key) {\n",
              "          const element = document.querySelector('#df-09dfeead-67c7-489b-90ae-9d080fc8f082');\n",
              "          const dataTable =\n",
              "            await google.colab.kernel.invokeFunction('convertToInteractive',\n",
              "                                                     [key], {});\n",
              "          if (!dataTable) return;\n",
              "\n",
              "          const docLinkHtml = 'Like what you see? Visit the ' +\n",
              "            '<a target=\"_blank\" href=https://colab.research.google.com/notebooks/data_table.ipynb>data table notebook</a>'\n",
              "            + ' to learn more about interactive tables.';\n",
              "          element.innerHTML = '';\n",
              "          dataTable['output_type'] = 'display_data';\n",
              "          await google.colab.output.renderOutput(dataTable, element);\n",
              "          const docLink = document.createElement('div');\n",
              "          docLink.innerHTML = docLinkHtml;\n",
              "          element.appendChild(docLink);\n",
              "        }\n",
              "      </script>\n",
              "    </div>\n",
              "  </div>\n",
              "  "
            ]
          },
          "metadata": {},
          "execution_count": 4
        }
      ],
      "source": [
        "data.head()"
      ]
    },
    {
      "cell_type": "markdown",
      "metadata": {
        "id": "t15-Sg4CfxbK"
      },
      "source": [
        "Let's look at the missing values."
      ]
    },
    {
      "cell_type": "code",
      "execution_count": 5,
      "metadata": {
        "colab": {
          "base_uri": "https://localhost:8080/"
        },
        "id": "5YQNGOTVf113",
        "outputId": "a0e79fff-bedd-41e3-9c33-52c3ab404f57"
      },
      "outputs": [
        {
          "output_type": "stream",
          "name": "stdout",
          "text": [
            "<class 'pandas.core.frame.DataFrame'>\n",
            "RangeIndex: 5000 entries, 0 to 4999\n",
            "Data columns (total 5 columns):\n",
            " #   Column             Non-Null Count  Dtype  \n",
            "---  ------             --------------  -----  \n",
            " 0   Пол                5000 non-null   int64  \n",
            " 1   Возраст            5000 non-null   float64\n",
            " 2   Зарплата           5000 non-null   float64\n",
            " 3   Члены семьи        5000 non-null   int64  \n",
            " 4   Страховые выплаты  5000 non-null   int64  \n",
            "dtypes: float64(2), int64(3)\n",
            "memory usage: 195.4 KB\n"
          ]
        }
      ],
      "source": [
        "data.info()"
      ]
    },
    {
      "cell_type": "markdown",
      "metadata": {
        "id": "l5C7kUCiizLc"
      },
      "source": [
        "Let's look at the unique values."
      ]
    },
    {
      "cell_type": "code",
      "execution_count": 6,
      "metadata": {
        "colab": {
          "base_uri": "https://localhost:8080/"
        },
        "id": "PgdoJl4Xi3mV",
        "outputId": "d486edf4-5d4b-4a3b-fe0d-abf61e5c8932"
      },
      "outputs": [
        {
          "output_type": "execute_result",
          "data": {
            "text/plain": [
              "0    2505\n",
              "1    2495\n",
              "Name: Пол, dtype: int64"
            ]
          },
          "metadata": {},
          "execution_count": 6
        }
      ],
      "source": [
        "data['Пол'].value_counts()"
      ]
    },
    {
      "cell_type": "code",
      "execution_count": 7,
      "metadata": {
        "colab": {
          "base_uri": "https://localhost:8080/"
        },
        "id": "zXdKlPFdi6q1",
        "outputId": "ff11b40f-b8e2-46db-bbfe-8c54e7881cc0"
      },
      "outputs": [
        {
          "output_type": "execute_result",
          "data": {
            "text/plain": [
              "19.00    223\n",
              "25.00    214\n",
              "31.00    212\n",
              "26.00    211\n",
              "22.00    209\n",
              "27.00    209\n",
              "32.00    206\n",
              "28.00    204\n",
              "29.00    203\n",
              "30.00    202\n",
              "23.00    202\n",
              "21.00    200\n",
              "20.00    195\n",
              "36.00    193\n",
              "33.00    191\n",
              "24.00    182\n",
              "35.00    179\n",
              "34.00    177\n",
              "37.00    147\n",
              "39.00    141\n",
              "38.00    139\n",
              "41.00    129\n",
              "18.00    117\n",
              "40.00    114\n",
              "42.00     93\n",
              "43.00     77\n",
              "44.00     74\n",
              "45.00     73\n",
              "46.00     60\n",
              "47.00     47\n",
              "49.00     37\n",
              "50.00     27\n",
              "48.00     26\n",
              "52.00     22\n",
              "51.00     21\n",
              "53.00     11\n",
              "55.00      9\n",
              "54.00      7\n",
              "56.00      5\n",
              "59.00      3\n",
              "57.00      2\n",
              "58.00      2\n",
              "60.00      2\n",
              "61.00      1\n",
              "65.00      1\n",
              "62.00      1\n",
              "Name: Возраст, dtype: int64"
            ]
          },
          "metadata": {},
          "execution_count": 7
        }
      ],
      "source": [
        "data['Возраст'].value_counts()"
      ]
    },
    {
      "cell_type": "code",
      "execution_count": 8,
      "metadata": {
        "colab": {
          "base_uri": "https://localhost:8080/"
        },
        "id": "z98S3_GXi7fa",
        "outputId": "f2b98730-7af8-48c8-9955-8e319c641790"
      },
      "outputs": [
        {
          "output_type": "execute_result",
          "data": {
            "text/plain": [
              "1    1814\n",
              "0    1513\n",
              "2    1071\n",
              "3     439\n",
              "4     124\n",
              "5      32\n",
              "6       7\n",
              "Name: Члены семьи, dtype: int64"
            ]
          },
          "metadata": {},
          "execution_count": 8
        }
      ],
      "source": [
        "data['Члены семьи'].value_counts()"
      ]
    },
    {
      "cell_type": "code",
      "execution_count": 9,
      "metadata": {
        "colab": {
          "base_uri": "https://localhost:8080/"
        },
        "id": "qkmHqgtQjBat",
        "outputId": "951b537e-0e51-4444-ede0-43197f8bb36f"
      },
      "outputs": [
        {
          "output_type": "execute_result",
          "data": {
            "text/plain": [
              "0    4436\n",
              "1     423\n",
              "2     115\n",
              "3      18\n",
              "4       7\n",
              "5       1\n",
              "Name: Страховые выплаты, dtype: int64"
            ]
          },
          "metadata": {},
          "execution_count": 9
        }
      ],
      "source": [
        "data['Страховые выплаты'].value_counts()"
      ]
    },
    {
      "cell_type": "code",
      "execution_count": 10,
      "metadata": {
        "id": "WaIHzDsCj-R8"
      },
      "outputs": [],
      "source": [
        "data['Возраст'] = data['Возраст'].astype(int)"
      ]
    },
    {
      "cell_type": "markdown",
      "metadata": {
        "id": "haS9h5EKjNN_"
      },
      "source": [
        "No errors or anomalies in the data are observed."
      ]
    },
    {
      "cell_type": "markdown",
      "metadata": {
        "id": "y68zJP00jUMx"
      },
      "source": [
        "Conclusion:\n",
        "* Dataset of 5000x5 is loaded;\n",
        "* No missing data is detected;\n",
        "* No errors or anomalies are detected;\n",
        "* The data of the age column is converted from float to int;\n",
        "\n",
        "The data is prepared for further work."
      ]
    },
    {
      "cell_type": "markdown",
      "metadata": {
        "id": "w3W_uNfd--JC"
      },
      "source": [
        "## 2. Matrix multiplication."
      ]
    },
    {
      "cell_type": "markdown",
      "metadata": {
        "id": "7_8sCzg2--JG"
      },
      "source": [
        "We use simplifications:\n",
        "\n",
        "$$\n",
        "(AB)^T=B^TA^T\n",
        "$$\n",
        "\n",
        "$$\n",
        "((AB)^T)^{-1}=((AB)^{-1})^{T}\n",
        "$$\n",
        "\n",
        "$$\n",
        "(AB)^{-1}=B^{-1}A^{-1}\n",
        "$$\n",
        "\n",
        "$$\n",
        "A(A)^{-1}=(A)^{-1}A=E\n",
        "$$\n",
        "\n",
        "$$\n",
        "EA=AE=A\n",
        "$$\n",
        "\n",
        "$$\n",
        "\\frac{d}{dX}X^Ta=a\n",
        "$$\n",
        "\n",
        "$$\n",
        "\\frac{d}{dX}X^TAX=(A+A^T)X\n",
        "$$\n",
        "\n",
        "where: \n",
        "- $E$ - A single matrix\n",
        "- $A$ - A symmetric matrix"
      ]
    },
    {
      "cell_type": "markdown",
      "metadata": {
        "id": "UhM4yEFc--JG"
      },
      "source": [
        "The dependence of the target indicator $y_i$ on the regressors of the i-th observation can be expressed through the equation of linear regression of the form:\n",
        "\n",
        "$$\n",
        "f(w,x_i)=w_0+w_1x_{1,i}+...+w_kx_{k,i}\n",
        "$$\n",
        "\n",
        "where: $x_i$ - i-th value of the regressor from 1 to n\n",
        "\n",
        "k - the number of regressors\n",
        "\n",
        "w - angular coefficients, which represent the amount by which the calculated target indicator will change on average when the regressor changes\n",
        "\n",
        "The quality of the approximating function is estimated by the least squares method:\n",
        "\n",
        "$$\n",
        "Err=\\sum\\limits_{i=1}^n{(y_i-f(x_i))^2} \\rightarrow min\n",
        "$$\n",
        "\n",
        "Let's write the equation in matrix form:\n",
        "\n",
        "$$\n",
        "Err={(\\overrightarrow{y}-X\\overrightarrow{w})^2} \\rightarrow min\n",
        "$$\n",
        "\n",
        "The equation supplemented with a weight matrix is written in a similar way\n",
        "$$\n",
        "Err={(\\overrightarrow{y}-XA\\overrightarrow{w})^2} \\rightarrow min\n",
        "$$\n",
        "\n",
        "Vector and matrix sizes:\n",
        "$X:(n, k)$, $\\overrightarrow{w}:(k, 1)$, $\\overrightarrow{y}:(n, 1)$, $A:(k, k)$\n",
        "\n",
        "At the same time, we take into account that the first coefficient $w_0$ in the linear regression equation is not multiplied by any regressor. To be able to count everything with matrices, each i-th value of the regressor $w_0$ is equated to one.\n",
        "\n",
        "Let's start unfolding the brackets in the formula with an additional matrix:\n",
        "\n",
        "$$\n",
        "(\\overrightarrow{y}-XA\\overrightarrow{w})^2=\n",
        "(\\overrightarrow{y}-XA\\overrightarrow{w})^T(\\overrightarrow{y}-XA\\overrightarrow{w})=\n",
        "(\\overrightarrow{y})^T\\overrightarrow{y}-(\\overrightarrow{y})^TXA\\overrightarrow{w}-(XA\\overrightarrow{w})^T\\overrightarrow{y}+(XA\\overrightarrow{w})^TXA\\overrightarrow{w}\n",
        "$$\n",
        "\n",
        "Transposition is due to the fact that a vector is obtained in the brackets\n",
        "\n",
        "Prepare the equation for differentiation:\n",
        "\n",
        "$$\n",
        "(\\overrightarrow{y})^TXA\\overrightarrow{w}=((X\\overrightarrow{w})^T\\overrightarrow{y})^T=(XA\\overrightarrow{w})^T\\overrightarrow{y}=\\overrightarrow{w}^TA^TX^T\\overrightarrow{y}=const\n",
        "$$\n",
        "\n",
        "$$\n",
        "(XA\\overrightarrow{w})^T\\overrightarrow{y}=\\overrightarrow{y}^TXA\\overrightarrow{w}=const\n",
        "$$\n",
        "\n",
        "$$\n",
        "(XA\\overrightarrow{w})^TXA\\overrightarrow{w}=\\overrightarrow{w}^TA^TX^TXA\\overrightarrow{w}\n",
        "$$\n",
        "\n",
        "since the result of the transformations is equal to const, T can be omitted and we get:\n",
        "\n",
        "$$\n",
        "Err=(\\overrightarrow{y})^T\\overrightarrow{y}-2\\overrightarrow{w}^TA^TX^T\\overrightarrow{y}+\\overrightarrow{w}^TA^TX^TXA\\overrightarrow{w}\n",
        "$$"
      ]
    },
    {
      "cell_type": "markdown",
      "metadata": {
        "id": "nw4OuoiLqshH"
      },
      "source": [
        "The solution to the minimization task is achieved by searching for the minimum error by the partial derivative of the weights:\n",
        "$$\n",
        "Err(X,\\overrightarrow{y},\\overrightarrow{w})\\rightarrow min_{\\overrightarrow{w}}\\leftrightarrow \\frac{dErr(X,\\overrightarrow{y},\\overrightarrow{w})}{d\\overrightarrow{w}}=0\n",
        "$$\n",
        "\n",
        "$$\n",
        "\\frac{dErr(X,\\overrightarrow{y},\\overrightarrow{w})}{d\\overrightarrow{w}}=\\frac{d}{d\\overrightarrow{w}}(\\overrightarrow{y}^T\\overrightarrow{y}-2\\overrightarrow{w}^TA^TX^T\\overrightarrow{y}+\\overrightarrow{w}^TA^TX^TXA\\overrightarrow{w})=\\frac{\\overrightarrow{y}^T\\overrightarrow{y}}{d\\overrightarrow{w}} - \n",
        "\\frac{2\\overrightarrow{w}^TA^TX^T\\overrightarrow{y}}{d\\overrightarrow{w}}+\n",
        "\\frac{\\overrightarrow{w}^TA^TX^TXA\\overrightarrow{w}}{d\\overrightarrow{w}}\n",
        "$$\n",
        "\n",
        "Let's write down each derivative separately:\n",
        "\n",
        "$$\n",
        "\\frac{\\overrightarrow{y}^T\\overrightarrow{y}}{d\\overrightarrow{w}}=0\n",
        "$$\n",
        "\n",
        "$$\n",
        "\\frac{2\\overrightarrow{w}^TA^TX^T\\overrightarrow{y}}{d\\overrightarrow{w}}=2A^TX^T\\overrightarrow{y}\n",
        "$$\n",
        "\n",
        "$$\n",
        "\\frac{\\overrightarrow{w}^TA^TX^TXA\\overrightarrow{w}}{d\\overrightarrow{w}}=(A^TX^TXA+(A^TX^TXA)^T)\\overrightarrow{w}=2A^TX^TXA\\overrightarrow{w}\n",
        "$$\n",
        "\n",
        "Next:\n",
        "$$\n",
        "\\frac{dErr(X,\\overrightarrow{y},\\overrightarrow{w})}{d\\overrightarrow{w}}=-2A^TX^T\\overrightarrow{y}+2A^TX^TXA\\overrightarrow{w}=0\n",
        "$$\n"
      ]
    },
    {
      "cell_type": "markdown",
      "metadata": {
        "id": "sSmYpesmtuGy"
      },
      "source": [
        "As a result, we get:\n",
        "\n",
        "$$\n",
        "A^TX^TXA\\overrightarrow{w}=A^TX^T\\overrightarrow{y}\n",
        "$$\n",
        "\n",
        "Using similar actions, the formula for linear regression without a transformation matrix can be derived:\n",
        "\n",
        "$$\n",
        "\\sum\\limits_{i=1}^n{(y_i-f(x_i))^2} = \\sum\\limits_{i=1}^n{(\\overrightarrow{y}-X\\overrightarrow{w})^2}=(\\overrightarrow{y}-X\\overrightarrow{w})^T(\\overrightarrow{y}-X\\overrightarrow{w})=\n",
        "\\overrightarrow{w}^TX^TX\\overrightarrow{w}-2\\overrightarrow{w}^TX^T\\overrightarrow{y}+\\overrightarrow{y}^T\\overrightarrow{y}\n",
        "$$\n",
        "\n",
        "Differentiate:\n",
        "$$\n",
        "\\frac{d(\\overrightarrow{w}^TX^TX\\overrightarrow{w}-2\\overrightarrow{w}^TX^T\\overrightarrow{y}+\\overrightarrow{y}^T\\overrightarrow{y})}{d\\overrightarrow{w}}=2X^TX\\overrightarrow{w}-2X^T\\overrightarrow{y}=0\n",
        "$$\n",
        "\n",
        "$$\n",
        "X^TX\\overrightarrow{w}=X^T\\overrightarrow{y}\n",
        "$$\n",
        "\n",
        "Multiply the expression without using the transformation matrix on the left by $A^T$ and equate the two matrices obtained\n",
        "\n",
        "$$\n",
        "A^TX^TXA\\overrightarrow{w}_{до}=A^TX^TX\\overrightarrow{w}_{после}\n",
        "$$\n",
        "\n",
        "Thus, the connection between the matrix has the following form:\n",
        "\n",
        "$$\n",
        "A\\overrightarrow{w}_{до}=\\overrightarrow{w}_{после}\n",
        "$$\n",
        "\n",
        "Return to the original data is possible using the inverse matrix\n",
        "\n",
        "$$\n",
        "\\overrightarrow{w}_{до}=A^{-1}\\overrightarrow{w}_{после}\n",
        "$$"
      ]
    },
    {
      "cell_type": "markdown",
      "metadata": {
        "id": "SvG2YQfsuL5I"
      },
      "source": [
        "The quality of the model when multiplying the features by the invertible matrix will not change.\n",
        "\n",
        "Let's check!"
      ]
    },
    {
      "cell_type": "markdown",
      "metadata": {
        "id": "vGlTuVmjo6VJ"
      },
      "source": [
        "Let's separate the training and test samples."
      ]
    },
    {
      "cell_type": "code",
      "execution_count": 11,
      "metadata": {
        "id": "adioWoVBkzvs"
      },
      "outputs": [],
      "source": [
        "train, test = train_test_split(data, \n",
        "                               shuffle=False, \n",
        "                               random_state=0)"
      ]
    },
    {
      "cell_type": "code",
      "execution_count": 12,
      "metadata": {
        "id": "hqpPc2Wuk7M4"
      },
      "outputs": [],
      "source": [
        "class Linear_Regression:\n",
        "    def fit(self, X_train, y_train):\n",
        "        X = np.concatenate((np.ones((X_train.shape[0], 1)), X_train), axis=1)\n",
        "        y = y_train\n",
        "        w = np.linalg.inv(X.T.dot(X)).dot(X.T).dot(y)\n",
        "        self.w = w[1:]\n",
        "        self.w0 = w[0]\n",
        "    def predict(self, X_test):\n",
        "        return X_test @ self.w + self.w0\n",
        "    def score(self, X, y, set_name):\n",
        "        print('r_2 on the {} sample: {:.2f}'.format(set_name,r2_score(y, self.predict(X))))"
      ]
    },
    {
      "cell_type": "code",
      "execution_count": 13,
      "metadata": {
        "colab": {
          "base_uri": "https://localhost:8080/"
        },
        "id": "IR8_JDJqlAA_",
        "outputId": "a290dc71-4439-44cc-9d28-68bca3a3ef60"
      },
      "outputs": [
        {
          "output_type": "stream",
          "name": "stdout",
          "text": [
            "r_2 on the train sample: 0.43\n",
            "r_2 on the test sample: 0.42\n"
          ]
        }
      ],
      "source": [
        "model_before = Linear_Regression()\n",
        "\n",
        "X_train = train.drop('Страховые выплаты', axis=1)\n",
        "y_train = train['Страховые выплаты']\n",
        "X_test = test.drop('Страховые выплаты', axis=1)\n",
        "y_test = test['Страховые выплаты']\n",
        "\n",
        "model_before.fit(X_train,y_train)\n",
        "model_before.score(X_train, y_train, 'train')\n",
        "model_before.score(X_test, y_test, 'test')"
      ]
    },
    {
      "cell_type": "markdown",
      "metadata": {
        "id": "DBNLaui0--JI"
      },
      "source": [
        "## 3. Transformation algorithm."
      ]
    },
    {
      "cell_type": "markdown",
      "metadata": {
        "id": "GX7lrJl5oC_G"
      },
      "source": [
        "It is necessary to multiply the feature matrix by the encryption matrix, as when multiplying, the number of columns of matrix A must be equal to the number of rows of matrix B. Therefore, the size of the encryption matrix that is multiplied is 4x4.\n",
        "\n",
        "We will generate the encryption matrix using np.random.random()."
      ]
    },
    {
      "cell_type": "markdown",
      "metadata": {
        "id": "xk91yoADlXPx"
      },
      "source": [
        "We will multiply the features by the inverse matrix."
      ]
    },
    {
      "cell_type": "code",
      "execution_count": 14,
      "metadata": {
        "id": "yqU3Nn7IlX9j"
      },
      "outputs": [],
      "source": [
        "random_matrix = np.array([])\n",
        "while True:\n",
        "    \n",
        "    random_matrix = np.random.random((X_train.shape[1], X_train.shape[1]))\n",
        "    \n",
        "    try:\n",
        "        np.linalg.inv(random_matrix)\n",
        "        break\n",
        "    except:\n",
        "        continue"
      ]
    },
    {
      "cell_type": "markdown",
      "metadata": {
        "id": "JQkHLnmX--JJ"
      },
      "source": [
        "## 4. Algorithm verification."
      ]
    },
    {
      "cell_type": "code",
      "execution_count": 15,
      "metadata": {
        "colab": {
          "base_uri": "https://localhost:8080/"
        },
        "id": "fkeA1_2NllBG",
        "outputId": "b9bc71c3-eec4-4160-9702-8d9ee11fd4df"
      },
      "outputs": [
        {
          "output_type": "stream",
          "name": "stdout",
          "text": [
            "r_2 on the train sample: 0.42\n",
            "r_2 on the test sample: 0.42\n"
          ]
        }
      ],
      "source": [
        "model_after = Linear_Regression()\n",
        "\n",
        "X_train_changed = X_train @ random_matrix\n",
        "X_test_changed = X_test @ random_matrix\n",
        "\n",
        "model_after = Linear_Regression()\n",
        "model_after.fit(X_train_changed, y_train)\n",
        "\n",
        "model_after.score(X_train_changed, y_train, 'train')\n",
        "model_after.score(X_test_changed, y_test, 'test')"
      ]
    },
    {
      "cell_type": "markdown",
      "metadata": {
        "id": "I67U5J7YpeXy"
      },
      "source": [
        "Let's see if the accuracy of the model has changed after encryption."
      ]
    },
    {
      "cell_type": "markdown",
      "metadata": {
        "id": "FOzuQQOKpoKx"
      },
      "source": [
        " The metric of the model before encryption."
      ]
    },
    {
      "cell_type": "code",
      "execution_count": 16,
      "metadata": {
        "colab": {
          "base_uri": "https://localhost:8080/"
        },
        "id": "U5P30JKPpZ1D",
        "outputId": "242f71d3-6b06-4d6d-b5b4-45c14ac43a41"
      },
      "outputs": [
        {
          "output_type": "stream",
          "name": "stdout",
          "text": [
            "r_2 on the train sample: 0.43\n",
            "r_2 on the test sample: 0.42\n"
          ]
        }
      ],
      "source": [
        "model_before.score(X_train, y_train, 'train')\n",
        "model_before.score(X_test, y_test, 'test')"
      ]
    },
    {
      "cell_type": "markdown",
      "metadata": {
        "id": "IIgVmqTcps7V"
      },
      "source": [
        "The metric of the model after encryption."
      ]
    },
    {
      "cell_type": "code",
      "execution_count": 17,
      "metadata": {
        "colab": {
          "base_uri": "https://localhost:8080/"
        },
        "id": "j9add4KlpX2i",
        "outputId": "6eaca686-a93a-47f4-a5c1-68179bcd58b6"
      },
      "outputs": [
        {
          "output_type": "stream",
          "name": "stdout",
          "text": [
            "r_2 on the train sample: 0.42\n",
            "r_2 on the test sample: 0.42\n"
          ]
        }
      ],
      "source": [
        "model_after.score(X_train_changed, y_train, 'train')\n",
        "model_after.score(X_test_changed, y_test, 'test')"
      ]
    },
    {
      "cell_type": "markdown",
      "metadata": {
        "id": "l2qucY1Jlut8"
      },
      "source": [
        "Conclusion: \n",
        "\n",
        "As we can see, the quality of the model did not change when multiplied by the inverse matrix."
      ]
    }
  ],
  "metadata": {
    "colab": {
      "provenance": []
    },
    "kernelspec": {
      "display_name": "Python 3 (ipykernel)",
      "language": "python",
      "name": "python3"
    },
    "language_info": {
      "codemirror_mode": {
        "name": "ipython",
        "version": 3
      },
      "file_extension": ".py",
      "mimetype": "text/x-python",
      "name": "python",
      "nbconvert_exporter": "python",
      "pygments_lexer": "ipython3",
      "version": "3.9.5"
    },
    "toc": {
      "base_numbering": 1,
      "nav_menu": {},
      "number_sections": true,
      "sideBar": true,
      "skip_h1_title": true,
      "title_cell": "Содержание",
      "title_sidebar": "Contents",
      "toc_cell": true,
      "toc_position": {},
      "toc_section_display": true,
      "toc_window_display": true
    }
  },
  "nbformat": 4,
  "nbformat_minor": 0
}
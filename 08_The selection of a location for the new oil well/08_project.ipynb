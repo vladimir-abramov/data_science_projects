{
  "cells": [
    {
      "cell_type": "markdown",
      "metadata": {
        "id": "_KUtBxi2Cvyi"
      },
      "source": [
        "# The selection of a location for the new oil well."
      ]
    },
    {
      "cell_type": "markdown",
      "metadata": {
        "id": "iWqNI71sCvym"
      },
      "source": [
        "We need to decide where to drill new wells. \n",
        "\n",
        "We have been provided with samples of oil in three regions, with 10,000 sites in each, where the quality of the oil and the volume of its reserves have been measured. We will build a machine learning model to help determine the region where extraction will bring the highest profit. We will analyze the potential profit and risks using the Bootstrap technique.\n",
        "\n",
        "Steps for selecting a location:\n",
        "\n",
        "- In the chosen region, sites are searched for, and values of features are determined for each;\n",
        "- A model is built and the volume of reserves is estimated;\n",
        "- Sites with the highest value ratings are selected. The number of sites depends on the company's budget and the cost of developing one well;\n",
        "- The profit is equal to the total profit of the selected sites."
      ]
    },
    {
      "cell_type": "markdown",
      "metadata": {
        "id": "-bMitDQdHwKx"
      },
      "source": [
        "## Task conditions:\n",
        "* Only linear regression is suitable for training the model (others are not predictable enough).\n",
        "* 500 points are explored during the exploration of the region, from which 200 of the best are selected for development using machine learning.\n",
        "* The budget for developing wells in the region is 10 billion rubles.\n",
        "* At current prices, one barrel of raw material brings 450 rubles of income. The income from each unit of product is 450 thousand rubles, since the volume is indicated in thousands of barrels.\n",
        "* After assessing the risks, only those regions with a probability of losses less than 2.5% should be left. Among them, the region with the highest average profit is chosen."
      ]
    },
    {
      "cell_type": "markdown",
      "metadata": {
        "id": "HUAbGH7_DhtD"
      },
      "source": [
        "## Contents:\n",
        "1. Reviewing and preprocessing of data.\n",
        "2. Traning and testing model.\n",
        "3. Preparing for profit calculation.\n",
        "4. Calculating profits and risks.\n",
        "5. Overall conclusion."
      ]
    },
    {
      "cell_type": "markdown",
      "metadata": {
        "id": "5uIca10zEdqi"
      },
      "source": [
        "## Description of data:\n",
        "\n",
        "* ID is a unique identifier for the well. \n",
        "* F0, F1, and F2 are three features of the points (it doesn't matter what they mean, but the features themselves are significant). \n",
        "* Product is the volume of reserves in the well (thousands of barrels)."
      ]
    },
    {
      "cell_type": "markdown",
      "metadata": {
        "id": "FfcOYZCnIIn6"
      },
      "source": [
        "## Plan for project execution:\n",
        "1. Load and prepare the data.\n",
        "2. Train and test the model for each region:\n",
        " - 2.1. Split the data into a training and validation set in a 75:25 ratio.\n",
        " - 2.2. Train the model and make predictions on the validation set.\n",
        " - 2.3. Save the predictions and the correct answers on the validation set.\n",
        " - 2.4. Print the average reserve of the predicted raw material and the RMSE of the model on the screen.\n",
        " - 2.5. Analyze the results.\n",
        "3. Prepare for profit calculation:\n",
        " - 3.1. Save all the key values for the calculations in separate variables.\n",
        " - 3.2. Calculate the sufficient volume of raw material for the break-even development of a new well. Compare the obtained volume of raw material with the average reserve in each region.\n",
        "  - 3.3. Write conclusions for the stage of preparation of profit calculation.\n",
        "4. Write a function for calculating the profit for the selected wells and model predictions:\n",
        " - 4.1. Select wells with the maximum prediction values.\n",
        " - 4.2. Sum up the target value of the raw material volume corresponding to these predictions.\n",
        " - 4.3. Calculate the profit for the obtained volume of raw material.\n",
        "5. Calculate the risks and profits for each region:\n",
        " - 5.1. Apply the Bootstrap technique with 1000 samples to find the profit distribution.\n",
        " - 5.2. Find the average profit, 95% confidence interval, and risk of loss. Loss is a negative profit.\n",
        " - 5.3. Write conclusions: propose a region for well development and justify the choice."
      ]
    },
    {
      "cell_type": "markdown",
      "metadata": {
        "id": "a4Ne2hVVCvyn"
      },
      "source": [
        "## 1. Reviewing and preprocessing of data."
      ]
    },
    {
      "cell_type": "code",
      "execution_count": 1,
      "metadata": {
        "id": "NhaEi6Y0Cvyo"
      },
      "outputs": [],
      "source": [
        "import pandas as pd\n",
        "import numpy as np\n",
        "\n",
        "from sklearn.linear_model import LinearRegression\n",
        "from sklearn.preprocessing import StandardScaler\n",
        "\n",
        "from sklearn.model_selection import train_test_split\n",
        "from sklearn.metrics import mean_squared_error\n",
        "\n",
        "from numpy.random import RandomState"
      ]
    },
    {
      "cell_type": "code",
      "execution_count": 2,
      "metadata": {
        "id": "2y_RJAZDqh0c"
      },
      "outputs": [],
      "source": [
        "pd.set_option('display.max_columns', 50)\n",
        "pd.options.display.float_format = '{:,.2f}'.format"
      ]
    },
    {
      "cell_type": "markdown",
      "metadata": {
        "id": "JdaHx8L_rVoH"
      },
      "source": [
        "Let's load the data."
      ]
    },
    {
      "cell_type": "code",
      "execution_count": 3,
      "metadata": {
        "id": "zS3b1Iytrbn2"
      },
      "outputs": [],
      "source": [
        "url_1 = 'https://code.s3.yandex.net/datasets/geo_data_0.csv'\n",
        "url_2 = 'https://code.s3.yandex.net/datasets/geo_data_1.csv'\n",
        "url_3 = 'https://code.s3.yandex.net/datasets/geo_data_2.csv'\n",
        "\n",
        "geo_data_1 = pd.read_csv(url_1)\n",
        "geo_data_2 = pd.read_csv(url_2)\n",
        "geo_data_3 = pd.read_csv(url_3)"
      ]
    },
    {
      "cell_type": "markdown",
      "metadata": {
        "id": "snK7zVmdt73q"
      },
      "source": [
        "Let's take a look at the data."
      ]
    },
    {
      "cell_type": "code",
      "execution_count": 4,
      "metadata": {
        "colab": {
          "base_uri": "https://localhost:8080/",
          "height": 143
        },
        "id": "Jsu01sh1t-nm",
        "outputId": "4975fb9c-f426-4f17-c79c-4c8b63db7811"
      },
      "outputs": [
        {
          "output_type": "execute_result",
          "data": {
            "text/plain": [
              "      id   f0    f1   f2  product\n",
              "0  txEyH 0.71 -0.50 1.22   105.28\n",
              "1  2acmU 1.33 -0.34 4.37    73.04\n",
              "2  409Wp 1.02  0.15 1.42    85.27"
            ],
            "text/html": [
              "\n",
              "  <div id=\"df-90c25b65-98e3-4b49-afbb-5f524271d56a\">\n",
              "    <div class=\"colab-df-container\">\n",
              "      <div>\n",
              "<style scoped>\n",
              "    .dataframe tbody tr th:only-of-type {\n",
              "        vertical-align: middle;\n",
              "    }\n",
              "\n",
              "    .dataframe tbody tr th {\n",
              "        vertical-align: top;\n",
              "    }\n",
              "\n",
              "    .dataframe thead th {\n",
              "        text-align: right;\n",
              "    }\n",
              "</style>\n",
              "<table border=\"1\" class=\"dataframe\">\n",
              "  <thead>\n",
              "    <tr style=\"text-align: right;\">\n",
              "      <th></th>\n",
              "      <th>id</th>\n",
              "      <th>f0</th>\n",
              "      <th>f1</th>\n",
              "      <th>f2</th>\n",
              "      <th>product</th>\n",
              "    </tr>\n",
              "  </thead>\n",
              "  <tbody>\n",
              "    <tr>\n",
              "      <th>0</th>\n",
              "      <td>txEyH</td>\n",
              "      <td>0.71</td>\n",
              "      <td>-0.50</td>\n",
              "      <td>1.22</td>\n",
              "      <td>105.28</td>\n",
              "    </tr>\n",
              "    <tr>\n",
              "      <th>1</th>\n",
              "      <td>2acmU</td>\n",
              "      <td>1.33</td>\n",
              "      <td>-0.34</td>\n",
              "      <td>4.37</td>\n",
              "      <td>73.04</td>\n",
              "    </tr>\n",
              "    <tr>\n",
              "      <th>2</th>\n",
              "      <td>409Wp</td>\n",
              "      <td>1.02</td>\n",
              "      <td>0.15</td>\n",
              "      <td>1.42</td>\n",
              "      <td>85.27</td>\n",
              "    </tr>\n",
              "  </tbody>\n",
              "</table>\n",
              "</div>\n",
              "      <button class=\"colab-df-convert\" onclick=\"convertToInteractive('df-90c25b65-98e3-4b49-afbb-5f524271d56a')\"\n",
              "              title=\"Convert this dataframe to an interactive table.\"\n",
              "              style=\"display:none;\">\n",
              "        \n",
              "  <svg xmlns=\"http://www.w3.org/2000/svg\" height=\"24px\"viewBox=\"0 0 24 24\"\n",
              "       width=\"24px\">\n",
              "    <path d=\"M0 0h24v24H0V0z\" fill=\"none\"/>\n",
              "    <path d=\"M18.56 5.44l.94 2.06.94-2.06 2.06-.94-2.06-.94-.94-2.06-.94 2.06-2.06.94zm-11 1L8.5 8.5l.94-2.06 2.06-.94-2.06-.94L8.5 2.5l-.94 2.06-2.06.94zm10 10l.94 2.06.94-2.06 2.06-.94-2.06-.94-.94-2.06-.94 2.06-2.06.94z\"/><path d=\"M17.41 7.96l-1.37-1.37c-.4-.4-.92-.59-1.43-.59-.52 0-1.04.2-1.43.59L10.3 9.45l-7.72 7.72c-.78.78-.78 2.05 0 2.83L4 21.41c.39.39.9.59 1.41.59.51 0 1.02-.2 1.41-.59l7.78-7.78 2.81-2.81c.8-.78.8-2.07 0-2.86zM5.41 20L4 18.59l7.72-7.72 1.47 1.35L5.41 20z\"/>\n",
              "  </svg>\n",
              "      </button>\n",
              "      \n",
              "  <style>\n",
              "    .colab-df-container {\n",
              "      display:flex;\n",
              "      flex-wrap:wrap;\n",
              "      gap: 12px;\n",
              "    }\n",
              "\n",
              "    .colab-df-convert {\n",
              "      background-color: #E8F0FE;\n",
              "      border: none;\n",
              "      border-radius: 50%;\n",
              "      cursor: pointer;\n",
              "      display: none;\n",
              "      fill: #1967D2;\n",
              "      height: 32px;\n",
              "      padding: 0 0 0 0;\n",
              "      width: 32px;\n",
              "    }\n",
              "\n",
              "    .colab-df-convert:hover {\n",
              "      background-color: #E2EBFA;\n",
              "      box-shadow: 0px 1px 2px rgba(60, 64, 67, 0.3), 0px 1px 3px 1px rgba(60, 64, 67, 0.15);\n",
              "      fill: #174EA6;\n",
              "    }\n",
              "\n",
              "    [theme=dark] .colab-df-convert {\n",
              "      background-color: #3B4455;\n",
              "      fill: #D2E3FC;\n",
              "    }\n",
              "\n",
              "    [theme=dark] .colab-df-convert:hover {\n",
              "      background-color: #434B5C;\n",
              "      box-shadow: 0px 1px 3px 1px rgba(0, 0, 0, 0.15);\n",
              "      filter: drop-shadow(0px 1px 2px rgba(0, 0, 0, 0.3));\n",
              "      fill: #FFFFFF;\n",
              "    }\n",
              "  </style>\n",
              "\n",
              "      <script>\n",
              "        const buttonEl =\n",
              "          document.querySelector('#df-90c25b65-98e3-4b49-afbb-5f524271d56a button.colab-df-convert');\n",
              "        buttonEl.style.display =\n",
              "          google.colab.kernel.accessAllowed ? 'block' : 'none';\n",
              "\n",
              "        async function convertToInteractive(key) {\n",
              "          const element = document.querySelector('#df-90c25b65-98e3-4b49-afbb-5f524271d56a');\n",
              "          const dataTable =\n",
              "            await google.colab.kernel.invokeFunction('convertToInteractive',\n",
              "                                                     [key], {});\n",
              "          if (!dataTable) return;\n",
              "\n",
              "          const docLinkHtml = 'Like what you see? Visit the ' +\n",
              "            '<a target=\"_blank\" href=https://colab.research.google.com/notebooks/data_table.ipynb>data table notebook</a>'\n",
              "            + ' to learn more about interactive tables.';\n",
              "          element.innerHTML = '';\n",
              "          dataTable['output_type'] = 'display_data';\n",
              "          await google.colab.output.renderOutput(dataTable, element);\n",
              "          const docLink = document.createElement('div');\n",
              "          docLink.innerHTML = docLinkHtml;\n",
              "          element.appendChild(docLink);\n",
              "        }\n",
              "      </script>\n",
              "    </div>\n",
              "  </div>\n",
              "  "
            ]
          },
          "metadata": {},
          "execution_count": 4
        }
      ],
      "source": [
        "geo_data_1.head(3)"
      ]
    },
    {
      "cell_type": "code",
      "execution_count": 5,
      "metadata": {
        "colab": {
          "base_uri": "https://localhost:8080/",
          "height": 143
        },
        "id": "7ZFgWksVuKU9",
        "outputId": "0a11d043-ef57-40ac-de87-05e73bce088a"
      },
      "outputs": [
        {
          "output_type": "execute_result",
          "data": {
            "text/plain": [
              "      id     f0    f1    f2  product\n",
              "0  kBEdx -15.00 -8.28 -0.01     3.18\n",
              "1  62mP7  14.27 -3.48  1.00    26.95\n",
              "2  vyE1P   6.26 -5.95  5.00   134.77"
            ],
            "text/html": [
              "\n",
              "  <div id=\"df-c83180fc-2557-4efe-ba34-1ec771133466\">\n",
              "    <div class=\"colab-df-container\">\n",
              "      <div>\n",
              "<style scoped>\n",
              "    .dataframe tbody tr th:only-of-type {\n",
              "        vertical-align: middle;\n",
              "    }\n",
              "\n",
              "    .dataframe tbody tr th {\n",
              "        vertical-align: top;\n",
              "    }\n",
              "\n",
              "    .dataframe thead th {\n",
              "        text-align: right;\n",
              "    }\n",
              "</style>\n",
              "<table border=\"1\" class=\"dataframe\">\n",
              "  <thead>\n",
              "    <tr style=\"text-align: right;\">\n",
              "      <th></th>\n",
              "      <th>id</th>\n",
              "      <th>f0</th>\n",
              "      <th>f1</th>\n",
              "      <th>f2</th>\n",
              "      <th>product</th>\n",
              "    </tr>\n",
              "  </thead>\n",
              "  <tbody>\n",
              "    <tr>\n",
              "      <th>0</th>\n",
              "      <td>kBEdx</td>\n",
              "      <td>-15.00</td>\n",
              "      <td>-8.28</td>\n",
              "      <td>-0.01</td>\n",
              "      <td>3.18</td>\n",
              "    </tr>\n",
              "    <tr>\n",
              "      <th>1</th>\n",
              "      <td>62mP7</td>\n",
              "      <td>14.27</td>\n",
              "      <td>-3.48</td>\n",
              "      <td>1.00</td>\n",
              "      <td>26.95</td>\n",
              "    </tr>\n",
              "    <tr>\n",
              "      <th>2</th>\n",
              "      <td>vyE1P</td>\n",
              "      <td>6.26</td>\n",
              "      <td>-5.95</td>\n",
              "      <td>5.00</td>\n",
              "      <td>134.77</td>\n",
              "    </tr>\n",
              "  </tbody>\n",
              "</table>\n",
              "</div>\n",
              "      <button class=\"colab-df-convert\" onclick=\"convertToInteractive('df-c83180fc-2557-4efe-ba34-1ec771133466')\"\n",
              "              title=\"Convert this dataframe to an interactive table.\"\n",
              "              style=\"display:none;\">\n",
              "        \n",
              "  <svg xmlns=\"http://www.w3.org/2000/svg\" height=\"24px\"viewBox=\"0 0 24 24\"\n",
              "       width=\"24px\">\n",
              "    <path d=\"M0 0h24v24H0V0z\" fill=\"none\"/>\n",
              "    <path d=\"M18.56 5.44l.94 2.06.94-2.06 2.06-.94-2.06-.94-.94-2.06-.94 2.06-2.06.94zm-11 1L8.5 8.5l.94-2.06 2.06-.94-2.06-.94L8.5 2.5l-.94 2.06-2.06.94zm10 10l.94 2.06.94-2.06 2.06-.94-2.06-.94-.94-2.06-.94 2.06-2.06.94z\"/><path d=\"M17.41 7.96l-1.37-1.37c-.4-.4-.92-.59-1.43-.59-.52 0-1.04.2-1.43.59L10.3 9.45l-7.72 7.72c-.78.78-.78 2.05 0 2.83L4 21.41c.39.39.9.59 1.41.59.51 0 1.02-.2 1.41-.59l7.78-7.78 2.81-2.81c.8-.78.8-2.07 0-2.86zM5.41 20L4 18.59l7.72-7.72 1.47 1.35L5.41 20z\"/>\n",
              "  </svg>\n",
              "      </button>\n",
              "      \n",
              "  <style>\n",
              "    .colab-df-container {\n",
              "      display:flex;\n",
              "      flex-wrap:wrap;\n",
              "      gap: 12px;\n",
              "    }\n",
              "\n",
              "    .colab-df-convert {\n",
              "      background-color: #E8F0FE;\n",
              "      border: none;\n",
              "      border-radius: 50%;\n",
              "      cursor: pointer;\n",
              "      display: none;\n",
              "      fill: #1967D2;\n",
              "      height: 32px;\n",
              "      padding: 0 0 0 0;\n",
              "      width: 32px;\n",
              "    }\n",
              "\n",
              "    .colab-df-convert:hover {\n",
              "      background-color: #E2EBFA;\n",
              "      box-shadow: 0px 1px 2px rgba(60, 64, 67, 0.3), 0px 1px 3px 1px rgba(60, 64, 67, 0.15);\n",
              "      fill: #174EA6;\n",
              "    }\n",
              "\n",
              "    [theme=dark] .colab-df-convert {\n",
              "      background-color: #3B4455;\n",
              "      fill: #D2E3FC;\n",
              "    }\n",
              "\n",
              "    [theme=dark] .colab-df-convert:hover {\n",
              "      background-color: #434B5C;\n",
              "      box-shadow: 0px 1px 3px 1px rgba(0, 0, 0, 0.15);\n",
              "      filter: drop-shadow(0px 1px 2px rgba(0, 0, 0, 0.3));\n",
              "      fill: #FFFFFF;\n",
              "    }\n",
              "  </style>\n",
              "\n",
              "      <script>\n",
              "        const buttonEl =\n",
              "          document.querySelector('#df-c83180fc-2557-4efe-ba34-1ec771133466 button.colab-df-convert');\n",
              "        buttonEl.style.display =\n",
              "          google.colab.kernel.accessAllowed ? 'block' : 'none';\n",
              "\n",
              "        async function convertToInteractive(key) {\n",
              "          const element = document.querySelector('#df-c83180fc-2557-4efe-ba34-1ec771133466');\n",
              "          const dataTable =\n",
              "            await google.colab.kernel.invokeFunction('convertToInteractive',\n",
              "                                                     [key], {});\n",
              "          if (!dataTable) return;\n",
              "\n",
              "          const docLinkHtml = 'Like what you see? Visit the ' +\n",
              "            '<a target=\"_blank\" href=https://colab.research.google.com/notebooks/data_table.ipynb>data table notebook</a>'\n",
              "            + ' to learn more about interactive tables.';\n",
              "          element.innerHTML = '';\n",
              "          dataTable['output_type'] = 'display_data';\n",
              "          await google.colab.output.renderOutput(dataTable, element);\n",
              "          const docLink = document.createElement('div');\n",
              "          docLink.innerHTML = docLinkHtml;\n",
              "          element.appendChild(docLink);\n",
              "        }\n",
              "      </script>\n",
              "    </div>\n",
              "  </div>\n",
              "  "
            ]
          },
          "metadata": {},
          "execution_count": 5
        }
      ],
      "source": [
        "geo_data_2.head(3)"
      ]
    },
    {
      "cell_type": "code",
      "execution_count": 6,
      "metadata": {
        "colab": {
          "base_uri": "https://localhost:8080/",
          "height": 143
        },
        "id": "DfcvtStCuOGo",
        "outputId": "82735719-0548-4330-db84-057d2b5e0677"
      },
      "outputs": [
        {
          "output_type": "execute_result",
          "data": {
            "text/plain": [
              "      id    f0   f1    f2  product\n",
              "0  fwXo0 -1.15 0.96 -0.83    27.76\n",
              "1  WJtFt  0.26 0.27 -2.53    56.07\n",
              "2  ovLUW  0.19 0.29 -5.59    62.87"
            ],
            "text/html": [
              "\n",
              "  <div id=\"df-15bdd9e1-480c-4fae-9bdc-9617002644ae\">\n",
              "    <div class=\"colab-df-container\">\n",
              "      <div>\n",
              "<style scoped>\n",
              "    .dataframe tbody tr th:only-of-type {\n",
              "        vertical-align: middle;\n",
              "    }\n",
              "\n",
              "    .dataframe tbody tr th {\n",
              "        vertical-align: top;\n",
              "    }\n",
              "\n",
              "    .dataframe thead th {\n",
              "        text-align: right;\n",
              "    }\n",
              "</style>\n",
              "<table border=\"1\" class=\"dataframe\">\n",
              "  <thead>\n",
              "    <tr style=\"text-align: right;\">\n",
              "      <th></th>\n",
              "      <th>id</th>\n",
              "      <th>f0</th>\n",
              "      <th>f1</th>\n",
              "      <th>f2</th>\n",
              "      <th>product</th>\n",
              "    </tr>\n",
              "  </thead>\n",
              "  <tbody>\n",
              "    <tr>\n",
              "      <th>0</th>\n",
              "      <td>fwXo0</td>\n",
              "      <td>-1.15</td>\n",
              "      <td>0.96</td>\n",
              "      <td>-0.83</td>\n",
              "      <td>27.76</td>\n",
              "    </tr>\n",
              "    <tr>\n",
              "      <th>1</th>\n",
              "      <td>WJtFt</td>\n",
              "      <td>0.26</td>\n",
              "      <td>0.27</td>\n",
              "      <td>-2.53</td>\n",
              "      <td>56.07</td>\n",
              "    </tr>\n",
              "    <tr>\n",
              "      <th>2</th>\n",
              "      <td>ovLUW</td>\n",
              "      <td>0.19</td>\n",
              "      <td>0.29</td>\n",
              "      <td>-5.59</td>\n",
              "      <td>62.87</td>\n",
              "    </tr>\n",
              "  </tbody>\n",
              "</table>\n",
              "</div>\n",
              "      <button class=\"colab-df-convert\" onclick=\"convertToInteractive('df-15bdd9e1-480c-4fae-9bdc-9617002644ae')\"\n",
              "              title=\"Convert this dataframe to an interactive table.\"\n",
              "              style=\"display:none;\">\n",
              "        \n",
              "  <svg xmlns=\"http://www.w3.org/2000/svg\" height=\"24px\"viewBox=\"0 0 24 24\"\n",
              "       width=\"24px\">\n",
              "    <path d=\"M0 0h24v24H0V0z\" fill=\"none\"/>\n",
              "    <path d=\"M18.56 5.44l.94 2.06.94-2.06 2.06-.94-2.06-.94-.94-2.06-.94 2.06-2.06.94zm-11 1L8.5 8.5l.94-2.06 2.06-.94-2.06-.94L8.5 2.5l-.94 2.06-2.06.94zm10 10l.94 2.06.94-2.06 2.06-.94-2.06-.94-.94-2.06-.94 2.06-2.06.94z\"/><path d=\"M17.41 7.96l-1.37-1.37c-.4-.4-.92-.59-1.43-.59-.52 0-1.04.2-1.43.59L10.3 9.45l-7.72 7.72c-.78.78-.78 2.05 0 2.83L4 21.41c.39.39.9.59 1.41.59.51 0 1.02-.2 1.41-.59l7.78-7.78 2.81-2.81c.8-.78.8-2.07 0-2.86zM5.41 20L4 18.59l7.72-7.72 1.47 1.35L5.41 20z\"/>\n",
              "  </svg>\n",
              "      </button>\n",
              "      \n",
              "  <style>\n",
              "    .colab-df-container {\n",
              "      display:flex;\n",
              "      flex-wrap:wrap;\n",
              "      gap: 12px;\n",
              "    }\n",
              "\n",
              "    .colab-df-convert {\n",
              "      background-color: #E8F0FE;\n",
              "      border: none;\n",
              "      border-radius: 50%;\n",
              "      cursor: pointer;\n",
              "      display: none;\n",
              "      fill: #1967D2;\n",
              "      height: 32px;\n",
              "      padding: 0 0 0 0;\n",
              "      width: 32px;\n",
              "    }\n",
              "\n",
              "    .colab-df-convert:hover {\n",
              "      background-color: #E2EBFA;\n",
              "      box-shadow: 0px 1px 2px rgba(60, 64, 67, 0.3), 0px 1px 3px 1px rgba(60, 64, 67, 0.15);\n",
              "      fill: #174EA6;\n",
              "    }\n",
              "\n",
              "    [theme=dark] .colab-df-convert {\n",
              "      background-color: #3B4455;\n",
              "      fill: #D2E3FC;\n",
              "    }\n",
              "\n",
              "    [theme=dark] .colab-df-convert:hover {\n",
              "      background-color: #434B5C;\n",
              "      box-shadow: 0px 1px 3px 1px rgba(0, 0, 0, 0.15);\n",
              "      filter: drop-shadow(0px 1px 2px rgba(0, 0, 0, 0.3));\n",
              "      fill: #FFFFFF;\n",
              "    }\n",
              "  </style>\n",
              "\n",
              "      <script>\n",
              "        const buttonEl =\n",
              "          document.querySelector('#df-15bdd9e1-480c-4fae-9bdc-9617002644ae button.colab-df-convert');\n",
              "        buttonEl.style.display =\n",
              "          google.colab.kernel.accessAllowed ? 'block' : 'none';\n",
              "\n",
              "        async function convertToInteractive(key) {\n",
              "          const element = document.querySelector('#df-15bdd9e1-480c-4fae-9bdc-9617002644ae');\n",
              "          const dataTable =\n",
              "            await google.colab.kernel.invokeFunction('convertToInteractive',\n",
              "                                                     [key], {});\n",
              "          if (!dataTable) return;\n",
              "\n",
              "          const docLinkHtml = 'Like what you see? Visit the ' +\n",
              "            '<a target=\"_blank\" href=https://colab.research.google.com/notebooks/data_table.ipynb>data table notebook</a>'\n",
              "            + ' to learn more about interactive tables.';\n",
              "          element.innerHTML = '';\n",
              "          dataTable['output_type'] = 'display_data';\n",
              "          await google.colab.output.renderOutput(dataTable, element);\n",
              "          const docLink = document.createElement('div');\n",
              "          docLink.innerHTML = docLinkHtml;\n",
              "          element.appendChild(docLink);\n",
              "        }\n",
              "      </script>\n",
              "    </div>\n",
              "  </div>\n",
              "  "
            ]
          },
          "metadata": {},
          "execution_count": 6
        }
      ],
      "source": [
        "geo_data_3.head(3)"
      ]
    },
    {
      "cell_type": "markdown",
      "metadata": {
        "id": "XqG0kxWyuW9L"
      },
      "source": [
        "Let's look at the info of the datasets."
      ]
    },
    {
      "cell_type": "code",
      "execution_count": 7,
      "metadata": {
        "colab": {
          "base_uri": "https://localhost:8080/"
        },
        "id": "I6atFrZ-Cvyp",
        "outputId": "c1e83552-38aa-4071-872c-a8ab000aed70"
      },
      "outputs": [
        {
          "output_type": "stream",
          "name": "stdout",
          "text": [
            "geo_data_1\n",
            "<class 'pandas.core.frame.DataFrame'>\n",
            "RangeIndex: 100000 entries, 0 to 99999\n",
            "Data columns (total 5 columns):\n",
            " #   Column   Non-Null Count   Dtype  \n",
            "---  ------   --------------   -----  \n",
            " 0   id       100000 non-null  object \n",
            " 1   f0       100000 non-null  float64\n",
            " 2   f1       100000 non-null  float64\n",
            " 3   f2       100000 non-null  float64\n",
            " 4   product  100000 non-null  float64\n",
            "dtypes: float64(4), object(1)\n",
            "memory usage: 3.8+ MB\n",
            "\n",
            "geo_data_2\n",
            "<class 'pandas.core.frame.DataFrame'>\n",
            "RangeIndex: 100000 entries, 0 to 99999\n",
            "Data columns (total 5 columns):\n",
            " #   Column   Non-Null Count   Dtype  \n",
            "---  ------   --------------   -----  \n",
            " 0   id       100000 non-null  object \n",
            " 1   f0       100000 non-null  float64\n",
            " 2   f1       100000 non-null  float64\n",
            " 3   f2       100000 non-null  float64\n",
            " 4   product  100000 non-null  float64\n",
            "dtypes: float64(4), object(1)\n",
            "memory usage: 3.8+ MB\n",
            "\n",
            "geo_data_3\n",
            "<class 'pandas.core.frame.DataFrame'>\n",
            "RangeIndex: 100000 entries, 0 to 99999\n",
            "Data columns (total 5 columns):\n",
            " #   Column   Non-Null Count   Dtype  \n",
            "---  ------   --------------   -----  \n",
            " 0   id       100000 non-null  object \n",
            " 1   f0       100000 non-null  float64\n",
            " 2   f1       100000 non-null  float64\n",
            " 3   f2       100000 non-null  float64\n",
            " 4   product  100000 non-null  float64\n",
            "dtypes: float64(4), object(1)\n",
            "memory usage: 3.8+ MB\n"
          ]
        }
      ],
      "source": [
        "print('geo_data_1')\n",
        "geo_data_1.info()\n",
        "print()\n",
        "print('geo_data_2')\n",
        "geo_data_2.info()\n",
        "print()\n",
        "print('geo_data_3')\n",
        "geo_data_3.info()"
      ]
    },
    {
      "cell_type": "markdown",
      "metadata": {
        "id": "MLLGexYOtTrD"
      },
      "source": [
        "No missing values were detected."
      ]
    },
    {
      "cell_type": "markdown",
      "metadata": {
        "id": "Kb7CxwuMtZk7"
      },
      "source": [
        "Let's check for duplicates."
      ]
    },
    {
      "cell_type": "code",
      "execution_count": 8,
      "metadata": {
        "colab": {
          "base_uri": "https://localhost:8080/"
        },
        "id": "qPfDBrCsthQy",
        "outputId": "dada5023-aea4-4bfb-d103-7c65a8bd973f"
      },
      "outputs": [
        {
          "output_type": "stream",
          "name": "stdout",
          "text": [
            "The number of duplicates geo_data_1: 0\n",
            "The number of duplicates geo_data_2: 0\n",
            "The number of duplicates geo_data_3: 0\n"
          ]
        }
      ],
      "source": [
        "print('The number of duplicates geo_data_1:', geo_data_1.duplicated().sum())\n",
        "print('The number of duplicates geo_data_2:', geo_data_2.duplicated().sum())\n",
        "print('The number of duplicates geo_data_3:', geo_data_3.duplicated().sum())"
      ]
    },
    {
      "cell_type": "markdown",
      "metadata": {
        "id": "qe8JBK3Otqhb"
      },
      "source": [
        "No duplicates were identified."
      ]
    },
    {
      "cell_type": "markdown",
      "metadata": {
        "id": "jTUlSaQsXcoQ"
      },
      "source": [
        "We will remove the column with the ID that has personalized categorical data, which will have a negative impact on the model training and its accuracy."
      ]
    },
    {
      "cell_type": "code",
      "execution_count": 9,
      "metadata": {
        "id": "WDJ3RkNPXdKl"
      },
      "outputs": [],
      "source": [
        "geo_data_1 = geo_data_1.drop(['id'], axis=1)\n",
        "geo_data_2 = geo_data_2.drop(['id'], axis=1)\n",
        "geo_data_3 = geo_data_3.drop(['id'], axis=1)"
      ]
    },
    {
      "cell_type": "markdown",
      "metadata": {
        "id": "L3TkynlfCvyo"
      },
      "source": [
        "## 2. Traning and testing model."
      ]
    },
    {
      "cell_type": "markdown",
      "metadata": {
        "id": "i9fpVzyfPmZL"
      },
      "source": [
        "Let's write a function:\n",
        "* Identify the features and the target feature.\n",
        "* Split the dataset into a training and validation set.\n",
        "* Perform centering and standardization of the data by scaling them.\n",
        "* Train a linear regression model.\n",
        "* Calculate the RMSE metric for each region, as well as the average stock of raw materials in the region."
      ]
    },
    {
      "cell_type": "code",
      "execution_count": 10,
      "metadata": {
        "id": "pPoKaWhSPmzl"
      },
      "outputs": [],
      "source": [
        "def region_prediction(data):\n",
        "   \n",
        "    features = data.drop(['product'], axis=1)\n",
        "    target = data['product']\n",
        "    \n",
        "    features_train, features_valid, target_train, target_valid = train_test_split(features, \n",
        "                                                                                  target, \n",
        "                                                                                  test_size=0.25, \n",
        "                                                                                  random_state=12345)\n",
        "    \n",
        "    scaler = StandardScaler()\n",
        "    \n",
        "    features_train = scaler.fit_transform(features_train)\n",
        "    features_valid = scaler.transform(features_valid)\n",
        "    \n",
        "    model_lr = LinearRegression()\n",
        "    model_lr.fit(features_train, target_train)\n",
        "    \n",
        "    predictions = model_lr.predict(features_valid)\n",
        "    predictions = pd.Series(predictions)\n",
        "    rmse = np.sqrt(mean_squared_error(target_valid, predictions))  \n",
        "    stock_mean = data['product'].mean()\n",
        "    stock_mean_pred = predictions.mean()\n",
        "    \n",
        "    return predictions, rmse, stock_mean, stock_mean_pred, target_valid.reset_index(drop=True)"
      ]
    },
    {
      "cell_type": "markdown",
      "metadata": {
        "id": "a8ajpkiZQS0t"
      },
      "source": [
        "Let's look at the metric and the average stock of raw materials."
      ]
    },
    {
      "cell_type": "code",
      "execution_count": 11,
      "metadata": {
        "colab": {
          "base_uri": "https://localhost:8080/"
        },
        "id": "OTVfGjSjQTJq",
        "outputId": "8bdf525b-9e67-470e-d4b7-fc2227dbe7b9"
      },
      "outputs": [
        {
          "output_type": "stream",
          "name": "stdout",
          "text": [
            "The RMSE of the model in Region 1 = 37.5794\n",
            "The average stock of predicted raw materials in Region 1 = 92.59 ths. barrels\n",
            "\n",
            "The RMSE of the model in Region 2 = 0.8931\n",
            "The average stock of predicted raw materials in Region 2 = 68.73 ths. barrels\n",
            "\n",
            "The RMSE of the model in Region 3 = 40.0297\n",
            "The average stock of predicted raw materials in Region 3 = 94.97 ths. barrels\n",
            "\n"
          ]
        }
      ],
      "source": [
        "pred_1, rmse_1, stock_mean_1, stock_mean_pred_1, target_valid_1 = region_prediction(geo_data_1)\n",
        "print('The RMSE of the model in Region 1 = {:.4f}'.format(rmse_1))\n",
        "print('The average stock of predicted raw materials in Region 1 = {:.2f} ths. barrels'.format(stock_mean_pred_1))\n",
        "print()\n",
        "pred_2, rmse_2, stock_mean_2, stock_mean_pred_2, target_valid_2 = region_prediction(geo_data_2)\n",
        "print('The RMSE of the model in Region 2 = {:.4f}'.format(rmse_2))\n",
        "print('The average stock of predicted raw materials in Region 2 = {:.2f} ths. barrels'.format(stock_mean_pred_2))\n",
        "print()\n",
        "pred_3, rmse_3, stock_mean_3, stock_mean_pred_3, target_valid_3 = region_prediction(geo_data_3)\n",
        "print('The RMSE of the model in Region 3 = {:.4f}'.format(rmse_3))\n",
        "print('The average stock of predicted raw materials in Region 3 = {:.2f} ths. barrels'.format(stock_mean_pred_3))\n",
        "print()"
      ]
    },
    {
      "cell_type": "markdown",
      "metadata": {
        "id": "bF2rtSYkbofi"
      },
      "source": [
        "Conclusion: \n",
        "\n",
        "As we can see from the RMSE metric results, the model shows the most accurate result and the model is predictable on the dataset of Region 2 with 0.8931, but at the same time, Region 1 has the lowest average volume of predicted raw materials of 68.73 thousand barrels. The other regions 1 and 3 are close in metric and average predicted volume of raw materials, in Region 1 RMSE is 37.5794 in Region 2 - 40.0297, the average predicted stock of raw materials is 92.59 and 94.97 thousand barrels respectively."
      ]
    },
    {
      "cell_type": "markdown",
      "metadata": {
        "id": "hTSXsYbeCvyp"
      },
      "source": [
        "## 3. Preparing for profit calculation."
      ]
    },
    {
      "cell_type": "markdown",
      "metadata": {
        "id": "cduoqn08eACe"
      },
      "source": [
        "Let's save the key values for calculations in separate variables."
      ]
    },
    {
      "cell_type": "code",
      "execution_count": 12,
      "metadata": {
        "id": "IgC2QWUvCvyq"
      },
      "outputs": [],
      "source": [
        "budget = 10_000_000_000                # The budget for drilling in one region\n",
        "research_wells = 500                   # The number of wells for exploration of the region\n",
        "best_wells = 200                       # The number of best wells for development\n",
        "revenue_per_thousand_barrel = 450_000  # The income from 1000 barrels\n",
        "max_risk = 0.025                       # The maximum risk level\n",
        "cost_hole = budget / best_wells        # The cost of developing one well"
      ]
    },
    {
      "cell_type": "code",
      "execution_count": 13,
      "metadata": {
        "colab": {
          "base_uri": "https://localhost:8080/"
        },
        "id": "UckOlXfsgFLL",
        "outputId": "c6f27a46-34a1-474f-dcb4-e1120815eeeb"
      },
      "outputs": [
        {
          "output_type": "stream",
          "name": "stdout",
          "text": [
            "The volume of raw materials for break-even development of a new well = 111.11 ths. barrels\n"
          ]
        }
      ],
      "source": [
        "print('The volume of raw materials for break-even development of a new well = {:.2f} ths. barrels'.format(cost_hole / revenue_per_thousand_barrel))"
      ]
    },
    {
      "cell_type": "code",
      "execution_count": 14,
      "metadata": {
        "colab": {
          "base_uri": "https://localhost:8080/"
        },
        "id": "8D32FxaqhFew",
        "outputId": "4149c2e1-2128-47ba-a035-2a6a85da0458"
      },
      "outputs": [
        {
          "output_type": "stream",
          "name": "stdout",
          "text": [
            "The average reserves of the region 1 = 92.50 ths. barrels\n",
            "The average reserves of the region 2 = 68.83 ths. barrels\n",
            "The average reserves of the region 3 = 95.00 ths. barrels\n"
          ]
        }
      ],
      "source": [
        "print('The average reserves of the region 1 = {:.2f} ths. barrels'.format(stock_mean_1))\n",
        "print('The average reserves of the region 2 = {:.2f} ths. barrels'.format(stock_mean_2))\n",
        "print('The average reserves of the region 3 = {:.2f} ths. barrels'.format(stock_mean_3))"
      ]
    },
    {
      "cell_type": "markdown",
      "metadata": {
        "id": "dNORCc3ogEvt"
      },
      "source": [
        "Conclusion: \n",
        "\n",
        "We can see that the average reserves of wells in the region are lower than the volume of raw materials for break-even development of a new well. The volume for break-even development of a new well is 111.11 thousand barrels. Choosing random wells for development will lead to losses."
      ]
    },
    {
      "cell_type": "markdown",
      "metadata": {
        "id": "MBDufBgiCvyr"
      },
      "source": [
        "## 4. Calculating profits and risks."
      ]
    },
    {
      "cell_type": "markdown",
      "metadata": {
        "id": "PHkRNVZ3lvA6"
      },
      "source": [
        "Let's write a function for calculating the profit by regions."
      ]
    },
    {
      "cell_type": "code",
      "execution_count": 15,
      "metadata": {
        "id": "4jwYaIo-Cvyr"
      },
      "outputs": [],
      "source": [
        "def profit(prediction, target):\n",
        "    data = pd.concat([prediction, target],axis=1)\n",
        "    data.columns = ['prediction','target']\n",
        "    data = data.sort_values(by = 'prediction', ascending = False)[:best_wells]\n",
        "    return (data['target'].sum() * revenue_per_thousand_barrel - budget)"
      ]
    },
    {
      "cell_type": "code",
      "execution_count": 16,
      "metadata": {
        "colab": {
          "base_uri": "https://localhost:8080/"
        },
        "id": "2R8Yr593iyhZ",
        "outputId": "d2906257-6535-4a51-d163-62490639dc4a"
      },
      "outputs": [
        {
          "output_type": "stream",
          "name": "stdout",
          "text": [
            "The profit for the received volume of raw materials in the region 1 = 332.08 mln. rub.\n",
            "\n",
            "The profit for the received volume of raw materials in the region 2 = 241.51 mln. rub.\n",
            "\n",
            "The profit for the received volume of raw materials in the region 3 = 271.03 mln. rub.\n"
          ]
        }
      ],
      "source": [
        "revenue_1 = profit(pred_1, target_valid_1)\n",
        "print('The profit for the received volume of raw materials in the region 1 = {:.2f} mln. rub.'.format(revenue_1  / 10e6))\n",
        "print()\n",
        "revenue_2 = profit(pred_2, target_valid_2)\n",
        "print('The profit for the received volume of raw materials in the region 2 = {:.2f} mln. rub.'.format(revenue_2  / 10e6))\n",
        "print()\n",
        "revenue_3 = profit(pred_3, target_valid_3)\n",
        "print('The profit for the received volume of raw materials in the region 3 = {:.2f} mln. rub.'.format(revenue_3  / 10e6))"
      ]
    },
    {
      "cell_type": "markdown",
      "metadata": {
        "id": "3zCvyYrojWAh"
      },
      "source": [
        "Let's write a function for calculating the profit and risks of each region using the Bootstrap technique."
      ]
    },
    {
      "cell_type": "code",
      "execution_count": 17,
      "metadata": {
        "id": "P71Q1ucfjXKE"
      },
      "outputs": [],
      "source": [
        "def estimate(prediction, target):\n",
        "    state = np.random.RandomState(12345)\n",
        "    \n",
        "    values = []\n",
        "    \n",
        "    for i in range(1000):\n",
        "        target_subsample = target.sample(n=500, \n",
        "                                         replace=True, \n",
        "                                         random_state=state)\n",
        "        pred_subsample = prediction[target_subsample.index]\n",
        "        values.append(profit(pred_subsample, target_subsample))\n",
        "    \n",
        "    values = pd.Series(values)\n",
        "    mean = np.mean(values) / 10e6\n",
        "    lower = values.quantile(0.025) / 10e6\n",
        "    upper = values.quantile(0.975) / 10e6\n",
        "    confidence_interval = (lower, upper)\n",
        "    risk_of_loss = (values < 0).sum() / values.count()\n",
        "    \n",
        "    print('Average profit = {:.2f} mln. rub.'.format(mean))\n",
        "    print('95% confidence interval from {:.2f} to {:.2f} mln. rub.'.format(lower, upper))\n",
        "    print('Risk level {:.2%}'.format(risk_of_loss))"
      ]
    },
    {
      "cell_type": "markdown",
      "metadata": {
        "id": "aRLuqrTAjqUT"
      },
      "source": [
        "Let's look at the results."
      ]
    },
    {
      "cell_type": "code",
      "execution_count": 18,
      "metadata": {
        "colab": {
          "base_uri": "https://localhost:8080/"
        },
        "id": "lbISPlMZjp-g",
        "outputId": "e0b70493-2376-4b62-cfc2-2087d62f0098"
      },
      "outputs": [
        {
          "output_type": "stream",
          "name": "stdout",
          "text": [
            "Region 1\n",
            "Average profit = 39.62 mln. rub.\n",
            "95% confidence interval from -11.12 to 90.98 mln. rub.\n",
            "Risk level 6.90%\n",
            "\n",
            "Region 2\n",
            "Average profit = 45.60 mln. rub.\n",
            "95% confidence interval from 3.38 to 85.23 mln. rub.\n",
            "Risk level 1.50%\n",
            "\n",
            "Region 3\n",
            "Average profit = 40.44 mln. rub.\n",
            "95% confidence interval from -16.34 to 95.04 mln. rub.\n",
            "Risk level 7.60%\n",
            "\n"
          ]
        }
      ],
      "source": [
        "print('Region 1')\n",
        "region_1 = estimate(pred_1, target_valid_1)\n",
        "print()\n",
        "print('Region 2')\n",
        "region_2 = estimate(pred_2, target_valid_2)\n",
        "print()\n",
        "print('Region 3')\n",
        "region_3 = estimate(pred_3, target_valid_3)\n",
        "print()"
      ]
    },
    {
      "cell_type": "markdown",
      "metadata": {
        "id": "eRiTtQ3NDvwU"
      },
      "source": [
        "## Overall conclusion:\n",
        "* No missing values, errors, anomalies, or duplicates were identified upon data review.\n",
        "* The column with personalized categorical data, which would have a negative effect on model training and accuracy, was removed from the dataframes.\n",
        "* Features and target feature were identified.\n",
        "* The datasets were divided into training and validation sets.\n",
        "* Data centering and standardization were performed by scaling the data.\n",
        "* A linear regression model was trained.\n",
        "* The RMSE metrics were calculated for each region, as well as the average raw material reserve in the region, and it was seen that the model was most accurate in region 2 with an RMSE of 0.8931, but with the lowest average predicted reserve of 68.73 thousand barrels. Regions 1 and 3 were close in terms of metrics and average predicted reserves, with RMSEs of 37.5794 and 40.0297, respectively, and average predicted reserves of 92.59 and 94.97 thousand barrels, respectively.\n",
        "* The key values for profit and risk calculations were saved in separate variables.\n",
        "* A function was written for profit and risk calculations using the Bootstrap technique.\n",
        "* Based on the analysis, we see that region 2 is the most promising and profitable for further development, as the probability of loss in this region is 1.5%, which is lower than the threshold of 2.5%, and the probability of loss in the other regions is higher; according to the confidence interval, we see that possible losses in regions 1 and 3 can lead to a loss of up to 16.34 million rubles, while region 2 remains in the black; the average profit of region 2 is the highest of the three regions and amounts to 45.6 million rubles."
      ]
    }
  ],
  "metadata": {
    "colab": {
      "provenance": []
    },
    "kernelspec": {
      "display_name": "Python 3 (ipykernel)",
      "language": "python",
      "name": "python3"
    },
    "language_info": {
      "codemirror_mode": {
        "name": "ipython",
        "version": 3
      },
      "file_extension": ".py",
      "mimetype": "text/x-python",
      "name": "python",
      "nbconvert_exporter": "python",
      "pygments_lexer": "ipython3",
      "version": "3.9.5"
    },
    "toc": {
      "base_numbering": 1,
      "nav_menu": {},
      "number_sections": true,
      "sideBar": true,
      "skip_h1_title": true,
      "title_cell": "Table of Contents",
      "title_sidebar": "Contents",
      "toc_cell": false,
      "toc_position": {},
      "toc_section_display": true,
      "toc_window_display": false
    }
  },
  "nbformat": 4,
  "nbformat_minor": 0
}
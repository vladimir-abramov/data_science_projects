{
  "cells": [
    {
      "cell_type": "markdown",
      "id": "04c3baa5",
      "metadata": {
        "id": "04c3baa5"
      },
      "source": [
        "# Investigation of borrowers' reliability"
      ]
    },
    {
      "cell_type": "markdown",
      "source": [
        "### Description of the project\n",
        "\n",
        "The customer is the credit department of a bank. It is necessary to determine whether the client's family status and number of children affect the timely repayment of the loan. The input data from the bank is the statistics on the clients' solvency.\n",
        "\n",
        "The results of the research will be taken into account when constructing a credit scoring model - a special system that assesses the ability of a potential borrower to repay the loan to the bank."
      ],
      "metadata": {
        "id": "6LC2rf9pseOg"
      },
      "id": "6LC2rf9pseOg"
    },
    {
      "cell_type": "markdown",
      "id": "a2cf30d3",
      "metadata": {
        "id": "a2cf30d3"
      },
      "source": [
        "### Description of Data\n",
        "\n",
        "* children — number of children in the family\n",
        "* days_employed — total work experience in days\n",
        "* dob_years — age of the client in years\n",
        "* education — level of education of the client\n",
        "* education_id — identifier of the level of education\n",
        "* family_status — family status\n",
        "* family_status_id — identifier of the family status\n",
        "* gender — gender of the client\n",
        "* income_type — type of employment\n",
        "* debt — debt for credit repayment\n",
        "* total_income — monthly income\n",
        "* purpose — reason for obtaining credit"
      ]
    },
    {
      "cell_type": "markdown",
      "id": "f21052d9",
      "metadata": {
        "id": "f21052d9"
      },
      "source": [
        "### Plan for conducting the research:\n",
        "\n",
        "1. Overview of the data received;\n",
        "2. Preparation of the data for analysis and hypothesis testing;\n",
        "3. Data analysis and hypothesis testing;\n",
        "4. Research results."
      ]
    },
    {
      "cell_type": "markdown",
      "id": "eb114c40",
      "metadata": {
        "id": "eb114c40"
      },
      "source": [
        "## Data overview"
      ]
    },
    {
      "cell_type": "code",
      "source": [
        "import pandas as pd"
      ],
      "metadata": {
        "id": "hyIe7yCJsyla"
      },
      "id": "hyIe7yCJsyla",
      "execution_count": 131,
      "outputs": []
    },
    {
      "cell_type": "code",
      "source": [
        "url = 'https://code.s3.yandex.net/datasets/data.csv'\n",
        "df = pd.read_csv(url)"
      ],
      "metadata": {
        "id": "EayJU21Ds7qz"
      },
      "id": "EayJU21Ds7qz",
      "execution_count": 132,
      "outputs": []
    },
    {
      "cell_type": "code",
      "source": [
        "df.head()"
      ],
      "metadata": {
        "colab": {
          "base_uri": "https://localhost:8080/",
          "height": 206
        },
        "id": "DtajAz8htKYn",
        "outputId": "dcb370bd-16ac-4ef6-d3e9-a4cec0c02feb"
      },
      "id": "DtajAz8htKYn",
      "execution_count": 133,
      "outputs": [
        {
          "output_type": "execute_result",
          "data": {
            "text/plain": [
              "   children  days_employed  dob_years education  education_id  \\\n",
              "0         1   -8437.673028         42    высшее             0   \n",
              "1         1   -4024.803754         36   среднее             1   \n",
              "2         0   -5623.422610         33   Среднее             1   \n",
              "3         3   -4124.747207         32   среднее             1   \n",
              "4         0  340266.072047         53   среднее             1   \n",
              "\n",
              "      family_status  family_status_id gender income_type  debt   total_income  \\\n",
              "0   женат / замужем                 0      F   сотрудник     0  253875.639453   \n",
              "1   женат / замужем                 0      F   сотрудник     0  112080.014102   \n",
              "2   женат / замужем                 0      M   сотрудник     0  145885.952297   \n",
              "3   женат / замужем                 0      M   сотрудник     0  267628.550329   \n",
              "4  гражданский брак                 1      F   пенсионер     0  158616.077870   \n",
              "\n",
              "                      purpose  \n",
              "0               покупка жилья  \n",
              "1     приобретение автомобиля  \n",
              "2               покупка жилья  \n",
              "3  дополнительное образование  \n",
              "4             сыграть свадьбу  "
            ],
            "text/html": [
              "\n",
              "  <div id=\"df-ba545dce-25c5-4d1f-9382-d819034c98cd\">\n",
              "    <div class=\"colab-df-container\">\n",
              "      <div>\n",
              "<style scoped>\n",
              "    .dataframe tbody tr th:only-of-type {\n",
              "        vertical-align: middle;\n",
              "    }\n",
              "\n",
              "    .dataframe tbody tr th {\n",
              "        vertical-align: top;\n",
              "    }\n",
              "\n",
              "    .dataframe thead th {\n",
              "        text-align: right;\n",
              "    }\n",
              "</style>\n",
              "<table border=\"1\" class=\"dataframe\">\n",
              "  <thead>\n",
              "    <tr style=\"text-align: right;\">\n",
              "      <th></th>\n",
              "      <th>children</th>\n",
              "      <th>days_employed</th>\n",
              "      <th>dob_years</th>\n",
              "      <th>education</th>\n",
              "      <th>education_id</th>\n",
              "      <th>family_status</th>\n",
              "      <th>family_status_id</th>\n",
              "      <th>gender</th>\n",
              "      <th>income_type</th>\n",
              "      <th>debt</th>\n",
              "      <th>total_income</th>\n",
              "      <th>purpose</th>\n",
              "    </tr>\n",
              "  </thead>\n",
              "  <tbody>\n",
              "    <tr>\n",
              "      <th>0</th>\n",
              "      <td>1</td>\n",
              "      <td>-8437.673028</td>\n",
              "      <td>42</td>\n",
              "      <td>высшее</td>\n",
              "      <td>0</td>\n",
              "      <td>женат / замужем</td>\n",
              "      <td>0</td>\n",
              "      <td>F</td>\n",
              "      <td>сотрудник</td>\n",
              "      <td>0</td>\n",
              "      <td>253875.639453</td>\n",
              "      <td>покупка жилья</td>\n",
              "    </tr>\n",
              "    <tr>\n",
              "      <th>1</th>\n",
              "      <td>1</td>\n",
              "      <td>-4024.803754</td>\n",
              "      <td>36</td>\n",
              "      <td>среднее</td>\n",
              "      <td>1</td>\n",
              "      <td>женат / замужем</td>\n",
              "      <td>0</td>\n",
              "      <td>F</td>\n",
              "      <td>сотрудник</td>\n",
              "      <td>0</td>\n",
              "      <td>112080.014102</td>\n",
              "      <td>приобретение автомобиля</td>\n",
              "    </tr>\n",
              "    <tr>\n",
              "      <th>2</th>\n",
              "      <td>0</td>\n",
              "      <td>-5623.422610</td>\n",
              "      <td>33</td>\n",
              "      <td>Среднее</td>\n",
              "      <td>1</td>\n",
              "      <td>женат / замужем</td>\n",
              "      <td>0</td>\n",
              "      <td>M</td>\n",
              "      <td>сотрудник</td>\n",
              "      <td>0</td>\n",
              "      <td>145885.952297</td>\n",
              "      <td>покупка жилья</td>\n",
              "    </tr>\n",
              "    <tr>\n",
              "      <th>3</th>\n",
              "      <td>3</td>\n",
              "      <td>-4124.747207</td>\n",
              "      <td>32</td>\n",
              "      <td>среднее</td>\n",
              "      <td>1</td>\n",
              "      <td>женат / замужем</td>\n",
              "      <td>0</td>\n",
              "      <td>M</td>\n",
              "      <td>сотрудник</td>\n",
              "      <td>0</td>\n",
              "      <td>267628.550329</td>\n",
              "      <td>дополнительное образование</td>\n",
              "    </tr>\n",
              "    <tr>\n",
              "      <th>4</th>\n",
              "      <td>0</td>\n",
              "      <td>340266.072047</td>\n",
              "      <td>53</td>\n",
              "      <td>среднее</td>\n",
              "      <td>1</td>\n",
              "      <td>гражданский брак</td>\n",
              "      <td>1</td>\n",
              "      <td>F</td>\n",
              "      <td>пенсионер</td>\n",
              "      <td>0</td>\n",
              "      <td>158616.077870</td>\n",
              "      <td>сыграть свадьбу</td>\n",
              "    </tr>\n",
              "  </tbody>\n",
              "</table>\n",
              "</div>\n",
              "      <button class=\"colab-df-convert\" onclick=\"convertToInteractive('df-ba545dce-25c5-4d1f-9382-d819034c98cd')\"\n",
              "              title=\"Convert this dataframe to an interactive table.\"\n",
              "              style=\"display:none;\">\n",
              "        \n",
              "  <svg xmlns=\"http://www.w3.org/2000/svg\" height=\"24px\"viewBox=\"0 0 24 24\"\n",
              "       width=\"24px\">\n",
              "    <path d=\"M0 0h24v24H0V0z\" fill=\"none\"/>\n",
              "    <path d=\"M18.56 5.44l.94 2.06.94-2.06 2.06-.94-2.06-.94-.94-2.06-.94 2.06-2.06.94zm-11 1L8.5 8.5l.94-2.06 2.06-.94-2.06-.94L8.5 2.5l-.94 2.06-2.06.94zm10 10l.94 2.06.94-2.06 2.06-.94-2.06-.94-.94-2.06-.94 2.06-2.06.94z\"/><path d=\"M17.41 7.96l-1.37-1.37c-.4-.4-.92-.59-1.43-.59-.52 0-1.04.2-1.43.59L10.3 9.45l-7.72 7.72c-.78.78-.78 2.05 0 2.83L4 21.41c.39.39.9.59 1.41.59.51 0 1.02-.2 1.41-.59l7.78-7.78 2.81-2.81c.8-.78.8-2.07 0-2.86zM5.41 20L4 18.59l7.72-7.72 1.47 1.35L5.41 20z\"/>\n",
              "  </svg>\n",
              "      </button>\n",
              "      \n",
              "  <style>\n",
              "    .colab-df-container {\n",
              "      display:flex;\n",
              "      flex-wrap:wrap;\n",
              "      gap: 12px;\n",
              "    }\n",
              "\n",
              "    .colab-df-convert {\n",
              "      background-color: #E8F0FE;\n",
              "      border: none;\n",
              "      border-radius: 50%;\n",
              "      cursor: pointer;\n",
              "      display: none;\n",
              "      fill: #1967D2;\n",
              "      height: 32px;\n",
              "      padding: 0 0 0 0;\n",
              "      width: 32px;\n",
              "    }\n",
              "\n",
              "    .colab-df-convert:hover {\n",
              "      background-color: #E2EBFA;\n",
              "      box-shadow: 0px 1px 2px rgba(60, 64, 67, 0.3), 0px 1px 3px 1px rgba(60, 64, 67, 0.15);\n",
              "      fill: #174EA6;\n",
              "    }\n",
              "\n",
              "    [theme=dark] .colab-df-convert {\n",
              "      background-color: #3B4455;\n",
              "      fill: #D2E3FC;\n",
              "    }\n",
              "\n",
              "    [theme=dark] .colab-df-convert:hover {\n",
              "      background-color: #434B5C;\n",
              "      box-shadow: 0px 1px 3px 1px rgba(0, 0, 0, 0.15);\n",
              "      filter: drop-shadow(0px 1px 2px rgba(0, 0, 0, 0.3));\n",
              "      fill: #FFFFFF;\n",
              "    }\n",
              "  </style>\n",
              "\n",
              "      <script>\n",
              "        const buttonEl =\n",
              "          document.querySelector('#df-ba545dce-25c5-4d1f-9382-d819034c98cd button.colab-df-convert');\n",
              "        buttonEl.style.display =\n",
              "          google.colab.kernel.accessAllowed ? 'block' : 'none';\n",
              "\n",
              "        async function convertToInteractive(key) {\n",
              "          const element = document.querySelector('#df-ba545dce-25c5-4d1f-9382-d819034c98cd');\n",
              "          const dataTable =\n",
              "            await google.colab.kernel.invokeFunction('convertToInteractive',\n",
              "                                                     [key], {});\n",
              "          if (!dataTable) return;\n",
              "\n",
              "          const docLinkHtml = 'Like what you see? Visit the ' +\n",
              "            '<a target=\"_blank\" href=https://colab.research.google.com/notebooks/data_table.ipynb>data table notebook</a>'\n",
              "            + ' to learn more about interactive tables.';\n",
              "          element.innerHTML = '';\n",
              "          dataTable['output_type'] = 'display_data';\n",
              "          await google.colab.output.renderOutput(dataTable, element);\n",
              "          const docLink = document.createElement('div');\n",
              "          docLink.innerHTML = docLinkHtml;\n",
              "          element.appendChild(docLink);\n",
              "        }\n",
              "      </script>\n",
              "    </div>\n",
              "  </div>\n",
              "  "
            ]
          },
          "metadata": {},
          "execution_count": 133
        }
      ]
    },
    {
      "cell_type": "code",
      "source": [
        "df.info()"
      ],
      "metadata": {
        "colab": {
          "base_uri": "https://localhost:8080/"
        },
        "id": "-MmTQs0JtTWu",
        "outputId": "2bbbb3c8-ced3-4960-829a-e30fb8d899c3"
      },
      "id": "-MmTQs0JtTWu",
      "execution_count": 134,
      "outputs": [
        {
          "output_type": "stream",
          "name": "stdout",
          "text": [
            "<class 'pandas.core.frame.DataFrame'>\n",
            "RangeIndex: 21525 entries, 0 to 21524\n",
            "Data columns (total 12 columns):\n",
            " #   Column            Non-Null Count  Dtype  \n",
            "---  ------            --------------  -----  \n",
            " 0   children          21525 non-null  int64  \n",
            " 1   days_employed     19351 non-null  float64\n",
            " 2   dob_years         21525 non-null  int64  \n",
            " 3   education         21525 non-null  object \n",
            " 4   education_id      21525 non-null  int64  \n",
            " 5   family_status     21525 non-null  object \n",
            " 6   family_status_id  21525 non-null  int64  \n",
            " 7   gender            21525 non-null  object \n",
            " 8   income_type       21525 non-null  object \n",
            " 9   debt              21525 non-null  int64  \n",
            " 10  total_income      19351 non-null  float64\n",
            " 11  purpose           21525 non-null  object \n",
            "dtypes: float64(2), int64(5), object(5)\n",
            "memory usage: 2.0+ MB\n"
          ]
        }
      ]
    },
    {
      "cell_type": "code",
      "source": [
        "print('Missing values:\\n',df.isna().sum())"
      ],
      "metadata": {
        "colab": {
          "base_uri": "https://localhost:8080/"
        },
        "id": "uXBdndaFtXTO",
        "outputId": "ee2c4494-37ea-455d-ca33-e31ea534186d"
      },
      "id": "uXBdndaFtXTO",
      "execution_count": 135,
      "outputs": [
        {
          "output_type": "stream",
          "name": "stdout",
          "text": [
            "Missing values:\n",
            " children               0\n",
            "days_employed       2174\n",
            "dob_years              0\n",
            "education              0\n",
            "education_id           0\n",
            "family_status          0\n",
            "family_status_id       0\n",
            "gender                 0\n",
            "income_type            0\n",
            "debt                   0\n",
            "total_income        2174\n",
            "purpose                0\n",
            "dtype: int64\n"
          ]
        }
      ]
    },
    {
      "cell_type": "code",
      "source": [
        "print('The proportion of missing values:\\n',df.isna().sum()/df.isna().count())"
      ],
      "metadata": {
        "colab": {
          "base_uri": "https://localhost:8080/"
        },
        "id": "eBoh6Q7mtaIr",
        "outputId": "1e0c8cb8-e9eb-4ead-fa11-c4a8db7cc1de"
      },
      "id": "eBoh6Q7mtaIr",
      "execution_count": 136,
      "outputs": [
        {
          "output_type": "stream",
          "name": "stdout",
          "text": [
            "The proportion of missing values:\n",
            " children            0.000000\n",
            "days_employed       0.100999\n",
            "dob_years           0.000000\n",
            "education           0.000000\n",
            "education_id        0.000000\n",
            "family_status       0.000000\n",
            "family_status_id    0.000000\n",
            "gender              0.000000\n",
            "income_type         0.000000\n",
            "debt                0.000000\n",
            "total_income        0.100999\n",
            "purpose             0.000000\n",
            "dtype: float64\n"
          ]
        }
      ]
    },
    {
      "cell_type": "markdown",
      "source": [
        "Anomalies and data errors:"
      ],
      "metadata": {
        "id": "2PRG4hjz0h5g"
      },
      "id": "2PRG4hjz0h5g"
    },
    {
      "cell_type": "code",
      "source": [
        "print('Incorrect value in the \"gender\" column:\\n',df['gender'].value_counts())"
      ],
      "metadata": {
        "colab": {
          "base_uri": "https://localhost:8080/"
        },
        "id": "lEPzdpspteK4",
        "outputId": "c7c17ff0-4002-4d81-fc1b-b659893c2703"
      },
      "id": "lEPzdpspteK4",
      "execution_count": 137,
      "outputs": [
        {
          "output_type": "stream",
          "name": "stdout",
          "text": [
            "Incorrect value in the \"gender\" column:\n",
            " F      14236\n",
            "M       7288\n",
            "XNA        1\n",
            "Name: gender, dtype: int64\n"
          ]
        }
      ]
    },
    {
      "cell_type": "code",
      "source": [
        "print('Incorrect value in the \"children\" column:\\n',df['children'].value_counts())"
      ],
      "metadata": {
        "colab": {
          "base_uri": "https://localhost:8080/"
        },
        "id": "u5nxDWSH0szY",
        "outputId": "2fd5bfcf-7b5e-494d-dcad-5ae705a3e6e8"
      },
      "id": "u5nxDWSH0szY",
      "execution_count": 138,
      "outputs": [
        {
          "output_type": "stream",
          "name": "stdout",
          "text": [
            "Incorrect value in the \"children\" column:\n",
            "  0     14149\n",
            " 1      4818\n",
            " 2      2055\n",
            " 3       330\n",
            " 20       76\n",
            "-1        47\n",
            " 4        41\n",
            " 5         9\n",
            "Name: children, dtype: int64\n"
          ]
        }
      ]
    },
    {
      "cell_type": "code",
      "source": [
        "print('No values in the \"dob_years\" column:\\n',df['dob_years'].value_counts())"
      ],
      "metadata": {
        "colab": {
          "base_uri": "https://localhost:8080/"
        },
        "id": "uIzF-7HC0uii",
        "outputId": "bb0fe161-0a9d-4b39-90fe-ada7bb7880a0"
      },
      "id": "uIzF-7HC0uii",
      "execution_count": 139,
      "outputs": [
        {
          "output_type": "stream",
          "name": "stdout",
          "text": [
            "No values in the \"dob_years\" column:\n",
            " 35    617\n",
            "40    609\n",
            "41    607\n",
            "34    603\n",
            "38    598\n",
            "42    597\n",
            "33    581\n",
            "39    573\n",
            "31    560\n",
            "36    555\n",
            "44    547\n",
            "29    545\n",
            "30    540\n",
            "48    538\n",
            "37    537\n",
            "50    514\n",
            "43    513\n",
            "32    510\n",
            "49    508\n",
            "28    503\n",
            "45    497\n",
            "27    493\n",
            "56    487\n",
            "52    484\n",
            "47    480\n",
            "54    479\n",
            "46    475\n",
            "58    461\n",
            "57    460\n",
            "53    459\n",
            "51    448\n",
            "59    444\n",
            "55    443\n",
            "26    408\n",
            "60    377\n",
            "25    357\n",
            "61    355\n",
            "62    352\n",
            "63    269\n",
            "64    265\n",
            "24    264\n",
            "23    254\n",
            "65    194\n",
            "22    183\n",
            "66    183\n",
            "67    167\n",
            "21    111\n",
            "0     101\n",
            "68     99\n",
            "69     85\n",
            "70     65\n",
            "71     58\n",
            "20     51\n",
            "72     33\n",
            "19     14\n",
            "73      8\n",
            "74      6\n",
            "75      1\n",
            "Name: dob_years, dtype: int64\n"
          ]
        }
      ]
    },
    {
      "cell_type": "code",
      "source": [
        "print('Negative and non-integer values in the \"days_employed\" column:\\n',df['days_employed'].value_counts())"
      ],
      "metadata": {
        "colab": {
          "base_uri": "https://localhost:8080/"
        },
        "id": "S6aV9BVd0v1Y",
        "outputId": "7ab7c496-175a-48e3-fc4c-dcbf190be60c"
      },
      "id": "S6aV9BVd0v1Y",
      "execution_count": 140,
      "outputs": [
        {
          "output_type": "stream",
          "name": "stdout",
          "text": [
            "Negative and non-integer values in the \"days_employed\" column:\n",
            " -8437.673028      1\n",
            "-3507.818775      1\n",
            " 354500.415854    1\n",
            "-769.717438       1\n",
            "-3963.590317      1\n",
            "                 ..\n",
            "-1099.957609      1\n",
            "-209.984794       1\n",
            " 398099.392433    1\n",
            "-1271.038880      1\n",
            "-1984.507589      1\n",
            "Name: days_employed, Length: 19351, dtype: int64\n"
          ]
        }
      ]
    },
    {
      "cell_type": "code",
      "source": [
        "print('Different capitalization of the data in the \"family_status\" column:\\n',df['family_status'].value_counts())"
      ],
      "metadata": {
        "colab": {
          "base_uri": "https://localhost:8080/"
        },
        "id": "1mgF8zab0xN3",
        "outputId": "cba3c310-cb4d-4cd8-ab8e-001de2f95388"
      },
      "id": "1mgF8zab0xN3",
      "execution_count": 141,
      "outputs": [
        {
          "output_type": "stream",
          "name": "stdout",
          "text": [
            "Different capitalization of the data in the \"family_status\" column:\n",
            " женат / замужем          12380\n",
            "гражданский брак          4177\n",
            "Не женат / не замужем     2813\n",
            "в разводе                 1195\n",
            "вдовец / вдова             960\n",
            "Name: family_status, dtype: int64\n"
          ]
        }
      ]
    },
    {
      "cell_type": "code",
      "source": [
        "print('Different capitalization of the data in the \"education\" column:\\n',df['education'].value_counts())"
      ],
      "metadata": {
        "colab": {
          "base_uri": "https://localhost:8080/"
        },
        "id": "pEbpZHcp0ytM",
        "outputId": "6c518bc9-2662-4d02-8887-b814a6298a5b"
      },
      "id": "pEbpZHcp0ytM",
      "execution_count": 142,
      "outputs": [
        {
          "output_type": "stream",
          "name": "stdout",
          "text": [
            "Different capitalization of the data in the \"education\" column:\n",
            " среднее                13750\n",
            "высшее                  4718\n",
            "СРЕДНЕЕ                  772\n",
            "Среднее                  711\n",
            "неоконченное высшее      668\n",
            "ВЫСШЕЕ                   274\n",
            "Высшее                   268\n",
            "начальное                250\n",
            "Неоконченное высшее       47\n",
            "НЕОКОНЧЕННОЕ ВЫСШЕЕ       29\n",
            "НАЧАЛЬНОЕ                 17\n",
            "Начальное                 15\n",
            "ученая степень             4\n",
            "Ученая степень             1\n",
            "УЧЕНАЯ СТЕПЕНЬ             1\n",
            "Name: education, dtype: int64\n"
          ]
        }
      ]
    },
    {
      "cell_type": "code",
      "execution_count": 143,
      "id": "76f524db",
      "metadata": {
        "scrolled": false,
        "colab": {
          "base_uri": "https://localhost:8080/"
        },
        "id": "76f524db",
        "outputId": "c73d781e-f812-403f-9bae-d6e70a6866bd"
      },
      "outputs": [
        {
          "output_type": "stream",
          "name": "stdout",
          "text": [
            "The data in the \"purpose\" column require categorization:\n",
            " свадьба                                   797\n",
            "на проведение свадьбы                     777\n",
            "сыграть свадьбу                           774\n",
            "операции с недвижимостью                  676\n",
            "покупка коммерческой недвижимости         664\n",
            "покупка жилья для сдачи                   653\n",
            "операции с жильем                         653\n",
            "операции с коммерческой недвижимостью     651\n",
            "покупка жилья                             647\n",
            "жилье                                     647\n",
            "покупка жилья для семьи                   641\n",
            "строительство собственной недвижимости    635\n",
            "недвижимость                              634\n",
            "операции со своей недвижимостью           630\n",
            "строительство жилой недвижимости          626\n",
            "покупка недвижимости                      624\n",
            "строительство недвижимости                620\n",
            "покупка своего жилья                      620\n",
            "ремонт жилью                              612\n",
            "покупка жилой недвижимости                607\n",
            "на покупку своего автомобиля              505\n",
            "заняться высшим образованием              496\n",
            "автомобиль                                495\n",
            "сделка с подержанным автомобилем          489\n",
            "свой автомобиль                           480\n",
            "на покупку подержанного автомобиля        479\n",
            "автомобили                                478\n",
            "на покупку автомобиля                     472\n",
            "дополнительное образование                462\n",
            "приобретение автомобиля                   462\n",
            "сделка с автомобилем                      455\n",
            "высшее образование                        453\n",
            "образование                               447\n",
            "получение дополнительного образования     447\n",
            "получение образования                     443\n",
            "профильное образование                    436\n",
            "получение высшего образования             426\n",
            "заняться образованием                     412\n",
            "Name: purpose, dtype: int64\n"
          ]
        }
      ],
      "source": [
        "print('The data in the \"purpose\" column require categorization:\\n',df['purpose'].value_counts())"
      ]
    },
    {
      "cell_type": "markdown",
      "id": "9c6497e5",
      "metadata": {
        "id": "9c6497e5"
      },
      "source": [
        "### Conclusions:\n",
        "\n",
        "The total number of values is 21525. \n",
        "\n",
        "Missing values were found in the \"days_employed\" and \"total_income\" columns in the amount of 2174 or 10.1% of the total number of values for each column.\n",
        "\n",
        "The following data anomalies have been detected:\n",
        "- Incorrect value in the \"gender\" column;\n",
        "- Incorrect values in the \"children\" column;\n",
        "- Zero values in the \"dob_years\" column;\n",
        "- Negative and non-integer values in the \"days_employed\" column;\n",
        "- Different data case in the \"family_status\" and \"education\" columns;\n",
        "- Data in the \"purpose\" column requires categorization.\n",
        "\n",
        "These errors may be caused by:\n",
        "- Errors in data extraction from the database;\n",
        "- Calculation errors;\n",
        "- Errors when entering information (human factor)."
      ]
    },
    {
      "cell_type": "markdown",
      "id": "6474ac4a",
      "metadata": {
        "id": "6474ac4a"
      },
      "source": [
        "Possible cause of this could be data upload errors from the database, as well as data entry errors (human factor). \n",
        "\n",
        "Replacing missing values with median values is more objective when analyzing this dataframe, as some data stands out from the majority and using mean values would be incorrect."
      ]
    },
    {
      "cell_type": "markdown",
      "id": "2700d1eb",
      "metadata": {
        "id": "2700d1eb"
      },
      "source": [
        "## Preprocessing"
      ]
    },
    {
      "cell_type": "markdown",
      "id": "cf1d8f6f",
      "metadata": {
        "id": "cf1d8f6f"
      },
      "source": [
        "### Correcting anomalies, errors, and omissions in data."
      ]
    },
    {
      "cell_type": "markdown",
      "source": [
        "Let's write a function for categorizing customers by age."
      ],
      "metadata": {
        "id": "8pCwqbi26U0Z"
      },
      "id": "8pCwqbi26U0Z"
    },
    {
      "cell_type": "code",
      "execution_count": 144,
      "id": "8ddb4735",
      "metadata": {
        "id": "8ddb4735"
      },
      "outputs": [],
      "source": [
        "\n",
        "def days_employed(row):\n",
        "    \"\"\"\n",
        "    Function for categorizing customers by age\n",
        "    \"\"\"\n",
        "    age = row['dob_years']\n",
        "    if age <= 30:\n",
        "        return 'Group 1' \n",
        "    if age <= 40 and age > 30:\n",
        "        return 'Group 2'\n",
        "    if age <= 55 and age > 40:\n",
        "        return 'Group 3'\n",
        "    if age <= 80 and age > 55:\n",
        "        return 'Group 4'\n",
        "\n",
        "df['age_group'] = df.apply(days_employed, axis=1)\n",
        "\n",
        "df['days_employed'] = df['days_employed'].fillna(0)\n",
        "df.isna().sum()\n",
        "\n",
        "df.groupby('age_group')['days_employed'].mean()[0]\n",
        "\n",
        "df.loc[(df['age_group'] == '1 группа') & (df['days_employed'] == 0 ), 'days_employed'] = df.groupby('age_group')['days_employed'].mean()[0]\n",
        "df.loc[(df['age_group'] == '2 группа') & (df['days_employed'] == 0 ), 'days_employed'] = df.groupby('age_group')['days_employed'].mean()[1]\n",
        "df.loc[(df['age_group'] == '3 группа') & (df['days_employed'] == 0 ), 'days_employed'] = df.groupby('age_group')['days_employed'].mean()[2]\n",
        "df.loc[(df['age_group'] == '4 группа') & (df['days_employed'] == 0 ), 'days_employed'] = df.groupby('age_group')['days_employed'].mean()[3]"
      ]
    },
    {
      "cell_type": "markdown",
      "source": [
        "Filling in the missing values in the total_income column (monthly income)."
      ],
      "metadata": {
        "id": "vNr1cOZs7dLa"
      },
      "id": "vNr1cOZs7dLa"
    },
    {
      "cell_type": "code",
      "source": [
        "df['total_income'] = df['total_income'].fillna(0)\n",
        "\n",
        "df.groupby('income_type')['total_income'].median()\n",
        "\n",
        "df.loc[(df['total_income'] == 0) & (df['income_type'] == 'безработный'), 'total_income'] = df.groupby('income_type')['total_income'].median()[0]\n",
        "df.loc[(df['total_income'] == 0) & (df['income_type'] == 'в декрете'), 'total_income'] = df.groupby('income_type')['total_income'].median()[1]\n",
        "df.loc[(df['total_income'] == 0) & (df['income_type'] == 'госслужащий'), 'total_income'] = df.groupby('income_type')['total_income'].median()[2]\n",
        "df.loc[(df['total_income'] == 0) & (df['income_type'] == 'компаньон'), 'total_income'] = df.groupby('income_type')['total_income'].median()[3]\n",
        "df.loc[(df['total_income'] == 0) & (df['income_type'] == 'пенсионер'), 'total_income'] = df.groupby('income_type')['total_income'].median()[4]\n",
        "df.loc[(df['total_income'] == 0) & (df['income_type'] == 'предприниматель'), 'total_income'] = df.groupby('income_type')['total_income'].median()[5]\n",
        "df.loc[(df['total_income'] == 0) & (df['income_type'] == 'сотрудник'), 'total_income'] = df.groupby('income_type')['total_income'].median()[6]\n",
        "df.loc[(df['total_income'] == 0) & (df['income_type'] == 'студент'), 'total_income'] = df.groupby('income_type')['total_income'].median()[7]\n",
        "#print('Пропущенные значения:\\n',df.isna().sum())"
      ],
      "metadata": {
        "id": "h7vkryvN6mv7"
      },
      "id": "h7vkryvN6mv7",
      "execution_count": 145,
      "outputs": []
    },
    {
      "cell_type": "markdown",
      "source": [
        "\n",
        "Correct the incorrect values in the children column."
      ],
      "metadata": {
        "id": "JkSmU2Lh7SLa"
      },
      "id": "JkSmU2Lh7SLa"
    },
    {
      "cell_type": "code",
      "source": [
        "df['children'] = df['children'].replace(20, 2)\n",
        "df['children'] = df['children'].replace(-1, 1)\n",
        "#print(df['children'].value_counts())"
      ],
      "metadata": {
        "id": "Czh7Xu6m6qaB"
      },
      "id": "Czh7Xu6m6qaB",
      "execution_count": 146,
      "outputs": []
    },
    {
      "cell_type": "markdown",
      "source": [
        "Deleting one row with a missing value in the gender column."
      ],
      "metadata": {
        "id": "coEfk1Wm7MBP"
      },
      "id": "coEfk1Wm7MBP"
    },
    {
      "cell_type": "code",
      "source": [
        "df = df[df['gender'] != 'XNA']"
      ],
      "metadata": {
        "id": "bBaIjtzA6tDp"
      },
      "id": "bBaIjtzA6tDp",
      "execution_count": 147,
      "outputs": []
    },
    {
      "cell_type": "markdown",
      "source": [
        "Replace the zero values in the dob_years column with the median values."
      ],
      "metadata": {
        "id": "U8tFyoJ47C74"
      },
      "id": "U8tFyoJ47C74"
    },
    {
      "cell_type": "code",
      "source": [
        "income_type_gr = df.groupby('income_type')['dob_years'].median()\n",
        "#print(income_type_gr) \n",
        "\n",
        "df.loc[(df['income_type'] == 'пенсионер') & (df['dob_years'] == 0), 'dob_years'] = 60\n",
        "df.loc[(df['income_type'] == 'студент') & (df['dob_years'] == 0), 'dob_years'] = 22\n",
        "df.loc[(df['income_type'] == 'сотрудник') & (df['dob_years'] == 0), 'dob_years'] = 39\n",
        "df.loc[(df['income_type'] == 'предприниматель') & (df['dob_years'] == 0), 'dob_years'] = 42.5\n",
        "df.loc[(df['income_type'] == 'компаньон') & (df['dob_years'] == 0), 'dob_years'] = 39\n",
        "df.loc[(df['income_type'] == 'госслужащий') & (df['dob_years'] == 0), 'dob_years'] = 40\n",
        "df.loc[(df['income_type'] == 'в декрете') & (df['dob_years'] == 0), 'dob_years'] = 39\n",
        "df.loc[(df['income_type'] == 'безработный ') & (df['dob_years'] == 0), 'dob_years'] = 38\n",
        "#print(df['dob_years'].isnull().sum())"
      ],
      "metadata": {
        "colab": {
          "base_uri": "https://localhost:8080/"
        },
        "id": "xUuOXr6v6vTg",
        "outputId": "36ac9c71-5a47-46d9-8de8-83796bb93a63"
      },
      "id": "xUuOXr6v6vTg",
      "execution_count": 148,
      "outputs": [
        {
          "output_type": "stream",
          "name": "stderr",
          "text": [
            "/usr/local/lib/python3.8/dist-packages/pandas/core/indexing.py:1817: SettingWithCopyWarning: \n",
            "A value is trying to be set on a copy of a slice from a DataFrame.\n",
            "Try using .loc[row_indexer,col_indexer] = value instead\n",
            "\n",
            "See the caveats in the documentation: https://pandas.pydata.org/pandas-docs/stable/user_guide/indexing.html#returning-a-view-versus-a-copy\n",
            "  self._setitem_single_column(loc, value, pi)\n"
          ]
        }
      ]
    },
    {
      "cell_type": "markdown",
      "source": [
        "Correcting errors (negative values) in the days_employed column."
      ],
      "metadata": {
        "id": "PpQWzQi563Bp"
      },
      "id": "PpQWzQi563Bp"
    },
    {
      "cell_type": "code",
      "source": [
        "df['days_employed'] = abs(df['days_employed'])"
      ],
      "metadata": {
        "id": "VDyWZBnj6w91"
      },
      "id": "VDyWZBnj6w91",
      "execution_count": 149,
      "outputs": []
    },
    {
      "cell_type": "code",
      "source": [
        "df.info()"
      ],
      "metadata": {
        "colab": {
          "base_uri": "https://localhost:8080/"
        },
        "id": "5-yF8RNr8A2K",
        "outputId": "569cd89f-c438-4258-e358-64a2633bbafa"
      },
      "id": "5-yF8RNr8A2K",
      "execution_count": 150,
      "outputs": [
        {
          "output_type": "stream",
          "name": "stdout",
          "text": [
            "<class 'pandas.core.frame.DataFrame'>\n",
            "Int64Index: 21524 entries, 0 to 21524\n",
            "Data columns (total 13 columns):\n",
            " #   Column            Non-Null Count  Dtype  \n",
            "---  ------            --------------  -----  \n",
            " 0   children          21524 non-null  int64  \n",
            " 1   days_employed     21524 non-null  float64\n",
            " 2   dob_years         21524 non-null  float64\n",
            " 3   education         21524 non-null  object \n",
            " 4   education_id      21524 non-null  int64  \n",
            " 5   family_status     21524 non-null  object \n",
            " 6   family_status_id  21524 non-null  int64  \n",
            " 7   gender            21524 non-null  object \n",
            " 8   income_type       21524 non-null  object \n",
            " 9   debt              21524 non-null  int64  \n",
            " 10  total_income      21524 non-null  float64\n",
            " 11  purpose           21524 non-null  object \n",
            " 12  age_group         21524 non-null  object \n",
            "dtypes: float64(3), int64(4), object(6)\n",
            "memory usage: 2.3+ MB\n"
          ]
        }
      ]
    },
    {
      "cell_type": "markdown",
      "id": "620dfa0e",
      "metadata": {
        "id": "620dfa0e"
      },
      "source": [
        "### Change of data types."
      ]
    },
    {
      "cell_type": "code",
      "execution_count": 151,
      "id": "583f71ac",
      "metadata": {
        "id": "583f71ac"
      },
      "outputs": [],
      "source": [
        "df['total_income'] = df['total_income'].astype('int')\n",
        "df['dob_years'] = df['dob_years'].astype('int')\n",
        "df['days_employed'] = df['days_employed'].astype('int')"
      ]
    },
    {
      "cell_type": "markdown",
      "id": "5abf6ade",
      "metadata": {
        "id": "5abf6ade"
      },
      "source": [
        "### Removal of duplicates."
      ]
    },
    {
      "cell_type": "code",
      "source": [
        "df.drop_duplicates().reset_index()"
      ],
      "metadata": {
        "colab": {
          "base_uri": "https://localhost:8080/",
          "height": 554
        },
        "id": "QnN08QMw8r40",
        "outputId": "0774d231-6713-441b-8307-5a672f243217"
      },
      "id": "QnN08QMw8r40",
      "execution_count": 152,
      "outputs": [
        {
          "output_type": "execute_result",
          "data": {
            "text/plain": [
              "       index  children  days_employed  dob_years education  education_id  \\\n",
              "0          0         1           8437         42    высшее             0   \n",
              "1          1         1           4024         36   среднее             1   \n",
              "2          2         0           5623         33   Среднее             1   \n",
              "3          3         3           4124         32   среднее             1   \n",
              "4          4         0         340266         53   среднее             1   \n",
              "...      ...       ...            ...        ...       ...           ...   \n",
              "21465  21520         1           4529         43   среднее             1   \n",
              "21466  21521         0         343937         67   среднее             1   \n",
              "21467  21522         1           2113         38   среднее             1   \n",
              "21468  21523         3           3112         38   среднее             1   \n",
              "21469  21524         2           1984         40   среднее             1   \n",
              "\n",
              "          family_status  family_status_id gender income_type  debt  \\\n",
              "0       женат / замужем                 0      F   сотрудник     0   \n",
              "1       женат / замужем                 0      F   сотрудник     0   \n",
              "2       женат / замужем                 0      M   сотрудник     0   \n",
              "3       женат / замужем                 0      M   сотрудник     0   \n",
              "4      гражданский брак                 1      F   пенсионер     0   \n",
              "...                 ...               ...    ...         ...   ...   \n",
              "21465  гражданский брак                 1      F   компаньон     0   \n",
              "21466   женат / замужем                 0      F   пенсионер     0   \n",
              "21467  гражданский брак                 1      M   сотрудник     1   \n",
              "21468   женат / замужем                 0      M   сотрудник     1   \n",
              "21469   женат / замужем                 0      F   сотрудник     0   \n",
              "\n",
              "       total_income                       purpose age_group  \n",
              "0            253875                 покупка жилья   Group 3  \n",
              "1            112080       приобретение автомобиля   Group 2  \n",
              "2            145885                 покупка жилья   Group 2  \n",
              "3            267628    дополнительное образование   Group 2  \n",
              "4            158616               сыграть свадьбу   Group 3  \n",
              "...             ...                           ...       ...  \n",
              "21465        224791             операции с жильем   Group 3  \n",
              "21466        155999          сделка с автомобилем   Group 4  \n",
              "21467         89672                  недвижимость   Group 2  \n",
              "21468        244093  на покупку своего автомобиля   Group 2  \n",
              "21469         82047         на покупку автомобиля   Group 2  \n",
              "\n",
              "[21470 rows x 14 columns]"
            ],
            "text/html": [
              "\n",
              "  <div id=\"df-bf0222f1-66e4-4025-a82e-db7e18a35fad\">\n",
              "    <div class=\"colab-df-container\">\n",
              "      <div>\n",
              "<style scoped>\n",
              "    .dataframe tbody tr th:only-of-type {\n",
              "        vertical-align: middle;\n",
              "    }\n",
              "\n",
              "    .dataframe tbody tr th {\n",
              "        vertical-align: top;\n",
              "    }\n",
              "\n",
              "    .dataframe thead th {\n",
              "        text-align: right;\n",
              "    }\n",
              "</style>\n",
              "<table border=\"1\" class=\"dataframe\">\n",
              "  <thead>\n",
              "    <tr style=\"text-align: right;\">\n",
              "      <th></th>\n",
              "      <th>index</th>\n",
              "      <th>children</th>\n",
              "      <th>days_employed</th>\n",
              "      <th>dob_years</th>\n",
              "      <th>education</th>\n",
              "      <th>education_id</th>\n",
              "      <th>family_status</th>\n",
              "      <th>family_status_id</th>\n",
              "      <th>gender</th>\n",
              "      <th>income_type</th>\n",
              "      <th>debt</th>\n",
              "      <th>total_income</th>\n",
              "      <th>purpose</th>\n",
              "      <th>age_group</th>\n",
              "    </tr>\n",
              "  </thead>\n",
              "  <tbody>\n",
              "    <tr>\n",
              "      <th>0</th>\n",
              "      <td>0</td>\n",
              "      <td>1</td>\n",
              "      <td>8437</td>\n",
              "      <td>42</td>\n",
              "      <td>высшее</td>\n",
              "      <td>0</td>\n",
              "      <td>женат / замужем</td>\n",
              "      <td>0</td>\n",
              "      <td>F</td>\n",
              "      <td>сотрудник</td>\n",
              "      <td>0</td>\n",
              "      <td>253875</td>\n",
              "      <td>покупка жилья</td>\n",
              "      <td>Group 3</td>\n",
              "    </tr>\n",
              "    <tr>\n",
              "      <th>1</th>\n",
              "      <td>1</td>\n",
              "      <td>1</td>\n",
              "      <td>4024</td>\n",
              "      <td>36</td>\n",
              "      <td>среднее</td>\n",
              "      <td>1</td>\n",
              "      <td>женат / замужем</td>\n",
              "      <td>0</td>\n",
              "      <td>F</td>\n",
              "      <td>сотрудник</td>\n",
              "      <td>0</td>\n",
              "      <td>112080</td>\n",
              "      <td>приобретение автомобиля</td>\n",
              "      <td>Group 2</td>\n",
              "    </tr>\n",
              "    <tr>\n",
              "      <th>2</th>\n",
              "      <td>2</td>\n",
              "      <td>0</td>\n",
              "      <td>5623</td>\n",
              "      <td>33</td>\n",
              "      <td>Среднее</td>\n",
              "      <td>1</td>\n",
              "      <td>женат / замужем</td>\n",
              "      <td>0</td>\n",
              "      <td>M</td>\n",
              "      <td>сотрудник</td>\n",
              "      <td>0</td>\n",
              "      <td>145885</td>\n",
              "      <td>покупка жилья</td>\n",
              "      <td>Group 2</td>\n",
              "    </tr>\n",
              "    <tr>\n",
              "      <th>3</th>\n",
              "      <td>3</td>\n",
              "      <td>3</td>\n",
              "      <td>4124</td>\n",
              "      <td>32</td>\n",
              "      <td>среднее</td>\n",
              "      <td>1</td>\n",
              "      <td>женат / замужем</td>\n",
              "      <td>0</td>\n",
              "      <td>M</td>\n",
              "      <td>сотрудник</td>\n",
              "      <td>0</td>\n",
              "      <td>267628</td>\n",
              "      <td>дополнительное образование</td>\n",
              "      <td>Group 2</td>\n",
              "    </tr>\n",
              "    <tr>\n",
              "      <th>4</th>\n",
              "      <td>4</td>\n",
              "      <td>0</td>\n",
              "      <td>340266</td>\n",
              "      <td>53</td>\n",
              "      <td>среднее</td>\n",
              "      <td>1</td>\n",
              "      <td>гражданский брак</td>\n",
              "      <td>1</td>\n",
              "      <td>F</td>\n",
              "      <td>пенсионер</td>\n",
              "      <td>0</td>\n",
              "      <td>158616</td>\n",
              "      <td>сыграть свадьбу</td>\n",
              "      <td>Group 3</td>\n",
              "    </tr>\n",
              "    <tr>\n",
              "      <th>...</th>\n",
              "      <td>...</td>\n",
              "      <td>...</td>\n",
              "      <td>...</td>\n",
              "      <td>...</td>\n",
              "      <td>...</td>\n",
              "      <td>...</td>\n",
              "      <td>...</td>\n",
              "      <td>...</td>\n",
              "      <td>...</td>\n",
              "      <td>...</td>\n",
              "      <td>...</td>\n",
              "      <td>...</td>\n",
              "      <td>...</td>\n",
              "      <td>...</td>\n",
              "    </tr>\n",
              "    <tr>\n",
              "      <th>21465</th>\n",
              "      <td>21520</td>\n",
              "      <td>1</td>\n",
              "      <td>4529</td>\n",
              "      <td>43</td>\n",
              "      <td>среднее</td>\n",
              "      <td>1</td>\n",
              "      <td>гражданский брак</td>\n",
              "      <td>1</td>\n",
              "      <td>F</td>\n",
              "      <td>компаньон</td>\n",
              "      <td>0</td>\n",
              "      <td>224791</td>\n",
              "      <td>операции с жильем</td>\n",
              "      <td>Group 3</td>\n",
              "    </tr>\n",
              "    <tr>\n",
              "      <th>21466</th>\n",
              "      <td>21521</td>\n",
              "      <td>0</td>\n",
              "      <td>343937</td>\n",
              "      <td>67</td>\n",
              "      <td>среднее</td>\n",
              "      <td>1</td>\n",
              "      <td>женат / замужем</td>\n",
              "      <td>0</td>\n",
              "      <td>F</td>\n",
              "      <td>пенсионер</td>\n",
              "      <td>0</td>\n",
              "      <td>155999</td>\n",
              "      <td>сделка с автомобилем</td>\n",
              "      <td>Group 4</td>\n",
              "    </tr>\n",
              "    <tr>\n",
              "      <th>21467</th>\n",
              "      <td>21522</td>\n",
              "      <td>1</td>\n",
              "      <td>2113</td>\n",
              "      <td>38</td>\n",
              "      <td>среднее</td>\n",
              "      <td>1</td>\n",
              "      <td>гражданский брак</td>\n",
              "      <td>1</td>\n",
              "      <td>M</td>\n",
              "      <td>сотрудник</td>\n",
              "      <td>1</td>\n",
              "      <td>89672</td>\n",
              "      <td>недвижимость</td>\n",
              "      <td>Group 2</td>\n",
              "    </tr>\n",
              "    <tr>\n",
              "      <th>21468</th>\n",
              "      <td>21523</td>\n",
              "      <td>3</td>\n",
              "      <td>3112</td>\n",
              "      <td>38</td>\n",
              "      <td>среднее</td>\n",
              "      <td>1</td>\n",
              "      <td>женат / замужем</td>\n",
              "      <td>0</td>\n",
              "      <td>M</td>\n",
              "      <td>сотрудник</td>\n",
              "      <td>1</td>\n",
              "      <td>244093</td>\n",
              "      <td>на покупку своего автомобиля</td>\n",
              "      <td>Group 2</td>\n",
              "    </tr>\n",
              "    <tr>\n",
              "      <th>21469</th>\n",
              "      <td>21524</td>\n",
              "      <td>2</td>\n",
              "      <td>1984</td>\n",
              "      <td>40</td>\n",
              "      <td>среднее</td>\n",
              "      <td>1</td>\n",
              "      <td>женат / замужем</td>\n",
              "      <td>0</td>\n",
              "      <td>F</td>\n",
              "      <td>сотрудник</td>\n",
              "      <td>0</td>\n",
              "      <td>82047</td>\n",
              "      <td>на покупку автомобиля</td>\n",
              "      <td>Group 2</td>\n",
              "    </tr>\n",
              "  </tbody>\n",
              "</table>\n",
              "<p>21470 rows × 14 columns</p>\n",
              "</div>\n",
              "      <button class=\"colab-df-convert\" onclick=\"convertToInteractive('df-bf0222f1-66e4-4025-a82e-db7e18a35fad')\"\n",
              "              title=\"Convert this dataframe to an interactive table.\"\n",
              "              style=\"display:none;\">\n",
              "        \n",
              "  <svg xmlns=\"http://www.w3.org/2000/svg\" height=\"24px\"viewBox=\"0 0 24 24\"\n",
              "       width=\"24px\">\n",
              "    <path d=\"M0 0h24v24H0V0z\" fill=\"none\"/>\n",
              "    <path d=\"M18.56 5.44l.94 2.06.94-2.06 2.06-.94-2.06-.94-.94-2.06-.94 2.06-2.06.94zm-11 1L8.5 8.5l.94-2.06 2.06-.94-2.06-.94L8.5 2.5l-.94 2.06-2.06.94zm10 10l.94 2.06.94-2.06 2.06-.94-2.06-.94-.94-2.06-.94 2.06-2.06.94z\"/><path d=\"M17.41 7.96l-1.37-1.37c-.4-.4-.92-.59-1.43-.59-.52 0-1.04.2-1.43.59L10.3 9.45l-7.72 7.72c-.78.78-.78 2.05 0 2.83L4 21.41c.39.39.9.59 1.41.59.51 0 1.02-.2 1.41-.59l7.78-7.78 2.81-2.81c.8-.78.8-2.07 0-2.86zM5.41 20L4 18.59l7.72-7.72 1.47 1.35L5.41 20z\"/>\n",
              "  </svg>\n",
              "      </button>\n",
              "      \n",
              "  <style>\n",
              "    .colab-df-container {\n",
              "      display:flex;\n",
              "      flex-wrap:wrap;\n",
              "      gap: 12px;\n",
              "    }\n",
              "\n",
              "    .colab-df-convert {\n",
              "      background-color: #E8F0FE;\n",
              "      border: none;\n",
              "      border-radius: 50%;\n",
              "      cursor: pointer;\n",
              "      display: none;\n",
              "      fill: #1967D2;\n",
              "      height: 32px;\n",
              "      padding: 0 0 0 0;\n",
              "      width: 32px;\n",
              "    }\n",
              "\n",
              "    .colab-df-convert:hover {\n",
              "      background-color: #E2EBFA;\n",
              "      box-shadow: 0px 1px 2px rgba(60, 64, 67, 0.3), 0px 1px 3px 1px rgba(60, 64, 67, 0.15);\n",
              "      fill: #174EA6;\n",
              "    }\n",
              "\n",
              "    [theme=dark] .colab-df-convert {\n",
              "      background-color: #3B4455;\n",
              "      fill: #D2E3FC;\n",
              "    }\n",
              "\n",
              "    [theme=dark] .colab-df-convert:hover {\n",
              "      background-color: #434B5C;\n",
              "      box-shadow: 0px 1px 3px 1px rgba(0, 0, 0, 0.15);\n",
              "      filter: drop-shadow(0px 1px 2px rgba(0, 0, 0, 0.3));\n",
              "      fill: #FFFFFF;\n",
              "    }\n",
              "  </style>\n",
              "\n",
              "      <script>\n",
              "        const buttonEl =\n",
              "          document.querySelector('#df-bf0222f1-66e4-4025-a82e-db7e18a35fad button.colab-df-convert');\n",
              "        buttonEl.style.display =\n",
              "          google.colab.kernel.accessAllowed ? 'block' : 'none';\n",
              "\n",
              "        async function convertToInteractive(key) {\n",
              "          const element = document.querySelector('#df-bf0222f1-66e4-4025-a82e-db7e18a35fad');\n",
              "          const dataTable =\n",
              "            await google.colab.kernel.invokeFunction('convertToInteractive',\n",
              "                                                     [key], {});\n",
              "          if (!dataTable) return;\n",
              "\n",
              "          const docLinkHtml = 'Like what you see? Visit the ' +\n",
              "            '<a target=\"_blank\" href=https://colab.research.google.com/notebooks/data_table.ipynb>data table notebook</a>'\n",
              "            + ' to learn more about interactive tables.';\n",
              "          element.innerHTML = '';\n",
              "          dataTable['output_type'] = 'display_data';\n",
              "          await google.colab.output.renderOutput(dataTable, element);\n",
              "          const docLink = document.createElement('div');\n",
              "          docLink.innerHTML = docLinkHtml;\n",
              "          element.appendChild(docLink);\n",
              "        }\n",
              "      </script>\n",
              "    </div>\n",
              "  </div>\n",
              "  "
            ]
          },
          "metadata": {},
          "execution_count": 152
        }
      ]
    },
    {
      "cell_type": "markdown",
      "source": [
        "### Additionally"
      ],
      "metadata": {
        "id": "g3uCnUwx8k-6"
      },
      "id": "g3uCnUwx8k-6"
    },
    {
      "cell_type": "markdown",
      "source": [
        "Standardizing the data in the \"education\" and \"family_status\" columns to one case."
      ],
      "metadata": {
        "id": "NriGqDQo8o4U"
      },
      "id": "NriGqDQo8o4U"
    },
    {
      "cell_type": "code",
      "source": [
        "df['education'] = df['education'].str.lower()\n",
        "df['family_status'] = df['family_status'].str.lower()"
      ],
      "metadata": {
        "id": "Teib2dWK8uiM"
      },
      "id": "Teib2dWK8uiM",
      "execution_count": 153,
      "outputs": []
    },
    {
      "cell_type": "markdown",
      "source": [
        "Categorizing the data in the \"purpose\" column (the purpose of obtaining the credit)."
      ],
      "metadata": {
        "id": "WKhvbwfS8x0B"
      },
      "id": "WKhvbwfS8x0B"
    },
    {
      "cell_type": "code",
      "source": [
        "def rename_purpose(row):\n",
        "    \"\"\"\n",
        "    Function for categorizing by credit purpose\n",
        "    \"\"\"\n",
        "    purpose = row['purpose']\n",
        "    if 'авто' in purpose:\n",
        "        return 'операции с автомобилем'\n",
        "    if 'жиль' in purpose:\n",
        "        return 'операции с недвижимостью'\n",
        "    if 'недвиж' in purpose:\n",
        "        return 'операции с недвижимостью'\n",
        "    if 'свадь' in purpose:\n",
        "        return 'проведение свадьбы'\n",
        "    return 'получение образования'\n",
        "df['purpose_category'] = df.apply(rename_purpose, axis=1)\n",
        "\n",
        "#print(df['purpose'].value_counts())\n",
        "df.head(15)"
      ],
      "metadata": {
        "colab": {
          "base_uri": "https://localhost:8080/",
          "height": 861
        },
        "id": "wIUPG6_L8z17",
        "outputId": "e92bd58e-bf9b-4e2d-d824-8e4cabc82d87"
      },
      "id": "wIUPG6_L8z17",
      "execution_count": 154,
      "outputs": [
        {
          "output_type": "execute_result",
          "data": {
            "text/plain": [
              "    children  days_employed  dob_years            education  education_id  \\\n",
              "0          1           8437         42               высшее             0   \n",
              "1          1           4024         36              среднее             1   \n",
              "2          0           5623         33              среднее             1   \n",
              "3          3           4124         32              среднее             1   \n",
              "4          0         340266         53              среднее             1   \n",
              "5          0            926         27               высшее             0   \n",
              "6          0           2879         43               высшее             0   \n",
              "7          0            152         50              среднее             1   \n",
              "8          2           6929         35               высшее             0   \n",
              "9          0           2188         41              среднее             1   \n",
              "10         2           4171         36               высшее             0   \n",
              "11         0            792         40              среднее             1   \n",
              "12         0              0         65              среднее             1   \n",
              "13         0           1846         54  неоконченное высшее             2   \n",
              "14         0           1844         56               высшее             0   \n",
              "\n",
              "       family_status  family_status_id gender income_type  debt  total_income  \\\n",
              "0    женат / замужем                 0      F   сотрудник     0        253875   \n",
              "1    женат / замужем                 0      F   сотрудник     0        112080   \n",
              "2    женат / замужем                 0      M   сотрудник     0        145885   \n",
              "3    женат / замужем                 0      M   сотрудник     0        267628   \n",
              "4   гражданский брак                 1      F   пенсионер     0        158616   \n",
              "5   гражданский брак                 1      M   компаньон     0        255763   \n",
              "6    женат / замужем                 0      F   компаньон     0        240525   \n",
              "7    женат / замужем                 0      M   сотрудник     0        135823   \n",
              "8   гражданский брак                 1      F   сотрудник     0         95856   \n",
              "9    женат / замужем                 0      M   сотрудник     0        144425   \n",
              "10   женат / замужем                 0      M   компаньон     0        113943   \n",
              "11   женат / замужем                 0      F   сотрудник     0         77069   \n",
              "12  гражданский брак                 1      M   пенсионер     0        110179   \n",
              "13   женат / замужем                 0      F   сотрудник     0        130458   \n",
              "14  гражданский брак                 1      F   компаньон     1        165127   \n",
              "\n",
              "                              purpose age_group          purpose_category  \n",
              "0                       покупка жилья   Group 3  операции с недвижимостью  \n",
              "1             приобретение автомобиля   Group 2    операции с автомобилем  \n",
              "2                       покупка жилья   Group 2  операции с недвижимостью  \n",
              "3          дополнительное образование   Group 2     получение образования  \n",
              "4                     сыграть свадьбу   Group 3        проведение свадьбы  \n",
              "5                       покупка жилья   Group 1  операции с недвижимостью  \n",
              "6                   операции с жильем   Group 3  операции с недвижимостью  \n",
              "7                         образование   Group 3     получение образования  \n",
              "8               на проведение свадьбы   Group 2        проведение свадьбы  \n",
              "9             покупка жилья для семьи   Group 3  операции с недвижимостью  \n",
              "10               покупка недвижимости   Group 2  операции с недвижимостью  \n",
              "11  покупка коммерческой недвижимости   Group 2  операции с недвижимостью  \n",
              "12                    сыграть свадьбу   Group 4        проведение свадьбы  \n",
              "13            приобретение автомобиля   Group 3    операции с автомобилем  \n",
              "14         покупка жилой недвижимости   Group 4  операции с недвижимостью  "
            ],
            "text/html": [
              "\n",
              "  <div id=\"df-0861a028-af0b-4d7b-9df9-81ca194c2913\">\n",
              "    <div class=\"colab-df-container\">\n",
              "      <div>\n",
              "<style scoped>\n",
              "    .dataframe tbody tr th:only-of-type {\n",
              "        vertical-align: middle;\n",
              "    }\n",
              "\n",
              "    .dataframe tbody tr th {\n",
              "        vertical-align: top;\n",
              "    }\n",
              "\n",
              "    .dataframe thead th {\n",
              "        text-align: right;\n",
              "    }\n",
              "</style>\n",
              "<table border=\"1\" class=\"dataframe\">\n",
              "  <thead>\n",
              "    <tr style=\"text-align: right;\">\n",
              "      <th></th>\n",
              "      <th>children</th>\n",
              "      <th>days_employed</th>\n",
              "      <th>dob_years</th>\n",
              "      <th>education</th>\n",
              "      <th>education_id</th>\n",
              "      <th>family_status</th>\n",
              "      <th>family_status_id</th>\n",
              "      <th>gender</th>\n",
              "      <th>income_type</th>\n",
              "      <th>debt</th>\n",
              "      <th>total_income</th>\n",
              "      <th>purpose</th>\n",
              "      <th>age_group</th>\n",
              "      <th>purpose_category</th>\n",
              "    </tr>\n",
              "  </thead>\n",
              "  <tbody>\n",
              "    <tr>\n",
              "      <th>0</th>\n",
              "      <td>1</td>\n",
              "      <td>8437</td>\n",
              "      <td>42</td>\n",
              "      <td>высшее</td>\n",
              "      <td>0</td>\n",
              "      <td>женат / замужем</td>\n",
              "      <td>0</td>\n",
              "      <td>F</td>\n",
              "      <td>сотрудник</td>\n",
              "      <td>0</td>\n",
              "      <td>253875</td>\n",
              "      <td>покупка жилья</td>\n",
              "      <td>Group 3</td>\n",
              "      <td>операции с недвижимостью</td>\n",
              "    </tr>\n",
              "    <tr>\n",
              "      <th>1</th>\n",
              "      <td>1</td>\n",
              "      <td>4024</td>\n",
              "      <td>36</td>\n",
              "      <td>среднее</td>\n",
              "      <td>1</td>\n",
              "      <td>женат / замужем</td>\n",
              "      <td>0</td>\n",
              "      <td>F</td>\n",
              "      <td>сотрудник</td>\n",
              "      <td>0</td>\n",
              "      <td>112080</td>\n",
              "      <td>приобретение автомобиля</td>\n",
              "      <td>Group 2</td>\n",
              "      <td>операции с автомобилем</td>\n",
              "    </tr>\n",
              "    <tr>\n",
              "      <th>2</th>\n",
              "      <td>0</td>\n",
              "      <td>5623</td>\n",
              "      <td>33</td>\n",
              "      <td>среднее</td>\n",
              "      <td>1</td>\n",
              "      <td>женат / замужем</td>\n",
              "      <td>0</td>\n",
              "      <td>M</td>\n",
              "      <td>сотрудник</td>\n",
              "      <td>0</td>\n",
              "      <td>145885</td>\n",
              "      <td>покупка жилья</td>\n",
              "      <td>Group 2</td>\n",
              "      <td>операции с недвижимостью</td>\n",
              "    </tr>\n",
              "    <tr>\n",
              "      <th>3</th>\n",
              "      <td>3</td>\n",
              "      <td>4124</td>\n",
              "      <td>32</td>\n",
              "      <td>среднее</td>\n",
              "      <td>1</td>\n",
              "      <td>женат / замужем</td>\n",
              "      <td>0</td>\n",
              "      <td>M</td>\n",
              "      <td>сотрудник</td>\n",
              "      <td>0</td>\n",
              "      <td>267628</td>\n",
              "      <td>дополнительное образование</td>\n",
              "      <td>Group 2</td>\n",
              "      <td>получение образования</td>\n",
              "    </tr>\n",
              "    <tr>\n",
              "      <th>4</th>\n",
              "      <td>0</td>\n",
              "      <td>340266</td>\n",
              "      <td>53</td>\n",
              "      <td>среднее</td>\n",
              "      <td>1</td>\n",
              "      <td>гражданский брак</td>\n",
              "      <td>1</td>\n",
              "      <td>F</td>\n",
              "      <td>пенсионер</td>\n",
              "      <td>0</td>\n",
              "      <td>158616</td>\n",
              "      <td>сыграть свадьбу</td>\n",
              "      <td>Group 3</td>\n",
              "      <td>проведение свадьбы</td>\n",
              "    </tr>\n",
              "    <tr>\n",
              "      <th>5</th>\n",
              "      <td>0</td>\n",
              "      <td>926</td>\n",
              "      <td>27</td>\n",
              "      <td>высшее</td>\n",
              "      <td>0</td>\n",
              "      <td>гражданский брак</td>\n",
              "      <td>1</td>\n",
              "      <td>M</td>\n",
              "      <td>компаньон</td>\n",
              "      <td>0</td>\n",
              "      <td>255763</td>\n",
              "      <td>покупка жилья</td>\n",
              "      <td>Group 1</td>\n",
              "      <td>операции с недвижимостью</td>\n",
              "    </tr>\n",
              "    <tr>\n",
              "      <th>6</th>\n",
              "      <td>0</td>\n",
              "      <td>2879</td>\n",
              "      <td>43</td>\n",
              "      <td>высшее</td>\n",
              "      <td>0</td>\n",
              "      <td>женат / замужем</td>\n",
              "      <td>0</td>\n",
              "      <td>F</td>\n",
              "      <td>компаньон</td>\n",
              "      <td>0</td>\n",
              "      <td>240525</td>\n",
              "      <td>операции с жильем</td>\n",
              "      <td>Group 3</td>\n",
              "      <td>операции с недвижимостью</td>\n",
              "    </tr>\n",
              "    <tr>\n",
              "      <th>7</th>\n",
              "      <td>0</td>\n",
              "      <td>152</td>\n",
              "      <td>50</td>\n",
              "      <td>среднее</td>\n",
              "      <td>1</td>\n",
              "      <td>женат / замужем</td>\n",
              "      <td>0</td>\n",
              "      <td>M</td>\n",
              "      <td>сотрудник</td>\n",
              "      <td>0</td>\n",
              "      <td>135823</td>\n",
              "      <td>образование</td>\n",
              "      <td>Group 3</td>\n",
              "      <td>получение образования</td>\n",
              "    </tr>\n",
              "    <tr>\n",
              "      <th>8</th>\n",
              "      <td>2</td>\n",
              "      <td>6929</td>\n",
              "      <td>35</td>\n",
              "      <td>высшее</td>\n",
              "      <td>0</td>\n",
              "      <td>гражданский брак</td>\n",
              "      <td>1</td>\n",
              "      <td>F</td>\n",
              "      <td>сотрудник</td>\n",
              "      <td>0</td>\n",
              "      <td>95856</td>\n",
              "      <td>на проведение свадьбы</td>\n",
              "      <td>Group 2</td>\n",
              "      <td>проведение свадьбы</td>\n",
              "    </tr>\n",
              "    <tr>\n",
              "      <th>9</th>\n",
              "      <td>0</td>\n",
              "      <td>2188</td>\n",
              "      <td>41</td>\n",
              "      <td>среднее</td>\n",
              "      <td>1</td>\n",
              "      <td>женат / замужем</td>\n",
              "      <td>0</td>\n",
              "      <td>M</td>\n",
              "      <td>сотрудник</td>\n",
              "      <td>0</td>\n",
              "      <td>144425</td>\n",
              "      <td>покупка жилья для семьи</td>\n",
              "      <td>Group 3</td>\n",
              "      <td>операции с недвижимостью</td>\n",
              "    </tr>\n",
              "    <tr>\n",
              "      <th>10</th>\n",
              "      <td>2</td>\n",
              "      <td>4171</td>\n",
              "      <td>36</td>\n",
              "      <td>высшее</td>\n",
              "      <td>0</td>\n",
              "      <td>женат / замужем</td>\n",
              "      <td>0</td>\n",
              "      <td>M</td>\n",
              "      <td>компаньон</td>\n",
              "      <td>0</td>\n",
              "      <td>113943</td>\n",
              "      <td>покупка недвижимости</td>\n",
              "      <td>Group 2</td>\n",
              "      <td>операции с недвижимостью</td>\n",
              "    </tr>\n",
              "    <tr>\n",
              "      <th>11</th>\n",
              "      <td>0</td>\n",
              "      <td>792</td>\n",
              "      <td>40</td>\n",
              "      <td>среднее</td>\n",
              "      <td>1</td>\n",
              "      <td>женат / замужем</td>\n",
              "      <td>0</td>\n",
              "      <td>F</td>\n",
              "      <td>сотрудник</td>\n",
              "      <td>0</td>\n",
              "      <td>77069</td>\n",
              "      <td>покупка коммерческой недвижимости</td>\n",
              "      <td>Group 2</td>\n",
              "      <td>операции с недвижимостью</td>\n",
              "    </tr>\n",
              "    <tr>\n",
              "      <th>12</th>\n",
              "      <td>0</td>\n",
              "      <td>0</td>\n",
              "      <td>65</td>\n",
              "      <td>среднее</td>\n",
              "      <td>1</td>\n",
              "      <td>гражданский брак</td>\n",
              "      <td>1</td>\n",
              "      <td>M</td>\n",
              "      <td>пенсионер</td>\n",
              "      <td>0</td>\n",
              "      <td>110179</td>\n",
              "      <td>сыграть свадьбу</td>\n",
              "      <td>Group 4</td>\n",
              "      <td>проведение свадьбы</td>\n",
              "    </tr>\n",
              "    <tr>\n",
              "      <th>13</th>\n",
              "      <td>0</td>\n",
              "      <td>1846</td>\n",
              "      <td>54</td>\n",
              "      <td>неоконченное высшее</td>\n",
              "      <td>2</td>\n",
              "      <td>женат / замужем</td>\n",
              "      <td>0</td>\n",
              "      <td>F</td>\n",
              "      <td>сотрудник</td>\n",
              "      <td>0</td>\n",
              "      <td>130458</td>\n",
              "      <td>приобретение автомобиля</td>\n",
              "      <td>Group 3</td>\n",
              "      <td>операции с автомобилем</td>\n",
              "    </tr>\n",
              "    <tr>\n",
              "      <th>14</th>\n",
              "      <td>0</td>\n",
              "      <td>1844</td>\n",
              "      <td>56</td>\n",
              "      <td>высшее</td>\n",
              "      <td>0</td>\n",
              "      <td>гражданский брак</td>\n",
              "      <td>1</td>\n",
              "      <td>F</td>\n",
              "      <td>компаньон</td>\n",
              "      <td>1</td>\n",
              "      <td>165127</td>\n",
              "      <td>покупка жилой недвижимости</td>\n",
              "      <td>Group 4</td>\n",
              "      <td>операции с недвижимостью</td>\n",
              "    </tr>\n",
              "  </tbody>\n",
              "</table>\n",
              "</div>\n",
              "      <button class=\"colab-df-convert\" onclick=\"convertToInteractive('df-0861a028-af0b-4d7b-9df9-81ca194c2913')\"\n",
              "              title=\"Convert this dataframe to an interactive table.\"\n",
              "              style=\"display:none;\">\n",
              "        \n",
              "  <svg xmlns=\"http://www.w3.org/2000/svg\" height=\"24px\"viewBox=\"0 0 24 24\"\n",
              "       width=\"24px\">\n",
              "    <path d=\"M0 0h24v24H0V0z\" fill=\"none\"/>\n",
              "    <path d=\"M18.56 5.44l.94 2.06.94-2.06 2.06-.94-2.06-.94-.94-2.06-.94 2.06-2.06.94zm-11 1L8.5 8.5l.94-2.06 2.06-.94-2.06-.94L8.5 2.5l-.94 2.06-2.06.94zm10 10l.94 2.06.94-2.06 2.06-.94-2.06-.94-.94-2.06-.94 2.06-2.06.94z\"/><path d=\"M17.41 7.96l-1.37-1.37c-.4-.4-.92-.59-1.43-.59-.52 0-1.04.2-1.43.59L10.3 9.45l-7.72 7.72c-.78.78-.78 2.05 0 2.83L4 21.41c.39.39.9.59 1.41.59.51 0 1.02-.2 1.41-.59l7.78-7.78 2.81-2.81c.8-.78.8-2.07 0-2.86zM5.41 20L4 18.59l7.72-7.72 1.47 1.35L5.41 20z\"/>\n",
              "  </svg>\n",
              "      </button>\n",
              "      \n",
              "  <style>\n",
              "    .colab-df-container {\n",
              "      display:flex;\n",
              "      flex-wrap:wrap;\n",
              "      gap: 12px;\n",
              "    }\n",
              "\n",
              "    .colab-df-convert {\n",
              "      background-color: #E8F0FE;\n",
              "      border: none;\n",
              "      border-radius: 50%;\n",
              "      cursor: pointer;\n",
              "      display: none;\n",
              "      fill: #1967D2;\n",
              "      height: 32px;\n",
              "      padding: 0 0 0 0;\n",
              "      width: 32px;\n",
              "    }\n",
              "\n",
              "    .colab-df-convert:hover {\n",
              "      background-color: #E2EBFA;\n",
              "      box-shadow: 0px 1px 2px rgba(60, 64, 67, 0.3), 0px 1px 3px 1px rgba(60, 64, 67, 0.15);\n",
              "      fill: #174EA6;\n",
              "    }\n",
              "\n",
              "    [theme=dark] .colab-df-convert {\n",
              "      background-color: #3B4455;\n",
              "      fill: #D2E3FC;\n",
              "    }\n",
              "\n",
              "    [theme=dark] .colab-df-convert:hover {\n",
              "      background-color: #434B5C;\n",
              "      box-shadow: 0px 1px 3px 1px rgba(0, 0, 0, 0.15);\n",
              "      filter: drop-shadow(0px 1px 2px rgba(0, 0, 0, 0.3));\n",
              "      fill: #FFFFFF;\n",
              "    }\n",
              "  </style>\n",
              "\n",
              "      <script>\n",
              "        const buttonEl =\n",
              "          document.querySelector('#df-0861a028-af0b-4d7b-9df9-81ca194c2913 button.colab-df-convert');\n",
              "        buttonEl.style.display =\n",
              "          google.colab.kernel.accessAllowed ? 'block' : 'none';\n",
              "\n",
              "        async function convertToInteractive(key) {\n",
              "          const element = document.querySelector('#df-0861a028-af0b-4d7b-9df9-81ca194c2913');\n",
              "          const dataTable =\n",
              "            await google.colab.kernel.invokeFunction('convertToInteractive',\n",
              "                                                     [key], {});\n",
              "          if (!dataTable) return;\n",
              "\n",
              "          const docLinkHtml = 'Like what you see? Visit the ' +\n",
              "            '<a target=\"_blank\" href=https://colab.research.google.com/notebooks/data_table.ipynb>data table notebook</a>'\n",
              "            + ' to learn more about interactive tables.';\n",
              "          element.innerHTML = '';\n",
              "          dataTable['output_type'] = 'display_data';\n",
              "          await google.colab.output.renderOutput(dataTable, element);\n",
              "          const docLink = document.createElement('div');\n",
              "          docLink.innerHTML = docLinkHtml;\n",
              "          element.appendChild(docLink);\n",
              "        }\n",
              "      </script>\n",
              "    </div>\n",
              "  </div>\n",
              "  "
            ]
          },
          "metadata": {},
          "execution_count": 154
        }
      ]
    },
    {
      "cell_type": "markdown",
      "id": "7633e294",
      "metadata": {
        "id": "7633e294"
      },
      "source": [
        "A manual search for duplicates with case sensitivity was applied to the dataframe, as not all columns had duplicates. \n",
        "\n",
        "The data in the education (client's level of education) and family_status (family status) columns were brought to a single case.  The data in the \"purpose\" column (the purpose of obtaining the credit) is categorized and the apply() function was used for data categorization.\n",
        "\n",
        "Possible cause of the duplicate data is related to the human factor when manually entering data at the time of customer service."
      ]
    },
    {
      "cell_type": "markdown",
      "id": "06e6c8fa",
      "metadata": {
        "id": "06e6c8fa"
      },
      "source": [
        "### Forming additional dataframes of dictionaries, decomposing the original dataframe."
      ]
    },
    {
      "cell_type": "code",
      "execution_count": 155,
      "id": "1b1c7fc4",
      "metadata": {
        "colab": {
          "base_uri": "https://localhost:8080/",
          "height": 395
        },
        "id": "1b1c7fc4",
        "outputId": "0eff4ea7-0bb5-468c-b51c-56cdb4bfc7a5"
      },
      "outputs": [
        {
          "output_type": "display_data",
          "data": {
            "text/plain": [
              "             education  education_id\n",
              "0               высшее             0\n",
              "1              среднее             1\n",
              "2  неоконченное высшее             2\n",
              "3            начальное             3\n",
              "4       ученая степень             4"
            ],
            "text/html": [
              "\n",
              "  <div id=\"df-a2c4d8c2-c72b-4dab-9776-d2e86c02d7a5\">\n",
              "    <div class=\"colab-df-container\">\n",
              "      <div>\n",
              "<style scoped>\n",
              "    .dataframe tbody tr th:only-of-type {\n",
              "        vertical-align: middle;\n",
              "    }\n",
              "\n",
              "    .dataframe tbody tr th {\n",
              "        vertical-align: top;\n",
              "    }\n",
              "\n",
              "    .dataframe thead th {\n",
              "        text-align: right;\n",
              "    }\n",
              "</style>\n",
              "<table border=\"1\" class=\"dataframe\">\n",
              "  <thead>\n",
              "    <tr style=\"text-align: right;\">\n",
              "      <th></th>\n",
              "      <th>education</th>\n",
              "      <th>education_id</th>\n",
              "    </tr>\n",
              "  </thead>\n",
              "  <tbody>\n",
              "    <tr>\n",
              "      <th>0</th>\n",
              "      <td>высшее</td>\n",
              "      <td>0</td>\n",
              "    </tr>\n",
              "    <tr>\n",
              "      <th>1</th>\n",
              "      <td>среднее</td>\n",
              "      <td>1</td>\n",
              "    </tr>\n",
              "    <tr>\n",
              "      <th>2</th>\n",
              "      <td>неоконченное высшее</td>\n",
              "      <td>2</td>\n",
              "    </tr>\n",
              "    <tr>\n",
              "      <th>3</th>\n",
              "      <td>начальное</td>\n",
              "      <td>3</td>\n",
              "    </tr>\n",
              "    <tr>\n",
              "      <th>4</th>\n",
              "      <td>ученая степень</td>\n",
              "      <td>4</td>\n",
              "    </tr>\n",
              "  </tbody>\n",
              "</table>\n",
              "</div>\n",
              "      <button class=\"colab-df-convert\" onclick=\"convertToInteractive('df-a2c4d8c2-c72b-4dab-9776-d2e86c02d7a5')\"\n",
              "              title=\"Convert this dataframe to an interactive table.\"\n",
              "              style=\"display:none;\">\n",
              "        \n",
              "  <svg xmlns=\"http://www.w3.org/2000/svg\" height=\"24px\"viewBox=\"0 0 24 24\"\n",
              "       width=\"24px\">\n",
              "    <path d=\"M0 0h24v24H0V0z\" fill=\"none\"/>\n",
              "    <path d=\"M18.56 5.44l.94 2.06.94-2.06 2.06-.94-2.06-.94-.94-2.06-.94 2.06-2.06.94zm-11 1L8.5 8.5l.94-2.06 2.06-.94-2.06-.94L8.5 2.5l-.94 2.06-2.06.94zm10 10l.94 2.06.94-2.06 2.06-.94-2.06-.94-.94-2.06-.94 2.06-2.06.94z\"/><path d=\"M17.41 7.96l-1.37-1.37c-.4-.4-.92-.59-1.43-.59-.52 0-1.04.2-1.43.59L10.3 9.45l-7.72 7.72c-.78.78-.78 2.05 0 2.83L4 21.41c.39.39.9.59 1.41.59.51 0 1.02-.2 1.41-.59l7.78-7.78 2.81-2.81c.8-.78.8-2.07 0-2.86zM5.41 20L4 18.59l7.72-7.72 1.47 1.35L5.41 20z\"/>\n",
              "  </svg>\n",
              "      </button>\n",
              "      \n",
              "  <style>\n",
              "    .colab-df-container {\n",
              "      display:flex;\n",
              "      flex-wrap:wrap;\n",
              "      gap: 12px;\n",
              "    }\n",
              "\n",
              "    .colab-df-convert {\n",
              "      background-color: #E8F0FE;\n",
              "      border: none;\n",
              "      border-radius: 50%;\n",
              "      cursor: pointer;\n",
              "      display: none;\n",
              "      fill: #1967D2;\n",
              "      height: 32px;\n",
              "      padding: 0 0 0 0;\n",
              "      width: 32px;\n",
              "    }\n",
              "\n",
              "    .colab-df-convert:hover {\n",
              "      background-color: #E2EBFA;\n",
              "      box-shadow: 0px 1px 2px rgba(60, 64, 67, 0.3), 0px 1px 3px 1px rgba(60, 64, 67, 0.15);\n",
              "      fill: #174EA6;\n",
              "    }\n",
              "\n",
              "    [theme=dark] .colab-df-convert {\n",
              "      background-color: #3B4455;\n",
              "      fill: #D2E3FC;\n",
              "    }\n",
              "\n",
              "    [theme=dark] .colab-df-convert:hover {\n",
              "      background-color: #434B5C;\n",
              "      box-shadow: 0px 1px 3px 1px rgba(0, 0, 0, 0.15);\n",
              "      filter: drop-shadow(0px 1px 2px rgba(0, 0, 0, 0.3));\n",
              "      fill: #FFFFFF;\n",
              "    }\n",
              "  </style>\n",
              "\n",
              "      <script>\n",
              "        const buttonEl =\n",
              "          document.querySelector('#df-a2c4d8c2-c72b-4dab-9776-d2e86c02d7a5 button.colab-df-convert');\n",
              "        buttonEl.style.display =\n",
              "          google.colab.kernel.accessAllowed ? 'block' : 'none';\n",
              "\n",
              "        async function convertToInteractive(key) {\n",
              "          const element = document.querySelector('#df-a2c4d8c2-c72b-4dab-9776-d2e86c02d7a5');\n",
              "          const dataTable =\n",
              "            await google.colab.kernel.invokeFunction('convertToInteractive',\n",
              "                                                     [key], {});\n",
              "          if (!dataTable) return;\n",
              "\n",
              "          const docLinkHtml = 'Like what you see? Visit the ' +\n",
              "            '<a target=\"_blank\" href=https://colab.research.google.com/notebooks/data_table.ipynb>data table notebook</a>'\n",
              "            + ' to learn more about interactive tables.';\n",
              "          element.innerHTML = '';\n",
              "          dataTable['output_type'] = 'display_data';\n",
              "          await google.colab.output.renderOutput(dataTable, element);\n",
              "          const docLink = document.createElement('div');\n",
              "          docLink.innerHTML = docLinkHtml;\n",
              "          element.appendChild(docLink);\n",
              "        }\n",
              "      </script>\n",
              "    </div>\n",
              "  </div>\n",
              "  "
            ]
          },
          "metadata": {}
        },
        {
          "output_type": "display_data",
          "data": {
            "text/plain": [
              "           family_status  family_status_id\n",
              "0        женат / замужем                 0\n",
              "1       гражданский брак                 1\n",
              "2         вдовец / вдова                 2\n",
              "3              в разводе                 3\n",
              "4  не женат / не замужем                 4"
            ],
            "text/html": [
              "\n",
              "  <div id=\"df-8a38bf8a-7b0d-40b3-ac1c-e984b13fd9d1\">\n",
              "    <div class=\"colab-df-container\">\n",
              "      <div>\n",
              "<style scoped>\n",
              "    .dataframe tbody tr th:only-of-type {\n",
              "        vertical-align: middle;\n",
              "    }\n",
              "\n",
              "    .dataframe tbody tr th {\n",
              "        vertical-align: top;\n",
              "    }\n",
              "\n",
              "    .dataframe thead th {\n",
              "        text-align: right;\n",
              "    }\n",
              "</style>\n",
              "<table border=\"1\" class=\"dataframe\">\n",
              "  <thead>\n",
              "    <tr style=\"text-align: right;\">\n",
              "      <th></th>\n",
              "      <th>family_status</th>\n",
              "      <th>family_status_id</th>\n",
              "    </tr>\n",
              "  </thead>\n",
              "  <tbody>\n",
              "    <tr>\n",
              "      <th>0</th>\n",
              "      <td>женат / замужем</td>\n",
              "      <td>0</td>\n",
              "    </tr>\n",
              "    <tr>\n",
              "      <th>1</th>\n",
              "      <td>гражданский брак</td>\n",
              "      <td>1</td>\n",
              "    </tr>\n",
              "    <tr>\n",
              "      <th>2</th>\n",
              "      <td>вдовец / вдова</td>\n",
              "      <td>2</td>\n",
              "    </tr>\n",
              "    <tr>\n",
              "      <th>3</th>\n",
              "      <td>в разводе</td>\n",
              "      <td>3</td>\n",
              "    </tr>\n",
              "    <tr>\n",
              "      <th>4</th>\n",
              "      <td>не женат / не замужем</td>\n",
              "      <td>4</td>\n",
              "    </tr>\n",
              "  </tbody>\n",
              "</table>\n",
              "</div>\n",
              "      <button class=\"colab-df-convert\" onclick=\"convertToInteractive('df-8a38bf8a-7b0d-40b3-ac1c-e984b13fd9d1')\"\n",
              "              title=\"Convert this dataframe to an interactive table.\"\n",
              "              style=\"display:none;\">\n",
              "        \n",
              "  <svg xmlns=\"http://www.w3.org/2000/svg\" height=\"24px\"viewBox=\"0 0 24 24\"\n",
              "       width=\"24px\">\n",
              "    <path d=\"M0 0h24v24H0V0z\" fill=\"none\"/>\n",
              "    <path d=\"M18.56 5.44l.94 2.06.94-2.06 2.06-.94-2.06-.94-.94-2.06-.94 2.06-2.06.94zm-11 1L8.5 8.5l.94-2.06 2.06-.94-2.06-.94L8.5 2.5l-.94 2.06-2.06.94zm10 10l.94 2.06.94-2.06 2.06-.94-2.06-.94-.94-2.06-.94 2.06-2.06.94z\"/><path d=\"M17.41 7.96l-1.37-1.37c-.4-.4-.92-.59-1.43-.59-.52 0-1.04.2-1.43.59L10.3 9.45l-7.72 7.72c-.78.78-.78 2.05 0 2.83L4 21.41c.39.39.9.59 1.41.59.51 0 1.02-.2 1.41-.59l7.78-7.78 2.81-2.81c.8-.78.8-2.07 0-2.86zM5.41 20L4 18.59l7.72-7.72 1.47 1.35L5.41 20z\"/>\n",
              "  </svg>\n",
              "      </button>\n",
              "      \n",
              "  <style>\n",
              "    .colab-df-container {\n",
              "      display:flex;\n",
              "      flex-wrap:wrap;\n",
              "      gap: 12px;\n",
              "    }\n",
              "\n",
              "    .colab-df-convert {\n",
              "      background-color: #E8F0FE;\n",
              "      border: none;\n",
              "      border-radius: 50%;\n",
              "      cursor: pointer;\n",
              "      display: none;\n",
              "      fill: #1967D2;\n",
              "      height: 32px;\n",
              "      padding: 0 0 0 0;\n",
              "      width: 32px;\n",
              "    }\n",
              "\n",
              "    .colab-df-convert:hover {\n",
              "      background-color: #E2EBFA;\n",
              "      box-shadow: 0px 1px 2px rgba(60, 64, 67, 0.3), 0px 1px 3px 1px rgba(60, 64, 67, 0.15);\n",
              "      fill: #174EA6;\n",
              "    }\n",
              "\n",
              "    [theme=dark] .colab-df-convert {\n",
              "      background-color: #3B4455;\n",
              "      fill: #D2E3FC;\n",
              "    }\n",
              "\n",
              "    [theme=dark] .colab-df-convert:hover {\n",
              "      background-color: #434B5C;\n",
              "      box-shadow: 0px 1px 3px 1px rgba(0, 0, 0, 0.15);\n",
              "      filter: drop-shadow(0px 1px 2px rgba(0, 0, 0, 0.3));\n",
              "      fill: #FFFFFF;\n",
              "    }\n",
              "  </style>\n",
              "\n",
              "      <script>\n",
              "        const buttonEl =\n",
              "          document.querySelector('#df-8a38bf8a-7b0d-40b3-ac1c-e984b13fd9d1 button.colab-df-convert');\n",
              "        buttonEl.style.display =\n",
              "          google.colab.kernel.accessAllowed ? 'block' : 'none';\n",
              "\n",
              "        async function convertToInteractive(key) {\n",
              "          const element = document.querySelector('#df-8a38bf8a-7b0d-40b3-ac1c-e984b13fd9d1');\n",
              "          const dataTable =\n",
              "            await google.colab.kernel.invokeFunction('convertToInteractive',\n",
              "                                                     [key], {});\n",
              "          if (!dataTable) return;\n",
              "\n",
              "          const docLinkHtml = 'Like what you see? Visit the ' +\n",
              "            '<a target=\"_blank\" href=https://colab.research.google.com/notebooks/data_table.ipynb>data table notebook</a>'\n",
              "            + ' to learn more about interactive tables.';\n",
              "          element.innerHTML = '';\n",
              "          dataTable['output_type'] = 'display_data';\n",
              "          await google.colab.output.renderOutput(dataTable, element);\n",
              "          const docLink = document.createElement('div');\n",
              "          docLink.innerHTML = docLinkHtml;\n",
              "          element.appendChild(docLink);\n",
              "        }\n",
              "      </script>\n",
              "    </div>\n",
              "  </div>\n",
              "  "
            ]
          },
          "metadata": {}
        }
      ],
      "source": [
        "education_dict = df[['education', 'education_id']]\n",
        "education_dict = education_dict.drop_duplicates().reset_index(drop=True)\n",
        "family_status_dict = df[['family_status', 'family_status_id']]\n",
        "family_status_dict = family_status_dict.drop_duplicates().reset_index(drop=True)\n",
        "display(education_dict)\n",
        "display(family_status_dict)\n",
        "\n",
        "#df = df.drop(['education','family_status'],axis=1)\n",
        "#display(df.head(15))"
      ]
    },
    {
      "cell_type": "markdown",
      "id": "5c96bbcc",
      "metadata": {
        "id": "5c96bbcc"
      },
      "source": [
        "### Categorization of income."
      ]
    },
    {
      "cell_type": "code",
      "execution_count": 156,
      "id": "fc8bd9de",
      "metadata": {
        "colab": {
          "base_uri": "https://localhost:8080/",
          "height": 861
        },
        "id": "fc8bd9de",
        "outputId": "2869b6d0-90f4-4226-b371-f0c0a52777ba"
      },
      "outputs": [
        {
          "output_type": "display_data",
          "data": {
            "text/plain": [
              "    children  days_employed  dob_years            education  education_id  \\\n",
              "0          1           8437         42               высшее             0   \n",
              "1          1           4024         36              среднее             1   \n",
              "2          0           5623         33              среднее             1   \n",
              "3          3           4124         32              среднее             1   \n",
              "4          0         340266         53              среднее             1   \n",
              "5          0            926         27               высшее             0   \n",
              "6          0           2879         43               высшее             0   \n",
              "7          0            152         50              среднее             1   \n",
              "8          2           6929         35               высшее             0   \n",
              "9          0           2188         41              среднее             1   \n",
              "10         2           4171         36               высшее             0   \n",
              "11         0            792         40              среднее             1   \n",
              "12         0              0         65              среднее             1   \n",
              "13         0           1846         54  неоконченное высшее             2   \n",
              "14         0           1844         56               высшее             0   \n",
              "\n",
              "       family_status  family_status_id gender income_type  debt  total_income  \\\n",
              "0    женат / замужем                 0      F   сотрудник     0        253875   \n",
              "1    женат / замужем                 0      F   сотрудник     0        112080   \n",
              "2    женат / замужем                 0      M   сотрудник     0        145885   \n",
              "3    женат / замужем                 0      M   сотрудник     0        267628   \n",
              "4   гражданский брак                 1      F   пенсионер     0        158616   \n",
              "5   гражданский брак                 1      M   компаньон     0        255763   \n",
              "6    женат / замужем                 0      F   компаньон     0        240525   \n",
              "7    женат / замужем                 0      M   сотрудник     0        135823   \n",
              "8   гражданский брак                 1      F   сотрудник     0         95856   \n",
              "9    женат / замужем                 0      M   сотрудник     0        144425   \n",
              "10   женат / замужем                 0      M   компаньон     0        113943   \n",
              "11   женат / замужем                 0      F   сотрудник     0         77069   \n",
              "12  гражданский брак                 1      M   пенсионер     0        110179   \n",
              "13   женат / замужем                 0      F   сотрудник     0        130458   \n",
              "14  гражданский брак                 1      F   компаньон     1        165127   \n",
              "\n",
              "                              purpose age_group          purpose_category  \\\n",
              "0                       покупка жилья   Group 3  операции с недвижимостью   \n",
              "1             приобретение автомобиля   Group 2    операции с автомобилем   \n",
              "2                       покупка жилья   Group 2  операции с недвижимостью   \n",
              "3          дополнительное образование   Group 2     получение образования   \n",
              "4                     сыграть свадьбу   Group 3        проведение свадьбы   \n",
              "5                       покупка жилья   Group 1  операции с недвижимостью   \n",
              "6                   операции с жильем   Group 3  операции с недвижимостью   \n",
              "7                         образование   Group 3     получение образования   \n",
              "8               на проведение свадьбы   Group 2        проведение свадьбы   \n",
              "9             покупка жилья для семьи   Group 3  операции с недвижимостью   \n",
              "10               покупка недвижимости   Group 2  операции с недвижимостью   \n",
              "11  покупка коммерческой недвижимости   Group 2  операции с недвижимостью   \n",
              "12                    сыграть свадьбу   Group 4        проведение свадьбы   \n",
              "13            приобретение автомобиля   Group 3    операции с автомобилем   \n",
              "14         покупка жилой недвижимости   Group 4  операции с недвижимостью   \n",
              "\n",
              "   total_income_category  \n",
              "0                      B  \n",
              "1                      C  \n",
              "2                      C  \n",
              "3                      B  \n",
              "4                      C  \n",
              "5                      B  \n",
              "6                      B  \n",
              "7                      C  \n",
              "8                      C  \n",
              "9                      C  \n",
              "10                     C  \n",
              "11                     C  \n",
              "12                     C  \n",
              "13                     C  \n",
              "14                     C  "
            ],
            "text/html": [
              "\n",
              "  <div id=\"df-95530442-f569-4e74-9155-97dfdbfcb56b\">\n",
              "    <div class=\"colab-df-container\">\n",
              "      <div>\n",
              "<style scoped>\n",
              "    .dataframe tbody tr th:only-of-type {\n",
              "        vertical-align: middle;\n",
              "    }\n",
              "\n",
              "    .dataframe tbody tr th {\n",
              "        vertical-align: top;\n",
              "    }\n",
              "\n",
              "    .dataframe thead th {\n",
              "        text-align: right;\n",
              "    }\n",
              "</style>\n",
              "<table border=\"1\" class=\"dataframe\">\n",
              "  <thead>\n",
              "    <tr style=\"text-align: right;\">\n",
              "      <th></th>\n",
              "      <th>children</th>\n",
              "      <th>days_employed</th>\n",
              "      <th>dob_years</th>\n",
              "      <th>education</th>\n",
              "      <th>education_id</th>\n",
              "      <th>family_status</th>\n",
              "      <th>family_status_id</th>\n",
              "      <th>gender</th>\n",
              "      <th>income_type</th>\n",
              "      <th>debt</th>\n",
              "      <th>total_income</th>\n",
              "      <th>purpose</th>\n",
              "      <th>age_group</th>\n",
              "      <th>purpose_category</th>\n",
              "      <th>total_income_category</th>\n",
              "    </tr>\n",
              "  </thead>\n",
              "  <tbody>\n",
              "    <tr>\n",
              "      <th>0</th>\n",
              "      <td>1</td>\n",
              "      <td>8437</td>\n",
              "      <td>42</td>\n",
              "      <td>высшее</td>\n",
              "      <td>0</td>\n",
              "      <td>женат / замужем</td>\n",
              "      <td>0</td>\n",
              "      <td>F</td>\n",
              "      <td>сотрудник</td>\n",
              "      <td>0</td>\n",
              "      <td>253875</td>\n",
              "      <td>покупка жилья</td>\n",
              "      <td>Group 3</td>\n",
              "      <td>операции с недвижимостью</td>\n",
              "      <td>B</td>\n",
              "    </tr>\n",
              "    <tr>\n",
              "      <th>1</th>\n",
              "      <td>1</td>\n",
              "      <td>4024</td>\n",
              "      <td>36</td>\n",
              "      <td>среднее</td>\n",
              "      <td>1</td>\n",
              "      <td>женат / замужем</td>\n",
              "      <td>0</td>\n",
              "      <td>F</td>\n",
              "      <td>сотрудник</td>\n",
              "      <td>0</td>\n",
              "      <td>112080</td>\n",
              "      <td>приобретение автомобиля</td>\n",
              "      <td>Group 2</td>\n",
              "      <td>операции с автомобилем</td>\n",
              "      <td>C</td>\n",
              "    </tr>\n",
              "    <tr>\n",
              "      <th>2</th>\n",
              "      <td>0</td>\n",
              "      <td>5623</td>\n",
              "      <td>33</td>\n",
              "      <td>среднее</td>\n",
              "      <td>1</td>\n",
              "      <td>женат / замужем</td>\n",
              "      <td>0</td>\n",
              "      <td>M</td>\n",
              "      <td>сотрудник</td>\n",
              "      <td>0</td>\n",
              "      <td>145885</td>\n",
              "      <td>покупка жилья</td>\n",
              "      <td>Group 2</td>\n",
              "      <td>операции с недвижимостью</td>\n",
              "      <td>C</td>\n",
              "    </tr>\n",
              "    <tr>\n",
              "      <th>3</th>\n",
              "      <td>3</td>\n",
              "      <td>4124</td>\n",
              "      <td>32</td>\n",
              "      <td>среднее</td>\n",
              "      <td>1</td>\n",
              "      <td>женат / замужем</td>\n",
              "      <td>0</td>\n",
              "      <td>M</td>\n",
              "      <td>сотрудник</td>\n",
              "      <td>0</td>\n",
              "      <td>267628</td>\n",
              "      <td>дополнительное образование</td>\n",
              "      <td>Group 2</td>\n",
              "      <td>получение образования</td>\n",
              "      <td>B</td>\n",
              "    </tr>\n",
              "    <tr>\n",
              "      <th>4</th>\n",
              "      <td>0</td>\n",
              "      <td>340266</td>\n",
              "      <td>53</td>\n",
              "      <td>среднее</td>\n",
              "      <td>1</td>\n",
              "      <td>гражданский брак</td>\n",
              "      <td>1</td>\n",
              "      <td>F</td>\n",
              "      <td>пенсионер</td>\n",
              "      <td>0</td>\n",
              "      <td>158616</td>\n",
              "      <td>сыграть свадьбу</td>\n",
              "      <td>Group 3</td>\n",
              "      <td>проведение свадьбы</td>\n",
              "      <td>C</td>\n",
              "    </tr>\n",
              "    <tr>\n",
              "      <th>5</th>\n",
              "      <td>0</td>\n",
              "      <td>926</td>\n",
              "      <td>27</td>\n",
              "      <td>высшее</td>\n",
              "      <td>0</td>\n",
              "      <td>гражданский брак</td>\n",
              "      <td>1</td>\n",
              "      <td>M</td>\n",
              "      <td>компаньон</td>\n",
              "      <td>0</td>\n",
              "      <td>255763</td>\n",
              "      <td>покупка жилья</td>\n",
              "      <td>Group 1</td>\n",
              "      <td>операции с недвижимостью</td>\n",
              "      <td>B</td>\n",
              "    </tr>\n",
              "    <tr>\n",
              "      <th>6</th>\n",
              "      <td>0</td>\n",
              "      <td>2879</td>\n",
              "      <td>43</td>\n",
              "      <td>высшее</td>\n",
              "      <td>0</td>\n",
              "      <td>женат / замужем</td>\n",
              "      <td>0</td>\n",
              "      <td>F</td>\n",
              "      <td>компаньон</td>\n",
              "      <td>0</td>\n",
              "      <td>240525</td>\n",
              "      <td>операции с жильем</td>\n",
              "      <td>Group 3</td>\n",
              "      <td>операции с недвижимостью</td>\n",
              "      <td>B</td>\n",
              "    </tr>\n",
              "    <tr>\n",
              "      <th>7</th>\n",
              "      <td>0</td>\n",
              "      <td>152</td>\n",
              "      <td>50</td>\n",
              "      <td>среднее</td>\n",
              "      <td>1</td>\n",
              "      <td>женат / замужем</td>\n",
              "      <td>0</td>\n",
              "      <td>M</td>\n",
              "      <td>сотрудник</td>\n",
              "      <td>0</td>\n",
              "      <td>135823</td>\n",
              "      <td>образование</td>\n",
              "      <td>Group 3</td>\n",
              "      <td>получение образования</td>\n",
              "      <td>C</td>\n",
              "    </tr>\n",
              "    <tr>\n",
              "      <th>8</th>\n",
              "      <td>2</td>\n",
              "      <td>6929</td>\n",
              "      <td>35</td>\n",
              "      <td>высшее</td>\n",
              "      <td>0</td>\n",
              "      <td>гражданский брак</td>\n",
              "      <td>1</td>\n",
              "      <td>F</td>\n",
              "      <td>сотрудник</td>\n",
              "      <td>0</td>\n",
              "      <td>95856</td>\n",
              "      <td>на проведение свадьбы</td>\n",
              "      <td>Group 2</td>\n",
              "      <td>проведение свадьбы</td>\n",
              "      <td>C</td>\n",
              "    </tr>\n",
              "    <tr>\n",
              "      <th>9</th>\n",
              "      <td>0</td>\n",
              "      <td>2188</td>\n",
              "      <td>41</td>\n",
              "      <td>среднее</td>\n",
              "      <td>1</td>\n",
              "      <td>женат / замужем</td>\n",
              "      <td>0</td>\n",
              "      <td>M</td>\n",
              "      <td>сотрудник</td>\n",
              "      <td>0</td>\n",
              "      <td>144425</td>\n",
              "      <td>покупка жилья для семьи</td>\n",
              "      <td>Group 3</td>\n",
              "      <td>операции с недвижимостью</td>\n",
              "      <td>C</td>\n",
              "    </tr>\n",
              "    <tr>\n",
              "      <th>10</th>\n",
              "      <td>2</td>\n",
              "      <td>4171</td>\n",
              "      <td>36</td>\n",
              "      <td>высшее</td>\n",
              "      <td>0</td>\n",
              "      <td>женат / замужем</td>\n",
              "      <td>0</td>\n",
              "      <td>M</td>\n",
              "      <td>компаньон</td>\n",
              "      <td>0</td>\n",
              "      <td>113943</td>\n",
              "      <td>покупка недвижимости</td>\n",
              "      <td>Group 2</td>\n",
              "      <td>операции с недвижимостью</td>\n",
              "      <td>C</td>\n",
              "    </tr>\n",
              "    <tr>\n",
              "      <th>11</th>\n",
              "      <td>0</td>\n",
              "      <td>792</td>\n",
              "      <td>40</td>\n",
              "      <td>среднее</td>\n",
              "      <td>1</td>\n",
              "      <td>женат / замужем</td>\n",
              "      <td>0</td>\n",
              "      <td>F</td>\n",
              "      <td>сотрудник</td>\n",
              "      <td>0</td>\n",
              "      <td>77069</td>\n",
              "      <td>покупка коммерческой недвижимости</td>\n",
              "      <td>Group 2</td>\n",
              "      <td>операции с недвижимостью</td>\n",
              "      <td>C</td>\n",
              "    </tr>\n",
              "    <tr>\n",
              "      <th>12</th>\n",
              "      <td>0</td>\n",
              "      <td>0</td>\n",
              "      <td>65</td>\n",
              "      <td>среднее</td>\n",
              "      <td>1</td>\n",
              "      <td>гражданский брак</td>\n",
              "      <td>1</td>\n",
              "      <td>M</td>\n",
              "      <td>пенсионер</td>\n",
              "      <td>0</td>\n",
              "      <td>110179</td>\n",
              "      <td>сыграть свадьбу</td>\n",
              "      <td>Group 4</td>\n",
              "      <td>проведение свадьбы</td>\n",
              "      <td>C</td>\n",
              "    </tr>\n",
              "    <tr>\n",
              "      <th>13</th>\n",
              "      <td>0</td>\n",
              "      <td>1846</td>\n",
              "      <td>54</td>\n",
              "      <td>неоконченное высшее</td>\n",
              "      <td>2</td>\n",
              "      <td>женат / замужем</td>\n",
              "      <td>0</td>\n",
              "      <td>F</td>\n",
              "      <td>сотрудник</td>\n",
              "      <td>0</td>\n",
              "      <td>130458</td>\n",
              "      <td>приобретение автомобиля</td>\n",
              "      <td>Group 3</td>\n",
              "      <td>операции с автомобилем</td>\n",
              "      <td>C</td>\n",
              "    </tr>\n",
              "    <tr>\n",
              "      <th>14</th>\n",
              "      <td>0</td>\n",
              "      <td>1844</td>\n",
              "      <td>56</td>\n",
              "      <td>высшее</td>\n",
              "      <td>0</td>\n",
              "      <td>гражданский брак</td>\n",
              "      <td>1</td>\n",
              "      <td>F</td>\n",
              "      <td>компаньон</td>\n",
              "      <td>1</td>\n",
              "      <td>165127</td>\n",
              "      <td>покупка жилой недвижимости</td>\n",
              "      <td>Group 4</td>\n",
              "      <td>операции с недвижимостью</td>\n",
              "      <td>C</td>\n",
              "    </tr>\n",
              "  </tbody>\n",
              "</table>\n",
              "</div>\n",
              "      <button class=\"colab-df-convert\" onclick=\"convertToInteractive('df-95530442-f569-4e74-9155-97dfdbfcb56b')\"\n",
              "              title=\"Convert this dataframe to an interactive table.\"\n",
              "              style=\"display:none;\">\n",
              "        \n",
              "  <svg xmlns=\"http://www.w3.org/2000/svg\" height=\"24px\"viewBox=\"0 0 24 24\"\n",
              "       width=\"24px\">\n",
              "    <path d=\"M0 0h24v24H0V0z\" fill=\"none\"/>\n",
              "    <path d=\"M18.56 5.44l.94 2.06.94-2.06 2.06-.94-2.06-.94-.94-2.06-.94 2.06-2.06.94zm-11 1L8.5 8.5l.94-2.06 2.06-.94-2.06-.94L8.5 2.5l-.94 2.06-2.06.94zm10 10l.94 2.06.94-2.06 2.06-.94-2.06-.94-.94-2.06-.94 2.06-2.06.94z\"/><path d=\"M17.41 7.96l-1.37-1.37c-.4-.4-.92-.59-1.43-.59-.52 0-1.04.2-1.43.59L10.3 9.45l-7.72 7.72c-.78.78-.78 2.05 0 2.83L4 21.41c.39.39.9.59 1.41.59.51 0 1.02-.2 1.41-.59l7.78-7.78 2.81-2.81c.8-.78.8-2.07 0-2.86zM5.41 20L4 18.59l7.72-7.72 1.47 1.35L5.41 20z\"/>\n",
              "  </svg>\n",
              "      </button>\n",
              "      \n",
              "  <style>\n",
              "    .colab-df-container {\n",
              "      display:flex;\n",
              "      flex-wrap:wrap;\n",
              "      gap: 12px;\n",
              "    }\n",
              "\n",
              "    .colab-df-convert {\n",
              "      background-color: #E8F0FE;\n",
              "      border: none;\n",
              "      border-radius: 50%;\n",
              "      cursor: pointer;\n",
              "      display: none;\n",
              "      fill: #1967D2;\n",
              "      height: 32px;\n",
              "      padding: 0 0 0 0;\n",
              "      width: 32px;\n",
              "    }\n",
              "\n",
              "    .colab-df-convert:hover {\n",
              "      background-color: #E2EBFA;\n",
              "      box-shadow: 0px 1px 2px rgba(60, 64, 67, 0.3), 0px 1px 3px 1px rgba(60, 64, 67, 0.15);\n",
              "      fill: #174EA6;\n",
              "    }\n",
              "\n",
              "    [theme=dark] .colab-df-convert {\n",
              "      background-color: #3B4455;\n",
              "      fill: #D2E3FC;\n",
              "    }\n",
              "\n",
              "    [theme=dark] .colab-df-convert:hover {\n",
              "      background-color: #434B5C;\n",
              "      box-shadow: 0px 1px 3px 1px rgba(0, 0, 0, 0.15);\n",
              "      filter: drop-shadow(0px 1px 2px rgba(0, 0, 0, 0.3));\n",
              "      fill: #FFFFFF;\n",
              "    }\n",
              "  </style>\n",
              "\n",
              "      <script>\n",
              "        const buttonEl =\n",
              "          document.querySelector('#df-95530442-f569-4e74-9155-97dfdbfcb56b button.colab-df-convert');\n",
              "        buttonEl.style.display =\n",
              "          google.colab.kernel.accessAllowed ? 'block' : 'none';\n",
              "\n",
              "        async function convertToInteractive(key) {\n",
              "          const element = document.querySelector('#df-95530442-f569-4e74-9155-97dfdbfcb56b');\n",
              "          const dataTable =\n",
              "            await google.colab.kernel.invokeFunction('convertToInteractive',\n",
              "                                                     [key], {});\n",
              "          if (!dataTable) return;\n",
              "\n",
              "          const docLinkHtml = 'Like what you see? Visit the ' +\n",
              "            '<a target=\"_blank\" href=https://colab.research.google.com/notebooks/data_table.ipynb>data table notebook</a>'\n",
              "            + ' to learn more about interactive tables.';\n",
              "          element.innerHTML = '';\n",
              "          dataTable['output_type'] = 'display_data';\n",
              "          await google.colab.output.renderOutput(dataTable, element);\n",
              "          const docLink = document.createElement('div');\n",
              "          docLink.innerHTML = docLinkHtml;\n",
              "          element.appendChild(docLink);\n",
              "        }\n",
              "      </script>\n",
              "    </div>\n",
              "  </div>\n",
              "  "
            ]
          },
          "metadata": {}
        }
      ],
      "source": [
        "def total_income_category (row):\n",
        "    \"\"\"\n",
        "    Function for categorizing customers by income\n",
        "    \"\"\"\n",
        "    total_income_group=row['total_income']\n",
        "    if total_income_group<=30000:\n",
        "        return 'E'\n",
        "    if total_income_group<=50000:\n",
        "        return 'D'\n",
        "    if total_income_group<=200000:\n",
        "        return 'C'\n",
        "    if total_income_group<=1000000:\n",
        "        return 'B'\n",
        "    return 'A'\n",
        "df['total_income_category'] = df.apply(total_income_category, axis=1)\n",
        "display(df.head(15))"
      ]
    },
    {
      "cell_type": "markdown",
      "id": "327487e9",
      "metadata": {
        "id": "327487e9"
      },
      "source": [
        "### Categorization of loan objectives."
      ]
    },
    {
      "cell_type": "code",
      "execution_count": 157,
      "id": "65ae7939",
      "metadata": {
        "scrolled": false,
        "colab": {
          "base_uri": "https://localhost:8080/",
          "height": 861
        },
        "id": "65ae7939",
        "outputId": "bf2da335-062b-437d-9345-b726f50c2f27"
      },
      "outputs": [
        {
          "output_type": "display_data",
          "data": {
            "text/plain": [
              "    children  days_employed  dob_years            education  education_id  \\\n",
              "0          1           8437         42               высшее             0   \n",
              "1          1           4024         36              среднее             1   \n",
              "2          0           5623         33              среднее             1   \n",
              "3          3           4124         32              среднее             1   \n",
              "4          0         340266         53              среднее             1   \n",
              "5          0            926         27               высшее             0   \n",
              "6          0           2879         43               высшее             0   \n",
              "7          0            152         50              среднее             1   \n",
              "8          2           6929         35               высшее             0   \n",
              "9          0           2188         41              среднее             1   \n",
              "10         2           4171         36               высшее             0   \n",
              "11         0            792         40              среднее             1   \n",
              "12         0              0         65              среднее             1   \n",
              "13         0           1846         54  неоконченное высшее             2   \n",
              "14         0           1844         56               высшее             0   \n",
              "\n",
              "       family_status  family_status_id gender income_type  debt  total_income  \\\n",
              "0    женат / замужем                 0      F   сотрудник     0        253875   \n",
              "1    женат / замужем                 0      F   сотрудник     0        112080   \n",
              "2    женат / замужем                 0      M   сотрудник     0        145885   \n",
              "3    женат / замужем                 0      M   сотрудник     0        267628   \n",
              "4   гражданский брак                 1      F   пенсионер     0        158616   \n",
              "5   гражданский брак                 1      M   компаньон     0        255763   \n",
              "6    женат / замужем                 0      F   компаньон     0        240525   \n",
              "7    женат / замужем                 0      M   сотрудник     0        135823   \n",
              "8   гражданский брак                 1      F   сотрудник     0         95856   \n",
              "9    женат / замужем                 0      M   сотрудник     0        144425   \n",
              "10   женат / замужем                 0      M   компаньон     0        113943   \n",
              "11   женат / замужем                 0      F   сотрудник     0         77069   \n",
              "12  гражданский брак                 1      M   пенсионер     0        110179   \n",
              "13   женат / замужем                 0      F   сотрудник     0        130458   \n",
              "14  гражданский брак                 1      F   компаньон     1        165127   \n",
              "\n",
              "                              purpose age_group          purpose_category  \\\n",
              "0                       покупка жилья   Group 3  операции с недвижимостью   \n",
              "1             приобретение автомобиля   Group 2    операции с автомобилем   \n",
              "2                       покупка жилья   Group 2  операции с недвижимостью   \n",
              "3          дополнительное образование   Group 2     получение образования   \n",
              "4                     сыграть свадьбу   Group 3        проведение свадьбы   \n",
              "5                       покупка жилья   Group 1  операции с недвижимостью   \n",
              "6                   операции с жильем   Group 3  операции с недвижимостью   \n",
              "7                         образование   Group 3     получение образования   \n",
              "8               на проведение свадьбы   Group 2        проведение свадьбы   \n",
              "9             покупка жилья для семьи   Group 3  операции с недвижимостью   \n",
              "10               покупка недвижимости   Group 2  операции с недвижимостью   \n",
              "11  покупка коммерческой недвижимости   Group 2  операции с недвижимостью   \n",
              "12                    сыграть свадьбу   Group 4        проведение свадьбы   \n",
              "13            приобретение автомобиля   Group 3    операции с автомобилем   \n",
              "14         покупка жилой недвижимости   Group 4  операции с недвижимостью   \n",
              "\n",
              "   total_income_category  \n",
              "0                      B  \n",
              "1                      C  \n",
              "2                      C  \n",
              "3                      B  \n",
              "4                      C  \n",
              "5                      B  \n",
              "6                      B  \n",
              "7                      C  \n",
              "8                      C  \n",
              "9                      C  \n",
              "10                     C  \n",
              "11                     C  \n",
              "12                     C  \n",
              "13                     C  \n",
              "14                     C  "
            ],
            "text/html": [
              "\n",
              "  <div id=\"df-613e34e2-5768-4869-871d-13d3b8188f46\">\n",
              "    <div class=\"colab-df-container\">\n",
              "      <div>\n",
              "<style scoped>\n",
              "    .dataframe tbody tr th:only-of-type {\n",
              "        vertical-align: middle;\n",
              "    }\n",
              "\n",
              "    .dataframe tbody tr th {\n",
              "        vertical-align: top;\n",
              "    }\n",
              "\n",
              "    .dataframe thead th {\n",
              "        text-align: right;\n",
              "    }\n",
              "</style>\n",
              "<table border=\"1\" class=\"dataframe\">\n",
              "  <thead>\n",
              "    <tr style=\"text-align: right;\">\n",
              "      <th></th>\n",
              "      <th>children</th>\n",
              "      <th>days_employed</th>\n",
              "      <th>dob_years</th>\n",
              "      <th>education</th>\n",
              "      <th>education_id</th>\n",
              "      <th>family_status</th>\n",
              "      <th>family_status_id</th>\n",
              "      <th>gender</th>\n",
              "      <th>income_type</th>\n",
              "      <th>debt</th>\n",
              "      <th>total_income</th>\n",
              "      <th>purpose</th>\n",
              "      <th>age_group</th>\n",
              "      <th>purpose_category</th>\n",
              "      <th>total_income_category</th>\n",
              "    </tr>\n",
              "  </thead>\n",
              "  <tbody>\n",
              "    <tr>\n",
              "      <th>0</th>\n",
              "      <td>1</td>\n",
              "      <td>8437</td>\n",
              "      <td>42</td>\n",
              "      <td>высшее</td>\n",
              "      <td>0</td>\n",
              "      <td>женат / замужем</td>\n",
              "      <td>0</td>\n",
              "      <td>F</td>\n",
              "      <td>сотрудник</td>\n",
              "      <td>0</td>\n",
              "      <td>253875</td>\n",
              "      <td>покупка жилья</td>\n",
              "      <td>Group 3</td>\n",
              "      <td>операции с недвижимостью</td>\n",
              "      <td>B</td>\n",
              "    </tr>\n",
              "    <tr>\n",
              "      <th>1</th>\n",
              "      <td>1</td>\n",
              "      <td>4024</td>\n",
              "      <td>36</td>\n",
              "      <td>среднее</td>\n",
              "      <td>1</td>\n",
              "      <td>женат / замужем</td>\n",
              "      <td>0</td>\n",
              "      <td>F</td>\n",
              "      <td>сотрудник</td>\n",
              "      <td>0</td>\n",
              "      <td>112080</td>\n",
              "      <td>приобретение автомобиля</td>\n",
              "      <td>Group 2</td>\n",
              "      <td>операции с автомобилем</td>\n",
              "      <td>C</td>\n",
              "    </tr>\n",
              "    <tr>\n",
              "      <th>2</th>\n",
              "      <td>0</td>\n",
              "      <td>5623</td>\n",
              "      <td>33</td>\n",
              "      <td>среднее</td>\n",
              "      <td>1</td>\n",
              "      <td>женат / замужем</td>\n",
              "      <td>0</td>\n",
              "      <td>M</td>\n",
              "      <td>сотрудник</td>\n",
              "      <td>0</td>\n",
              "      <td>145885</td>\n",
              "      <td>покупка жилья</td>\n",
              "      <td>Group 2</td>\n",
              "      <td>операции с недвижимостью</td>\n",
              "      <td>C</td>\n",
              "    </tr>\n",
              "    <tr>\n",
              "      <th>3</th>\n",
              "      <td>3</td>\n",
              "      <td>4124</td>\n",
              "      <td>32</td>\n",
              "      <td>среднее</td>\n",
              "      <td>1</td>\n",
              "      <td>женат / замужем</td>\n",
              "      <td>0</td>\n",
              "      <td>M</td>\n",
              "      <td>сотрудник</td>\n",
              "      <td>0</td>\n",
              "      <td>267628</td>\n",
              "      <td>дополнительное образование</td>\n",
              "      <td>Group 2</td>\n",
              "      <td>получение образования</td>\n",
              "      <td>B</td>\n",
              "    </tr>\n",
              "    <tr>\n",
              "      <th>4</th>\n",
              "      <td>0</td>\n",
              "      <td>340266</td>\n",
              "      <td>53</td>\n",
              "      <td>среднее</td>\n",
              "      <td>1</td>\n",
              "      <td>гражданский брак</td>\n",
              "      <td>1</td>\n",
              "      <td>F</td>\n",
              "      <td>пенсионер</td>\n",
              "      <td>0</td>\n",
              "      <td>158616</td>\n",
              "      <td>сыграть свадьбу</td>\n",
              "      <td>Group 3</td>\n",
              "      <td>проведение свадьбы</td>\n",
              "      <td>C</td>\n",
              "    </tr>\n",
              "    <tr>\n",
              "      <th>5</th>\n",
              "      <td>0</td>\n",
              "      <td>926</td>\n",
              "      <td>27</td>\n",
              "      <td>высшее</td>\n",
              "      <td>0</td>\n",
              "      <td>гражданский брак</td>\n",
              "      <td>1</td>\n",
              "      <td>M</td>\n",
              "      <td>компаньон</td>\n",
              "      <td>0</td>\n",
              "      <td>255763</td>\n",
              "      <td>покупка жилья</td>\n",
              "      <td>Group 1</td>\n",
              "      <td>операции с недвижимостью</td>\n",
              "      <td>B</td>\n",
              "    </tr>\n",
              "    <tr>\n",
              "      <th>6</th>\n",
              "      <td>0</td>\n",
              "      <td>2879</td>\n",
              "      <td>43</td>\n",
              "      <td>высшее</td>\n",
              "      <td>0</td>\n",
              "      <td>женат / замужем</td>\n",
              "      <td>0</td>\n",
              "      <td>F</td>\n",
              "      <td>компаньон</td>\n",
              "      <td>0</td>\n",
              "      <td>240525</td>\n",
              "      <td>операции с жильем</td>\n",
              "      <td>Group 3</td>\n",
              "      <td>операции с недвижимостью</td>\n",
              "      <td>B</td>\n",
              "    </tr>\n",
              "    <tr>\n",
              "      <th>7</th>\n",
              "      <td>0</td>\n",
              "      <td>152</td>\n",
              "      <td>50</td>\n",
              "      <td>среднее</td>\n",
              "      <td>1</td>\n",
              "      <td>женат / замужем</td>\n",
              "      <td>0</td>\n",
              "      <td>M</td>\n",
              "      <td>сотрудник</td>\n",
              "      <td>0</td>\n",
              "      <td>135823</td>\n",
              "      <td>образование</td>\n",
              "      <td>Group 3</td>\n",
              "      <td>получение образования</td>\n",
              "      <td>C</td>\n",
              "    </tr>\n",
              "    <tr>\n",
              "      <th>8</th>\n",
              "      <td>2</td>\n",
              "      <td>6929</td>\n",
              "      <td>35</td>\n",
              "      <td>высшее</td>\n",
              "      <td>0</td>\n",
              "      <td>гражданский брак</td>\n",
              "      <td>1</td>\n",
              "      <td>F</td>\n",
              "      <td>сотрудник</td>\n",
              "      <td>0</td>\n",
              "      <td>95856</td>\n",
              "      <td>на проведение свадьбы</td>\n",
              "      <td>Group 2</td>\n",
              "      <td>проведение свадьбы</td>\n",
              "      <td>C</td>\n",
              "    </tr>\n",
              "    <tr>\n",
              "      <th>9</th>\n",
              "      <td>0</td>\n",
              "      <td>2188</td>\n",
              "      <td>41</td>\n",
              "      <td>среднее</td>\n",
              "      <td>1</td>\n",
              "      <td>женат / замужем</td>\n",
              "      <td>0</td>\n",
              "      <td>M</td>\n",
              "      <td>сотрудник</td>\n",
              "      <td>0</td>\n",
              "      <td>144425</td>\n",
              "      <td>покупка жилья для семьи</td>\n",
              "      <td>Group 3</td>\n",
              "      <td>операции с недвижимостью</td>\n",
              "      <td>C</td>\n",
              "    </tr>\n",
              "    <tr>\n",
              "      <th>10</th>\n",
              "      <td>2</td>\n",
              "      <td>4171</td>\n",
              "      <td>36</td>\n",
              "      <td>высшее</td>\n",
              "      <td>0</td>\n",
              "      <td>женат / замужем</td>\n",
              "      <td>0</td>\n",
              "      <td>M</td>\n",
              "      <td>компаньон</td>\n",
              "      <td>0</td>\n",
              "      <td>113943</td>\n",
              "      <td>покупка недвижимости</td>\n",
              "      <td>Group 2</td>\n",
              "      <td>операции с недвижимостью</td>\n",
              "      <td>C</td>\n",
              "    </tr>\n",
              "    <tr>\n",
              "      <th>11</th>\n",
              "      <td>0</td>\n",
              "      <td>792</td>\n",
              "      <td>40</td>\n",
              "      <td>среднее</td>\n",
              "      <td>1</td>\n",
              "      <td>женат / замужем</td>\n",
              "      <td>0</td>\n",
              "      <td>F</td>\n",
              "      <td>сотрудник</td>\n",
              "      <td>0</td>\n",
              "      <td>77069</td>\n",
              "      <td>покупка коммерческой недвижимости</td>\n",
              "      <td>Group 2</td>\n",
              "      <td>операции с недвижимостью</td>\n",
              "      <td>C</td>\n",
              "    </tr>\n",
              "    <tr>\n",
              "      <th>12</th>\n",
              "      <td>0</td>\n",
              "      <td>0</td>\n",
              "      <td>65</td>\n",
              "      <td>среднее</td>\n",
              "      <td>1</td>\n",
              "      <td>гражданский брак</td>\n",
              "      <td>1</td>\n",
              "      <td>M</td>\n",
              "      <td>пенсионер</td>\n",
              "      <td>0</td>\n",
              "      <td>110179</td>\n",
              "      <td>сыграть свадьбу</td>\n",
              "      <td>Group 4</td>\n",
              "      <td>проведение свадьбы</td>\n",
              "      <td>C</td>\n",
              "    </tr>\n",
              "    <tr>\n",
              "      <th>13</th>\n",
              "      <td>0</td>\n",
              "      <td>1846</td>\n",
              "      <td>54</td>\n",
              "      <td>неоконченное высшее</td>\n",
              "      <td>2</td>\n",
              "      <td>женат / замужем</td>\n",
              "      <td>0</td>\n",
              "      <td>F</td>\n",
              "      <td>сотрудник</td>\n",
              "      <td>0</td>\n",
              "      <td>130458</td>\n",
              "      <td>приобретение автомобиля</td>\n",
              "      <td>Group 3</td>\n",
              "      <td>операции с автомобилем</td>\n",
              "      <td>C</td>\n",
              "    </tr>\n",
              "    <tr>\n",
              "      <th>14</th>\n",
              "      <td>0</td>\n",
              "      <td>1844</td>\n",
              "      <td>56</td>\n",
              "      <td>высшее</td>\n",
              "      <td>0</td>\n",
              "      <td>гражданский брак</td>\n",
              "      <td>1</td>\n",
              "      <td>F</td>\n",
              "      <td>компаньон</td>\n",
              "      <td>1</td>\n",
              "      <td>165127</td>\n",
              "      <td>покупка жилой недвижимости</td>\n",
              "      <td>Group 4</td>\n",
              "      <td>операции с недвижимостью</td>\n",
              "      <td>C</td>\n",
              "    </tr>\n",
              "  </tbody>\n",
              "</table>\n",
              "</div>\n",
              "      <button class=\"colab-df-convert\" onclick=\"convertToInteractive('df-613e34e2-5768-4869-871d-13d3b8188f46')\"\n",
              "              title=\"Convert this dataframe to an interactive table.\"\n",
              "              style=\"display:none;\">\n",
              "        \n",
              "  <svg xmlns=\"http://www.w3.org/2000/svg\" height=\"24px\"viewBox=\"0 0 24 24\"\n",
              "       width=\"24px\">\n",
              "    <path d=\"M0 0h24v24H0V0z\" fill=\"none\"/>\n",
              "    <path d=\"M18.56 5.44l.94 2.06.94-2.06 2.06-.94-2.06-.94-.94-2.06-.94 2.06-2.06.94zm-11 1L8.5 8.5l.94-2.06 2.06-.94-2.06-.94L8.5 2.5l-.94 2.06-2.06.94zm10 10l.94 2.06.94-2.06 2.06-.94-2.06-.94-.94-2.06-.94 2.06-2.06.94z\"/><path d=\"M17.41 7.96l-1.37-1.37c-.4-.4-.92-.59-1.43-.59-.52 0-1.04.2-1.43.59L10.3 9.45l-7.72 7.72c-.78.78-.78 2.05 0 2.83L4 21.41c.39.39.9.59 1.41.59.51 0 1.02-.2 1.41-.59l7.78-7.78 2.81-2.81c.8-.78.8-2.07 0-2.86zM5.41 20L4 18.59l7.72-7.72 1.47 1.35L5.41 20z\"/>\n",
              "  </svg>\n",
              "      </button>\n",
              "      \n",
              "  <style>\n",
              "    .colab-df-container {\n",
              "      display:flex;\n",
              "      flex-wrap:wrap;\n",
              "      gap: 12px;\n",
              "    }\n",
              "\n",
              "    .colab-df-convert {\n",
              "      background-color: #E8F0FE;\n",
              "      border: none;\n",
              "      border-radius: 50%;\n",
              "      cursor: pointer;\n",
              "      display: none;\n",
              "      fill: #1967D2;\n",
              "      height: 32px;\n",
              "      padding: 0 0 0 0;\n",
              "      width: 32px;\n",
              "    }\n",
              "\n",
              "    .colab-df-convert:hover {\n",
              "      background-color: #E2EBFA;\n",
              "      box-shadow: 0px 1px 2px rgba(60, 64, 67, 0.3), 0px 1px 3px 1px rgba(60, 64, 67, 0.15);\n",
              "      fill: #174EA6;\n",
              "    }\n",
              "\n",
              "    [theme=dark] .colab-df-convert {\n",
              "      background-color: #3B4455;\n",
              "      fill: #D2E3FC;\n",
              "    }\n",
              "\n",
              "    [theme=dark] .colab-df-convert:hover {\n",
              "      background-color: #434B5C;\n",
              "      box-shadow: 0px 1px 3px 1px rgba(0, 0, 0, 0.15);\n",
              "      filter: drop-shadow(0px 1px 2px rgba(0, 0, 0, 0.3));\n",
              "      fill: #FFFFFF;\n",
              "    }\n",
              "  </style>\n",
              "\n",
              "      <script>\n",
              "        const buttonEl =\n",
              "          document.querySelector('#df-613e34e2-5768-4869-871d-13d3b8188f46 button.colab-df-convert');\n",
              "        buttonEl.style.display =\n",
              "          google.colab.kernel.accessAllowed ? 'block' : 'none';\n",
              "\n",
              "        async function convertToInteractive(key) {\n",
              "          const element = document.querySelector('#df-613e34e2-5768-4869-871d-13d3b8188f46');\n",
              "          const dataTable =\n",
              "            await google.colab.kernel.invokeFunction('convertToInteractive',\n",
              "                                                     [key], {});\n",
              "          if (!dataTable) return;\n",
              "\n",
              "          const docLinkHtml = 'Like what you see? Visit the ' +\n",
              "            '<a target=\"_blank\" href=https://colab.research.google.com/notebooks/data_table.ipynb>data table notebook</a>'\n",
              "            + ' to learn more about interactive tables.';\n",
              "          element.innerHTML = '';\n",
              "          dataTable['output_type'] = 'display_data';\n",
              "          await google.colab.output.renderOutput(dataTable, element);\n",
              "          const docLink = document.createElement('div');\n",
              "          docLink.innerHTML = docLinkHtml;\n",
              "          element.appendChild(docLink);\n",
              "        }\n",
              "      </script>\n",
              "    </div>\n",
              "  </div>\n",
              "  "
            ]
          },
          "metadata": {}
        }
      ],
      "source": [
        "def rename_purpose(row):\n",
        "    \"\"\"\n",
        "    Function for categorizing customers by loan purpose\n",
        "    \"\"\"\n",
        "    purpose = row['purpose']\n",
        "    if 'авто' in purpose:\n",
        "        return 'операции с автомобилем'\n",
        "    if 'жиль' in purpose:\n",
        "        return 'операции с недвижимостью'\n",
        "    if 'недвиж' in purpose:\n",
        "        return 'операции с недвижимостью'\n",
        "    if 'свадь' in purpose:\n",
        "        return 'проведение свадьбы'\n",
        "    return 'получение образования'\n",
        "df['purpose_category'] = df.apply(rename_purpose, axis=1)\n",
        "display(df.head(15))"
      ]
    },
    {
      "cell_type": "markdown",
      "id": "66652472",
      "metadata": {
        "id": "66652472"
      },
      "source": [
        "### Conclusions:\n",
        "\n",
        "As a result of the preparation conducted, the data frame in \"Data Preprocessing\" had the errors, anomalies, missing values, and duplicates identified in \"Data Overview\" - corrected.\n",
        "\n",
        "Based on the character of the identified defects provided for data analysis, I recommend that the customer pay attention to the quality of customer data collection, especially the data that the operator enters manually. I also pay attention to the quality of the data obtained by calculation, especially in the \"days_employed\" column, the initial state of which does not allow for further comprehensive analysis."
      ]
    },
    {
      "cell_type": "markdown",
      "id": "c719d047",
      "metadata": {
        "id": "c719d047"
      },
      "source": [
        "## Hypothesis testing."
      ]
    },
    {
      "cell_type": "markdown",
      "id": "c799f4bf",
      "metadata": {
        "id": "c799f4bf"
      },
      "source": [
        "#### Hypothesis 1: Is there a correlation between the number of children and the repayment of the loan on time?"
      ]
    },
    {
      "cell_type": "code",
      "execution_count": 158,
      "id": "94bf2537",
      "metadata": {
        "colab": {
          "base_uri": "https://localhost:8080/",
          "height": 282
        },
        "id": "94bf2537",
        "outputId": "1d7af4c5-eb1c-4d4f-8623-368c1a6c9e48"
      },
      "outputs": [
        {
          "output_type": "display_data",
          "data": {
            "text/plain": [
              "children         0         1         2         3         4         5\n",
              "debt                                                                \n",
              "0         1.109591  0.797738  0.459305  0.389439  0.459459  0.222222\n",
              "1         1.260583  0.905618  0.509901  0.555556  1.000000       NaN"
            ],
            "text/html": [
              "\n",
              "  <div id=\"df-9ec41b46-bed5-493c-908d-620fab09cb26\">\n",
              "    <div class=\"colab-df-container\">\n",
              "      <div>\n",
              "<style scoped>\n",
              "    .dataframe tbody tr th:only-of-type {\n",
              "        vertical-align: middle;\n",
              "    }\n",
              "\n",
              "    .dataframe tbody tr th {\n",
              "        vertical-align: top;\n",
              "    }\n",
              "\n",
              "    .dataframe thead th {\n",
              "        text-align: right;\n",
              "    }\n",
              "</style>\n",
              "<table border=\"1\" class=\"dataframe\">\n",
              "  <thead>\n",
              "    <tr style=\"text-align: right;\">\n",
              "      <th>children</th>\n",
              "      <th>0</th>\n",
              "      <th>1</th>\n",
              "      <th>2</th>\n",
              "      <th>3</th>\n",
              "      <th>4</th>\n",
              "      <th>5</th>\n",
              "    </tr>\n",
              "    <tr>\n",
              "      <th>debt</th>\n",
              "      <th></th>\n",
              "      <th></th>\n",
              "      <th></th>\n",
              "      <th></th>\n",
              "      <th></th>\n",
              "      <th></th>\n",
              "    </tr>\n",
              "  </thead>\n",
              "  <tbody>\n",
              "    <tr>\n",
              "      <th>0</th>\n",
              "      <td>1.109591</td>\n",
              "      <td>0.797738</td>\n",
              "      <td>0.459305</td>\n",
              "      <td>0.389439</td>\n",
              "      <td>0.459459</td>\n",
              "      <td>0.222222</td>\n",
              "    </tr>\n",
              "    <tr>\n",
              "      <th>1</th>\n",
              "      <td>1.260583</td>\n",
              "      <td>0.905618</td>\n",
              "      <td>0.509901</td>\n",
              "      <td>0.555556</td>\n",
              "      <td>1.000000</td>\n",
              "      <td>NaN</td>\n",
              "    </tr>\n",
              "  </tbody>\n",
              "</table>\n",
              "</div>\n",
              "      <button class=\"colab-df-convert\" onclick=\"convertToInteractive('df-9ec41b46-bed5-493c-908d-620fab09cb26')\"\n",
              "              title=\"Convert this dataframe to an interactive table.\"\n",
              "              style=\"display:none;\">\n",
              "        \n",
              "  <svg xmlns=\"http://www.w3.org/2000/svg\" height=\"24px\"viewBox=\"0 0 24 24\"\n",
              "       width=\"24px\">\n",
              "    <path d=\"M0 0h24v24H0V0z\" fill=\"none\"/>\n",
              "    <path d=\"M18.56 5.44l.94 2.06.94-2.06 2.06-.94-2.06-.94-.94-2.06-.94 2.06-2.06.94zm-11 1L8.5 8.5l.94-2.06 2.06-.94-2.06-.94L8.5 2.5l-.94 2.06-2.06.94zm10 10l.94 2.06.94-2.06 2.06-.94-2.06-.94-.94-2.06-.94 2.06-2.06.94z\"/><path d=\"M17.41 7.96l-1.37-1.37c-.4-.4-.92-.59-1.43-.59-.52 0-1.04.2-1.43.59L10.3 9.45l-7.72 7.72c-.78.78-.78 2.05 0 2.83L4 21.41c.39.39.9.59 1.41.59.51 0 1.02-.2 1.41-.59l7.78-7.78 2.81-2.81c.8-.78.8-2.07 0-2.86zM5.41 20L4 18.59l7.72-7.72 1.47 1.35L5.41 20z\"/>\n",
              "  </svg>\n",
              "      </button>\n",
              "      \n",
              "  <style>\n",
              "    .colab-df-container {\n",
              "      display:flex;\n",
              "      flex-wrap:wrap;\n",
              "      gap: 12px;\n",
              "    }\n",
              "\n",
              "    .colab-df-convert {\n",
              "      background-color: #E8F0FE;\n",
              "      border: none;\n",
              "      border-radius: 50%;\n",
              "      cursor: pointer;\n",
              "      display: none;\n",
              "      fill: #1967D2;\n",
              "      height: 32px;\n",
              "      padding: 0 0 0 0;\n",
              "      width: 32px;\n",
              "    }\n",
              "\n",
              "    .colab-df-convert:hover {\n",
              "      background-color: #E2EBFA;\n",
              "      box-shadow: 0px 1px 2px rgba(60, 64, 67, 0.3), 0px 1px 3px 1px rgba(60, 64, 67, 0.15);\n",
              "      fill: #174EA6;\n",
              "    }\n",
              "\n",
              "    [theme=dark] .colab-df-convert {\n",
              "      background-color: #3B4455;\n",
              "      fill: #D2E3FC;\n",
              "    }\n",
              "\n",
              "    [theme=dark] .colab-df-convert:hover {\n",
              "      background-color: #434B5C;\n",
              "      box-shadow: 0px 1px 3px 1px rgba(0, 0, 0, 0.15);\n",
              "      filter: drop-shadow(0px 1px 2px rgba(0, 0, 0, 0.3));\n",
              "      fill: #FFFFFF;\n",
              "    }\n",
              "  </style>\n",
              "\n",
              "      <script>\n",
              "        const buttonEl =\n",
              "          document.querySelector('#df-9ec41b46-bed5-493c-908d-620fab09cb26 button.colab-df-convert');\n",
              "        buttonEl.style.display =\n",
              "          google.colab.kernel.accessAllowed ? 'block' : 'none';\n",
              "\n",
              "        async function convertToInteractive(key) {\n",
              "          const element = document.querySelector('#df-9ec41b46-bed5-493c-908d-620fab09cb26');\n",
              "          const dataTable =\n",
              "            await google.colab.kernel.invokeFunction('convertToInteractive',\n",
              "                                                     [key], {});\n",
              "          if (!dataTable) return;\n",
              "\n",
              "          const docLinkHtml = 'Like what you see? Visit the ' +\n",
              "            '<a target=\"_blank\" href=https://colab.research.google.com/notebooks/data_table.ipynb>data table notebook</a>'\n",
              "            + ' to learn more about interactive tables.';\n",
              "          element.innerHTML = '';\n",
              "          dataTable['output_type'] = 'display_data';\n",
              "          await google.colab.output.renderOutput(dataTable, element);\n",
              "          const docLink = document.createElement('div');\n",
              "          docLink.innerHTML = docLinkHtml;\n",
              "          element.appendChild(docLink);\n",
              "        }\n",
              "      </script>\n",
              "    </div>\n",
              "  </div>\n",
              "  "
            ]
          },
          "metadata": {}
        },
        {
          "output_type": "stream",
          "name": "stdout",
          "text": [
            "The proportion of customers with debts with a certain number of children to customers with the same number of children but without debts \n",
            "(higher % - lower return of credit in time) is higher:\n",
            "1.14% Нет детей\n",
            "1.14% 1 - ребенок\n",
            "1.11% 2 - ребенка\n",
            "1.43% 3 - ребенка\n",
            "2.18% 4 - ребенка\n",
            "nan% 5 - детей\n"
          ]
        }
      ],
      "source": [
        "data_pivot_children = df.pivot_table(index=['debt'], columns='children', values = 'family_status_id', aggfunc='mean')\n",
        "display(data_pivot_children)\n",
        "\n",
        "print('The proportion of customers with debts with a certain number of children to customers with the same number of children but without debts \\n(higher % - lower return of credit in time) is higher:')\n",
        "\n",
        "print('{0:.2f}% Нет детей'.format((data_pivot_children[0][1] / data_pivot_children[0][0])))\n",
        "print('{0:.2f}% 1 - ребенок'.format((data_pivot_children[1][1] / data_pivot_children[1][0])))\n",
        "print('{0:.2f}% 2 - ребенка'.format((data_pivot_children[2][1] / data_pivot_children[2][0])))\n",
        "print('{0:.2f}% 3 - ребенка'.format((data_pivot_children[3][1] / data_pivot_children[3][0])))\n",
        "print('{0:.2f}% 4 - ребенка'.format((data_pivot_children[4][1] / data_pivot_children[4][0])))\n",
        "print('{0:.2f}% 5 - детей'.format((data_pivot_children[5][1] / data_pivot_children[5][0])))"
      ]
    },
    {
      "cell_type": "markdown",
      "id": "09ca88c5",
      "metadata": {
        "id": "09ca88c5"
      },
      "source": [
        "#### Conclusions: On average, having a child increases the likelihood of missing a loan payment."
      ]
    },
    {
      "cell_type": "markdown",
      "id": "c2858a34",
      "metadata": {
        "id": "c2858a34"
      },
      "source": [
        "#### Hypothesis 2: Is there a correlation between marital status and loan repayment on time?"
      ]
    },
    {
      "cell_type": "code",
      "execution_count": 159,
      "id": "c682cdaf",
      "metadata": {
        "colab": {
          "base_uri": "https://localhost:8080/",
          "height": 265
        },
        "id": "c682cdaf",
        "outputId": "bcb6c85f-64b2-4701-ee97-fa9b3d7d4b51"
      },
      "outputs": [
        {
          "output_type": "display_data",
          "data": {
            "text/plain": [
              "family_status  в разводе  вдовец / вдова  гражданский брак  женат / замужем  \\\n",
              "debt                                                                          \n",
              "0                   1110             897              3788            11449   \n",
              "1                     85              63               388              931   \n",
              "\n",
              "family_status  не женат / не замужем  \n",
              "debt                                  \n",
              "0                               2539  \n",
              "1                                274  "
            ],
            "text/html": [
              "\n",
              "  <div id=\"df-e528a3fc-01ca-4c3d-95fe-27edd9a56d5d\">\n",
              "    <div class=\"colab-df-container\">\n",
              "      <div>\n",
              "<style scoped>\n",
              "    .dataframe tbody tr th:only-of-type {\n",
              "        vertical-align: middle;\n",
              "    }\n",
              "\n",
              "    .dataframe tbody tr th {\n",
              "        vertical-align: top;\n",
              "    }\n",
              "\n",
              "    .dataframe thead th {\n",
              "        text-align: right;\n",
              "    }\n",
              "</style>\n",
              "<table border=\"1\" class=\"dataframe\">\n",
              "  <thead>\n",
              "    <tr style=\"text-align: right;\">\n",
              "      <th>family_status</th>\n",
              "      <th>в разводе</th>\n",
              "      <th>вдовец / вдова</th>\n",
              "      <th>гражданский брак</th>\n",
              "      <th>женат / замужем</th>\n",
              "      <th>не женат / не замужем</th>\n",
              "    </tr>\n",
              "    <tr>\n",
              "      <th>debt</th>\n",
              "      <th></th>\n",
              "      <th></th>\n",
              "      <th></th>\n",
              "      <th></th>\n",
              "      <th></th>\n",
              "    </tr>\n",
              "  </thead>\n",
              "  <tbody>\n",
              "    <tr>\n",
              "      <th>0</th>\n",
              "      <td>1110</td>\n",
              "      <td>897</td>\n",
              "      <td>3788</td>\n",
              "      <td>11449</td>\n",
              "      <td>2539</td>\n",
              "    </tr>\n",
              "    <tr>\n",
              "      <th>1</th>\n",
              "      <td>85</td>\n",
              "      <td>63</td>\n",
              "      <td>388</td>\n",
              "      <td>931</td>\n",
              "      <td>274</td>\n",
              "    </tr>\n",
              "  </tbody>\n",
              "</table>\n",
              "</div>\n",
              "      <button class=\"colab-df-convert\" onclick=\"convertToInteractive('df-e528a3fc-01ca-4c3d-95fe-27edd9a56d5d')\"\n",
              "              title=\"Convert this dataframe to an interactive table.\"\n",
              "              style=\"display:none;\">\n",
              "        \n",
              "  <svg xmlns=\"http://www.w3.org/2000/svg\" height=\"24px\"viewBox=\"0 0 24 24\"\n",
              "       width=\"24px\">\n",
              "    <path d=\"M0 0h24v24H0V0z\" fill=\"none\"/>\n",
              "    <path d=\"M18.56 5.44l.94 2.06.94-2.06 2.06-.94-2.06-.94-.94-2.06-.94 2.06-2.06.94zm-11 1L8.5 8.5l.94-2.06 2.06-.94-2.06-.94L8.5 2.5l-.94 2.06-2.06.94zm10 10l.94 2.06.94-2.06 2.06-.94-2.06-.94-.94-2.06-.94 2.06-2.06.94z\"/><path d=\"M17.41 7.96l-1.37-1.37c-.4-.4-.92-.59-1.43-.59-.52 0-1.04.2-1.43.59L10.3 9.45l-7.72 7.72c-.78.78-.78 2.05 0 2.83L4 21.41c.39.39.9.59 1.41.59.51 0 1.02-.2 1.41-.59l7.78-7.78 2.81-2.81c.8-.78.8-2.07 0-2.86zM5.41 20L4 18.59l7.72-7.72 1.47 1.35L5.41 20z\"/>\n",
              "  </svg>\n",
              "      </button>\n",
              "      \n",
              "  <style>\n",
              "    .colab-df-container {\n",
              "      display:flex;\n",
              "      flex-wrap:wrap;\n",
              "      gap: 12px;\n",
              "    }\n",
              "\n",
              "    .colab-df-convert {\n",
              "      background-color: #E8F0FE;\n",
              "      border: none;\n",
              "      border-radius: 50%;\n",
              "      cursor: pointer;\n",
              "      display: none;\n",
              "      fill: #1967D2;\n",
              "      height: 32px;\n",
              "      padding: 0 0 0 0;\n",
              "      width: 32px;\n",
              "    }\n",
              "\n",
              "    .colab-df-convert:hover {\n",
              "      background-color: #E2EBFA;\n",
              "      box-shadow: 0px 1px 2px rgba(60, 64, 67, 0.3), 0px 1px 3px 1px rgba(60, 64, 67, 0.15);\n",
              "      fill: #174EA6;\n",
              "    }\n",
              "\n",
              "    [theme=dark] .colab-df-convert {\n",
              "      background-color: #3B4455;\n",
              "      fill: #D2E3FC;\n",
              "    }\n",
              "\n",
              "    [theme=dark] .colab-df-convert:hover {\n",
              "      background-color: #434B5C;\n",
              "      box-shadow: 0px 1px 3px 1px rgba(0, 0, 0, 0.15);\n",
              "      filter: drop-shadow(0px 1px 2px rgba(0, 0, 0, 0.3));\n",
              "      fill: #FFFFFF;\n",
              "    }\n",
              "  </style>\n",
              "\n",
              "      <script>\n",
              "        const buttonEl =\n",
              "          document.querySelector('#df-e528a3fc-01ca-4c3d-95fe-27edd9a56d5d button.colab-df-convert');\n",
              "        buttonEl.style.display =\n",
              "          google.colab.kernel.accessAllowed ? 'block' : 'none';\n",
              "\n",
              "        async function convertToInteractive(key) {\n",
              "          const element = document.querySelector('#df-e528a3fc-01ca-4c3d-95fe-27edd9a56d5d');\n",
              "          const dataTable =\n",
              "            await google.colab.kernel.invokeFunction('convertToInteractive',\n",
              "                                                     [key], {});\n",
              "          if (!dataTable) return;\n",
              "\n",
              "          const docLinkHtml = 'Like what you see? Visit the ' +\n",
              "            '<a target=\"_blank\" href=https://colab.research.google.com/notebooks/data_table.ipynb>data table notebook</a>'\n",
              "            + ' to learn more about interactive tables.';\n",
              "          element.innerHTML = '';\n",
              "          dataTable['output_type'] = 'display_data';\n",
              "          await google.colab.output.renderOutput(dataTable, element);\n",
              "          const docLink = document.createElement('div');\n",
              "          docLink.innerHTML = docLinkHtml;\n",
              "          element.appendChild(docLink);\n",
              "        }\n",
              "      </script>\n",
              "    </div>\n",
              "  </div>\n",
              "  "
            ]
          },
          "metadata": {}
        },
        {
          "output_type": "stream",
          "name": "stdout",
          "text": [
            "The proportion of customers with debts in a certain family status to customers in the same family status but without debts \n",
            "(above % - lower return of credit in time):\n",
            "10.79% не женат / не замужем\n",
            "7.66% в разводе\n",
            "7.02% вдовец / вдова\n",
            "10.24% гражданский брак\n",
            "8.13% женат / замужем\n"
          ]
        }
      ],
      "source": [
        "data_pivot_family_status = df.pivot_table(index=['debt'], columns='family_status', values='age_group', aggfunc='count')\n",
        "display(data_pivot_family_status)\n",
        "\n",
        "print('The proportion of customers with debts in a certain family status to customers in the same family status but without debts \\n(above % - lower return of credit in time):')\n",
        "\n",
        "print('{0:.2f}% не женат / не замужем'.format((data_pivot_family_status['не женат / не замужем'][1] / data_pivot_family_status['не женат / не замужем'][0])*100))\n",
        "print('{0:.2f}% в разводе'.format((data_pivot_family_status['в разводе'][1] / data_pivot_family_status['в разводе'][0])*100))\n",
        "print('{0:.2f}% вдовец / вдова'.format((data_pivot_family_status['вдовец / вдова'][1] / data_pivot_family_status['вдовец / вдова'][0])*100))\n",
        "print('{0:.2f}% гражданский брак'.format((data_pivot_family_status['гражданский брак'][1] / data_pivot_family_status['гражданский брак'][0])*100))\n",
        "print('{0:.2f}% женат / замужем'.format((data_pivot_family_status['женат / замужем'][1] / data_pivot_family_status['женат / замужем'][0])*100))"
      ]
    },
    {
      "cell_type": "markdown",
      "source": [
        "не женат / не замужем -  unmarried\n",
        "\n",
        "в разводе - divorced\n",
        "\n",
        "вдовец / вдова - mwidower / widow\n",
        "\n",
        "гражданский брак - civil marriage\n",
        "\n",
        "женат / замужем - married"
      ],
      "metadata": {
        "id": "DCpTDD1fG2kY"
      },
      "id": "DCpTDD1fG2kY"
    },
    {
      "cell_type": "markdown",
      "id": "1d734dca",
      "metadata": {
        "id": "1d734dca"
      },
      "source": [
        "#### Conclusions: Customers with a marital status of \"not married\" or \"civil union\" are less likely to pay off their credit on time."
      ]
    },
    {
      "cell_type": "markdown",
      "id": "c96c1fa8",
      "metadata": {
        "id": "c96c1fa8"
      },
      "source": [
        "#### Hypothesis 3: Is there a correlation between income level and loan repayment on time?"
      ]
    },
    {
      "cell_type": "code",
      "execution_count": 160,
      "id": "394b9289",
      "metadata": {
        "colab": {
          "base_uri": "https://localhost:8080/",
          "height": 265
        },
        "id": "394b9289",
        "outputId": "2f12afd4-9330-4ebc-d6c9-59a8e75b7e9e"
      },
      "outputs": [
        {
          "output_type": "display_data",
          "data": {
            "text/plain": [
              "total_income_category   A     B      C    D   E\n",
              "debt                                           \n",
              "0                      23  4685  14726  329  20\n",
              "1                       2   356   1360   21   2"
            ],
            "text/html": [
              "\n",
              "  <div id=\"df-378411f6-eaa6-4855-83cd-fc4d899eb2ce\">\n",
              "    <div class=\"colab-df-container\">\n",
              "      <div>\n",
              "<style scoped>\n",
              "    .dataframe tbody tr th:only-of-type {\n",
              "        vertical-align: middle;\n",
              "    }\n",
              "\n",
              "    .dataframe tbody tr th {\n",
              "        vertical-align: top;\n",
              "    }\n",
              "\n",
              "    .dataframe thead th {\n",
              "        text-align: right;\n",
              "    }\n",
              "</style>\n",
              "<table border=\"1\" class=\"dataframe\">\n",
              "  <thead>\n",
              "    <tr style=\"text-align: right;\">\n",
              "      <th>total_income_category</th>\n",
              "      <th>A</th>\n",
              "      <th>B</th>\n",
              "      <th>C</th>\n",
              "      <th>D</th>\n",
              "      <th>E</th>\n",
              "    </tr>\n",
              "    <tr>\n",
              "      <th>debt</th>\n",
              "      <th></th>\n",
              "      <th></th>\n",
              "      <th></th>\n",
              "      <th></th>\n",
              "      <th></th>\n",
              "    </tr>\n",
              "  </thead>\n",
              "  <tbody>\n",
              "    <tr>\n",
              "      <th>0</th>\n",
              "      <td>23</td>\n",
              "      <td>4685</td>\n",
              "      <td>14726</td>\n",
              "      <td>329</td>\n",
              "      <td>20</td>\n",
              "    </tr>\n",
              "    <tr>\n",
              "      <th>1</th>\n",
              "      <td>2</td>\n",
              "      <td>356</td>\n",
              "      <td>1360</td>\n",
              "      <td>21</td>\n",
              "      <td>2</td>\n",
              "    </tr>\n",
              "  </tbody>\n",
              "</table>\n",
              "</div>\n",
              "      <button class=\"colab-df-convert\" onclick=\"convertToInteractive('df-378411f6-eaa6-4855-83cd-fc4d899eb2ce')\"\n",
              "              title=\"Convert this dataframe to an interactive table.\"\n",
              "              style=\"display:none;\">\n",
              "        \n",
              "  <svg xmlns=\"http://www.w3.org/2000/svg\" height=\"24px\"viewBox=\"0 0 24 24\"\n",
              "       width=\"24px\">\n",
              "    <path d=\"M0 0h24v24H0V0z\" fill=\"none\"/>\n",
              "    <path d=\"M18.56 5.44l.94 2.06.94-2.06 2.06-.94-2.06-.94-.94-2.06-.94 2.06-2.06.94zm-11 1L8.5 8.5l.94-2.06 2.06-.94-2.06-.94L8.5 2.5l-.94 2.06-2.06.94zm10 10l.94 2.06.94-2.06 2.06-.94-2.06-.94-.94-2.06-.94 2.06-2.06.94z\"/><path d=\"M17.41 7.96l-1.37-1.37c-.4-.4-.92-.59-1.43-.59-.52 0-1.04.2-1.43.59L10.3 9.45l-7.72 7.72c-.78.78-.78 2.05 0 2.83L4 21.41c.39.39.9.59 1.41.59.51 0 1.02-.2 1.41-.59l7.78-7.78 2.81-2.81c.8-.78.8-2.07 0-2.86zM5.41 20L4 18.59l7.72-7.72 1.47 1.35L5.41 20z\"/>\n",
              "  </svg>\n",
              "      </button>\n",
              "      \n",
              "  <style>\n",
              "    .colab-df-container {\n",
              "      display:flex;\n",
              "      flex-wrap:wrap;\n",
              "      gap: 12px;\n",
              "    }\n",
              "\n",
              "    .colab-df-convert {\n",
              "      background-color: #E8F0FE;\n",
              "      border: none;\n",
              "      border-radius: 50%;\n",
              "      cursor: pointer;\n",
              "      display: none;\n",
              "      fill: #1967D2;\n",
              "      height: 32px;\n",
              "      padding: 0 0 0 0;\n",
              "      width: 32px;\n",
              "    }\n",
              "\n",
              "    .colab-df-convert:hover {\n",
              "      background-color: #E2EBFA;\n",
              "      box-shadow: 0px 1px 2px rgba(60, 64, 67, 0.3), 0px 1px 3px 1px rgba(60, 64, 67, 0.15);\n",
              "      fill: #174EA6;\n",
              "    }\n",
              "\n",
              "    [theme=dark] .colab-df-convert {\n",
              "      background-color: #3B4455;\n",
              "      fill: #D2E3FC;\n",
              "    }\n",
              "\n",
              "    [theme=dark] .colab-df-convert:hover {\n",
              "      background-color: #434B5C;\n",
              "      box-shadow: 0px 1px 3px 1px rgba(0, 0, 0, 0.15);\n",
              "      filter: drop-shadow(0px 1px 2px rgba(0, 0, 0, 0.3));\n",
              "      fill: #FFFFFF;\n",
              "    }\n",
              "  </style>\n",
              "\n",
              "      <script>\n",
              "        const buttonEl =\n",
              "          document.querySelector('#df-378411f6-eaa6-4855-83cd-fc4d899eb2ce button.colab-df-convert');\n",
              "        buttonEl.style.display =\n",
              "          google.colab.kernel.accessAllowed ? 'block' : 'none';\n",
              "\n",
              "        async function convertToInteractive(key) {\n",
              "          const element = document.querySelector('#df-378411f6-eaa6-4855-83cd-fc4d899eb2ce');\n",
              "          const dataTable =\n",
              "            await google.colab.kernel.invokeFunction('convertToInteractive',\n",
              "                                                     [key], {});\n",
              "          if (!dataTable) return;\n",
              "\n",
              "          const docLinkHtml = 'Like what you see? Visit the ' +\n",
              "            '<a target=\"_blank\" href=https://colab.research.google.com/notebooks/data_table.ipynb>data table notebook</a>'\n",
              "            + ' to learn more about interactive tables.';\n",
              "          element.innerHTML = '';\n",
              "          dataTable['output_type'] = 'display_data';\n",
              "          await google.colab.output.renderOutput(dataTable, element);\n",
              "          const docLink = document.createElement('div');\n",
              "          docLink.innerHTML = docLinkHtml;\n",
              "          element.appendChild(docLink);\n",
              "        }\n",
              "      </script>\n",
              "    </div>\n",
              "  </div>\n",
              "  "
            ]
          },
          "metadata": {}
        },
        {
          "output_type": "stream",
          "name": "stdout",
          "text": [
            "The proportion of customers with debts to customers with the same income level but without debts \n",
            "(higher % - lower return on credit in time) is lower:\n",
            "8.70% Group A with income 1000001 and higher\n",
            "7.60% Group B with income 200001–1000000\n",
            "9.24% Group C with income 50001–200000\n",
            "6.38% Group D with income 30001–50000\n",
            "10.00% Group E with income up to 30000\n"
          ]
        }
      ],
      "source": [
        "data_pivot_income_gr = df.pivot_table(index=['debt'], columns='total_income_category', values='age_group', aggfunc='count')\n",
        "display(data_pivot_income_gr)\n",
        "\n",
        "print('The proportion of customers with debts to customers with the same income level but without debts \\n(higher % - lower return on credit in time) is lower:')\n",
        "print('{0:.2f}% Group A with income 1000001 and higher'.format((data_pivot_income_gr['A'][1] / data_pivot_income_gr['A'][0])*100))\n",
        "print('{0:.2f}% Group B with income 200001–1000000'.format((data_pivot_income_gr['B'][1] / data_pivot_income_gr['B'][0])*100))\n",
        "print('{0:.2f}% Group C with income 50001–200000'.format((data_pivot_income_gr['C'][1] / data_pivot_income_gr['C'][0])*100))\n",
        "print('{0:.2f}% Group D with income 30001–50000'.format((data_pivot_income_gr['D'][1] / data_pivot_income_gr['D'][0])*100))\n",
        "print('{0:.2f}% Group E with income up to 30000'.format((data_pivot_income_gr['E'][1] / data_pivot_income_gr['E'][0])*100))"
      ]
    },
    {
      "cell_type": "markdown",
      "id": "bf338384",
      "metadata": {
        "id": "bf338384"
      },
      "source": [
        "#### Conclusions: Customers with incomes of \"30,001 - 50,000\" and \"200,001 - 1,000,000\" usually pay off their credit on time."
      ]
    },
    {
      "cell_type": "markdown",
      "id": "ac1033f1",
      "metadata": {
        "id": "ac1033f1"
      },
      "source": [
        "#### Hypothesis 4: How do different loan purposes affect its repayment on time?"
      ]
    },
    {
      "cell_type": "code",
      "execution_count": 161,
      "id": "4694fd0a",
      "metadata": {
        "colab": {
          "base_uri": "https://localhost:8080/",
          "height": 247
        },
        "id": "4694fd0a",
        "outputId": "33fcd11b-fd56-42ea-eec7-d10c298bbb55"
      },
      "outputs": [
        {
          "output_type": "display_data",
          "data": {
            "text/plain": [
              "purpose_category  операции с автомобилем  операции с недвижимостью  \\\n",
              "debt                                                                 \n",
              "0                                   3912                     10057   \n",
              "1                                    403                       782   \n",
              "\n",
              "purpose_category  получение образования  проведение свадьбы  \n",
              "debt                                                         \n",
              "0                                  3652                2162  \n",
              "1                                   370                 186  "
            ],
            "text/html": [
              "\n",
              "  <div id=\"df-c53469ce-bef6-4719-9dc2-da3adc83e457\">\n",
              "    <div class=\"colab-df-container\">\n",
              "      <div>\n",
              "<style scoped>\n",
              "    .dataframe tbody tr th:only-of-type {\n",
              "        vertical-align: middle;\n",
              "    }\n",
              "\n",
              "    .dataframe tbody tr th {\n",
              "        vertical-align: top;\n",
              "    }\n",
              "\n",
              "    .dataframe thead th {\n",
              "        text-align: right;\n",
              "    }\n",
              "</style>\n",
              "<table border=\"1\" class=\"dataframe\">\n",
              "  <thead>\n",
              "    <tr style=\"text-align: right;\">\n",
              "      <th>purpose_category</th>\n",
              "      <th>операции с автомобилем</th>\n",
              "      <th>операции с недвижимостью</th>\n",
              "      <th>получение образования</th>\n",
              "      <th>проведение свадьбы</th>\n",
              "    </tr>\n",
              "    <tr>\n",
              "      <th>debt</th>\n",
              "      <th></th>\n",
              "      <th></th>\n",
              "      <th></th>\n",
              "      <th></th>\n",
              "    </tr>\n",
              "  </thead>\n",
              "  <tbody>\n",
              "    <tr>\n",
              "      <th>0</th>\n",
              "      <td>3912</td>\n",
              "      <td>10057</td>\n",
              "      <td>3652</td>\n",
              "      <td>2162</td>\n",
              "    </tr>\n",
              "    <tr>\n",
              "      <th>1</th>\n",
              "      <td>403</td>\n",
              "      <td>782</td>\n",
              "      <td>370</td>\n",
              "      <td>186</td>\n",
              "    </tr>\n",
              "  </tbody>\n",
              "</table>\n",
              "</div>\n",
              "      <button class=\"colab-df-convert\" onclick=\"convertToInteractive('df-c53469ce-bef6-4719-9dc2-da3adc83e457')\"\n",
              "              title=\"Convert this dataframe to an interactive table.\"\n",
              "              style=\"display:none;\">\n",
              "        \n",
              "  <svg xmlns=\"http://www.w3.org/2000/svg\" height=\"24px\"viewBox=\"0 0 24 24\"\n",
              "       width=\"24px\">\n",
              "    <path d=\"M0 0h24v24H0V0z\" fill=\"none\"/>\n",
              "    <path d=\"M18.56 5.44l.94 2.06.94-2.06 2.06-.94-2.06-.94-.94-2.06-.94 2.06-2.06.94zm-11 1L8.5 8.5l.94-2.06 2.06-.94-2.06-.94L8.5 2.5l-.94 2.06-2.06.94zm10 10l.94 2.06.94-2.06 2.06-.94-2.06-.94-.94-2.06-.94 2.06-2.06.94z\"/><path d=\"M17.41 7.96l-1.37-1.37c-.4-.4-.92-.59-1.43-.59-.52 0-1.04.2-1.43.59L10.3 9.45l-7.72 7.72c-.78.78-.78 2.05 0 2.83L4 21.41c.39.39.9.59 1.41.59.51 0 1.02-.2 1.41-.59l7.78-7.78 2.81-2.81c.8-.78.8-2.07 0-2.86zM5.41 20L4 18.59l7.72-7.72 1.47 1.35L5.41 20z\"/>\n",
              "  </svg>\n",
              "      </button>\n",
              "      \n",
              "  <style>\n",
              "    .colab-df-container {\n",
              "      display:flex;\n",
              "      flex-wrap:wrap;\n",
              "      gap: 12px;\n",
              "    }\n",
              "\n",
              "    .colab-df-convert {\n",
              "      background-color: #E8F0FE;\n",
              "      border: none;\n",
              "      border-radius: 50%;\n",
              "      cursor: pointer;\n",
              "      display: none;\n",
              "      fill: #1967D2;\n",
              "      height: 32px;\n",
              "      padding: 0 0 0 0;\n",
              "      width: 32px;\n",
              "    }\n",
              "\n",
              "    .colab-df-convert:hover {\n",
              "      background-color: #E2EBFA;\n",
              "      box-shadow: 0px 1px 2px rgba(60, 64, 67, 0.3), 0px 1px 3px 1px rgba(60, 64, 67, 0.15);\n",
              "      fill: #174EA6;\n",
              "    }\n",
              "\n",
              "    [theme=dark] .colab-df-convert {\n",
              "      background-color: #3B4455;\n",
              "      fill: #D2E3FC;\n",
              "    }\n",
              "\n",
              "    [theme=dark] .colab-df-convert:hover {\n",
              "      background-color: #434B5C;\n",
              "      box-shadow: 0px 1px 3px 1px rgba(0, 0, 0, 0.15);\n",
              "      filter: drop-shadow(0px 1px 2px rgba(0, 0, 0, 0.3));\n",
              "      fill: #FFFFFF;\n",
              "    }\n",
              "  </style>\n",
              "\n",
              "      <script>\n",
              "        const buttonEl =\n",
              "          document.querySelector('#df-c53469ce-bef6-4719-9dc2-da3adc83e457 button.colab-df-convert');\n",
              "        buttonEl.style.display =\n",
              "          google.colab.kernel.accessAllowed ? 'block' : 'none';\n",
              "\n",
              "        async function convertToInteractive(key) {\n",
              "          const element = document.querySelector('#df-c53469ce-bef6-4719-9dc2-da3adc83e457');\n",
              "          const dataTable =\n",
              "            await google.colab.kernel.invokeFunction('convertToInteractive',\n",
              "                                                     [key], {});\n",
              "          if (!dataTable) return;\n",
              "\n",
              "          const docLinkHtml = 'Like what you see? Visit the ' +\n",
              "            '<a target=\"_blank\" href=https://colab.research.google.com/notebooks/data_table.ipynb>data table notebook</a>'\n",
              "            + ' to learn more about interactive tables.';\n",
              "          element.innerHTML = '';\n",
              "          dataTable['output_type'] = 'display_data';\n",
              "          await google.colab.output.renderOutput(dataTable, element);\n",
              "          const docLink = document.createElement('div');\n",
              "          docLink.innerHTML = docLinkHtml;\n",
              "          element.appendChild(docLink);\n",
              "        }\n",
              "      </script>\n",
              "    </div>\n",
              "  </div>\n",
              "  "
            ]
          },
          "metadata": {}
        },
        {
          "output_type": "stream",
          "name": "stdout",
          "text": [
            "The proportion of customers with debts for a certain purpose of credit to customers with the same purpose but without debts \n",
            "(higher % - lower return of credit in time):\n",
            "10.30% операции с автомобилем\n",
            "7.78% операции с недвижимостью\n",
            "10.13% получение образования\n",
            "8.60% проведение свадьбы\n"
          ]
        }
      ],
      "source": [
        "data_pivot_purpose = df.pivot_table(index=['debt'], columns='purpose_category', values='age_group', aggfunc='count')\n",
        "display(data_pivot_purpose)\n",
        "\n",
        "print('The proportion of customers with debts for a certain purpose of credit to customers with the same purpose but without debts \\n(higher % - lower return of credit in time):')\n",
        "print('{0:.2f}% операции с автомобилем'.format((data_pivot_purpose['операции с автомобилем'][1] / data_pivot_purpose['операции с автомобилем'][0])*100))\n",
        "print('{0:.2f}% операции с недвижимостью'.format((data_pivot_purpose['операции с недвижимостью'][1] / data_pivot_purpose['операции с недвижимостью'][0])*100))\n",
        "print('{0:.2f}% получение образования'.format((data_pivot_purpose['получение образования'][1] / data_pivot_purpose['получение образования'][0])*100))\n",
        "print('{0:.2f}% проведение свадьбы'.format((data_pivot_purpose['проведение свадьбы'][1] / data_pivot_purpose['проведение свадьбы'][0])*100))"
      ]
    },
    {
      "cell_type": "markdown",
      "source": [
        "операции с автомобилем - operations with a car\n",
        "\n",
        "операции с недвижимостью - operations with real estate\n",
        "\n",
        "получение образования - obtaining an education\n",
        "\n",
        "проведение свадьбы - holding a wedding"
      ],
      "metadata": {
        "id": "C3lsSqt_IPyL"
      },
      "id": "C3lsSqt_IPyL"
    },
    {
      "cell_type": "markdown",
      "id": "3473f804",
      "metadata": {
        "id": "3473f804"
      },
      "source": [
        "#### Conclusions: Customers more often pay off loans taken for weddings and real estate operations on time."
      ]
    },
    {
      "cell_type": "markdown",
      "id": "fc2690e0",
      "metadata": {
        "id": "fc2690e0"
      },
      "source": [
        "## Overall conclusion:"
      ]
    },
    {
      "cell_type": "markdown",
      "id": "b4e0cb57",
      "metadata": {
        "id": "b4e0cb57"
      },
      "source": [
        "When working with the data, missing values were filled in, duplicates were removed, and categories were identified for loan purposes, age groups, education, and marital status. Using pivot tables, an assessment of the criteria affecting loan repayment was made.\n",
        "\n",
        "According to the research and hypothesis testing, the following dependencies have been identified:\n",
        "- When the number of children of the client increases, the return of the loan on time decreases;\n",
        "- Customers with family status \"not married\" and \"civil marriage\" less often pay off the loan on time;\n",
        "- Customers with income \"30 001 - 50 000\" and \"200 001 - 1 000 000\" most often pay off the loan on time;\n",
        "- Credits taken for weddings and real estate operations are usually paid on time..\n",
        "\n",
        "To avoid the risk of non-repayment of loans, the Customer should pay attention to the Complaints service and Underwriters specialists for the above-mentioned categories of customers when making a decision to issue a loan. \n",
        "\n",
        "Additional analysis can help more accurately predict the probability of loan repayment on time, as well as show the relationship between the hypotheses being tested."
      ]
    }
  ],
  "metadata": {
    "ExecuteTimeLog": [
      {
        "duration": 52,
        "start_time": "2022-03-25T10:12:32.623Z"
      },
      {
        "duration": 454,
        "start_time": "2022-03-25T10:12:57.782Z"
      },
      {
        "duration": 94,
        "start_time": "2022-03-25T10:13:00.185Z"
      },
      {
        "duration": 61,
        "start_time": "2022-03-25T10:15:30.648Z"
      },
      {
        "duration": 59,
        "start_time": "2022-03-25T10:15:32.588Z"
      },
      {
        "duration": 83,
        "start_time": "2022-03-25T10:15:55.061Z"
      },
      {
        "duration": 2,
        "start_time": "2022-03-25T10:15:58.541Z"
      },
      {
        "duration": 80,
        "start_time": "2022-03-25T10:16:07.567Z"
      },
      {
        "duration": 66,
        "start_time": "2022-03-25T10:16:51.771Z"
      },
      {
        "duration": 117,
        "start_time": "2022-03-25T10:17:00.325Z"
      },
      {
        "duration": 102,
        "start_time": "2022-03-25T10:17:07.736Z"
      },
      {
        "duration": 110,
        "start_time": "2022-03-25T10:17:25.570Z"
      },
      {
        "duration": 80,
        "start_time": "2022-03-25T10:18:38.250Z"
      },
      {
        "duration": 63,
        "start_time": "2022-03-25T10:19:24.811Z"
      },
      {
        "duration": 89,
        "start_time": "2022-03-25T10:19:39.932Z"
      },
      {
        "duration": 95,
        "start_time": "2022-03-25T10:20:07.112Z"
      },
      {
        "duration": 5,
        "start_time": "2022-03-25T10:32:17.637Z"
      },
      {
        "duration": 5,
        "start_time": "2022-03-25T10:32:22.656Z"
      },
      {
        "duration": 6,
        "start_time": "2022-03-25T10:32:44.760Z"
      },
      {
        "duration": 7,
        "start_time": "2022-03-25T10:33:07.149Z"
      },
      {
        "duration": 10,
        "start_time": "2022-03-25T10:34:50.734Z"
      },
      {
        "duration": 98,
        "start_time": "2022-03-25T10:36:00.344Z"
      },
      {
        "duration": 97,
        "start_time": "2022-03-25T10:36:17.874Z"
      },
      {
        "duration": 108,
        "start_time": "2022-03-25T10:42:05.254Z"
      },
      {
        "duration": 93,
        "start_time": "2022-03-25T10:42:39.704Z"
      },
      {
        "duration": 101,
        "start_time": "2022-03-25T10:44:07.067Z"
      },
      {
        "duration": 93,
        "start_time": "2022-03-25T10:44:32.358Z"
      },
      {
        "duration": 109,
        "start_time": "2022-03-25T10:53:10.607Z"
      },
      {
        "duration": 93,
        "start_time": "2022-03-25T10:53:33.467Z"
      },
      {
        "duration": 107,
        "start_time": "2022-03-25T10:54:36.485Z"
      },
      {
        "duration": 102,
        "start_time": "2022-03-25T10:55:01.413Z"
      },
      {
        "duration": 204,
        "start_time": "2022-03-25T10:55:20.058Z"
      },
      {
        "duration": 91,
        "start_time": "2022-03-25T10:55:40.584Z"
      },
      {
        "duration": 99,
        "start_time": "2022-03-25T10:56:18.955Z"
      },
      {
        "duration": 95,
        "start_time": "2022-03-25T10:56:31.397Z"
      },
      {
        "duration": 12,
        "start_time": "2022-03-25T10:57:25.394Z"
      },
      {
        "duration": 101,
        "start_time": "2022-03-25T11:07:46.345Z"
      },
      {
        "duration": 317,
        "start_time": "2022-03-25T11:09:15.444Z"
      },
      {
        "duration": 222,
        "start_time": "2022-03-25T11:09:51.803Z"
      },
      {
        "duration": 199,
        "start_time": "2022-03-25T11:09:58.005Z"
      },
      {
        "duration": 401,
        "start_time": "2022-03-25T11:10:10.051Z"
      },
      {
        "duration": 107,
        "start_time": "2022-03-25T11:10:58.374Z"
      },
      {
        "duration": 113,
        "start_time": "2022-03-25T11:11:26.000Z"
      },
      {
        "duration": 181,
        "start_time": "2022-03-25T11:13:22.110Z"
      },
      {
        "duration": 109,
        "start_time": "2022-03-25T11:13:34.550Z"
      },
      {
        "duration": 125,
        "start_time": "2022-03-25T11:14:16.071Z"
      },
      {
        "duration": 212,
        "start_time": "2022-03-25T11:15:11.024Z"
      },
      {
        "duration": 118,
        "start_time": "2022-03-25T11:15:35.585Z"
      },
      {
        "duration": 113,
        "start_time": "2022-03-25T11:15:57.725Z"
      },
      {
        "duration": 669,
        "start_time": "2022-03-25T11:20:14.109Z"
      },
      {
        "duration": 159,
        "start_time": "2022-03-25T11:21:37.317Z"
      },
      {
        "duration": 117,
        "start_time": "2022-03-25T11:22:02.581Z"
      },
      {
        "duration": 133,
        "start_time": "2022-03-25T11:28:29.374Z"
      },
      {
        "duration": 199,
        "start_time": "2022-03-25T11:29:13.569Z"
      },
      {
        "duration": 203,
        "start_time": "2022-03-25T11:29:24.150Z"
      },
      {
        "duration": 123,
        "start_time": "2022-03-25T11:29:58.854Z"
      },
      {
        "duration": 111,
        "start_time": "2022-03-25T11:31:12.570Z"
      },
      {
        "duration": 195,
        "start_time": "2022-03-25T11:31:32.723Z"
      },
      {
        "duration": 112,
        "start_time": "2022-03-25T11:31:40.851Z"
      },
      {
        "duration": 17,
        "start_time": "2022-03-25T11:34:47.533Z"
      },
      {
        "duration": 18,
        "start_time": "2022-03-25T11:35:22.306Z"
      },
      {
        "duration": 48,
        "start_time": "2022-03-25T11:46:08.849Z"
      },
      {
        "duration": 44,
        "start_time": "2022-03-25T11:47:01.299Z"
      },
      {
        "duration": 109,
        "start_time": "2022-03-25T11:47:58.496Z"
      },
      {
        "duration": 17,
        "start_time": "2022-03-25T11:48:06.315Z"
      },
      {
        "duration": 19,
        "start_time": "2022-03-25T11:49:11.325Z"
      },
      {
        "duration": 11,
        "start_time": "2022-03-25T12:03:47.215Z"
      },
      {
        "duration": 4,
        "start_time": "2022-03-25T12:06:12.916Z"
      },
      {
        "duration": 7,
        "start_time": "2022-03-25T12:06:28.444Z"
      },
      {
        "duration": 7,
        "start_time": "2022-03-25T12:06:55.558Z"
      },
      {
        "duration": 13,
        "start_time": "2022-03-25T12:10:17.876Z"
      },
      {
        "duration": 6,
        "start_time": "2022-03-25T12:12:21.868Z"
      },
      {
        "duration": 6,
        "start_time": "2022-03-25T12:12:32.679Z"
      },
      {
        "duration": 4,
        "start_time": "2022-03-25T12:12:54.592Z"
      },
      {
        "duration": 4,
        "start_time": "2022-03-25T12:13:05.811Z"
      },
      {
        "duration": 195,
        "start_time": "2022-03-25T12:14:53.855Z"
      },
      {
        "duration": 8,
        "start_time": "2022-03-25T12:15:00.598Z"
      },
      {
        "duration": 200,
        "start_time": "2022-03-25T12:15:32.108Z"
      },
      {
        "duration": 7,
        "start_time": "2022-03-25T12:15:41.148Z"
      },
      {
        "duration": 8,
        "start_time": "2022-03-25T12:18:42.521Z"
      },
      {
        "duration": 6,
        "start_time": "2022-03-25T12:19:12.854Z"
      },
      {
        "duration": 6,
        "start_time": "2022-03-25T12:20:04.159Z"
      },
      {
        "duration": 4,
        "start_time": "2022-03-25T12:20:42.566Z"
      },
      {
        "duration": 6,
        "start_time": "2022-03-25T12:22:47.042Z"
      },
      {
        "duration": 11,
        "start_time": "2022-03-25T12:23:05.187Z"
      },
      {
        "duration": 6,
        "start_time": "2022-03-25T12:24:43.732Z"
      },
      {
        "duration": 6,
        "start_time": "2022-03-25T12:27:09.823Z"
      },
      {
        "duration": 4,
        "start_time": "2022-03-25T12:27:41.253Z"
      },
      {
        "duration": 5,
        "start_time": "2022-03-25T12:28:34.667Z"
      },
      {
        "duration": 5,
        "start_time": "2022-03-25T12:28:41.578Z"
      },
      {
        "duration": 12,
        "start_time": "2022-03-25T12:28:48.958Z"
      },
      {
        "duration": 15,
        "start_time": "2022-03-25T12:29:14.577Z"
      },
      {
        "duration": 10,
        "start_time": "2022-03-25T12:29:31.481Z"
      },
      {
        "duration": 17,
        "start_time": "2022-03-25T12:30:23.979Z"
      },
      {
        "duration": 17,
        "start_time": "2022-03-25T12:32:04.865Z"
      },
      {
        "duration": 22,
        "start_time": "2022-03-25T12:32:23.539Z"
      },
      {
        "duration": 19,
        "start_time": "2022-03-25T12:33:24.296Z"
      },
      {
        "duration": 22,
        "start_time": "2022-03-25T12:35:06.561Z"
      },
      {
        "duration": 29,
        "start_time": "2022-03-25T12:37:17.821Z"
      },
      {
        "duration": 30,
        "start_time": "2022-03-25T12:37:42.507Z"
      },
      {
        "duration": 48,
        "start_time": "2022-03-25T12:38:46.515Z"
      },
      {
        "duration": 1792,
        "start_time": "2022-03-25T12:39:31.321Z"
      },
      {
        "duration": 26,
        "start_time": "2022-03-25T12:39:49.283Z"
      },
      {
        "duration": 26,
        "start_time": "2022-03-25T12:40:26.198Z"
      },
      {
        "duration": 28,
        "start_time": "2022-03-25T12:41:05.779Z"
      },
      {
        "duration": 3567,
        "start_time": "2022-03-25T12:43:18.353Z"
      },
      {
        "duration": 233,
        "start_time": "2022-03-25T12:43:42.339Z"
      },
      {
        "duration": 195,
        "start_time": "2022-03-25T12:44:07.329Z"
      },
      {
        "duration": 5,
        "start_time": "2022-03-25T12:44:28.263Z"
      },
      {
        "duration": 26,
        "start_time": "2022-03-25T12:44:34.042Z"
      },
      {
        "duration": 30,
        "start_time": "2022-03-25T12:45:17.006Z"
      },
      {
        "duration": 24,
        "start_time": "2022-03-25T12:46:16.722Z"
      },
      {
        "duration": 19,
        "start_time": "2022-03-25T12:46:55.072Z"
      },
      {
        "duration": 13,
        "start_time": "2022-03-25T12:47:27.042Z"
      },
      {
        "duration": 13,
        "start_time": "2022-03-25T12:50:03.509Z"
      },
      {
        "duration": 12,
        "start_time": "2022-03-25T12:50:41.242Z"
      },
      {
        "duration": 12,
        "start_time": "2022-03-25T12:50:49.754Z"
      },
      {
        "duration": 12,
        "start_time": "2022-03-25T12:50:57.713Z"
      },
      {
        "duration": 12,
        "start_time": "2022-03-25T12:52:05.774Z"
      },
      {
        "duration": 13,
        "start_time": "2022-03-25T12:53:05.959Z"
      },
      {
        "duration": 13,
        "start_time": "2022-03-25T12:53:24.704Z"
      },
      {
        "duration": 7,
        "start_time": "2022-03-25T13:05:17.448Z"
      },
      {
        "duration": 18,
        "start_time": "2022-03-25T14:10:23.848Z"
      },
      {
        "duration": 21,
        "start_time": "2022-03-25T14:11:31.499Z"
      },
      {
        "duration": 26,
        "start_time": "2022-03-25T14:11:43.056Z"
      },
      {
        "duration": 37,
        "start_time": "2022-03-25T14:12:29.682Z"
      },
      {
        "duration": 37,
        "start_time": "2022-03-25T14:15:59.550Z"
      },
      {
        "duration": 26,
        "start_time": "2022-03-25T14:17:41.438Z"
      },
      {
        "duration": 33,
        "start_time": "2022-03-25T14:23:11.636Z"
      },
      {
        "duration": 32,
        "start_time": "2022-03-25T14:23:29.227Z"
      },
      {
        "duration": 31,
        "start_time": "2022-03-25T14:23:43.120Z"
      },
      {
        "duration": 33,
        "start_time": "2022-03-25T14:23:51.967Z"
      },
      {
        "duration": 34,
        "start_time": "2022-03-25T14:24:11.840Z"
      },
      {
        "duration": 224,
        "start_time": "2022-03-25T14:25:02.062Z"
      },
      {
        "duration": 35,
        "start_time": "2022-03-25T14:25:13.672Z"
      },
      {
        "duration": 47,
        "start_time": "2022-03-25T14:25:49.705Z"
      },
      {
        "duration": 48,
        "start_time": "2022-03-25T14:26:24.774Z"
      },
      {
        "duration": 54,
        "start_time": "2022-03-25T14:26:49.770Z"
      },
      {
        "duration": 48,
        "start_time": "2022-03-25T14:33:21.926Z"
      },
      {
        "duration": 51,
        "start_time": "2022-03-25T14:33:24.751Z"
      },
      {
        "duration": 53,
        "start_time": "2022-03-25T14:33:38.674Z"
      },
      {
        "duration": 673,
        "start_time": "2022-04-06T05:57:22.455Z"
      },
      {
        "duration": 55,
        "start_time": "2022-04-06T10:04:43.151Z"
      },
      {
        "duration": 760,
        "start_time": "2022-04-06T10:11:32.875Z"
      },
      {
        "duration": 205,
        "start_time": "2022-04-06T10:11:46.062Z"
      },
      {
        "duration": 232,
        "start_time": "2022-04-06T10:11:46.269Z"
      },
      {
        "duration": 69,
        "start_time": "2022-04-06T10:11:46.503Z"
      },
      {
        "duration": 29,
        "start_time": "2022-04-06T10:11:46.575Z"
      },
      {
        "duration": 201,
        "start_time": "2022-04-06T10:11:46.606Z"
      },
      {
        "duration": 29,
        "start_time": "2022-04-06T10:11:46.810Z"
      },
      {
        "duration": 192,
        "start_time": "2022-04-06T10:11:46.841Z"
      },
      {
        "duration": 168,
        "start_time": "2022-04-06T10:11:47.035Z"
      },
      {
        "duration": 20,
        "start_time": "2022-04-06T10:11:47.205Z"
      },
      {
        "duration": 23,
        "start_time": "2022-04-06T10:11:47.228Z"
      },
      {
        "duration": 58,
        "start_time": "2022-04-06T10:11:47.253Z"
      },
      {
        "duration": 19,
        "start_time": "2022-04-06T10:11:47.313Z"
      },
      {
        "duration": 207,
        "start_time": "2022-04-06T10:14:15.214Z"
      },
      {
        "duration": 268,
        "start_time": "2022-04-06T10:16:37.876Z"
      },
      {
        "duration": 47,
        "start_time": "2022-04-06T10:25:27.386Z"
      },
      {
        "duration": 43,
        "start_time": "2022-04-06T10:25:42.997Z"
      },
      {
        "duration": 36,
        "start_time": "2022-04-06T10:26:27.176Z"
      },
      {
        "duration": 37,
        "start_time": "2022-04-06T10:26:42.559Z"
      },
      {
        "duration": 35,
        "start_time": "2022-04-06T10:27:30.987Z"
      },
      {
        "duration": 284,
        "start_time": "2022-04-06T10:28:09.390Z"
      },
      {
        "duration": 319,
        "start_time": "2022-04-06T10:30:08.264Z"
      },
      {
        "duration": 363,
        "start_time": "2022-04-06T10:30:50.613Z"
      },
      {
        "duration": 241,
        "start_time": "2022-04-06T10:30:50.978Z"
      },
      {
        "duration": 34,
        "start_time": "2022-04-06T10:30:51.221Z"
      },
      {
        "duration": 150,
        "start_time": "2022-04-06T10:30:51.257Z"
      },
      {
        "duration": 0,
        "start_time": "2022-04-06T10:30:51.409Z"
      },
      {
        "duration": 0,
        "start_time": "2022-04-06T10:30:51.411Z"
      },
      {
        "duration": 0,
        "start_time": "2022-04-06T10:30:51.412Z"
      },
      {
        "duration": 0,
        "start_time": "2022-04-06T10:30:51.413Z"
      },
      {
        "duration": 0,
        "start_time": "2022-04-06T10:30:51.414Z"
      },
      {
        "duration": 0,
        "start_time": "2022-04-06T10:30:51.415Z"
      },
      {
        "duration": 0,
        "start_time": "2022-04-06T10:30:51.416Z"
      },
      {
        "duration": 0,
        "start_time": "2022-04-06T10:30:51.417Z"
      },
      {
        "duration": 0,
        "start_time": "2022-04-06T10:30:51.418Z"
      },
      {
        "duration": 34,
        "start_time": "2022-04-06T10:31:16.778Z"
      },
      {
        "duration": 292,
        "start_time": "2022-04-06T10:32:00.766Z"
      },
      {
        "duration": 244,
        "start_time": "2022-04-06T10:32:01.060Z"
      },
      {
        "duration": 44,
        "start_time": "2022-04-06T10:32:01.306Z"
      },
      {
        "duration": 355,
        "start_time": "2022-04-06T10:32:01.352Z"
      },
      {
        "duration": 0,
        "start_time": "2022-04-06T10:32:01.709Z"
      },
      {
        "duration": 0,
        "start_time": "2022-04-06T10:32:01.711Z"
      },
      {
        "duration": 0,
        "start_time": "2022-04-06T10:32:01.712Z"
      },
      {
        "duration": 0,
        "start_time": "2022-04-06T10:32:01.714Z"
      },
      {
        "duration": 0,
        "start_time": "2022-04-06T10:32:01.715Z"
      },
      {
        "duration": 0,
        "start_time": "2022-04-06T10:32:01.716Z"
      },
      {
        "duration": 0,
        "start_time": "2022-04-06T10:32:01.717Z"
      },
      {
        "duration": 0,
        "start_time": "2022-04-06T10:32:01.718Z"
      },
      {
        "duration": 0,
        "start_time": "2022-04-06T10:32:01.719Z"
      },
      {
        "duration": 52,
        "start_time": "2022-04-06T10:33:21.691Z"
      },
      {
        "duration": 203,
        "start_time": "2022-04-06T10:33:31.448Z"
      },
      {
        "duration": 248,
        "start_time": "2022-04-06T10:33:31.653Z"
      },
      {
        "duration": 41,
        "start_time": "2022-04-06T10:33:31.903Z"
      },
      {
        "duration": 142,
        "start_time": "2022-04-06T10:33:31.946Z"
      },
      {
        "duration": 0,
        "start_time": "2022-04-06T10:33:32.090Z"
      },
      {
        "duration": 0,
        "start_time": "2022-04-06T10:33:32.091Z"
      },
      {
        "duration": 0,
        "start_time": "2022-04-06T10:33:32.092Z"
      },
      {
        "duration": 0,
        "start_time": "2022-04-06T10:33:32.093Z"
      },
      {
        "duration": 0,
        "start_time": "2022-04-06T10:33:32.095Z"
      },
      {
        "duration": 0,
        "start_time": "2022-04-06T10:33:32.096Z"
      },
      {
        "duration": 0,
        "start_time": "2022-04-06T10:33:32.097Z"
      },
      {
        "duration": 0,
        "start_time": "2022-04-06T10:33:32.098Z"
      },
      {
        "duration": 0,
        "start_time": "2022-04-06T10:33:32.099Z"
      },
      {
        "duration": 277,
        "start_time": "2022-04-06T10:41:54.973Z"
      },
      {
        "duration": 244,
        "start_time": "2022-04-06T10:41:55.252Z"
      },
      {
        "duration": 7,
        "start_time": "2022-04-06T10:41:55.497Z"
      },
      {
        "duration": 202,
        "start_time": "2022-04-06T10:41:55.506Z"
      },
      {
        "duration": 27,
        "start_time": "2022-04-06T10:41:55.710Z"
      },
      {
        "duration": 176,
        "start_time": "2022-04-06T10:41:55.739Z"
      },
      {
        "duration": 168,
        "start_time": "2022-04-06T10:41:55.917Z"
      },
      {
        "duration": 22,
        "start_time": "2022-04-06T10:41:56.087Z"
      },
      {
        "duration": 20,
        "start_time": "2022-04-06T10:41:56.111Z"
      },
      {
        "duration": 17,
        "start_time": "2022-04-06T10:41:56.134Z"
      },
      {
        "duration": 55,
        "start_time": "2022-04-06T10:41:56.153Z"
      },
      {
        "duration": 5,
        "start_time": "2022-04-06T10:44:23.250Z"
      },
      {
        "duration": 202,
        "start_time": "2022-04-06T10:44:33.004Z"
      },
      {
        "duration": 198,
        "start_time": "2022-04-06T10:44:52.612Z"
      },
      {
        "duration": 198,
        "start_time": "2022-04-06T10:49:27.085Z"
      },
      {
        "duration": 205,
        "start_time": "2022-04-06T10:51:04.078Z"
      },
      {
        "duration": 178,
        "start_time": "2022-04-06T10:52:43.735Z"
      },
      {
        "duration": 243,
        "start_time": "2022-04-06T10:52:43.915Z"
      },
      {
        "duration": 6,
        "start_time": "2022-04-06T10:52:44.159Z"
      },
      {
        "duration": 201,
        "start_time": "2022-04-06T10:52:44.166Z"
      },
      {
        "duration": 37,
        "start_time": "2022-04-06T10:52:44.369Z"
      },
      {
        "duration": 161,
        "start_time": "2022-04-06T10:52:44.408Z"
      },
      {
        "duration": 164,
        "start_time": "2022-04-06T10:52:44.571Z"
      },
      {
        "duration": 18,
        "start_time": "2022-04-06T10:52:44.736Z"
      },
      {
        "duration": 46,
        "start_time": "2022-04-06T10:52:44.755Z"
      },
      {
        "duration": 19,
        "start_time": "2022-04-06T10:52:44.803Z"
      },
      {
        "duration": 19,
        "start_time": "2022-04-06T10:52:44.824Z"
      },
      {
        "duration": 260,
        "start_time": "2022-04-06T11:02:54.731Z"
      }
    ],
    "kernelspec": {
      "display_name": "Python 3 (ipykernel)",
      "language": "python",
      "name": "python3"
    },
    "language_info": {
      "codemirror_mode": {
        "name": "ipython",
        "version": 3
      },
      "file_extension": ".py",
      "mimetype": "text/x-python",
      "name": "python",
      "nbconvert_exporter": "python",
      "pygments_lexer": "ipython3",
      "version": "3.9.11"
    },
    "toc": {
      "base_numbering": 1,
      "nav_menu": {},
      "number_sections": true,
      "sideBar": true,
      "skip_h1_title": true,
      "title_cell": "Table of Contents",
      "title_sidebar": "Contents",
      "toc_cell": false,
      "toc_position": {},
      "toc_section_display": true,
      "toc_window_display": false
    },
    "colab": {
      "provenance": []
    }
  },
  "nbformat": 4,
  "nbformat_minor": 5
}